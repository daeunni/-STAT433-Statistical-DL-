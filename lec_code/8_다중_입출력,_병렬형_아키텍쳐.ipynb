{
  "nbformat": 4,
  "nbformat_minor": 0,
  "metadata": {
    "colab": {
      "name": "8. 다중 입출력, 병렬형 아키텍쳐.ipynb",
      "provenance": [],
      "collapsed_sections": [],
      "authorship_tag": "ABX9TyONGNUkltfdAL8TbiUe6d+Z"
    },
    "kernelspec": {
      "name": "python3",
      "display_name": "Python 3"
    },
    "language_info": {
      "name": "python"
    }
  },
  "cells": [
    {
      "cell_type": "markdown",
      "metadata": {
        "id": "OV-bZkJwdqzW"
      },
      "source": [
        "# **8. 다중 입출력, 병렬형 아키텍처**\n",
        "\n",
        "- Functional API 이용\n",
        "- 연관성 있는 정보는 각각 모델을 돌리는 것보다 한번에 넣어 **결합분포의 효과**를 기대하는것이 좋음"
      ]
    },
    {
      "cell_type": "markdown",
      "metadata": {
        "id": "-H5-WwRfeAKo"
      },
      "source": [
        "### 1) 다중 입력 아키텍쳐"
      ]
    },
    {
      "cell_type": "code",
      "metadata": {
        "colab": {
          "base_uri": "https://localhost:8080/"
        },
        "id": "PcIP-2POdPSf",
        "outputId": "ece17029-fa3a-415a-bef8-177aeed4e86d"
      },
      "source": [
        "from tensorflow.keras.models import Model\n",
        "from tensorflow.keras.layers import Conv2D, GlobalMaxPooling2D, Embedding, LSTM, Dense, concatenate\n",
        "from tensorflow.keras import Input\n",
        "\n",
        "## 이미지\n",
        "image_input=Input(shape=(128,128,3))\n",
        "image_layer=Conv2D(64, (3,3), activation='relu')(image_input)\n",
        "image_pool=GlobalMaxPooling2D()(image_layer)  # 병목현상이 발생하는걸 막음 \n",
        "\n",
        "## 텍스트 \n",
        "maxlen=500  # 500개의 단어가 들어옴 (timestemp를 500개로 잡음)\n",
        "text_input=Input(shape=(maxlen,))\n",
        "text_layer=Embedding(10000,120)(text_input)\n",
        "text_lstm=LSTM(32)(text_layer)\n",
        "\n",
        "## 나이\n",
        "age_input=Input(shape=(1,))\n",
        "age_layer=Dense(5)(age_input)\n",
        "\n",
        "concatenated=concatenate([image_pool, text_lstm, age_layer], axis=-1)   # 세가지 입력에서 온 레이어를 concat 가능\n",
        "price=Dense(1)(concatenated)\n",
        "\n",
        "model=Model([image_input, text_input, age_input], price)\n",
        "model.summary()\n",
        "\n",
        "model.compile(optimizer='rmsprop', loss='mse', metrics=['mae'])\n",
        "model.fit([image, text, age], y_train, epochs=20, batch_size=128)"
      ],
      "execution_count": null,
      "outputs": [
        {
          "output_type": "stream",
          "text": [
            "Model: \"model\"\n",
            "__________________________________________________________________________________________________\n",
            "Layer (type)                    Output Shape         Param #     Connected to                     \n",
            "==================================================================================================\n",
            "input_1 (InputLayer)            [(None, 128, 128, 3) 0                                            \n",
            "__________________________________________________________________________________________________\n",
            "input_2 (InputLayer)            [(None, 500)]        0                                            \n",
            "__________________________________________________________________________________________________\n",
            "conv2d (Conv2D)                 (None, 126, 126, 64) 1792        input_1[0][0]                    \n",
            "__________________________________________________________________________________________________\n",
            "embedding (Embedding)           (None, 500, 120)     1200000     input_2[0][0]                    \n",
            "__________________________________________________________________________________________________\n",
            "input_3 (InputLayer)            [(None, 1)]          0                                            \n",
            "__________________________________________________________________________________________________\n",
            "global_max_pooling2d (GlobalMax (None, 64)           0           conv2d[0][0]                     \n",
            "__________________________________________________________________________________________________\n",
            "lstm (LSTM)                     (None, 32)           19584       embedding[0][0]                  \n",
            "__________________________________________________________________________________________________\n",
            "dense (Dense)                   (None, 5)            10          input_3[0][0]                    \n",
            "__________________________________________________________________________________________________\n",
            "concatenate (Concatenate)       (None, 101)          0           global_max_pooling2d[0][0]       \n",
            "                                                                 lstm[0][0]                       \n",
            "                                                                 dense[0][0]                      \n",
            "__________________________________________________________________________________________________\n",
            "dense_1 (Dense)                 (None, 1)            102         concatenate[0][0]                \n",
            "==================================================================================================\n",
            "Total params: 1,221,488\n",
            "Trainable params: 1,221,488\n",
            "Non-trainable params: 0\n",
            "__________________________________________________________________________________________________\n"
          ],
          "name": "stdout"
        }
      ]
    },
    {
      "cell_type": "code",
      "metadata": {
        "id": "ZMKTlvYsdowr"
      },
      "source": [
        "model.compile(optimizer='rmsprop', loss='mse', metrics=['mae'])\n",
        "model.fit([image, text, age], y_train, epochs=20, batch_size=128)"
      ],
      "execution_count": null,
      "outputs": []
    },
    {
      "cell_type": "markdown",
      "metadata": {
        "id": "OljOHT-QeLX5"
      },
      "source": [
        "### 2) 다중 출력 아키텍처 "
      ]
    },
    {
      "cell_type": "code",
      "metadata": {
        "id": "HQP-WMBndouO"
      },
      "source": [
        "from tensorflow.keras.models import Model\n",
        "from tensorflow.keras.layers import Conv1D, MaxPooling1D, GlobalMaxPooling1D, Embedding, Dense\n",
        "from tensorflow.keras import Input\n",
        "\n",
        "\n",
        "maxlen=500\n",
        "text_input=Input(shape=(maxlen,))\n",
        "embedding_text=Embedding(10000,128)(text_input)  # 임베딩은 MLP 모형임(10000개의 onehot을 dense representation)\n",
        "x=Conv1D(256,7,activation='relu')(embedding_text)  # timestemp를 conv1d로 만들어냄\n",
        "x=MaxPooling1D(5)(x)\n",
        "\n",
        "x=Conv1D(512,5,activation='relu')(x)\n",
        "x=GlobalMaxPooling1D()(x)\n",
        "\n",
        "x=Dense(128,activation='relu')(x)\n",
        "\n",
        "sex_out=Dense(1, activation='sigmoid', name='sex')(x)  # name을 넣으면 레이어가 잘 구분됨\n",
        "age_out=Dense(1,name='age')(x)\n",
        "job_out=Dense(10,activation='softmax', name='job')(x)\n",
        "\n",
        "model=Model(text_input, [sex_out,age_out,job_out])   # 다중출력 \n",
        "model.summary()\n",
        "\n",
        "model.compile(optimizer='rmsprop', loss=['binary_crossentropy','mse','categorical_crossentropy'])  # loss가 세개\n",
        "## loss의 합을 줄임(loss의 weight를 준다)"
      ],
      "execution_count": null,
      "outputs": []
    }
  ]
}