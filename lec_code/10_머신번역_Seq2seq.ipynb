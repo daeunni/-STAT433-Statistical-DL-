{
  "nbformat": 4,
  "nbformat_minor": 0,
  "metadata": {
    "accelerator": "GPU",
    "colab": {
      "name": "10. 머신번역-Seq2seq.ipynb",
      "provenance": [],
      "collapsed_sections": [],
      "machine_shape": "hm",
      "include_colab_link": true
    },
    "kernelspec": {
      "display_name": "Python 3",
      "language": "python",
      "name": "python3"
    },
    "language_info": {
      "codemirror_mode": {
        "name": "ipython",
        "version": 3
      },
      "file_extension": ".py",
      "mimetype": "text/x-python",
      "name": "python",
      "nbconvert_exporter": "python",
      "pygments_lexer": "ipython3",
      "version": "3.6.9"
    }
  },
  "cells": [
    {
      "cell_type": "markdown",
      "metadata": {
        "id": "view-in-github",
        "colab_type": "text"
      },
      "source": [
        "<a href=\"https://colab.research.google.com/github/daeunni/Statistical_DL/blob/main/lec_code/10_%EB%A8%B8%EC%8B%A0%EB%B2%88%EC%97%AD_Seq2seq.ipynb\" target=\"_parent\"><img src=\"https://colab.research.google.com/assets/colab-badge.svg\" alt=\"Open In Colab\"/></a>"
      ]
    },
    {
      "cell_type": "markdown",
      "metadata": {
        "id": "MlPSATplHe_2"
      },
      "source": [
        "# Machine Translation\n",
        "- 영어와 프랑스어 번역하기"
      ]
    },
    {
      "cell_type": "code",
      "metadata": {
        "id": "YbZpxcZfN8oE"
      },
      "source": [
        "import pandas as pd\n",
        "import numpy as np\n",
        "import string"
      ],
      "execution_count": 28,
      "outputs": []
    },
    {
      "cell_type": "code",
      "metadata": {
        "colab": {
          "base_uri": "https://localhost:8080/"
        },
        "id": "h2TfyCbaGv9T",
        "outputId": "dc28bbb4-b84a-457b-e991-8261e4bd67e5"
      },
      "source": [
        "from google.colab import drive\n",
        "drive.mount('/content/drive')"
      ],
      "execution_count": 29,
      "outputs": [
        {
          "output_type": "stream",
          "text": [
            "Drive already mounted at /content/drive; to attempt to forcibly remount, call drive.mount(\"/content/drive\", force_remount=True).\n"
          ],
          "name": "stdout"
        }
      ]
    },
    {
      "cell_type": "code",
      "metadata": {
        "id": "ATqji5eL4W4U"
      },
      "source": [
        "lines= pd.read_table('/content/drive/MyDrive/Colab Notebooks/DL/[STAT433] 딥러닝을 위한 통계적모델링/data/english to french.txt', names=['eng', 'fr'])"
      ],
      "execution_count": 30,
      "outputs": []
    },
    {
      "cell_type": "code",
      "metadata": {
        "colab": {
          "base_uri": "https://localhost:8080/",
          "height": 137
        },
        "id": "agbkqAB3G_6Y",
        "outputId": "634719e9-36c2-4143-9705-014605ed5a21"
      },
      "source": [
        "lines.head(3)"
      ],
      "execution_count": 31,
      "outputs": [
        {
          "output_type": "execute_result",
          "data": {
            "text/html": [
              "<div>\n",
              "<style scoped>\n",
              "    .dataframe tbody tr th:only-of-type {\n",
              "        vertical-align: middle;\n",
              "    }\n",
              "\n",
              "    .dataframe tbody tr th {\n",
              "        vertical-align: top;\n",
              "    }\n",
              "\n",
              "    .dataframe thead th {\n",
              "        text-align: right;\n",
              "    }\n",
              "</style>\n",
              "<table border=\"1\" class=\"dataframe\">\n",
              "  <thead>\n",
              "    <tr style=\"text-align: right;\">\n",
              "      <th></th>\n",
              "      <th>eng</th>\n",
              "      <th>fr</th>\n",
              "    </tr>\n",
              "  </thead>\n",
              "  <tbody>\n",
              "    <tr>\n",
              "      <th>0</th>\n",
              "      <td>Go.</td>\n",
              "      <td>Va !</td>\n",
              "    </tr>\n",
              "    <tr>\n",
              "      <th>1</th>\n",
              "      <td>Run!</td>\n",
              "      <td>Cours !</td>\n",
              "    </tr>\n",
              "    <tr>\n",
              "      <th>2</th>\n",
              "      <td>Run!</td>\n",
              "      <td>Courez !</td>\n",
              "    </tr>\n",
              "  </tbody>\n",
              "</table>\n",
              "</div>"
            ],
            "text/plain": [
              "    eng        fr\n",
              "0   Go.      Va !\n",
              "1  Run!   Cours !\n",
              "2  Run!  Courez !"
            ]
          },
          "metadata": {
            "tags": []
          },
          "execution_count": 31
        }
      ]
    },
    {
      "cell_type": "code",
      "metadata": {
        "id": "F_qXu5VX4XIp"
      },
      "source": [
        "lines = lines[0:50000]"
      ],
      "execution_count": 32,
      "outputs": []
    },
    {
      "cell_type": "markdown",
      "metadata": {
        "id": "QbnVTmwj1Tkl"
      },
      "source": [
        "# 1. Preprocessing "
      ]
    },
    {
      "cell_type": "code",
      "metadata": {
        "id": "NkdgGL404XGc"
      },
      "source": [
        " # 소문자로 만들기 \n",
        "lines['eng']=lines['eng'].apply(lambda x: x.lower()) \n",
        "lines['fr']=lines['fr'].apply(lambda x: x.lower())"
      ],
      "execution_count": 33,
      "outputs": []
    },
    {
      "cell_type": "code",
      "metadata": {
        "id": "gOkzFxTe4fhL"
      },
      "source": [
        "# 문장부호 없애기\n",
        "exclude = set(string.punctuation)\n",
        "lines.eng=lines.eng.apply(lambda x: ''.join(ch for ch in x if ch not in exclude))  \n",
        "lines.fr=lines.fr.apply(lambda x: ''.join(ch for ch in x if ch not in exclude))"
      ],
      "execution_count": 34,
      "outputs": []
    },
    {
      "cell_type": "code",
      "metadata": {
        "colab": {
          "base_uri": "https://localhost:8080/",
          "height": 137
        },
        "id": "tzfDq12jOeZD",
        "outputId": "38a1b780-013b-4c4e-ede2-ee5fc2f922a0"
      },
      "source": [
        "lines.head(3)"
      ],
      "execution_count": 35,
      "outputs": [
        {
          "output_type": "execute_result",
          "data": {
            "text/html": [
              "<div>\n",
              "<style scoped>\n",
              "    .dataframe tbody tr th:only-of-type {\n",
              "        vertical-align: middle;\n",
              "    }\n",
              "\n",
              "    .dataframe tbody tr th {\n",
              "        vertical-align: top;\n",
              "    }\n",
              "\n",
              "    .dataframe thead th {\n",
              "        text-align: right;\n",
              "    }\n",
              "</style>\n",
              "<table border=\"1\" class=\"dataframe\">\n",
              "  <thead>\n",
              "    <tr style=\"text-align: right;\">\n",
              "      <th></th>\n",
              "      <th>eng</th>\n",
              "      <th>fr</th>\n",
              "    </tr>\n",
              "  </thead>\n",
              "  <tbody>\n",
              "    <tr>\n",
              "      <th>0</th>\n",
              "      <td>go</td>\n",
              "      <td>va</td>\n",
              "    </tr>\n",
              "    <tr>\n",
              "      <th>1</th>\n",
              "      <td>run</td>\n",
              "      <td>cours</td>\n",
              "    </tr>\n",
              "    <tr>\n",
              "      <th>2</th>\n",
              "      <td>run</td>\n",
              "      <td>courez</td>\n",
              "    </tr>\n",
              "  </tbody>\n",
              "</table>\n",
              "</div>"
            ],
            "text/plain": [
              "   eng       fr\n",
              "0   go      va \n",
              "1  run   cours \n",
              "2  run  courez "
            ]
          },
          "metadata": {
            "tags": []
          },
          "execution_count": 35
        }
      ]
    },
    {
      "cell_type": "code",
      "metadata": {
        "id": "2tVHM-oR4fpm"
      },
      "source": [
        "# start와 end를 추가한다!\n",
        "lines.fr = lines.fr.apply(lambda x : 'start '+ x + ' end')"
      ],
      "execution_count": 36,
      "outputs": []
    },
    {
      "cell_type": "code",
      "metadata": {
        "colab": {
          "base_uri": "https://localhost:8080/",
          "height": 137
        },
        "id": "2D_AMqsdndne",
        "outputId": "c594ecb6-21cd-4e95-d7c2-296bf0dd009c"
      },
      "source": [
        "lines.head(3)   "
      ],
      "execution_count": 37,
      "outputs": [
        {
          "output_type": "execute_result",
          "data": {
            "text/html": [
              "<div>\n",
              "<style scoped>\n",
              "    .dataframe tbody tr th:only-of-type {\n",
              "        vertical-align: middle;\n",
              "    }\n",
              "\n",
              "    .dataframe tbody tr th {\n",
              "        vertical-align: top;\n",
              "    }\n",
              "\n",
              "    .dataframe thead th {\n",
              "        text-align: right;\n",
              "    }\n",
              "</style>\n",
              "<table border=\"1\" class=\"dataframe\">\n",
              "  <thead>\n",
              "    <tr style=\"text-align: right;\">\n",
              "      <th></th>\n",
              "      <th>eng</th>\n",
              "      <th>fr</th>\n",
              "    </tr>\n",
              "  </thead>\n",
              "  <tbody>\n",
              "    <tr>\n",
              "      <th>0</th>\n",
              "      <td>go</td>\n",
              "      <td>start va  end</td>\n",
              "    </tr>\n",
              "    <tr>\n",
              "      <th>1</th>\n",
              "      <td>run</td>\n",
              "      <td>start cours  end</td>\n",
              "    </tr>\n",
              "    <tr>\n",
              "      <th>2</th>\n",
              "      <td>run</td>\n",
              "      <td>start courez  end</td>\n",
              "    </tr>\n",
              "  </tbody>\n",
              "</table>\n",
              "</div>"
            ],
            "text/plain": [
              "   eng                 fr\n",
              "0   go      start va  end\n",
              "1  run   start cours  end\n",
              "2  run  start courez  end"
            ]
          },
          "metadata": {
            "tags": []
          },
          "execution_count": 37
        }
      ]
    },
    {
      "cell_type": "code",
      "metadata": {
        "colab": {
          "base_uri": "https://localhost:8080/"
        },
        "id": "BByeGbi6rx89",
        "outputId": "8af6c060-05eb-41bc-a356-41e694500a98"
      },
      "source": [
        "lines.shape"
      ],
      "execution_count": 38,
      "outputs": [
        {
          "output_type": "execute_result",
          "data": {
            "text/plain": [
              "(50000, 2)"
            ]
          },
          "metadata": {
            "tags": []
          },
          "execution_count": 38
        }
      ]
    },
    {
      "cell_type": "markdown",
      "metadata": {
        "id": "Tr9Nll0iHcrR"
      },
      "source": [
        "## 토큰화"
      ]
    },
    {
      "cell_type": "code",
      "metadata": {
        "id": "gCXv8Y7G_szR"
      },
      "source": [
        "# fit a tokenizer\n",
        "from tensorflow.keras.preprocessing.text import Tokenizer\n",
        "def create_tokenizer(lines):\n",
        "    tokenizer = Tokenizer()\n",
        "    tokenizer.fit_on_texts(lines)\n",
        "    return tokenizer"
      ],
      "execution_count": 39,
      "outputs": []
    },
    {
      "cell_type": "code",
      "metadata": {
        "id": "4y854XLW_swc"
      },
      "source": [
        "## 영어\n",
        "import json\n",
        "eng_tokenizer = create_tokenizer(lines['eng'])\n",
        "eng_dict=json.loads(json.dumps(eng_tokenizer.word_counts))  \n",
        "\n",
        "df =pd.DataFrame([eng_dict.keys(), eng_dict.values()]).T\n",
        "df.columns = ['word','count']\n",
        "df = df.sort_values(by='count',ascending = False)\n",
        "\n",
        "df['cum_count']=df['count'].cumsum()  # 단어 등장 빈도\n",
        "df['cum_perc'] = df['cum_count']/df['cum_count'].max()  # 단어 등장 비율\n",
        "final_eng_words = df[df['cum_perc']<0.8]['word'].values   # 상위 80퍼센트 등장한 단어만 사용"
      ],
      "execution_count": 40,
      "outputs": []
    },
    {
      "cell_type": "code",
      "metadata": {
        "colab": {
          "base_uri": "https://localhost:8080/"
        },
        "id": "e_UfzxgyJUW5",
        "outputId": "9d15e25a-1657-413d-c3bf-2cad015e0f71"
      },
      "source": [
        "final_eng_words   # 80% 빈도수를 차지하는 총 영어 단어의 수 "
      ],
      "execution_count": 41,
      "outputs": [
        {
          "output_type": "execute_result",
          "data": {
            "text/plain": [
              "array(['i', 'you', 'a', 'is', 'the', 'it', 'to', 'he', 'tom', 'im', 'me',\n",
              "       'do', 'are', 'this', 'that', 'dont', 'was', 'youre', 'we', 'not',\n",
              "       'my', 'have', 'your', 'did', 'be', 'were', 'all', 'she', 'its',\n",
              "       'they', 'like', 'can', 'what', 'go', 'of', 'in', 'very', 'want',\n",
              "       'no', 'how', 'here', 'him', 'on', 'cant', 'ill', 'thats', 'for',\n",
              "       'know', 'get', 'up', 'need', 'out', 'at', 'just', 'one', 'his',\n",
              "       'so', 'now', 'why', 'good', 'there', 'please', 'come', 'with',\n",
              "       'hes', 'think', 'has', 'too', 'will', 'her', 'love', 'see', 'got',\n",
              "       'look', 'help', 'am', 'really', 'us', 'had', 'who', 'right',\n",
              "       'take', 'didnt', 'well', 'let', 'where', 'theyre', 'an', 'feel',\n",
              "       'must', 'home', 'lets', 'stop', 'made', 'happy', 'back', 'about',\n",
              "       'ive', 'work', 'time', 'still', 'whats', 'give', 'going', 'may',\n",
              "       'never', 'them', 'tell', 'car', 'leave', 'alone', 'try', 'busy',\n",
              "       'could', 'say', 'went', 'saw', 'make', 'much', 'isnt', 'should',\n",
              "       'ready', 'money', 'keep', 'does', 'lost', 'dog', 'big', 'eat',\n",
              "       'wont', 'off', 'book', 'some', 'job', 'today', 'stay', 'down',\n",
              "       'bad', 'drink', 'everyone', 'again', 'been', 'tired', 'way',\n",
              "       'talk', 'old', 'door', 'hate', 'hear', 'as', 'day', 'id', 'wrong',\n",
              "       'enough', 'nice', 'call', 'toms', 'mary', 'lot', 'our', 'wait',\n",
              "       'sure', 'better', 'live', 'something', 'find', 'would', 'hard',\n",
              "       'hurt', 'hope', 'left', 'shes', 'open', 'gave', 'room', 'from',\n",
              "       'when', 'french', 'said', 'speak', 'new', 'house', 'yet', 'anyone',\n",
              "       'felt', 'everything', 'came', 'done', 'over', 'and', 'man', 'long',\n",
              "       'youve', 'read', 'fun', 'late', 'away', 'doing', 'wasnt', 'funny',\n",
              "       'bed', 'by', 'these', 'any', 'more', 'mine', 'water', 'name',\n",
              "       'friends', 'anything', 'told', 'ask', 'friend', 'believe', 'play',\n",
              "       'looks', 'everybody', 'show', 'always', 'great', 'thought', 'turn',\n",
              "       'heard', 'theres', 'only', 'doesnt', 'watch', 'nothing', 'cold',\n",
              "       'likes', 'took', 'cat', 'sorry', 'nobody', 'anybody', 'being',\n",
              "       'knew', 'both', 'life', 'trust', 'gone', 'teacher', 'remember',\n",
              "       'knows', 'true', 'yours', 'idea', 'sleep', 'careful', 'found',\n",
              "       'died', 'almost', 'use', 'already', 'if', 'wheres', 'put',\n",
              "       'mother', 'sick', 'married', 'school', 'best', 'father', 'safe',\n",
              "       'little', 'problem', 'tomorrow', 'hungry', 'glad', 'boy', 'close',\n",
              "       'buy', 'kind', 'than', 'arent', 'coming', 'miss', 'angry', 'sing',\n",
              "       'afraid', 'answer', 'ok', 'mean', 'tried', 'care', 'hurry',\n",
              "       'wanted', 'myself', 'run', 'walk', 'seems', 'lie', 'stupid',\n",
              "       'looked', 'broke', 'quit', 'early', 'enjoy', 'eyes', 'pretty',\n",
              "       'dead', 'soon', 'easy', 'loves', 'forget', 'ran', 'fast', 'met',\n",
              "       'beautiful', 'into', 'called', 'die', 'next', 'food', 'swim',\n",
              "       'sit', 'study', 'yourself', 'bicycle', 'lunch', 'word', 'shut',\n",
              "       'many', 'meet', 'else', 'pay', 'asked', 'talking', 'start', 'last',\n",
              "       'crazy', 'bring', 'two', 'wants', 'whos', 'hot', 'first',\n",
              "       'happened', 'agree', 'drunk', 'youd', 'win', 'wish', 'night',\n",
              "       'phone', 'proud', 'books', 'caught', 'yesterday', 'mind', 'upset',\n",
              "       'tv', 'plan', 'those', 'hand', 'working', 'understand', 'sad',\n",
              "       'wife', 'used', 'getting', 'bit', 'hat', 'bought', 'finished',\n",
              "       'liked', 'free', 'fine', 'english', 'coffee', 'often', 'handle',\n",
              "       'quite', 'light', 'own', 'young', 'hows', 'drive', 'tea', 'kids',\n",
              "       'someone', 'stand', 'music', 'guy'], dtype=object)"
            ]
          },
          "metadata": {
            "tags": []
          },
          "execution_count": 41
        }
      ]
    },
    {
      "cell_type": "code",
      "metadata": {
        "colab": {
          "base_uri": "https://localhost:8080/",
          "height": 197
        },
        "id": "h5dVNOyvHsyu",
        "outputId": "b7fe18d9-ddf7-4d4a-d110-7f6d8f1f4fc1"
      },
      "source": [
        "df.head()"
      ],
      "execution_count": 42,
      "outputs": [
        {
          "output_type": "execute_result",
          "data": {
            "text/html": [
              "<div>\n",
              "<style scoped>\n",
              "    .dataframe tbody tr th:only-of-type {\n",
              "        vertical-align: middle;\n",
              "    }\n",
              "\n",
              "    .dataframe tbody tr th {\n",
              "        vertical-align: top;\n",
              "    }\n",
              "\n",
              "    .dataframe thead th {\n",
              "        text-align: right;\n",
              "    }\n",
              "</style>\n",
              "<table border=\"1\" class=\"dataframe\">\n",
              "  <thead>\n",
              "    <tr style=\"text-align: right;\">\n",
              "      <th></th>\n",
              "      <th>word</th>\n",
              "      <th>count</th>\n",
              "      <th>cum_count</th>\n",
              "      <th>cum_perc</th>\n",
              "    </tr>\n",
              "  </thead>\n",
              "  <tbody>\n",
              "    <tr>\n",
              "      <th>9</th>\n",
              "      <td>i</td>\n",
              "      <td>11307</td>\n",
              "      <td>11307</td>\n",
              "      <td>0.057204</td>\n",
              "    </tr>\n",
              "    <tr>\n",
              "      <th>78</th>\n",
              "      <td>you</td>\n",
              "      <td>8787</td>\n",
              "      <td>20094</td>\n",
              "      <td>0.101659</td>\n",
              "    </tr>\n",
              "    <tr>\n",
              "      <th>92</th>\n",
              "      <td>a</td>\n",
              "      <td>4899</td>\n",
              "      <td>24993</td>\n",
              "      <td>0.126444</td>\n",
              "    </tr>\n",
              "    <tr>\n",
              "      <th>215</th>\n",
              "      <td>is</td>\n",
              "      <td>4468</td>\n",
              "      <td>29461</td>\n",
              "      <td>0.149048</td>\n",
              "    </tr>\n",
              "    <tr>\n",
              "      <th>568</th>\n",
              "      <td>the</td>\n",
              "      <td>3808</td>\n",
              "      <td>33269</td>\n",
              "      <td>0.168313</td>\n",
              "    </tr>\n",
              "  </tbody>\n",
              "</table>\n",
              "</div>"
            ],
            "text/plain": [
              "    word  count cum_count  cum_perc\n",
              "9      i  11307     11307  0.057204\n",
              "78   you   8787     20094  0.101659\n",
              "92     a   4899     24993  0.126444\n",
              "215   is   4468     29461  0.149048\n",
              "568  the   3808     33269  0.168313"
            ]
          },
          "metadata": {
            "tags": []
          },
          "execution_count": 42
        }
      ]
    },
    {
      "cell_type": "code",
      "metadata": {
        "id": "I3OrR4k0AfTX"
      },
      "source": [
        "## 프랑스어\n",
        "fr_tokenizer = create_tokenizer(lines['fr'])\n",
        "fr_dict = json.loads(json.dumps(fr_tokenizer.word_counts))\n",
        "\n",
        "df =pd.DataFrame([fr_dict.keys(), fr_dict.values()]).T\n",
        "df.columns = ['word','count']\n",
        "df = df.sort_values(by='count',ascending = False)\n",
        "\n",
        "df['cum_count']=df['count'].cumsum()   # 단어 등장 빈도\n",
        "df['cum_perc'] = df['cum_count']/df['cum_count'].max()  # 단어 등장 비율\n",
        "final_fr_words = df[df['cum_perc']<0.8]['word'].values"
      ],
      "execution_count": 43,
      "outputs": []
    },
    {
      "cell_type": "code",
      "metadata": {
        "colab": {
          "base_uri": "https://localhost:8080/"
        },
        "id": "klT6hK2fJSDJ",
        "outputId": "f3028833-ff87-4292-fbad-75feaf70aec9"
      },
      "source": [
        "final_fr_words    # 80% 빈도수를 차지하는 총 프랑스 단어의 수 "
      ],
      "execution_count": 44,
      "outputs": [
        {
          "output_type": "execute_result",
          "data": {
            "text/plain": [
              "array(['start', 'end', 'je', 'pas', 'de', 'ne', 'vous', 'il', 'le', 'est',\n",
              "       'nous', 'la', 'à', 'tom', 'que', 'suis', 'un', 'cest', 'jai', 'tu',\n",
              "       'a', 'en', 'me', 'ce', 'une', 'les', 'ça', 'elle', 'tout', 'êtes',\n",
              "       'fait', 'sont', 'te', 'qui', 'mon', 'ma', 'faire', 'très',\n",
              "       'sommes', 'ils', 'des', 'nest', 'veux', 'es', 'estce', 'votre',\n",
              "       'du', 'se', 'pour', 'elles', 'y', 'bien', 'cela', 'moi', 'peux',\n",
              "       'comment', 'été', 'pourquoi', 'êtesvous', 'ici', 'besoin', 'ton',\n",
              "       'personne', 'où', 'avec', 'dans', 'plus', 'tous', 'vraiment',\n",
              "       'lui', 'lair', 'être', 'aller', 'si', 'cette', 'train', 'au',\n",
              "       'toi', 'trop', 'faut', 'nai', 'était', 'ai', 'monde', 'avons',\n",
              "       'son', 'pense', 'maintenant', 'astu', 'dit', 'ont', 'estu',\n",
              "       'avezvous', 'va', 'bon', 'cétait', 'puisje', 'toutes', 'sur',\n",
              "       'jaime', 'as', 'là', 'avez', 'ta', 'sest', 'encore', 'temps',\n",
              "       'sais', 'jamais', 'lai', 'on', 'fais', 'maison', 'quelle',\n",
              "       'jétais', 'comme', 'vais', 'vu', 'quel', 'sens', 'beaucoup',\n",
              "       'dois', 'mal', 'rien', 'voir', 'sil', 'peut', 'voiture', 'peu',\n",
              "       'ceci', 'porte', 'juste', 'ny', 'quelque', 'na', 'fort', 'soyez',\n",
              "       'toujours', 'chose', 'mes', 'quoi', 'estil', 'tes', 'deux', 'chez',\n",
              "       'quil', 'jadore', 'chien', 'sois', 'partir', 'bonne', 'plaît',\n",
              "       'questce', 'assez', 'nen', 'aujourdhui', 'sa', 'livre', 'et',\n",
              "       'atil', 'parler', 'travail', 'prie', 'déteste', 'dire', 'men',\n",
              "       'eu', 'heureux', 'viens', 'tellement', 'perdu', 'quand', 'dun',\n",
              "       'mieux', 'avoir', 'soit', 'jen', 'fut', 'seul', 'pris', 'déjà',\n",
              "       'quelquun', 'combien', 'simplement', 'notre', 'faites', 'raison',\n",
              "       'par', 'vos', 'aussi', 'pouvez', 'nêtes', 'peur', 'parle', 'dêtre',\n",
              "       'nouveau', 'avait', 'vie', 'sait', 'aije', 'confiance', 'occupé',\n",
              "       'entendu', 'ses', 'français', 'prêt', 'aime', 'connais', 'mary',\n",
              "       'prendre', 'ces', 'pouvons', 'manger', 'peuxtu', 'dune', 'naime',\n",
              "       'lit', 'regarde', 'daccord', 'homme', 'grand', 'arrête',\n",
              "       'pouvezvous', 'vrai', 'mort', 'père', 'mère', 'jespère', 'nom',\n",
              "       'même', 'idée', 'chambre', 'presque', 'faim', 'veuillez', 'trouve',\n",
              "       'fille', 'prends', 'semble', 'malade', 'merci', 'problème',\n",
              "       'nétait', 'tai', 'toute', 'pensais', 'peutêtre', 'reste',\n",
              "       'jaimerais', 'leau', 'demain', 'fatigué', 'heureuse', 'laissemoi',\n",
              "       'chanter', 'jy', 'dis', 'femme', 'garçon', 'aider', 'laissezmoi',\n",
              "       'venir', 'veut', 'non', 'enfants', 'nes', 'tête', 'chat', 'colère',\n",
              "       'gros', 'coup', 'aucun', 'aux', 'fini', 'dargent', 'pourrait',\n",
              "       'boulot', 'yeux', 'sans', 'vite', 'trouvé', 'nestce', 'tard',\n",
              "       'retard', 'fois', 'seule', 'journée', 'chance', 'crois', 'passé',\n",
              "       'lire', 'terminé', 'sûr', 'narrive', 'travaille', 'mauvais',\n",
              "       'nager', 'restez', 'laisse', 'veuxtu', 'travailler', 'allé',\n",
              "       'allez', 'arrêtez', 'bientôt', 'tôt', 'quiconque', 'main',\n",
              "       'rester', 'venu', 'doit', 'prenez', 'voulezvous', 'ami', 'sen',\n",
              "       'voulons', 'occupée', 'amis', 'hier', 'voici', 'point', 'estelle',\n",
              "       'tomber', 'verre', 'mourir', 'tort', 'difficile', 'froid',\n",
              "       'plutôt', 'heures', 'cet', 'vieux', 'grande', 'javais', 'devrais',\n",
              "       'pleurer', 'nuit', 'vis', 'demandé', 'prête', 'lécole', 'devez',\n",
              "       'vélo', 'aucune', 'acheté', 'parti', 'étaient', 'jeune', 'largent',\n",
              "       'mis', 'boire', 'chercher', 'ten', 'vois', 'vue', 'lheure',\n",
              "       'dautre'], dtype=object)"
            ]
          },
          "metadata": {
            "tags": []
          },
          "execution_count": 44
        }
      ]
    },
    {
      "cell_type": "code",
      "metadata": {
        "colab": {
          "base_uri": "https://localhost:8080/",
          "height": 197
        },
        "id": "QYB8EkD_Ipvn",
        "outputId": "bcf9acc5-5ed1-4c4e-c34e-c2f8944c2dab"
      },
      "source": [
        "df.head()"
      ],
      "execution_count": 45,
      "outputs": [
        {
          "output_type": "execute_result",
          "data": {
            "text/html": [
              "<div>\n",
              "<style scoped>\n",
              "    .dataframe tbody tr th:only-of-type {\n",
              "        vertical-align: middle;\n",
              "    }\n",
              "\n",
              "    .dataframe tbody tr th {\n",
              "        vertical-align: top;\n",
              "    }\n",
              "\n",
              "    .dataframe thead th {\n",
              "        text-align: right;\n",
              "    }\n",
              "</style>\n",
              "<table border=\"1\" class=\"dataframe\">\n",
              "  <thead>\n",
              "    <tr style=\"text-align: right;\">\n",
              "      <th></th>\n",
              "      <th>word</th>\n",
              "      <th>count</th>\n",
              "      <th>cum_count</th>\n",
              "      <th>cum_perc</th>\n",
              "    </tr>\n",
              "  </thead>\n",
              "  <tbody>\n",
              "    <tr>\n",
              "      <th>0</th>\n",
              "      <td>start</td>\n",
              "      <td>50000</td>\n",
              "      <td>50000</td>\n",
              "      <td>0.158865</td>\n",
              "    </tr>\n",
              "    <tr>\n",
              "      <th>2</th>\n",
              "      <td>end</td>\n",
              "      <td>50000</td>\n",
              "      <td>100000</td>\n",
              "      <td>0.31773</td>\n",
              "    </tr>\n",
              "    <tr>\n",
              "      <th>20</th>\n",
              "      <td>je</td>\n",
              "      <td>9886</td>\n",
              "      <td>109886</td>\n",
              "      <td>0.34914</td>\n",
              "    </tr>\n",
              "    <tr>\n",
              "      <th>66</th>\n",
              "      <td>pas</td>\n",
              "      <td>5758</td>\n",
              "      <td>115644</td>\n",
              "      <td>0.367435</td>\n",
              "    </tr>\n",
              "    <tr>\n",
              "      <th>75</th>\n",
              "      <td>de</td>\n",
              "      <td>4663</td>\n",
              "      <td>120307</td>\n",
              "      <td>0.382251</td>\n",
              "    </tr>\n",
              "  </tbody>\n",
              "</table>\n",
              "</div>"
            ],
            "text/plain": [
              "     word  count cum_count  cum_perc\n",
              "0   start  50000     50000  0.158865\n",
              "2     end  50000    100000   0.31773\n",
              "20     je   9886    109886   0.34914\n",
              "66    pas   5758    115644  0.367435\n",
              "75     de   4663    120307  0.382251"
            ]
          },
          "metadata": {
            "tags": []
          },
          "execution_count": 45
        }
      ]
    },
    {
      "cell_type": "code",
      "metadata": {
        "colab": {
          "base_uri": "https://localhost:8080/"
        },
        "id": "m4jrbgIjAfPd",
        "outputId": "5fa92651-0246-4073-f09d-56b7d82ccdef"
      },
      "source": [
        " # 영어, 프랑스어에서 80%차지하는 unique한 단어 개수\n",
        "print('80% 차지하는 unique한 영어 단어 개수 : ', len(final_eng_words))\n",
        "print('80% 차지하는 unique한 프랑스 단어 개수 : ', len(final_fr_words)) \n",
        "\n",
        "### 80%에 해당하지 않는 단어는 unknown으로 하나의 단어 클래스로 한다. "
      ],
      "execution_count": 46,
      "outputs": [
        {
          "output_type": "stream",
          "text": [
            "80% 차지하는 unique한 영어 단어 개수 :  384\n",
            "80% 차지하는 unique한 프랑스 단어 개수 :  357\n"
          ],
          "name": "stdout"
        }
      ]
    },
    {
      "cell_type": "markdown",
      "metadata": {
        "id": "xgZw9lw9J03y"
      },
      "source": [
        "따라서 머신 번역 문제는 385개의 영어 단어를 입력해 358개의 프랑스 단어를 구분하는 문제이다!       \n",
        "(class가 358개인 다중분류문제, categorical crossentropy)"
      ]
    },
    {
      "cell_type": "code",
      "metadata": {
        "id": "mTOesHOq_ss0"
      },
      "source": [
        "# 위 80%에 해당하지 않는 단어는 unknown으로 전환한다!\n",
        "def filter_eng_words(x):\n",
        "  t = []\n",
        "  x = x.split()\n",
        "  for i in range(len(x)):\n",
        "    if x[i] in final_eng_words:\n",
        "      t.append(x[i])\n",
        "    else:\n",
        "      t.append('unk')  # unknown \n",
        "  x3 = ''\n",
        "  for i in range(len(t)):\n",
        "    x3 = x3+t[i]+' '   # 공백을 준다\n",
        "  return x3\n",
        "\n",
        "# 프랑스어 함수\n",
        "def filter_fr_words(x):\n",
        "  t = []\n",
        "  x = x.split()\n",
        "  for i in range(len(x)):\n",
        "    if x[i] in final_fr_words:\n",
        "      t.append(x[i])\n",
        "    else:\n",
        "      t.append('unk')\n",
        "  x3 = ''\n",
        "  for i in range(len(t)):\n",
        "    x3 = x3+t[i]+' '   # 공백을 준다\n",
        "  return x3"
      ],
      "execution_count": 49,
      "outputs": []
    },
    {
      "cell_type": "code",
      "metadata": {
        "colab": {
          "base_uri": "https://localhost:8080/",
          "height": 34
        },
        "id": "djQPLFAml-A3",
        "outputId": "028ce8dd-ab3b-4207-df5e-0e3037ebf4bd"
      },
      "source": [
        "filter_eng_words('he is extremely good')   # extremely > unk 변환! "
      ],
      "execution_count": 48,
      "outputs": [
        {
          "output_type": "execute_result",
          "data": {
            "application/vnd.google.colaboratory.intrinsic+json": {
              "type": "string"
            },
            "text/plain": [
              "'he is unk good '"
            ]
          },
          "metadata": {
            "tags": []
          },
          "execution_count": 48
        }
      ]
    },
    {
      "cell_type": "code",
      "metadata": {
        "id": "qy6K2pdXCxhb"
      },
      "source": [
        "# unk설정 + 마지막 공백\n",
        "lines['eng']=lines['eng'].apply(filter_eng_words)\n",
        "lines['fr']=lines['fr'].apply(filter_fr_words)"
      ],
      "execution_count": 50,
      "outputs": []
    },
    {
      "cell_type": "code",
      "metadata": {
        "colab": {
          "base_uri": "https://localhost:8080/",
          "height": 197
        },
        "id": "kFDBf_Zgxqrk",
        "outputId": "e4ea87aa-9ced-49fb-e037-9666ef1b873b"
      },
      "source": [
        "lines.head()"
      ],
      "execution_count": 51,
      "outputs": [
        {
          "output_type": "execute_result",
          "data": {
            "text/html": [
              "<div>\n",
              "<style scoped>\n",
              "    .dataframe tbody tr th:only-of-type {\n",
              "        vertical-align: middle;\n",
              "    }\n",
              "\n",
              "    .dataframe tbody tr th {\n",
              "        vertical-align: top;\n",
              "    }\n",
              "\n",
              "    .dataframe thead th {\n",
              "        text-align: right;\n",
              "    }\n",
              "</style>\n",
              "<table border=\"1\" class=\"dataframe\">\n",
              "  <thead>\n",
              "    <tr style=\"text-align: right;\">\n",
              "      <th></th>\n",
              "      <th>eng</th>\n",
              "      <th>fr</th>\n",
              "    </tr>\n",
              "  </thead>\n",
              "  <tbody>\n",
              "    <tr>\n",
              "      <th>0</th>\n",
              "      <td>go</td>\n",
              "      <td>start va end</td>\n",
              "    </tr>\n",
              "    <tr>\n",
              "      <th>1</th>\n",
              "      <td>run</td>\n",
              "      <td>start unk end</td>\n",
              "    </tr>\n",
              "    <tr>\n",
              "      <th>2</th>\n",
              "      <td>run</td>\n",
              "      <td>start unk end</td>\n",
              "    </tr>\n",
              "    <tr>\n",
              "      <th>3</th>\n",
              "      <td>unk</td>\n",
              "      <td>start ça unk end</td>\n",
              "    </tr>\n",
              "    <tr>\n",
              "      <th>4</th>\n",
              "      <td>unk</td>\n",
              "      <td>start au unk end</td>\n",
              "    </tr>\n",
              "  </tbody>\n",
              "</table>\n",
              "</div>"
            ],
            "text/plain": [
              "    eng                 fr\n",
              "0   go       start va end \n",
              "1  run      start unk end \n",
              "2  run      start unk end \n",
              "3  unk   start ça unk end \n",
              "4  unk   start au unk end "
            ]
          },
          "metadata": {
            "tags": []
          },
          "execution_count": 51
        }
      ]
    },
    {
      "cell_type": "code",
      "metadata": {
        "id": "iCO5WTo84fnn"
      },
      "source": [
        "# 유일한 영어와 프랑스어 집합\n",
        "all_eng_words=set()\n",
        "for eng in lines.eng:\n",
        "    for word in eng.split():\n",
        "        if word not in all_eng_words:\n",
        "            all_eng_words.add(word)\n",
        "    \n",
        "all_french_words=set()\n",
        "for fr in lines.fr:\n",
        "    for word in fr.split():\n",
        "        if word not in all_french_words:\n",
        "            all_french_words.add(word)"
      ],
      "execution_count": 52,
      "outputs": []
    },
    {
      "cell_type": "code",
      "metadata": {
        "id": "UCaP87KP4W_S"
      },
      "source": [
        "# 유일한 영어, 프랑스어 집합\n",
        "input_words = sorted(list(all_eng_words))\n",
        "target_words = sorted(list(all_french_words))\n",
        "num_encoder_tokens = len(all_eng_words)\n",
        "num_decoder_tokens = len(all_french_words)"
      ],
      "execution_count": 53,
      "outputs": []
    },
    {
      "cell_type": "code",
      "metadata": {
        "colab": {
          "base_uri": "https://localhost:8080/"
        },
        "id": "SgE2G1tsyyER",
        "outputId": "1704082c-0964-482e-80d3-62ba1e6eebf6"
      },
      "source": [
        "print(input_words[10:20])  # 영어\n",
        "print(target_words[10:20])  # 프랑스어\n",
        "\n",
        "print(num_encoder_tokens, num_decoder_tokens)"
      ],
      "execution_count": 61,
      "outputs": [
        {
          "output_type": "stream",
          "text": [
            "['am', 'an', 'and', 'angry', 'answer', 'any', 'anybody', 'anyone', 'anything', 'are']\n",
            "['amis', 'arrête', 'arrêtez', 'as', 'assez', 'astu', 'atil', 'au', 'aucun', 'aucune']\n",
            "385 358\n"
          ],
          "name": "stdout"
        }
      ]
    },
    {
      "cell_type": "code",
      "metadata": {
        "colab": {
          "base_uri": "https://localhost:8080/"
        },
        "id": "B5eKtS1hnMob",
        "outputId": "e5b62b5f-c6ec-48f0-d9b7-1a6d12c8a965"
      },
      "source": [
        "set(all_french_words) - set(final_fr_words)   # unknown 포함 여부 차이"
      ],
      "execution_count": 62,
      "outputs": [
        {
          "output_type": "execute_result",
          "data": {
            "text/plain": [
              "{'unk'}"
            ]
          },
          "metadata": {
            "tags": []
          },
          "execution_count": 62
        }
      ]
    },
    {
      "cell_type": "code",
      "metadata": {
        "colab": {
          "base_uri": "https://localhost:8080/"
        },
        "id": "7-S77pDvkBp1",
        "outputId": "afefcc12-5985-4640-b5c3-39ac6a609560"
      },
      "source": [
        "print('unknown 포함 유일한 영어 집합 원소 개수 : ', len(input_words))\n",
        "print('unknown 포함 유일한 프랑스어 집합 원소 개수 : ', len(target_words))"
      ],
      "execution_count": 66,
      "outputs": [
        {
          "output_type": "stream",
          "text": [
            "unknown 포함 유일한 영어 집합 원소 개수 :  385\n",
            "unknown 포함 유일한 프랑스어 집합 원소 개수 :  358\n"
          ],
          "name": "stdout"
        }
      ]
    },
    {
      "cell_type": "code",
      "metadata": {
        "id": "YZQegvje4W8w"
      },
      "source": [
        "# 인덱스와 단어를 딕셔너리로 매핑\n",
        "input_token_index = dict(\n",
        "    [(word, i+1) for i, word in enumerate(input_words)])\n",
        "target_token_index = dict(\n",
        "    [(word, i+1) for i, word in enumerate(target_words)])"
      ],
      "execution_count": 68,
      "outputs": []
    },
    {
      "cell_type": "code",
      "metadata": {
        "colab": {
          "base_uri": "https://localhost:8080/"
        },
        "id": "haKpA4AJhDnV",
        "outputId": "072c557d-6b27-4c1b-f37b-7bb3d3437e52"
      },
      "source": [
        "input_token_index"
      ],
      "execution_count": 69,
      "outputs": [
        {
          "output_type": "execute_result",
          "data": {
            "text/plain": [
              "{'a': 1,\n",
              " 'about': 2,\n",
              " 'afraid': 3,\n",
              " 'again': 4,\n",
              " 'agree': 5,\n",
              " 'all': 6,\n",
              " 'almost': 7,\n",
              " 'alone': 8,\n",
              " 'already': 9,\n",
              " 'always': 10,\n",
              " 'am': 11,\n",
              " 'an': 12,\n",
              " 'and': 13,\n",
              " 'angry': 14,\n",
              " 'answer': 15,\n",
              " 'any': 16,\n",
              " 'anybody': 17,\n",
              " 'anyone': 18,\n",
              " 'anything': 19,\n",
              " 'are': 20,\n",
              " 'arent': 21,\n",
              " 'as': 22,\n",
              " 'ask': 23,\n",
              " 'asked': 24,\n",
              " 'at': 25,\n",
              " 'away': 26,\n",
              " 'back': 27,\n",
              " 'bad': 28,\n",
              " 'be': 29,\n",
              " 'beautiful': 30,\n",
              " 'bed': 31,\n",
              " 'been': 32,\n",
              " 'being': 33,\n",
              " 'believe': 34,\n",
              " 'best': 35,\n",
              " 'better': 36,\n",
              " 'bicycle': 37,\n",
              " 'big': 38,\n",
              " 'bit': 39,\n",
              " 'book': 40,\n",
              " 'books': 41,\n",
              " 'both': 42,\n",
              " 'bought': 43,\n",
              " 'boy': 44,\n",
              " 'bring': 45,\n",
              " 'broke': 46,\n",
              " 'busy': 47,\n",
              " 'buy': 48,\n",
              " 'by': 49,\n",
              " 'call': 50,\n",
              " 'called': 51,\n",
              " 'came': 52,\n",
              " 'can': 53,\n",
              " 'cant': 54,\n",
              " 'car': 55,\n",
              " 'care': 56,\n",
              " 'careful': 57,\n",
              " 'cat': 58,\n",
              " 'caught': 59,\n",
              " 'close': 60,\n",
              " 'coffee': 61,\n",
              " 'cold': 62,\n",
              " 'come': 63,\n",
              " 'coming': 64,\n",
              " 'could': 65,\n",
              " 'crazy': 66,\n",
              " 'day': 67,\n",
              " 'dead': 68,\n",
              " 'did': 69,\n",
              " 'didnt': 70,\n",
              " 'die': 71,\n",
              " 'died': 72,\n",
              " 'do': 73,\n",
              " 'does': 74,\n",
              " 'doesnt': 75,\n",
              " 'dog': 76,\n",
              " 'doing': 77,\n",
              " 'done': 78,\n",
              " 'dont': 79,\n",
              " 'door': 80,\n",
              " 'down': 81,\n",
              " 'drink': 82,\n",
              " 'drive': 83,\n",
              " 'drunk': 84,\n",
              " 'early': 85,\n",
              " 'easy': 86,\n",
              " 'eat': 87,\n",
              " 'else': 88,\n",
              " 'english': 89,\n",
              " 'enjoy': 90,\n",
              " 'enough': 91,\n",
              " 'everybody': 92,\n",
              " 'everyone': 93,\n",
              " 'everything': 94,\n",
              " 'eyes': 95,\n",
              " 'fast': 96,\n",
              " 'father': 97,\n",
              " 'feel': 98,\n",
              " 'felt': 99,\n",
              " 'find': 100,\n",
              " 'fine': 101,\n",
              " 'finished': 102,\n",
              " 'first': 103,\n",
              " 'food': 104,\n",
              " 'for': 105,\n",
              " 'forget': 106,\n",
              " 'found': 107,\n",
              " 'free': 108,\n",
              " 'french': 109,\n",
              " 'friend': 110,\n",
              " 'friends': 111,\n",
              " 'from': 112,\n",
              " 'fun': 113,\n",
              " 'funny': 114,\n",
              " 'gave': 115,\n",
              " 'get': 116,\n",
              " 'getting': 117,\n",
              " 'give': 118,\n",
              " 'glad': 119,\n",
              " 'go': 120,\n",
              " 'going': 121,\n",
              " 'gone': 122,\n",
              " 'good': 123,\n",
              " 'got': 124,\n",
              " 'great': 125,\n",
              " 'guy': 126,\n",
              " 'had': 127,\n",
              " 'hand': 128,\n",
              " 'handle': 129,\n",
              " 'happened': 130,\n",
              " 'happy': 131,\n",
              " 'hard': 132,\n",
              " 'has': 133,\n",
              " 'hat': 134,\n",
              " 'hate': 135,\n",
              " 'have': 136,\n",
              " 'he': 137,\n",
              " 'hear': 138,\n",
              " 'heard': 139,\n",
              " 'help': 140,\n",
              " 'her': 141,\n",
              " 'here': 142,\n",
              " 'hes': 143,\n",
              " 'him': 144,\n",
              " 'his': 145,\n",
              " 'home': 146,\n",
              " 'hope': 147,\n",
              " 'hot': 148,\n",
              " 'house': 149,\n",
              " 'how': 150,\n",
              " 'hows': 151,\n",
              " 'hungry': 152,\n",
              " 'hurry': 153,\n",
              " 'hurt': 154,\n",
              " 'i': 155,\n",
              " 'id': 156,\n",
              " 'idea': 157,\n",
              " 'if': 158,\n",
              " 'ill': 159,\n",
              " 'im': 160,\n",
              " 'in': 161,\n",
              " 'into': 162,\n",
              " 'is': 163,\n",
              " 'isnt': 164,\n",
              " 'it': 165,\n",
              " 'its': 166,\n",
              " 'ive': 167,\n",
              " 'job': 168,\n",
              " 'just': 169,\n",
              " 'keep': 170,\n",
              " 'kids': 171,\n",
              " 'kind': 172,\n",
              " 'knew': 173,\n",
              " 'know': 174,\n",
              " 'knows': 175,\n",
              " 'last': 176,\n",
              " 'late': 177,\n",
              " 'leave': 178,\n",
              " 'left': 179,\n",
              " 'let': 180,\n",
              " 'lets': 181,\n",
              " 'lie': 182,\n",
              " 'life': 183,\n",
              " 'light': 184,\n",
              " 'like': 185,\n",
              " 'liked': 186,\n",
              " 'likes': 187,\n",
              " 'little': 188,\n",
              " 'live': 189,\n",
              " 'long': 190,\n",
              " 'look': 191,\n",
              " 'looked': 192,\n",
              " 'looks': 193,\n",
              " 'lost': 194,\n",
              " 'lot': 195,\n",
              " 'love': 196,\n",
              " 'loves': 197,\n",
              " 'lunch': 198,\n",
              " 'made': 199,\n",
              " 'make': 200,\n",
              " 'man': 201,\n",
              " 'many': 202,\n",
              " 'married': 203,\n",
              " 'mary': 204,\n",
              " 'may': 205,\n",
              " 'me': 206,\n",
              " 'mean': 207,\n",
              " 'meet': 208,\n",
              " 'met': 209,\n",
              " 'mind': 210,\n",
              " 'mine': 211,\n",
              " 'miss': 212,\n",
              " 'money': 213,\n",
              " 'more': 214,\n",
              " 'mother': 215,\n",
              " 'much': 216,\n",
              " 'music': 217,\n",
              " 'must': 218,\n",
              " 'my': 219,\n",
              " 'myself': 220,\n",
              " 'name': 221,\n",
              " 'need': 222,\n",
              " 'never': 223,\n",
              " 'new': 224,\n",
              " 'next': 225,\n",
              " 'nice': 226,\n",
              " 'night': 227,\n",
              " 'no': 228,\n",
              " 'nobody': 229,\n",
              " 'not': 230,\n",
              " 'nothing': 231,\n",
              " 'now': 232,\n",
              " 'of': 233,\n",
              " 'off': 234,\n",
              " 'often': 235,\n",
              " 'ok': 236,\n",
              " 'old': 237,\n",
              " 'on': 238,\n",
              " 'one': 239,\n",
              " 'only': 240,\n",
              " 'open': 241,\n",
              " 'our': 242,\n",
              " 'out': 243,\n",
              " 'over': 244,\n",
              " 'own': 245,\n",
              " 'pay': 246,\n",
              " 'phone': 247,\n",
              " 'plan': 248,\n",
              " 'play': 249,\n",
              " 'please': 250,\n",
              " 'pretty': 251,\n",
              " 'problem': 252,\n",
              " 'proud': 253,\n",
              " 'put': 254,\n",
              " 'quit': 255,\n",
              " 'quite': 256,\n",
              " 'ran': 257,\n",
              " 'read': 258,\n",
              " 'ready': 259,\n",
              " 'really': 260,\n",
              " 'remember': 261,\n",
              " 'right': 262,\n",
              " 'room': 263,\n",
              " 'run': 264,\n",
              " 'sad': 265,\n",
              " 'safe': 266,\n",
              " 'said': 267,\n",
              " 'saw': 268,\n",
              " 'say': 269,\n",
              " 'school': 270,\n",
              " 'see': 271,\n",
              " 'seems': 272,\n",
              " 'she': 273,\n",
              " 'shes': 274,\n",
              " 'should': 275,\n",
              " 'show': 276,\n",
              " 'shut': 277,\n",
              " 'sick': 278,\n",
              " 'sing': 279,\n",
              " 'sit': 280,\n",
              " 'sleep': 281,\n",
              " 'so': 282,\n",
              " 'some': 283,\n",
              " 'someone': 284,\n",
              " 'something': 285,\n",
              " 'soon': 286,\n",
              " 'sorry': 287,\n",
              " 'speak': 288,\n",
              " 'stand': 289,\n",
              " 'start': 290,\n",
              " 'stay': 291,\n",
              " 'still': 292,\n",
              " 'stop': 293,\n",
              " 'study': 294,\n",
              " 'stupid': 295,\n",
              " 'sure': 296,\n",
              " 'swim': 297,\n",
              " 'take': 298,\n",
              " 'talk': 299,\n",
              " 'talking': 300,\n",
              " 'tea': 301,\n",
              " 'teacher': 302,\n",
              " 'tell': 303,\n",
              " 'than': 304,\n",
              " 'that': 305,\n",
              " 'thats': 306,\n",
              " 'the': 307,\n",
              " 'them': 308,\n",
              " 'there': 309,\n",
              " 'theres': 310,\n",
              " 'these': 311,\n",
              " 'they': 312,\n",
              " 'theyre': 313,\n",
              " 'think': 314,\n",
              " 'this': 315,\n",
              " 'those': 316,\n",
              " 'thought': 317,\n",
              " 'time': 318,\n",
              " 'tired': 319,\n",
              " 'to': 320,\n",
              " 'today': 321,\n",
              " 'told': 322,\n",
              " 'tom': 323,\n",
              " 'tomorrow': 324,\n",
              " 'toms': 325,\n",
              " 'too': 326,\n",
              " 'took': 327,\n",
              " 'tried': 328,\n",
              " 'true': 329,\n",
              " 'trust': 330,\n",
              " 'try': 331,\n",
              " 'turn': 332,\n",
              " 'tv': 333,\n",
              " 'two': 334,\n",
              " 'understand': 335,\n",
              " 'unk': 336,\n",
              " 'up': 337,\n",
              " 'upset': 338,\n",
              " 'us': 339,\n",
              " 'use': 340,\n",
              " 'used': 341,\n",
              " 'very': 342,\n",
              " 'wait': 343,\n",
              " 'walk': 344,\n",
              " 'want': 345,\n",
              " 'wanted': 346,\n",
              " 'wants': 347,\n",
              " 'was': 348,\n",
              " 'wasnt': 349,\n",
              " 'watch': 350,\n",
              " 'water': 351,\n",
              " 'way': 352,\n",
              " 'we': 353,\n",
              " 'well': 354,\n",
              " 'went': 355,\n",
              " 'were': 356,\n",
              " 'what': 357,\n",
              " 'whats': 358,\n",
              " 'when': 359,\n",
              " 'where': 360,\n",
              " 'wheres': 361,\n",
              " 'who': 362,\n",
              " 'whos': 363,\n",
              " 'why': 364,\n",
              " 'wife': 365,\n",
              " 'will': 366,\n",
              " 'win': 367,\n",
              " 'wish': 368,\n",
              " 'with': 369,\n",
              " 'wont': 370,\n",
              " 'word': 371,\n",
              " 'work': 372,\n",
              " 'working': 373,\n",
              " 'would': 374,\n",
              " 'wrong': 375,\n",
              " 'yesterday': 376,\n",
              " 'yet': 377,\n",
              " 'you': 378,\n",
              " 'youd': 379,\n",
              " 'young': 380,\n",
              " 'your': 381,\n",
              " 'youre': 382,\n",
              " 'yours': 383,\n",
              " 'yourself': 384,\n",
              " 'youve': 385}"
            ]
          },
          "metadata": {
            "tags": []
          },
          "execution_count": 69
        }
      ]
    },
    {
      "cell_type": "code",
      "metadata": {
        "id": "JdjR90537OVl",
        "colab": {
          "base_uri": "https://localhost:8080/"
        },
        "outputId": "d6751197-6bbd-4760-d178-2dbed5066b0b"
      },
      "source": [
        "print(input_token_index['unk'])\n",
        "print(target_token_index['start'])\n",
        "print(target_token_index['end'])\n",
        "print(list(input_token_index.keys())[335])   # unknown은 336번으로 매핑"
      ],
      "execution_count": 71,
      "outputs": [
        {
          "output_type": "stream",
          "text": [
            "336\n",
            "284\n",
            "89\n",
            "unk\n"
          ],
          "name": "stdout"
        }
      ]
    },
    {
      "cell_type": "code",
      "metadata": {
        "id": "Sn8EDmXk7OVp"
      },
      "source": [
        "# RNN 시간스텝 정의를 위한 가장 긴 문장 찾기\n",
        "\n",
        "length_list=[]   # 영어\n",
        "for l in lines.eng:\n",
        "    length_list.append(len(l.split(' ')))\n",
        "eng_max_length = np.max(length_list)\n",
        "\n",
        "length_list=[]   # 프랑스어\n",
        "for l in lines.fr:\n",
        "    length_list.append(len(l.split(' ')))\n",
        "fr_max_length = np.max(length_list)"
      ],
      "execution_count": 72,
      "outputs": []
    },
    {
      "cell_type": "code",
      "metadata": {
        "id": "dLKWQXq07OV4",
        "colab": {
          "base_uri": "https://localhost:8080/"
        },
        "outputId": "a35abe05-4347-4eb2-8f11-d588c3a53d35"
      },
      "source": [
        "print(eng_max_length)   # 영어는 8개의 단어가 가장 긴 문장\n",
        "print(fr_max_length)    # 프랑스어는 17개의 단어가 가장 긴 문장"
      ],
      "execution_count": 73,
      "outputs": [
        {
          "output_type": "stream",
          "text": [
            "8\n",
            "17\n"
          ],
          "name": "stdout"
        }
      ]
    },
    {
      "cell_type": "code",
      "metadata": {
        "id": "r5_mrLkj45gt"
      },
      "source": [
        "# Time step 기반 RNN Input data 생성(우선 zero로 shape만 맞춰서 생성함)\n",
        "encoder_input_data = np.zeros(\n",
        "    (len(lines['eng']), eng_max_length),\n",
        "    dtype='float32')\n",
        "\n",
        "decoder_input_data = np.zeros(\n",
        "    (len(lines['fr']), fr_max_length),\n",
        "    dtype='float32')\n",
        "\n",
        "decoder_target_data = np.zeros(\n",
        "    (len(lines['fr']), fr_max_length, num_decoder_tokens+1),\n",
        "    dtype='float32')"
      ],
      "execution_count": 74,
      "outputs": []
    },
    {
      "cell_type": "code",
      "metadata": {
        "colab": {
          "base_uri": "https://localhost:8080/"
        },
        "id": "wrURv1JXrBDF",
        "outputId": "00340987-0c00-4821-c189-47d2900b44cc"
      },
      "source": [
        "# 시간스텝(단어 수)와 5만개의 문장 수\n",
        "print(encoder_input_data.shape)\n",
        "print(decoder_input_data.shape)\n",
        "print(decoder_target_data.shape)   # 디코더는 358 + 1로 지정(index=0은 그냥 빈 공간으로 정의)\n",
        "# (표본, 시간스텝, 359개의 단어 원핫 벡터)"
      ],
      "execution_count": 77,
      "outputs": [
        {
          "output_type": "stream",
          "text": [
            "(50000, 8)\n",
            "(50000, 17)\n",
            "(50000, 17, 359)\n"
          ],
          "name": "stdout"
        }
      ]
    },
    {
      "cell_type": "markdown",
      "metadata": {
        "id": "v96r8est1yqA"
      },
      "source": [
        "- Encoder_input_data : 영어 문장 저장\n",
        "- Decoder_input_data : 영어 문장에 대응되는 프랑스어 문장\n",
        "- Decoder_target_data : Decoder_input_data보다 한 시점 앞서게 해서 번역을 예측문제로 전환\n",
        "\n",
        "> 현재 영어 단어와 프랑스어 단어로 다음에 오는 프랑스어 단어를 예측하는 문제가 된다. "
      ]
    },
    {
      "cell_type": "code",
      "metadata": {
        "colab": {
          "base_uri": "https://localhost:8080/"
        },
        "id": "TLu41cqb1Czj",
        "outputId": "9a4bbb78-60ba-41e3-feee-e4bdcb380221"
      },
      "source": [
        "encoder_input_data[3]"
      ],
      "execution_count": 81,
      "outputs": [
        {
          "output_type": "execute_result",
          "data": {
            "text/plain": [
              "array([0., 0., 0., 0., 0., 0., 0., 0.], dtype=float32)"
            ]
          },
          "metadata": {
            "tags": []
          },
          "execution_count": 81
        }
      ]
    },
    {
      "cell_type": "code",
      "metadata": {
        "id": "km2HiJ0G45oB"
      },
      "source": [
        "# 데이터 직접 생성\n",
        "for i, (input_text, target_text) in enumerate(zip(lines['eng'], lines['fr'])):\n",
        "\n",
        "    for t, word in enumerate(input_text.split()):\n",
        "        encoder_input_data[i, t] = input_token_index[word]\n",
        "\n",
        "    for t, word in enumerate(target_text.split()):\n",
        "        decoder_input_data[i, t] = target_token_index[word]\n",
        "\n",
        "        if t>0:\n",
        "            decoder_target_data[i, t - 1, target_token_index[word]] = 1.\n",
        "\n",
        "            if t== len(target_text.split())-1:\n",
        "                decoder_target_data[i, t:, 89] = 1   # 0은 모두 89로 대체함 "
      ],
      "execution_count": 82,
      "outputs": []
    },
    {
      "cell_type": "code",
      "metadata": {
        "colab": {
          "base_uri": "https://localhost:8080/"
        },
        "id": "DFwjmRUe-EC5",
        "outputId": "ab0eba42-21b7-4895-b25e-132be77971e8"
      },
      "source": [
        "print(decoder_input_data.shape, encoder_input_data.shape, decoder_target_data.shape)"
      ],
      "execution_count": 83,
      "outputs": [
        {
          "output_type": "stream",
          "text": [
            "(50000, 17) (50000, 8) (50000, 17, 359)\n"
          ],
          "name": "stdout"
        }
      ]
    },
    {
      "cell_type": "code",
      "metadata": {
        "colab": {
          "base_uri": "https://localhost:8080/"
        },
        "id": "ju3zZwus9kth",
        "outputId": "5fcda086-4c21-4561-b77f-697e78274531"
      },
      "source": [
        "decoder_input_data   # 0은 모두 end를 의미하는 89로 채움! "
      ],
      "execution_count": 85,
      "outputs": [
        {
          "output_type": "execute_result",
          "data": {
            "text/plain": [
              "array([[284., 321.,  89., ...,  89.,  89.,  89.],\n",
              "       [284., 320.,  89., ...,  89.,  89.,  89.],\n",
              "       [284., 320.,  89., ...,  89.,  89.,  89.],\n",
              "       ...,\n",
              "       [284., 127., 320., ...,  89.,  89.,  89.],\n",
              "       [284., 127., 320., ...,  89.,  89.,  89.],\n",
              "       [284.,  86., 320., ...,  89.,  89.,  89.]], dtype=float32)"
            ]
          },
          "metadata": {
            "tags": []
          },
          "execution_count": 85
        }
      ]
    },
    {
      "cell_type": "code",
      "metadata": {
        "colab": {
          "base_uri": "https://localhost:8080/"
        },
        "id": "syERbzcc-hC2",
        "outputId": "a56ac369-28a2-426a-aee0-1863500f3ef5"
      },
      "source": [
        "encoder_input_data"
      ],
      "execution_count": 87,
      "outputs": [
        {
          "output_type": "execute_result",
          "data": {
            "text/plain": [
              "array([[120.,   0.,   0., ...,   0.,   0.,   0.],\n",
              "       [264.,   0.,   0., ...,   0.,   0.,   0.],\n",
              "       [264.,   0.,   0., ...,   0.,   0.,   0.],\n",
              "       ...,\n",
              "       [312., 120., 320., ..., 336.,   0.,   0.],\n",
              "       [312., 124., 162., ...,   0.,   0.,   0.],\n",
              "       [312., 124., 162., ...,   0.,   0.,   0.]], dtype=float32)"
            ]
          },
          "metadata": {
            "tags": []
          },
          "execution_count": 87
        }
      ]
    },
    {
      "cell_type": "code",
      "metadata": {
        "id": "bd_TzFXztDBQ"
      },
      "source": [
        "for i in range(decoder_input_data.shape[0]):\n",
        "    for j in range(decoder_input_data.shape[1]):\n",
        "        if(decoder_input_data[i][j]==0):\n",
        "            decoder_input_data[i][j] = 89"
      ],
      "execution_count": 86,
      "outputs": []
    },
    {
      "cell_type": "markdown",
      "metadata": {
        "id": "bgekjoPz1Ydk"
      },
      "source": [
        "# 2. Modeling "
      ]
    },
    {
      "cell_type": "markdown",
      "metadata": {
        "id": "xVxWx_w6-pc8"
      },
      "source": [
        "### 1. Simple Seq2Seq\n",
        "- 교사강요를 이용하지 않음"
      ]
    },
    {
      "cell_type": "code",
      "metadata": {
        "id": "j20FKOWG-tQm",
        "colab": {
          "base_uri": "https://localhost:8080/"
        },
        "outputId": "59243f9a-2962-4462-df42-a6a9eae04542"
      },
      "source": [
        "from tensorflow.keras.models import Sequential, Model\n",
        "from tensorflow.keras.layers import Input, LSTM, Dense, Embedding, Bidirectional, RepeatVector, Dropout\n",
        "model1 = Sequential()\n",
        "\n",
        "# 토큰화 후 임베딩 \n",
        "model1.add(Embedding(len(input_words)+1, 128, input_length=eng_max_length))     \n",
        "model1.add(Bidirectional(LSTM(256)))\n",
        "model1.add(RepeatVector(fr_max_length))  # decoder target size를 맞추기 위해 단순히 17번 복사!\n",
        "model1.add((LSTM(256, return_sequences=True)))\n",
        "model1.add((Dense(len(target_token_index)+1, activation='softmax')))\n",
        "model1.summary()"
      ],
      "execution_count": 88,
      "outputs": [
        {
          "output_type": "stream",
          "text": [
            "Model: \"sequential\"\n",
            "_________________________________________________________________\n",
            "Layer (type)                 Output Shape              Param #   \n",
            "=================================================================\n",
            "embedding (Embedding)        (None, 8, 128)            49408     \n",
            "_________________________________________________________________\n",
            "bidirectional (Bidirectional (None, 512)               788480    \n",
            "_________________________________________________________________\n",
            "repeat_vector (RepeatVector) (None, 17, 512)           0         \n",
            "_________________________________________________________________\n",
            "lstm_1 (LSTM)                (None, 17, 256)           787456    \n",
            "_________________________________________________________________\n",
            "dense (Dense)                (None, 17, 359)           92263     \n",
            "=================================================================\n",
            "Total params: 1,717,607\n",
            "Trainable params: 1,717,607\n",
            "Non-trainable params: 0\n",
            "_________________________________________________________________\n"
          ],
          "name": "stdout"
        }
      ]
    },
    {
      "cell_type": "code",
      "metadata": {
        "id": "kgV2Dk8V--Yw"
      },
      "source": [
        "model1.compile(optimizer='adam', loss='categorical_crossentropy',metrics=['acc'])"
      ],
      "execution_count": 89,
      "outputs": []
    },
    {
      "cell_type": "code",
      "metadata": {
        "colab": {
          "base_uri": "https://localhost:8080/"
        },
        "id": "sAoM8J0v--Vw",
        "outputId": "469bf265-9d80-4502-a31d-5fdec72817bc"
      },
      "source": [
        "history = model1.fit(encoder_input_data, decoder_target_data,   # teacher forcing 이용하지 않음 \n",
        "          batch_size=128,\n",
        "          epochs=5,\n",
        "          validation_split=0.05)"
      ],
      "execution_count": 90,
      "outputs": [
        {
          "output_type": "stream",
          "text": [
            "Epoch 1/5\n",
            "372/372 [==============================] - 25s 15ms/step - loss: 1.5891 - acc: 0.7654 - val_loss: 1.2995 - val_acc: 0.7556\n",
            "Epoch 2/5\n",
            "372/372 [==============================] - 5s 12ms/step - loss: 0.9500 - acc: 0.8112 - val_loss: 1.1495 - val_acc: 0.7691\n",
            "Epoch 3/5\n",
            "372/372 [==============================] - 5s 12ms/step - loss: 0.8197 - acc: 0.8287 - val_loss: 1.0452 - val_acc: 0.7817\n",
            "Epoch 4/5\n",
            "372/372 [==============================] - 5s 12ms/step - loss: 0.7205 - acc: 0.8422 - val_loss: 0.9643 - val_acc: 0.7900\n",
            "Epoch 5/5\n",
            "372/372 [==============================] - 5s 13ms/step - loss: 0.6531 - acc: 0.8498 - val_loss: 0.8997 - val_acc: 0.7958\n"
          ],
          "name": "stdout"
        }
      ]
    },
    {
      "cell_type": "code",
      "metadata": {
        "colab": {
          "base_uri": "https://localhost:8080/",
          "height": 545
        },
        "id": "KGzRsXCi2x9p",
        "outputId": "bc0789f9-b0a2-4b06-8714-40a413001dc2"
      },
      "source": [
        "import matplotlib.pyplot as plt\n",
        "acc=history.history['acc']\n",
        "val_acc=history.history['val_acc']\n",
        "loss=history.history['loss']\n",
        "val_loss=history.history['val_loss']\n",
        "epochs=range(1,len(acc)+1)\n",
        "plt.plot(epochs,acc,'b',label='training acc')\n",
        "plt.plot(epochs,val_acc,'bo',label='validation acc')\n",
        "plt.title('training and validation accuracy')\n",
        "plt.legend()\n",
        "plt.figure()\n",
        "plt.plot(epochs,loss,'b',label='training loss')\n",
        "plt.plot(epochs,val_loss,'bo',label='validation loss')\n",
        "plt.title('training and validation loss')\n",
        "plt.legend()\n",
        "plt.show()"
      ],
      "execution_count": 91,
      "outputs": [
        {
          "output_type": "display_data",
          "data": {
            "image/png": "[encoded data removed]",
            "text/plain": [
              "<Figure size 432x288 with 1 Axes>"
            ]
          },
          "metadata": {
            "tags": [],
            "needs_background": "light"
          }
        },
        {
          "output_type": "display_data",
          "data": {
            "image/png": "[encoded data removed]",
            "text/plain": [
              "<Figure size 432x288 with 1 Axes>"
            ]
          },
          "metadata": {
            "tags": [],
            "needs_background": "light"
          }
        }
      ]
    },
    {
      "cell_type": "code",
      "metadata": {
        "id": "s4FOE1xT7OWb",
        "colab": {
          "base_uri": "https://localhost:8080/"
        },
        "outputId": "bab2a0e6-07c6-41d8-f18d-7d692dca1b51"
      },
      "source": [
        "# 정밀도 구하기 \n",
        "count = 0\n",
        "correct_count = 0\n",
        "pred = model1.predict(encoder_input_data[47500:])\n",
        "for i in range(2500):\n",
        "    t = np.argmax(pred[i], axis=-1)\n",
        "    act=np.argmax(decoder_target_data[47500+i], axis=-1)\n",
        "    correct_count += np.sum((act==t) & (act!=89))\n",
        "    count += np.sum(act!=89)  # 정밀도 구할 때는 89 (end) 의미하는 단어는 빼고 하기 \n",
        "print(correct_count, count)\n",
        "print(correct_count/count)"
      ],
      "execution_count": 92,
      "outputs": [
        {
          "output_type": "stream",
          "text": [
            "5159 13426\n",
            "0.38425443169968715\n"
          ],
          "name": "stdout"
        }
      ]
    },
    {
      "cell_type": "code",
      "metadata": {
        "colab": {
          "base_uri": "https://localhost:8080/"
        },
        "id": "XGaaTlFWqRff",
        "outputId": "4562c533-c878-4dfb-9ec8-aca4a72caaa0"
      },
      "source": [
        "encoder_input_data[-2400]  "
      ],
      "execution_count": 93,
      "outputs": [
        {
          "output_type": "execute_result",
          "data": {
            "text/plain": [
              "array([155.,  98., 185., 336.,   0.,   0.,   0.,   0.], dtype=float32)"
            ]
          },
          "metadata": {
            "tags": []
          },
          "execution_count": 93
        }
      ]
    },
    {
      "cell_type": "code",
      "metadata": {
        "colab": {
          "base_uri": "https://localhost:8080/"
        },
        "id": "pbwG8tnblE9z",
        "outputId": "cfcb2743-c4fa-45c3-a490-47e42ae539bb"
      },
      "source": [
        "# 예측 현황 \n",
        "t = model1.predict(encoder_input_data[-2400].reshape(1,encoder_input_data.shape[1])).reshape(decoder_input_data.shape[1], num_decoder_tokens+1)\n",
        "t2 = np.argmax(t,axis=1)\n",
        "for i in range(len(t2)):\n",
        "  if int(t2[i])!=0:\n",
        "    print(list(target_token_index.keys())[int(t2[i]-1)])"
      ],
      "execution_count": 94,
      "outputs": [
        {
          "output_type": "stream",
          "text": [
            "je\n",
            "me\n",
            "unk\n",
            "unk\n",
            "unk\n",
            "end\n",
            "end\n",
            "end\n",
            "end\n",
            "end\n",
            "end\n",
            "end\n",
            "end\n",
            "end\n",
            "end\n",
            "end\n",
            "end\n"
          ],
          "name": "stdout"
        }
      ]
    },
    {
      "cell_type": "markdown",
      "metadata": {
        "id": "y6VAKlD7BRRZ"
      },
      "source": [
        "## 2. Teaching force Encoder-Decoder"
      ]
    },
    {
      "cell_type": "code",
      "metadata": {
        "id": "drqjFItCAX7w"
      },
      "source": [
        "from tensorflow.keras.models import Model\n",
        "from tensorflow.keras.layers import Input, LSTM, Dense, Embedding, Bidirectional, RepeatVector, Dropout\n",
        "\n",
        "# functional API로 구성 \n",
        "encoder_inputs = Input(shape=(eng_max_length,))\n",
        "en_x=  Embedding(num_encoder_tokens+1, 128)(encoder_inputs)   # 임베딩 층 \n",
        "encoder = LSTM(256, return_state=True)\n",
        "encoder_outputs, state_h, state_c = encoder(en_x)\n",
        "encoder_states = [state_h, state_c]"
      ],
      "execution_count": 96,
      "outputs": []
    },
    {
      "cell_type": "code",
      "metadata": {
        "id": "VRuaYI0uAX5e"
      },
      "source": [
        "decoder_inputs = Input(shape=(fr_max_length,))\n",
        "dex=  Embedding(num_decoder_tokens+1, 128)(decoder_inputs)\n",
        "decoder_lstm = LSTM(256, return_sequences=True, return_state=True)\n",
        "decoder_outputs, _, _ = decoder_lstm(dex,initial_state=encoder_states)\n",
        "decoder_outputs = Dense(2000,activation='tanh')(decoder_outputs)\n",
        "decoder_dense = Dense(num_decoder_tokens+1, activation='softmax')(decoder_outputs)\n",
        "\n",
        "model2 = Model([encoder_inputs, decoder_inputs], decoder_dense)\n",
        "model2.compile(optimizer='adam', loss='categorical_crossentropy', metrics=['acc'])"
      ],
      "execution_count": 97,
      "outputs": []
    },
    {
      "cell_type": "code",
      "metadata": {
        "colab": {
          "base_uri": "https://localhost:8080/"
        },
        "id": "3mdvdm-HAX2-",
        "outputId": "dd8201a1-8c8f-4f01-ab9f-d7d97ef0c595"
      },
      "source": [
        "model2.summary()"
      ],
      "execution_count": 98,
      "outputs": [
        {
          "output_type": "stream",
          "text": [
            "Model: \"model\"\n",
            "__________________________________________________________________________________________________\n",
            "Layer (type)                    Output Shape         Param #     Connected to                     \n",
            "==================================================================================================\n",
            "input_2 (InputLayer)            [(None, 8)]          0                                            \n",
            "__________________________________________________________________________________________________\n",
            "input_3 (InputLayer)            [(None, 17)]         0                                            \n",
            "__________________________________________________________________________________________________\n",
            "embedding_2 (Embedding)         (None, 8, 128)       49408       input_2[0][0]                    \n",
            "__________________________________________________________________________________________________\n",
            "embedding_3 (Embedding)         (None, 17, 128)      45952       input_3[0][0]                    \n",
            "__________________________________________________________________________________________________\n",
            "lstm_3 (LSTM)                   [(None, 256), (None, 394240      embedding_2[0][0]                \n",
            "__________________________________________________________________________________________________\n",
            "lstm_4 (LSTM)                   [(None, 17, 256), (N 394240      embedding_3[0][0]                \n",
            "                                                                 lstm_3[0][1]                     \n",
            "                                                                 lstm_3[0][2]                     \n",
            "__________________________________________________________________________________________________\n",
            "dense_1 (Dense)                 (None, 17, 2000)     514000      lstm_4[0][0]                     \n",
            "__________________________________________________________________________________________________\n",
            "dense_2 (Dense)                 (None, 17, 359)      718359      dense_1[0][0]                    \n",
            "==================================================================================================\n",
            "Total params: 2,116,199\n",
            "Trainable params: 2,116,199\n",
            "Non-trainable params: 0\n",
            "__________________________________________________________________________________________________\n"
          ],
          "name": "stdout"
        }
      ]
    },
    {
      "cell_type": "code",
      "metadata": {
        "colab": {
          "base_uri": "https://localhost:8080/"
        },
        "id": "kaMD_P8xAX1C",
        "outputId": "c65add97-f935-4e26-88c0-2e3111435e81"
      },
      "source": [
        "history2 = model2.fit([encoder_input_data, decoder_input_data], decoder_target_data,\n",
        "          batch_size=128,\n",
        "          epochs=5,\n",
        "          validation_split=0.05)"
      ],
      "execution_count": 99,
      "outputs": [
        {
          "output_type": "stream",
          "text": [
            "Epoch 1/5\n",
            "372/372 [==============================] - 7s 13ms/step - loss: 1.4293 - acc: 0.7784 - val_loss: 1.0620 - val_acc: 0.7864\n",
            "Epoch 2/5\n",
            "372/372 [==============================] - 4s 11ms/step - loss: 0.7091 - acc: 0.8510 - val_loss: 0.8153 - val_acc: 0.8154\n",
            "Epoch 3/5\n",
            "372/372 [==============================] - 4s 11ms/step - loss: 0.5386 - acc: 0.8736 - val_loss: 0.7077 - val_acc: 0.8308\n",
            "Epoch 4/5\n",
            "372/372 [==============================] - 4s 11ms/step - loss: 0.4543 - acc: 0.8866 - val_loss: 0.6267 - val_acc: 0.8426\n",
            "Epoch 5/5\n",
            "372/372 [==============================] - 4s 11ms/step - loss: 0.3962 - acc: 0.8973 - val_loss: 0.5925 - val_acc: 0.8494\n"
          ],
          "name": "stdout"
        }
      ]
    },
    {
      "cell_type": "code",
      "metadata": {
        "colab": {
          "base_uri": "https://localhost:8080/",
          "height": 545
        },
        "id": "lKNrD0dCAXyd",
        "outputId": "03f9f7f2-21ae-49f9-e145-afbb18c39382"
      },
      "source": [
        "import matplotlib.pyplot as plt\n",
        "acc=history2.history['acc']\n",
        "val_acc=history2.history['val_acc']\n",
        "loss=history2.history['loss']\n",
        "val_loss=history2.history['val_loss']\n",
        "epochs=range(1,len(acc)+1)\n",
        "plt.plot(epochs,acc,'b',label='training acc')\n",
        "plt.plot(epochs,val_acc,'bo',label='validation acc')\n",
        "plt.title('training and validation accuracy')\n",
        "plt.legend()\n",
        "plt.figure()\n",
        "plt.plot(epochs,loss,'b',label='training loss')\n",
        "plt.plot(epochs,val_loss,'bo',label='validation loss')\n",
        "plt.title('training and validation loss')\n",
        "plt.legend()\n",
        "plt.show()"
      ],
      "execution_count": 100,
      "outputs": [
        {
          "output_type": "display_data",
          "data": {
            "image/png": "[encoded data removed]",
            "text/plain": [
              "<Figure size 432x288 with 1 Axes>"
            ]
          },
          "metadata": {
            "tags": [],
            "needs_background": "light"
          }
        },
        {
          "output_type": "display_data",
          "data": {
            "image/png": "[encoded data removed]",
            "text/plain": [
              "<Figure size 432x288 with 1 Axes>"
            ]
          },
          "metadata": {
            "tags": [],
            "needs_background": "light"
          }
        }
      ]
    },
    {
      "cell_type": "code",
      "metadata": {
        "id": "gAYvzj8uAXwM"
      },
      "source": [
        "# count = 0\n",
        "# correct_count = 0\n",
        "# pred = model2.predict([encoder_input_data[47500:],decoder_input_data[47500:]])\n",
        "# for i in range(2500):\n",
        "#   t = np.argmax(pred[i], axis=-1)\n",
        "#   correct_count += np.sum((act[47500+i]==t) & (act[47500+i]!=89))\n",
        "#   count += np.sum(decoder_input_data[47500+i]!=89)\n",
        "# print(correct_count,count)\n",
        "# print(correct_count/count)"
      ],
      "execution_count": 102,
      "outputs": []
    }
  ]
}