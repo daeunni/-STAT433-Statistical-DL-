{
  "nbformat": 4,
  "nbformat_minor": 0,
  "metadata": {
    "colab": {
      "name": "1. Tensorflow 기본 문법.ipynb",
      "provenance": [],
      "collapsed_sections": [],
      "machine_shape": "hm"
    },
    "kernelspec": {
      "name": "python3",
      "display_name": "Python 3"
    },
    "language_info": {
      "name": "python"
    },
    "accelerator": "GPU"
  },
  "cells": [
    {
      "cell_type": "markdown",
      "metadata": {
        "id": "fRpYWDzs-orS"
      },
      "source": [
        "#**1. TensorFlow의 기초 문법**\n",
        "Tensorflow는 텐서 단위로 연산한다      \n",
        " \n",
        "\n",
        "\n",
        "\n",
        "\n",
        "\n",
        "------\n",
        "\n",
        "###  1) Tensor의 생성 \n",
        "- tf.constant : 수정 불가한 tensor 생성\n",
        "- tf.Variable : 수정 가능한 tensor 생성  (assign함수 이용해 특정 위치의 원소를 변경한다)"
      ]
    },
    {
      "cell_type": "code",
      "metadata": {
        "colab": {
          "base_uri": "https://localhost:8080/"
        },
        "id": "L12_kQlu3cE2",
        "outputId": "31764180-099d-48ab-eb72-50d855adeb58"
      },
      "source": [
        "# tf.constant : 텐서의 생성(근데 안에 있는 내용은 수정할 수 없다) + numpy와 동일한 기능을 수행할 수 있다\n",
        "import tensorflow as tf\n",
        "a = tf.constant([[1,2,3], [4,5,6]])\n",
        "a"
      ],
      "execution_count": null,
      "outputs": [
        {
          "output_type": "execute_result",
          "data": {
            "text/plain": [
              "<tf.Tensor: shape=(2, 3), dtype=int32, numpy=\n",
              "array([[1, 2, 3],\n",
              "       [4, 5, 6]], dtype=int32)>"
            ]
          },
          "metadata": {
            "tags": []
          },
          "execution_count": 1
        }
      ]
    },
    {
      "cell_type": "code",
      "metadata": {
        "colab": {
          "base_uri": "https://localhost:8080/"
        },
        "id": "YVQaszCC3d5c",
        "outputId": "30db0c38-6c84-410b-fa56-2f8074693ec0"
      },
      "source": [
        "# 텐서와 numpy array는 유동적으로 변화할 수 있다\n",
        "import numpy as np\n",
        "c = np.array([[1,2], [3,4],[5,6]])\n",
        "print(tf.transpose(c))  # array > tensor로 변환할때는 tf.transpose\n",
        "print(a.numpy())  # tensor > array로 변환할떄는 numpy()"
      ],
      "execution_count": null,
      "outputs": [
        {
          "output_type": "stream",
          "text": [
            "tf.Tensor(\n",
            "[[1 3 5]\n",
            " [2 4 6]], shape=(2, 3), dtype=int64)\n",
            "[[1 2 3]\n",
            " [4 5 6]]\n"
          ],
          "name": "stdout"
        }
      ]
    },
    {
      "cell_type": "code",
      "metadata": {
        "colab": {
          "base_uri": "https://localhost:8080/"
        },
        "id": "t4reFddW3d1F",
        "outputId": "aeb4ce2f-b1d4-4517-a47a-8472a157ce95"
      },
      "source": [
        "print(tf.reduce_mean(a, 0))  \n",
        "# 하지만 tf.reduce_mean(), tf.reduce_sum(), tf.reduce_max() 등은 numpy와 이름 다름"
      ],
      "execution_count": null,
      "outputs": [
        {
          "output_type": "stream",
          "text": [
            "tf.Tensor([2 3 4], shape=(3,), dtype=int32)\n"
          ],
          "name": "stdout"
        }
      ]
    },
    {
      "cell_type": "code",
      "metadata": {
        "colab": {
          "base_uri": "https://localhost:8080/"
        },
        "id": "2lmuha8v_mAa",
        "outputId": "ef03d379-d87c-4812-8fd8-a6edebaf07f3"
      },
      "source": [
        "a = tf.constant([[1,2,3], [4,5,6]])  \n",
        "tf.transpose(a)  # tensor를 전치하고 싶을때도 위와 같은 transpose 함수 사용"
      ],
      "execution_count": null,
      "outputs": [
        {
          "output_type": "execute_result",
          "data": {
            "text/plain": [
              "<tf.Tensor: shape=(3, 2), dtype=int32, numpy=\n",
              "array([[1, 4],\n",
              "       [2, 5],\n",
              "       [3, 6]], dtype=int32)>"
            ]
          },
          "metadata": {
            "tags": []
          },
          "execution_count": 12
        }
      ]
    },
    {
      "cell_type": "code",
      "metadata": {
        "colab": {
          "base_uri": "https://localhost:8080/"
        },
        "id": "M7buCIeiEDQe",
        "outputId": "943dcc86-ced2-4cb9-8800-eaf078d92698"
      },
      "source": [
        "# 3d tensor transpose도 가능\n",
        "x=tf.constant([[[1,2,3,4],[5,6,7,8],[9,10,11,12]],\n",
        "              [[13,14,15,16],[17,18,19,20],[21,22,23,24]]])  # 3d tensor\n",
        "print(x.numpy())\n",
        "tf.transpose(x)  # 3d transpose : 4*3*2 에서 2*3*4가 됨!!"
      ],
      "execution_count": null,
      "outputs": [
        {
          "output_type": "stream",
          "text": [
            "[[[ 1  2  3  4]\n",
            "  [ 5  6  7  8]\n",
            "  [ 9 10 11 12]]\n",
            "\n",
            " [[13 14 15 16]\n",
            "  [17 18 19 20]\n",
            "  [21 22 23 24]]]\n"
          ],
          "name": "stdout"
        },
        {
          "output_type": "execute_result",
          "data": {
            "text/plain": [
              "<tf.Tensor: shape=(4, 3, 2), dtype=int32, numpy=\n",
              "array([[[ 1, 13],\n",
              "        [ 5, 17],\n",
              "        [ 9, 21]],\n",
              "\n",
              "       [[ 2, 14],\n",
              "        [ 6, 18],\n",
              "        [10, 22]],\n",
              "\n",
              "       [[ 3, 15],\n",
              "        [ 7, 19],\n",
              "        [11, 23]],\n",
              "\n",
              "       [[ 4, 16],\n",
              "        [ 8, 20],\n",
              "        [12, 24]]], dtype=int32)>"
            ]
          },
          "metadata": {
            "tags": []
          },
          "execution_count": 20
        }
      ]
    },
    {
      "cell_type": "code",
      "metadata": {
        "colab": {
          "base_uri": "https://localhost:8080/"
        },
        "id": "Q6h0TfzfFVl6",
        "outputId": "66623bba-f093-4737-8e95-498d5da536d7"
      },
      "source": [
        "tf.transpose(x, perm=(0,2,1))  # perm 설정"
      ],
      "execution_count": null,
      "outputs": [
        {
          "output_type": "execute_result",
          "data": {
            "text/plain": [
              "<tf.Tensor: shape=(2, 4, 3), dtype=int32, numpy=\n",
              "array([[[ 1,  5,  9],\n",
              "        [ 2,  6, 10],\n",
              "        [ 3,  7, 11],\n",
              "        [ 4,  8, 12]],\n",
              "\n",
              "       [[13, 17, 21],\n",
              "        [14, 18, 22],\n",
              "        [15, 19, 23],\n",
              "        [16, 20, 24]]], dtype=int32)>"
            ]
          },
          "metadata": {
            "tags": []
          },
          "execution_count": 21
        }
      ]
    },
    {
      "cell_type": "markdown",
      "metadata": {
        "id": "Ujr2HR1YJXoy"
      },
      "source": [
        "----------------\n",
        "\n",
        "### 2) tensorflow에서 data 사용하기 \n",
        "> numpy 배열이나 list를 **tf.data.Dataset.from_tensor_slices()**를 이용하여 dataset을 생성하고,     iteration을 통해 이를 받아온다"
      ]
    },
    {
      "cell_type": "code",
      "metadata": {
        "colab": {
          "base_uri": "https://localhost:8080/"
        },
        "id": "-Zgu96S5FVbm",
        "outputId": "c446eec5-7a1b-46d7-8ff4-26389766625d"
      },
      "source": [
        "# tf.data.Dataset.from_tensor_slices()\n",
        "a=[1.2, 3.4, 7.5, 4.1, 5.0, 1.0, 5.2]\n",
        "ds = tf.data.Dataset.from_tensor_slices(a)  # dataset 생성\n",
        "for i in ds:\n",
        "  print(i.numpy()) # array로 변환하여 출력"
      ],
      "execution_count": null,
      "outputs": [
        {
          "output_type": "stream",
          "text": [
            "1.2\n",
            "3.4\n",
            "7.5\n",
            "4.1\n",
            "5.0\n",
            "1.0\n",
            "5.2\n"
          ],
          "name": "stdout"
        }
      ]
    },
    {
      "cell_type": "code",
      "metadata": {
        "colab": {
          "base_uri": "https://localhost:8080/"
        },
        "id": "3Jv3LShsI8wV",
        "outputId": "35dcef9d-86a1-4620-d5fd-45b4aa200eae"
      },
      "source": [
        "for i in ds:\n",
        "  print(i)   # 그냥 출력하면 이렇게된다"
      ],
      "execution_count": null,
      "outputs": [
        {
          "output_type": "stream",
          "text": [
            "tf.Tensor(1.2, shape=(), dtype=float32)\n",
            "tf.Tensor(3.4, shape=(), dtype=float32)\n",
            "tf.Tensor(7.5, shape=(), dtype=float32)\n",
            "tf.Tensor(4.1, shape=(), dtype=float32)\n",
            "tf.Tensor(5.0, shape=(), dtype=float32)\n",
            "tf.Tensor(1.0, shape=(), dtype=float32)\n",
            "tf.Tensor(5.2, shape=(), dtype=float32)\n"
          ],
          "name": "stdout"
        }
      ]
    },
    {
      "cell_type": "code",
      "metadata": {
        "colab": {
          "base_uri": "https://localhost:8080/"
        },
        "id": "PcG5uR32Ms5n",
        "outputId": "f8f155d7-e107-4b4f-e475-40092c5ddaea"
      },
      "source": [
        "# 두 tensor를 결합해 데이터로 만들어서 numpy 형태로 출력하기\n",
        "\n",
        "t_x = tf.random.uniform([4,3], dtype=tf.float32)  # uniform 분포로 4*3 tensor 생성\n",
        "t_y = tf.range(4)      # shape이 4인 0,1,2,3 들어있는 1차원 tensor 생성\n",
        "\n",
        "ds_xy = tf.data.Dataset.from_tensor_slices((t_x, t_y))  # 두 텐서들을 dataset으로\n",
        "for i in ds_xy:\n",
        "  print(i[0], i[1])\n",
        "  print(i[0].numpy(), i[1].numpy())\n",
        "  print('-----------------------------------------------------------------------------------------')"
      ],
      "execution_count": null,
      "outputs": [
        {
          "output_type": "stream",
          "text": [
            "tf.Tensor([0.33740354 0.17238152 0.6156955 ], shape=(3,), dtype=float32) tf.Tensor(0, shape=(), dtype=int32)\n",
            "[0.33740354 0.17238152 0.6156955 ] 0\n",
            "-----------------------------------------------------------------------------------------\n",
            "tf.Tensor([0.6180948  0.19164264 0.5237504 ], shape=(3,), dtype=float32) tf.Tensor(1, shape=(), dtype=int32)\n",
            "[0.6180948  0.19164264 0.5237504 ] 1\n",
            "-----------------------------------------------------------------------------------------\n",
            "tf.Tensor([0.45337605 0.7221775  0.6506742 ], shape=(3,), dtype=float32) tf.Tensor(2, shape=(), dtype=int32)\n",
            "[0.45337605 0.7221775  0.6506742 ] 2\n",
            "-----------------------------------------------------------------------------------------\n",
            "tf.Tensor([0.4604832  0.78395116 0.46727657], shape=(3,), dtype=float32) tf.Tensor(3, shape=(), dtype=int32)\n",
            "[0.4604832  0.78395116 0.46727657] 3\n",
            "-----------------------------------------------------------------------------------------\n"
          ],
          "name": "stdout"
        }
      ]
    },
    {
      "cell_type": "markdown",
      "metadata": {
        "id": "Z5SUCZqINZme"
      },
      "source": [
        "생성된 data를 linear transformation 하고 싶을 때는 **map 함수**를 사용한다 (lambda와 함께!)"
      ]
    },
    {
      "cell_type": "code",
      "metadata": {
        "colab": {
          "base_uri": "https://localhost:8080/"
        },
        "id": "eZQ7zfdCMzRn",
        "outputId": "35a09cb5-b2fe-43f3-99e9-104f1e677fa3"
      },
      "source": [
        "ds_transform = ds_xy.map(lambda x, y : (x*2 - 1, y))  # 2x-1로 transformation\n",
        "for ex in ds_transform:\n",
        "  print(ex[0].numpy(), ex[1].numpy())"
      ],
      "execution_count": null,
      "outputs": [
        {
          "output_type": "stream",
          "text": [
            "[-0.32519293 -0.65523696  0.23139095] 0\n",
            "[ 0.2361896  -0.6167147   0.04750085] 1\n",
            "[-0.09324789  0.444355    0.30134845] 2\n",
            "[-0.07903361  0.5679023  -0.06544685] 3\n"
          ],
          "name": "stdout"
        }
      ]
    },
    {
      "cell_type": "markdown",
      "metadata": {
        "id": "ZHxjLZiXKucY"
      },
      "source": [
        "----------------------------\n",
        "### 3) batch 사용하기\n",
        "- **.batch()** 함수를 이용한다 (안에는 몇개씩 묶을지 쓰기!)\n",
        "- drop_remainder=True를 설정하면 남은 애들은 그냥 drop한다\n",
        "\n"
      ]
    },
    {
      "cell_type": "code",
      "metadata": {
        "colab": {
          "base_uri": "https://localhost:8080/"
        },
        "id": "fAmCtFLNI8td",
        "outputId": "3c0c0333-9a39-4edd-b251-790dc4444249"
      },
      "source": [
        "ds_batch = ds.batch(3, drop_remainder=True)     # 3개씩 묶는다\n",
        "\n",
        "for i, elem in enumerate(ds_batch, 1):\n",
        "  print('batch {}'.format(i), elem.numpy())"
      ],
      "execution_count": null,
      "outputs": [
        {
          "output_type": "stream",
          "text": [
            "batch 1 [1.2 3.4 7.5]\n",
            "batch 2 [4.1 5.  1. ]\n"
          ],
          "name": "stdout"
        }
      ]
    },
    {
      "cell_type": "code",
      "metadata": {
        "colab": {
          "base_uri": "https://localhost:8080/"
        },
        "id": "SmmS-bfkK_-X",
        "outputId": "389c9ac9-fa3e-4a6f-fec3-4cf28666438d"
      },
      "source": [
        "ds_batch   # 다만 이 batch dataset은 tensor도, numpy형도 아니므로 형 변환이 안된다"
      ],
      "execution_count": null,
      "outputs": [
        {
          "output_type": "execute_result",
          "data": {
            "text/plain": [
              "<BatchDataset shapes: (3,), types: tf.float32>"
            ]
          },
          "metadata": {
            "tags": []
          },
          "execution_count": 26
        }
      ]
    },
    {
      "cell_type": "code",
      "metadata": {
        "colab": {
          "base_uri": "https://localhost:8080/"
        },
        "id": "DuThj-FuNmo5",
        "outputId": "f0a6ca1a-f731-4e35-f765-1d7d1afa4724"
      },
      "source": [
        "ds = ds_xy.batch(3)  # 위에서 정의한 데이터를 3개씩 묶는다(나머지 하나는 떨어져서 나온다!)\n",
        "\n",
        "for i in ds:\n",
        "  print(i[0].numpy())  # x 애들\n",
        "  print(i[1].numpy())  # y 애들\n",
        "  print('----------------------')"
      ],
      "execution_count": null,
      "outputs": [
        {
          "output_type": "stream",
          "text": [
            "[[0.33740354 0.17238152 0.6156955 ]\n",
            " [0.6180948  0.19164264 0.5237504 ]\n",
            " [0.45337605 0.7221775  0.6506742 ]]\n",
            "[0 1 2]\n",
            "----------------------\n",
            "[[0.4604832  0.78395116 0.46727657]]\n",
            "[3]\n",
            "----------------------\n"
          ],
          "name": "stdout"
        }
      ]
    },
    {
      "cell_type": "code",
      "metadata": {
        "colab": {
          "base_uri": "https://localhost:8080/"
        },
        "id": "9tGzKgLmOOjl",
        "outputId": "f8ac11f2-b4c8-4b8b-cbae-aea0fd6a2c3c"
      },
      "source": [
        "# batch 내에 repect set 만들기\n",
        "ds = ds_xy.batch(3).repeat(2)   # 두번 반복되도록 repeat 설계\n",
        "for i in ds:\n",
        "  print(i[0].numpy())\n",
        "  print(i[1].numpy())\n",
        "  print('-----------------------------------')"
      ],
      "execution_count": null,
      "outputs": [
        {
          "output_type": "stream",
          "text": [
            "[[0.33740354 0.17238152 0.6156955 ]\n",
            " [0.6180948  0.19164264 0.5237504 ]\n",
            " [0.45337605 0.7221775  0.6506742 ]]\n",
            "[0 1 2]\n",
            "-----------------------------------\n",
            "[[0.4604832  0.78395116 0.46727657]]\n",
            "[3]\n",
            "-----------------------------------\n",
            "[[0.33740354 0.17238152 0.6156955 ]\n",
            " [0.6180948  0.19164264 0.5237504 ]\n",
            " [0.45337605 0.7221775  0.6506742 ]]\n",
            "[0 1 2]\n",
            "-----------------------------------\n",
            "[[0.4604832  0.78395116 0.46727657]]\n",
            "[3]\n",
            "-----------------------------------\n"
          ],
          "name": "stdout"
        }
      ]
    },
    {
      "cell_type": "code",
      "metadata": {
        "colab": {
          "base_uri": "https://localhost:8080/"
        },
        "id": "4ztLuvxcPGCh",
        "outputId": "0fa0574e-c011-4bfb-acb3-af6495462c3e"
      },
      "source": [
        "# batch 내에 shuffle 추가\n",
        "ds = ds_xy.shuffle(4).batch(3).repeat(2)  # 4는 random seed\n",
        "for i in ds:\n",
        "  print(i[0].numpy())\n",
        "  print(i[1].numpy())\n",
        "  print('-------------------------------------')"
      ],
      "execution_count": null,
      "outputs": [
        {
          "output_type": "stream",
          "text": [
            "[[0.45337605 0.7221775  0.6506742 ]\n",
            " [0.33740354 0.17238152 0.6156955 ]\n",
            " [0.6180948  0.19164264 0.5237504 ]]\n",
            "[2 0 1]\n",
            "-------------------------------------\n",
            "[[0.4604832  0.78395116 0.46727657]]\n",
            "[3]\n",
            "-------------------------------------\n",
            "[[0.4604832  0.78395116 0.46727657]\n",
            " [0.6180948  0.19164264 0.5237504 ]\n",
            " [0.45337605 0.7221775  0.6506742 ]]\n",
            "[3 1 2]\n",
            "-------------------------------------\n",
            "[[0.33740354 0.17238152 0.6156955 ]]\n",
            "[0]\n",
            "-------------------------------------\n"
          ],
          "name": "stdout"
        }
      ]
    },
    {
      "cell_type": "markdown",
      "metadata": {
        "id": "gF8ljbuDBAge"
      },
      "source": [
        "-------------------------------\n",
        "\n",
        "### cf) tensor 자료형은 **type이 일치**되어야만 연산이 가능하다!!\n",
        "> 불일치 할때는 cast 함수를 사용해 변환해주어야 한다"
      ]
    },
    {
      "cell_type": "code",
      "metadata": {
        "colab": {
          "base_uri": "https://localhost:8080/"
        },
        "id": "jNXFAQ_S3duq",
        "outputId": "c9e3205b-ad17-40f4-89eb-0cd73d524b01"
      },
      "source": [
        "t1 = tf.constant(1)\n",
        "t2 = tf.constant(2.)\n",
        "tf.cast(t1, tf.float32) + t2 "
      ],
      "execution_count": null,
      "outputs": [
        {
          "output_type": "execute_result",
          "data": {
            "text/plain": [
              "<tf.Tensor: shape=(), dtype=float32, numpy=3.0>"
            ]
          },
          "metadata": {
            "tags": []
          },
          "execution_count": 14
        }
      ]
    },
    {
      "cell_type": "code",
      "metadata": {
        "colab": {
          "base_uri": "https://localhost:8080/"
        },
        "id": "xGdMvRNJ3dse",
        "outputId": "09c61630-3faa-4e05-dd26-9cfd61d20be5"
      },
      "source": [
        "# tf.Variable() : tf.constant와 달리 수정 가능한 tensor를 생성한다. 주로 모수 저장 backend에 쓰인다!\n",
        "k = tf.Variable([[1,2,3],[4,5,6]])\n",
        "print(k)"
      ],
      "execution_count": null,
      "outputs": [
        {
          "output_type": "stream",
          "text": [
            "<tf.Variable 'Variable:0' shape=(2, 3) dtype=int32, numpy=\n",
            "array([[1, 2, 3],\n",
            "       [4, 5, 6]], dtype=int32)>\n"
          ],
          "name": "stdout"
        }
      ]
    },
    {
      "cell_type": "code",
      "metadata": {
        "colab": {
          "base_uri": "https://localhost:8080/"
        },
        "id": "4-5zNPV3BLRl",
        "outputId": "5104256e-a5ba-4bef-fb34-32c75fe74122"
      },
      "source": [
        "# tf.Variable은 assign() 함수를 이용해 수정할 수 있다\n",
        "k.assign(k**2) "
      ],
      "execution_count": null,
      "outputs": [
        {
          "output_type": "execute_result",
          "data": {
            "text/plain": [
              "<tf.Variable 'UnreadVariable' shape=(2, 3) dtype=int32, numpy=\n",
              "array([[ 1,  4,  9],\n",
              "       [16, 25, 36]], dtype=int32)>"
            ]
          },
          "metadata": {
            "tags": []
          },
          "execution_count": 17
        }
      ]
    },
    {
      "cell_type": "code",
      "metadata": {
        "colab": {
          "base_uri": "https://localhost:8080/"
        },
        "id": "G-jnCm4bBLO4",
        "outputId": "9c1895aa-def2-4495-bc53-424e42401045"
      },
      "source": [
        "k[0,1].assign(100)  # 이렇게 특정 하나의 위치를 지정해서 변경도 가능하다!"
      ],
      "execution_count": null,
      "outputs": [
        {
          "output_type": "execute_result",
          "data": {
            "text/plain": [
              "<tf.Variable 'UnreadVariable' shape=(2, 3) dtype=int32, numpy=\n",
              "array([[  1, 100,   9],\n",
              "       [ 16,  25,  36]], dtype=int32)>"
            ]
          },
          "metadata": {
            "tags": []
          },
          "execution_count": 18
        }
      ]
    },
    {
      "cell_type": "markdown",
      "metadata": {
        "id": "EBHK0e5JCjK3"
      },
      "source": [
        "원소를 동시에 변경하려면 **scatter_nd_update()** 함수를 이용!"
      ]
    },
    {
      "cell_type": "code",
      "metadata": {
        "colab": {
          "base_uri": "https://localhost:8080/"
        },
        "id": "u7Dv0O7RBLLy",
        "outputId": "a792a7b3-be71-4bcb-9373-110334704c0a"
      },
      "source": [
        "k.scatter_nd_update(indices=[[0,0],[1,0]], updates=[999,999])   # indices는 위치, updates는 새로운 원소 지정"
      ],
      "execution_count": null,
      "outputs": [
        {
          "output_type": "execute_result",
          "data": {
            "text/plain": [
              "<tf.Variable 'UnreadVariable' shape=(2, 3) dtype=int32, numpy=\n",
              "array([[999, 100,   9],\n",
              "       [999,  25,  36]], dtype=int32)>"
            ]
          },
          "metadata": {
            "tags": []
          },
          "execution_count": 19
        }
      ]
    }
  ]
}
