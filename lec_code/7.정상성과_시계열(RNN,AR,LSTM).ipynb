{
  "nbformat": 4,
  "nbformat_minor": 0,
  "metadata": {
    "colab": {
      "name": "7.정상성과 시계열(RNN, AR, LSTM).ipynb",
      "provenance": [],
      "machine_shape": "hm",
      "authorship_tag": "ABX9TyMUTGRi4x85ZZeJNUQ26ctk"
    },
    "kernelspec": {
      "name": "python3",
      "display_name": "Python 3"
    },
    "language_info": {
      "name": "python"
    },
    "accelerator": "GPU"
  },
  "cells": [
    {
      "cell_type": "markdown",
      "metadata": {
        "id": "2cqnGuUtZMIp"
      },
      "source": [
        "# **HW5**\n",
        "\n",
        "1. validation data  를 따로 분리하여 overfitting  점검하고 해결하기\n",
        "2. 시계열 출력층에 L1   규제화를 부여하고 lambda  값을 변화시켜 overfitting  관점에서 설명하기"
      ]
    },
    {
      "cell_type": "code",
      "metadata": {
        "id": "TrZE4AO-YKLn"
      },
      "source": [
        "import pandas as pd\n",
        "import numpy as np\n",
        "\n",
        "import matplotlib.pyplot as plt\n",
        "import seaborn as sns\n",
        "sns.set_style('whitegrid')\n",
        "plt.style.use(\"fivethirtyeight\")\n",
        "%matplotlib inline\n",
        "\n",
        "from pandas_datareader.data import DataReader\n",
        "from datetime import datetime"
      ],
      "execution_count": 1,
      "outputs": []
    },
    {
      "cell_type": "code",
      "metadata": {
        "id": "8-8m1LaTYM6U"
      },
      "source": [
        "# 주식 시점 입력(시작/끝)\n",
        "end = datetime.now()\n",
        "start = datetime(end.year - 1, end.month, end.day)"
      ],
      "execution_count": 2,
      "outputs": []
    },
    {
      "cell_type": "code",
      "metadata": {
        "id": "45dUgN07YM32"
      },
      "source": [
        "data= DataReader('GOOG', 'yahoo', start, end)   # 구글의 주식 데이터 가져옴"
      ],
      "execution_count": 6,
      "outputs": []
    },
    {
      "cell_type": "code",
      "metadata": {
        "colab": {
          "base_uri": "https://localhost:8080/",
          "height": 227
        },
        "id": "vPuJeviRYM2C",
        "outputId": "52d4455f-0915-49e3-dc87-33b46b97cc21"
      },
      "source": [
        "data.head()"
      ],
      "execution_count": 7,
      "outputs": [
        {
          "output_type": "execute_result",
          "data": {
            "text/html": [
              "<div>\n",
              "<style scoped>\n",
              "    .dataframe tbody tr th:only-of-type {\n",
              "        vertical-align: middle;\n",
              "    }\n",
              "\n",
              "    .dataframe tbody tr th {\n",
              "        vertical-align: top;\n",
              "    }\n",
              "\n",
              "    .dataframe thead th {\n",
              "        text-align: right;\n",
              "    }\n",
              "</style>\n",
              "<table border=\"1\" class=\"dataframe\">\n",
              "  <thead>\n",
              "    <tr style=\"text-align: right;\">\n",
              "      <th></th>\n",
              "      <th>High</th>\n",
              "      <th>Low</th>\n",
              "      <th>Open</th>\n",
              "      <th>Close</th>\n",
              "      <th>Volume</th>\n",
              "      <th>Adj Close</th>\n",
              "    </tr>\n",
              "    <tr>\n",
              "      <th>Date</th>\n",
              "      <th></th>\n",
              "      <th></th>\n",
              "      <th></th>\n",
              "      <th></th>\n",
              "      <th></th>\n",
              "      <th></th>\n",
              "    </tr>\n",
              "  </thead>\n",
              "  <tbody>\n",
              "    <tr>\n",
              "      <th>2020-05-05</th>\n",
              "      <td>1373.939941</td>\n",
              "      <td>1337.459961</td>\n",
              "      <td>1337.920044</td>\n",
              "      <td>1351.109985</td>\n",
              "      <td>1651500</td>\n",
              "      <td>1351.109985</td>\n",
              "    </tr>\n",
              "    <tr>\n",
              "      <th>2020-05-06</th>\n",
              "      <td>1371.119995</td>\n",
              "      <td>1347.290039</td>\n",
              "      <td>1361.689941</td>\n",
              "      <td>1347.300049</td>\n",
              "      <td>1215400</td>\n",
              "      <td>1347.300049</td>\n",
              "    </tr>\n",
              "    <tr>\n",
              "      <th>2020-05-07</th>\n",
              "      <td>1377.599976</td>\n",
              "      <td>1355.270020</td>\n",
              "      <td>1365.939941</td>\n",
              "      <td>1372.560059</td>\n",
              "      <td>1397600</td>\n",
              "      <td>1372.560059</td>\n",
              "    </tr>\n",
              "    <tr>\n",
              "      <th>2020-05-08</th>\n",
              "      <td>1398.760010</td>\n",
              "      <td>1375.479980</td>\n",
              "      <td>1383.130005</td>\n",
              "      <td>1388.369995</td>\n",
              "      <td>1386900</td>\n",
              "      <td>1388.369995</td>\n",
              "    </tr>\n",
              "    <tr>\n",
              "      <th>2020-05-11</th>\n",
              "      <td>1416.530029</td>\n",
              "      <td>1377.151978</td>\n",
              "      <td>1378.280029</td>\n",
              "      <td>1403.260010</td>\n",
              "      <td>1412100</td>\n",
              "      <td>1403.260010</td>\n",
              "    </tr>\n",
              "  </tbody>\n",
              "</table>\n",
              "</div>"
            ],
            "text/plain": [
              "                   High          Low  ...   Volume    Adj Close\n",
              "Date                                  ...                      \n",
              "2020-05-05  1373.939941  1337.459961  ...  1651500  1351.109985\n",
              "2020-05-06  1371.119995  1347.290039  ...  1215400  1347.300049\n",
              "2020-05-07  1377.599976  1355.270020  ...  1397600  1372.560059\n",
              "2020-05-08  1398.760010  1375.479980  ...  1386900  1388.369995\n",
              "2020-05-11  1416.530029  1377.151978  ...  1412100  1403.260010\n",
              "\n",
              "[5 rows x 6 columns]"
            ]
          },
          "metadata": {
            "tags": []
          },
          "execution_count": 7
        }
      ]
    },
    {
      "cell_type": "code",
      "metadata": {
        "colab": {
          "base_uri": "https://localhost:8080/",
          "height": 437
        },
        "id": "dG-MN4JIYMy3",
        "outputId": "8e8b10a7-d3d2-41de-fc6c-4ccc6fea37d1"
      },
      "source": [
        "# 종가 시각화\n",
        "plt.figure(figsize=(16,8))\n",
        "plt.title('Close Price History')\n",
        "plt.plot(data['Close'])\n",
        "plt.xlabel('Date', fontsize=18)\n",
        "plt.ylabel('Close Price USD ($)', fontsize=18)\n",
        "plt.show()"
      ],
      "execution_count": 8,
      "outputs": [
        {
          "output_type": "display_data",
          "data": {
            "image/png": "[encoded data removed]",
            "text/plain": [
              "<Figure size 1152x576 with 1 Axes>"
            ]
          },
          "metadata": {
            "tags": [],
            "needs_background": "light"
          }
        }
      ]
    },
    {
      "cell_type": "markdown",
      "metadata": {
        "id": "0I-WFCfMajDB"
      },
      "source": [
        "증가 추세를 벗어나면 일정 시간동안 추세를 벗어나있다가 느리게 전반적인 추세로 돌아오므로,       \n",
        "비정상성을 가지는 데이터임을 추측 가능"
      ]
    },
    {
      "cell_type": "code",
      "metadata": {
        "colab": {
          "base_uri": "https://localhost:8080/",
          "height": 287
        },
        "id": "-D649J-iYMwg",
        "outputId": "06013fb8-dd7c-4e7d-b2b3-7f0c5efe4747"
      },
      "source": [
        "data.describe()   # max와 min의 차이가 많이나는 상황"
      ],
      "execution_count": 9,
      "outputs": [
        {
          "output_type": "execute_result",
          "data": {
            "text/html": [
              "<div>\n",
              "<style scoped>\n",
              "    .dataframe tbody tr th:only-of-type {\n",
              "        vertical-align: middle;\n",
              "    }\n",
              "\n",
              "    .dataframe tbody tr th {\n",
              "        vertical-align: top;\n",
              "    }\n",
              "\n",
              "    .dataframe thead th {\n",
              "        text-align: right;\n",
              "    }\n",
              "</style>\n",
              "<table border=\"1\" class=\"dataframe\">\n",
              "  <thead>\n",
              "    <tr style=\"text-align: right;\">\n",
              "      <th></th>\n",
              "      <th>High</th>\n",
              "      <th>Low</th>\n",
              "      <th>Open</th>\n",
              "      <th>Close</th>\n",
              "      <th>Volume</th>\n",
              "      <th>Adj Close</th>\n",
              "    </tr>\n",
              "  </thead>\n",
              "  <tbody>\n",
              "    <tr>\n",
              "      <th>count</th>\n",
              "      <td>252.000000</td>\n",
              "      <td>252.000000</td>\n",
              "      <td>252.000000</td>\n",
              "      <td>252.000000</td>\n",
              "      <td>2.520000e+02</td>\n",
              "      <td>252.000000</td>\n",
              "    </tr>\n",
              "    <tr>\n",
              "      <th>mean</th>\n",
              "      <td>1749.185482</td>\n",
              "      <td>1709.972187</td>\n",
              "      <td>1727.648749</td>\n",
              "      <td>1730.035372</td>\n",
              "      <td>1.658705e+06</td>\n",
              "      <td>1730.035372</td>\n",
              "    </tr>\n",
              "    <tr>\n",
              "      <th>std</th>\n",
              "      <td>286.415409</td>\n",
              "      <td>283.281477</td>\n",
              "      <td>284.422902</td>\n",
              "      <td>284.884983</td>\n",
              "      <td>5.861855e+05</td>\n",
              "      <td>284.884983</td>\n",
              "    </tr>\n",
              "    <tr>\n",
              "      <th>min</th>\n",
              "      <td>1357.420044</td>\n",
              "      <td>1323.910034</td>\n",
              "      <td>1335.020020</td>\n",
              "      <td>1347.300049</td>\n",
              "      <td>3.468000e+05</td>\n",
              "      <td>1347.300049</td>\n",
              "    </tr>\n",
              "    <tr>\n",
              "      <th>25%</th>\n",
              "      <td>1506.412476</td>\n",
              "      <td>1473.024963</td>\n",
              "      <td>1489.295013</td>\n",
              "      <td>1493.389984</td>\n",
              "      <td>1.289750e+06</td>\n",
              "      <td>1493.389984</td>\n",
              "    </tr>\n",
              "    <tr>\n",
              "      <th>50%</th>\n",
              "      <td>1698.356995</td>\n",
              "      <td>1631.484985</td>\n",
              "      <td>1672.942505</td>\n",
              "      <td>1656.544983</td>\n",
              "      <td>1.537550e+06</td>\n",
              "      <td>1656.544983</td>\n",
              "    </tr>\n",
              "    <tr>\n",
              "      <th>75%</th>\n",
              "      <td>1979.567505</td>\n",
              "      <td>1936.372498</td>\n",
              "      <td>1947.762543</td>\n",
              "      <td>1951.675018</td>\n",
              "      <td>1.828400e+06</td>\n",
              "      <td>1951.675018</td>\n",
              "    </tr>\n",
              "    <tr>\n",
              "      <th>max</th>\n",
              "      <td>2452.377930</td>\n",
              "      <td>2402.280029</td>\n",
              "      <td>2410.330078</td>\n",
              "      <td>2429.889893</td>\n",
              "      <td>4.329100e+06</td>\n",
              "      <td>2429.889893</td>\n",
              "    </tr>\n",
              "  </tbody>\n",
              "</table>\n",
              "</div>"
            ],
            "text/plain": [
              "              High          Low  ...        Volume    Adj Close\n",
              "count   252.000000   252.000000  ...  2.520000e+02   252.000000\n",
              "mean   1749.185482  1709.972187  ...  1.658705e+06  1730.035372\n",
              "std     286.415409   283.281477  ...  5.861855e+05   284.884983\n",
              "min    1357.420044  1323.910034  ...  3.468000e+05  1347.300049\n",
              "25%    1506.412476  1473.024963  ...  1.289750e+06  1493.389984\n",
              "50%    1698.356995  1631.484985  ...  1.537550e+06  1656.544983\n",
              "75%    1979.567505  1936.372498  ...  1.828400e+06  1951.675018\n",
              "max    2452.377930  2402.280029  ...  4.329100e+06  2429.889893\n",
              "\n",
              "[8 rows x 6 columns]"
            ]
          },
          "metadata": {
            "tags": []
          },
          "execution_count": 9
        }
      ]
    },
    {
      "cell_type": "code",
      "metadata": {
        "colab": {
          "base_uri": "https://localhost:8080/"
        },
        "id": "nF9mKApgYMnR",
        "outputId": "83991ab2-907a-497c-8d77-8206ab86eefc"
      },
      "source": [
        "## Dickey-Fuller의 단위근 검정\n",
        "from statsmodels.tsa.stattools import adfuller  # augmented 디큐플러 테스트\n",
        "result=adfuller(data['Close'])  # null은 단위근이 있다 = 이 데이터는 nonstaionary하다 \n",
        "print('검정통계량 : ', result[0])\n",
        "print('P-value : ', result[1])"
      ],
      "execution_count": 11,
      "outputs": [
        {
          "output_type": "stream",
          "text": [
            "검정통계량 :  0.26295116513879957\n",
            "P-value :  0.9755793778219942\n"
          ],
          "name": "stdout"
        }
      ]
    },
    {
      "cell_type": "markdown",
      "metadata": {
        "id": "V8zUCxf-bela"
      },
      "source": [
        "P-value가 매우 크므로 귀무가설을 기각하지 못한다. 비정상성을 지니는 데이터이다. "
      ]
    },
    {
      "cell_type": "code",
      "metadata": {
        "colab": {
          "base_uri": "https://localhost:8080/",
          "height": 541
        },
        "id": "rVQ_IJFaYMkK",
        "outputId": "4e99fb26-eaad-47f4-b65d-aa1f7092532f"
      },
      "source": [
        "# 자기상관함수, 편자기상관함수\n",
        "from statsmodels.graphics.tsaplots import plot_acf, plot_pacf\n",
        "plot_acf(data['Close'])\n",
        "plot_pacf(data['Close'])\n",
        "plt.show()  # 지수 감소형태를 띔"
      ],
      "execution_count": 14,
      "outputs": [
        {
          "output_type": "display_data",
          "data": {
            "image/png": "[encoded data removed]",
            "text/plain": [
              "<Figure size 432x288 with 1 Axes>"
            ]
          },
          "metadata": {
            "tags": [],
            "needs_background": "light"
          }
        },
        {
          "output_type": "display_data",
          "data": {
            "image/png": "[encoded data removed]",
            "text/plain": [
              "<Figure size 432x288 with 1 Axes>"
            ]
          },
          "metadata": {
            "tags": [],
            "needs_background": "light"
          }
        }
      ]
    },
    {
      "cell_type": "markdown",
      "metadata": {
        "id": "nOxeKD53bskP"
      },
      "source": [
        "자기상관함수가 선형적으로 매우 느리게 감소하는 모습. 따라서 일일 종가는 비정상시계열이므로 차분이 필요함. "
      ]
    },
    {
      "cell_type": "code",
      "metadata": {
        "colab": {
          "base_uri": "https://localhost:8080/",
          "height": 473
        },
        "id": "AM4b_Qi9YMgX",
        "outputId": "fa1344ee-827f-48c2-ac32-b908ce830727"
      },
      "source": [
        "## 로그수익률로 변화 (차분작업)\n",
        "datapct=data.pct_change()\n",
        "logreturn=np.log(1+datapct)  # 차분의 역할\n",
        "logreturn.head()\n",
        "print(logreturn.describe())  # log return 으로 바꿈\n",
        "plt.figure(figsize=(10,5))\n",
        "plt.plot(logreturn['Close'])\n",
        "plt.show()  # 0을 중심으로 매우 왔다갔다하므로 stationary"
      ],
      "execution_count": 15,
      "outputs": [
        {
          "output_type": "stream",
          "text": [
            "             High         Low        Open       Close      Volume   Adj Close\n",
            "count  251.000000  251.000000  251.000000  251.000000  251.000000  251.000000\n",
            "mean     0.002188    0.002180    0.002278    0.002212    0.000242    0.002212\n",
            "std      0.016338    0.015898    0.018519    0.017793    0.345806    0.017793\n",
            "min     -0.050647   -0.049079   -0.057493   -0.058155   -1.092248   -0.058155\n",
            "25%     -0.006932   -0.006816   -0.007590   -0.006282   -0.197411   -0.006282\n",
            "50%      0.001190    0.003071    0.001861    0.003092   -0.012036    0.003092\n",
            "75%      0.009999    0.011409    0.012463    0.012355    0.185393    0.012355\n",
            "max      0.078985    0.053832    0.093825    0.071353    1.390467    0.071353\n"
          ],
          "name": "stdout"
        },
        {
          "output_type": "display_data",
          "data": {
            "image/png": "[encoded data removed]",
            "text/plain": [
              "<Figure size 720x360 with 1 Axes>"
            ]
          },
          "metadata": {
            "tags": [],
            "needs_background": "light"
          }
        }
      ]
    },
    {
      "cell_type": "markdown",
      "metadata": {
        "id": "c1D2enMKcL8J"
      },
      "source": [
        "로그 수익률 전환 결과 0을 중심으로 왔다갔다하므로 정상시계열일 가능성이 높음"
      ]
    },
    {
      "cell_type": "code",
      "metadata": {
        "colab": {
          "base_uri": "https://localhost:8080/"
        },
        "id": "ca4j-gurYMeB",
        "outputId": "9773b33f-4601-493a-963d-7d68606c7848"
      },
      "source": [
        "from statsmodels.tsa.stattools import adfuller  ## 차분 후 디큐플러테스트 적용\n",
        "logreturn=logreturn.dropna()  ## 차분을 취했기에 missing이 발생 > drop 해주기!\n",
        "result=adfuller(logreturn['Close'])\n",
        "print('검정통계량 : ', result[0])\n",
        "print('P-value : ', result[1])"
      ],
      "execution_count": 17,
      "outputs": [
        {
          "output_type": "stream",
          "text": [
            "검정통계량 :  -16.83513098629889\n",
            "P-value :  1.1497419236553939e-29\n"
          ],
          "name": "stdout"
        }
      ]
    },
    {
      "cell_type": "code",
      "metadata": {
        "colab": {
          "base_uri": "https://localhost:8080/",
          "height": 558
        },
        "id": "NnOaq4coYMb2",
        "outputId": "3ef418fa-bc5b-480f-881e-d05df8940779"
      },
      "source": [
        "from statsmodels.graphics.tsaplots import plot_acf, plot_pacf\n",
        "plot_acf(logreturn['Close'])\n",
        "plot_pacf(logreturn['Close'])\n",
        "plt.show()\n",
        "print(type(logreturn))"
      ],
      "execution_count": 18,
      "outputs": [
        {
          "output_type": "display_data",
          "data": {
            "image/png": "[encoded data removed]",
            "text/plain": [
              "<Figure size 432x288 with 1 Axes>"
            ]
          },
          "metadata": {
            "tags": [],
            "needs_background": "light"
          }
        },
        {
          "output_type": "display_data",
          "data": {
            "image/png": "[encoded data removed]",
            "text/plain": [
              "<Figure size 432x288 with 1 Axes>"
            ]
          },
          "metadata": {
            "tags": [],
            "needs_background": "light"
          }
        },
        {
          "output_type": "stream",
          "text": [
            "<class 'pandas.core.frame.DataFrame'>\n"
          ],
          "name": "stdout"
        }
      ]
    },
    {
      "cell_type": "markdown",
      "metadata": {
        "id": "2R2bwwDIcjDi"
      },
      "source": [
        "일일 종가 로그수익률의 acf와 pacf는 모두 절단형태를 띄는 모습 !    \n",
        "p는 우선 14로 설정"
      ]
    },
    {
      "cell_type": "code",
      "metadata": {
        "colab": {
          "base_uri": "https://localhost:8080/"
        },
        "id": "oVQV-J3rYMZO",
        "outputId": "ff9ab9dc-cfce-47dd-f230-cfb3a8c7db9a"
      },
      "source": [
        "logr1=logreturn['Close'].values\n",
        "print(type(logr1))\n",
        "print(logr1.shape)  # 251개까지 log return이 늘어져있음\n",
        "logr=logr1.reshape(1,-1)\n",
        "print(logr.shape)\n",
        "inte=24\n",
        "x=[]\n",
        "y=[]\n",
        "for i in range(logr.shape[1]):\n",
        "    if i+inte>logr.shape[1]-1:\n",
        "        break\n",
        "    else:\n",
        "         xx=logr[0,i:i+inte]\n",
        "         x.append(xx)\n",
        "         yy=logr[0,i+inte]\n",
        "         y.append(yy)\n",
        "print(type(x))\n",
        "print(type(y))\n",
        "x=np.asarray(x)\n",
        "y=np.asarray(y)\n",
        "print(type(x))\n",
        "print(type(y))\n",
        "print(x.shape)\n",
        "print(y.shape)\n",
        "x_train=x[:210]\n",
        "x_test=x[210:]\n",
        "y_train=y[:210]\n",
        "y_test=y[210:]"
      ],
      "execution_count": 19,
      "outputs": [
        {
          "output_type": "stream",
          "text": [
            "<class 'numpy.ndarray'>\n",
            "(251,)\n",
            "(1, 251)\n",
            "<class 'list'>\n",
            "<class 'list'>\n",
            "<class 'numpy.ndarray'>\n",
            "<class 'numpy.ndarray'>\n",
            "(227, 24)\n",
            "(227,)\n"
          ],
          "name": "stdout"
        }
      ]
    },
    {
      "cell_type": "markdown",
      "metadata": {
        "id": "RZdXQG3liOGQ"
      },
      "source": [
        "## Modeling"
      ]
    },
    {
      "cell_type": "code",
      "metadata": {
        "colab": {
          "base_uri": "https://localhost:8080/"
        },
        "id": "c3tMYn7lYMWk",
        "outputId": "52dca4c6-4cba-4c17-8e4d-f0d3fdee4504"
      },
      "source": [
        "from tensorflow.keras.models import Sequential\n",
        "from tensorflow.keras.layers import Dense,GRU,LSTM\n",
        "from tensorflow.keras import regularizers\n",
        "model=Sequential()\n",
        "## 단순 자기회귀모형(AR)\n",
        "model.add(Dense(1,input_shape=(24,)))  # x변수가 24개 있을 때 regression 모형과 같음\n",
        "# 이거의 계수만 보게되면 통계적으로 interpretation이 가능함\n",
        "\n",
        "### 여기는 overfitting 조절이 어려움\n",
        "model.compile(optimizer='rmsprop', loss='mse',metrics=['mae'])  # loss는 mae\n",
        "\n",
        "model.fit(x_train,y_train,epochs=30,batch_size=32)  # 회귀모형을 32개 쓴 것과 같음 > 통계적으로 해석을 할 수 있어야함\n",
        "loss_acc=model.evaluate(x_train,y_train)\n",
        "los_test=model.evaluate(x_test,y_test)\n",
        "\n",
        "print(loss_acc)\n",
        "print(los_test)"
      ],
      "execution_count": 20,
      "outputs": [
        {
          "output_type": "stream",
          "text": [
            "Epoch 1/30\n",
            "7/7 [==============================] - 2s 3ms/step - loss: 8.0717e-04 - mae: 0.0226\n",
            "Epoch 2/30\n",
            "7/7 [==============================] - 0s 3ms/step - loss: 8.3457e-04 - mae: 0.0230\n",
            "Epoch 3/30\n",
            "7/7 [==============================] - 0s 3ms/step - loss: 7.7590e-04 - mae: 0.0219\n",
            "Epoch 4/30\n",
            "7/7 [==============================] - 0s 3ms/step - loss: 8.5735e-04 - mae: 0.0234\n",
            "Epoch 5/30\n",
            "7/7 [==============================] - 0s 2ms/step - loss: 7.3666e-04 - mae: 0.0215\n",
            "Epoch 6/30\n",
            "7/7 [==============================] - 0s 3ms/step - loss: 6.2791e-04 - mae: 0.0203\n",
            "Epoch 7/30\n",
            "7/7 [==============================] - 0s 2ms/step - loss: 7.4925e-04 - mae: 0.0215\n",
            "Epoch 8/30\n",
            "7/7 [==============================] - 0s 3ms/step - loss: 6.8051e-04 - mae: 0.0208\n",
            "Epoch 9/30\n",
            "7/7 [==============================] - 0s 2ms/step - loss: 6.3449e-04 - mae: 0.0200\n",
            "Epoch 10/30\n",
            "7/7 [==============================] - 0s 3ms/step - loss: 7.1633e-04 - mae: 0.0209\n",
            "Epoch 11/30\n",
            "7/7 [==============================] - 0s 4ms/step - loss: 7.3745e-04 - mae: 0.0217\n",
            "Epoch 12/30\n",
            "7/7 [==============================] - 0s 3ms/step - loss: 6.5049e-04 - mae: 0.0205\n",
            "Epoch 13/30\n",
            "7/7 [==============================] - 0s 3ms/step - loss: 5.7107e-04 - mae: 0.0189\n",
            "Epoch 14/30\n",
            "7/7 [==============================] - 0s 2ms/step - loss: 6.4327e-04 - mae: 0.0204\n",
            "Epoch 15/30\n",
            "7/7 [==============================] - 0s 2ms/step - loss: 6.0425e-04 - mae: 0.0192\n",
            "Epoch 16/30\n",
            "7/7 [==============================] - 0s 3ms/step - loss: 5.4706e-04 - mae: 0.0182\n",
            "Epoch 17/30\n",
            "7/7 [==============================] - 0s 3ms/step - loss: 6.1714e-04 - mae: 0.0195\n",
            "Epoch 18/30\n",
            "7/7 [==============================] - 0s 2ms/step - loss: 6.4045e-04 - mae: 0.0199\n",
            "Epoch 19/30\n",
            "7/7 [==============================] - 0s 2ms/step - loss: 5.7648e-04 - mae: 0.0192\n",
            "Epoch 20/30\n",
            "7/7 [==============================] - 0s 3ms/step - loss: 5.2104e-04 - mae: 0.0176\n",
            "Epoch 21/30\n",
            "7/7 [==============================] - 0s 3ms/step - loss: 5.6825e-04 - mae: 0.0188\n",
            "Epoch 22/30\n",
            "7/7 [==============================] - 0s 3ms/step - loss: 5.3964e-04 - mae: 0.0177\n",
            "Epoch 23/30\n",
            "7/7 [==============================] - 0s 3ms/step - loss: 4.7359e-04 - mae: 0.0168\n",
            "Epoch 24/30\n",
            "7/7 [==============================] - 0s 2ms/step - loss: 5.1066e-04 - mae: 0.0180\n",
            "Epoch 25/30\n",
            "7/7 [==============================] - 0s 3ms/step - loss: 5.6934e-04 - mae: 0.0183\n",
            "Epoch 26/30\n",
            "7/7 [==============================] - 0s 3ms/step - loss: 5.0906e-04 - mae: 0.0175\n",
            "Epoch 27/30\n",
            "7/7 [==============================] - 0s 3ms/step - loss: 4.6000e-04 - mae: 0.0164\n",
            "Epoch 28/30\n",
            "7/7 [==============================] - 0s 3ms/step - loss: 4.7102e-04 - mae: 0.0167\n",
            "Epoch 29/30\n",
            "7/7 [==============================] - 0s 2ms/step - loss: 4.9983e-04 - mae: 0.0175\n",
            "Epoch 30/30\n",
            "7/7 [==============================] - 0s 3ms/step - loss: 4.3751e-04 - mae: 0.0160\n",
            "7/7 [==============================] - 0s 2ms/step - loss: 4.5547e-04 - mae: 0.0163\n",
            "1/1 [==============================] - 0s 17ms/step - loss: 2.8036e-04 - mae: 0.0134\n",
            "[0.00045546627370640635, 0.01630707085132599]\n",
            "[0.0002803592651616782, 0.013377487659454346]\n"
          ],
          "name": "stdout"
        }
      ]
    },
    {
      "cell_type": "code",
      "metadata": {
        "colab": {
          "base_uri": "https://localhost:8080/"
        },
        "id": "mhigJ2kFYMUM",
        "outputId": "a23b7c83-0046-4963-8868-b8bd64bf4cc5"
      },
      "source": [
        "from tensorflow.keras.models import Sequential\n",
        "from tensorflow.keras.layers import Dense,GRU,LSTM\n",
        "model=Sequential()\n",
        "model.add(Dense(32,activation='relu',input_shape=(24,)))\n",
        "model.add(Dense(1))                \n",
        "\n",
        "# regularization은 전체 파라미터 값을 왜곡시킨다. but 중간에 dense가 있으면 regularization이나 dropout을 넣어도됨. \n",
        "# 여기는 얼마든지 오버피팅을 조절 가능\n",
        "## 여기는 통계적모형보다 훨씬 flexible하고 generalized 할 수 있음 \n",
        "\n",
        "model.compile(optimizer='rmsprop', loss='mse',metrics=['mae'])\n",
        "history = model.fit(x_train,y_train,epochs=30,batch_size=32)\n",
        "loss_acc=model.evaluate(x_train,y_train)\n",
        "los_test=model.evaluate(x_test,y_test)\n",
        "print(loss_acc)\n",
        "print(los_test)"
      ],
      "execution_count": 26,
      "outputs": [
        {
          "output_type": "stream",
          "text": [
            "Epoch 1/30\n",
            "WARNING:tensorflow:Model was constructed with shape (None, 24) for input KerasTensor(type_spec=TensorSpec(shape=(None, 24), dtype=tf.float32, name='dense_6_input'), name='dense_6_input', description=\"created by layer 'dense_6_input'\"), but it was called on an input with incompatible shape (None, 1, 24).\n",
            "WARNING:tensorflow:Model was constructed with shape (None, 24) for input KerasTensor(type_spec=TensorSpec(shape=(None, 24), dtype=tf.float32, name='dense_6_input'), name='dense_6_input', description=\"created by layer 'dense_6_input'\"), but it was called on an input with incompatible shape (None, 1, 24).\n",
            "7/7 [==============================] - 1s 4ms/step - loss: 5.3417e-04 - mae: 0.0178\n",
            "Epoch 2/30\n",
            "7/7 [==============================] - 0s 3ms/step - loss: 4.7465e-04 - mae: 0.0163\n",
            "Epoch 3/30\n",
            "7/7 [==============================] - 0s 3ms/step - loss: 4.0406e-04 - mae: 0.0154\n",
            "Epoch 4/30\n",
            "7/7 [==============================] - 0s 3ms/step - loss: 3.1395e-04 - mae: 0.0133\n",
            "Epoch 5/30\n",
            "7/7 [==============================] - 0s 4ms/step - loss: 3.1714e-04 - mae: 0.0138\n",
            "Epoch 6/30\n",
            "7/7 [==============================] - 0s 3ms/step - loss: 3.2245e-04 - mae: 0.0133\n",
            "Epoch 7/30\n",
            "7/7 [==============================] - 0s 4ms/step - loss: 3.5113e-04 - mae: 0.0141\n",
            "Epoch 8/30\n",
            "7/7 [==============================] - 0s 4ms/step - loss: 2.9146e-04 - mae: 0.0123\n",
            "Epoch 9/30\n",
            "7/7 [==============================] - 0s 4ms/step - loss: 2.7257e-04 - mae: 0.0124\n",
            "Epoch 10/30\n",
            "7/7 [==============================] - 0s 3ms/step - loss: 3.0752e-04 - mae: 0.0133\n",
            "Epoch 11/30\n",
            "7/7 [==============================] - 0s 4ms/step - loss: 3.1702e-04 - mae: 0.0133\n",
            "Epoch 12/30\n",
            "7/7 [==============================] - 0s 4ms/step - loss: 2.6080e-04 - mae: 0.0122\n",
            "Epoch 13/30\n",
            "7/7 [==============================] - 0s 3ms/step - loss: 3.1633e-04 - mae: 0.0134\n",
            "Epoch 14/30\n",
            "7/7 [==============================] - 0s 4ms/step - loss: 2.9347e-04 - mae: 0.0125\n",
            "Epoch 15/30\n",
            "7/7 [==============================] - 0s 4ms/step - loss: 2.5074e-04 - mae: 0.0119\n",
            "Epoch 16/30\n",
            "7/7 [==============================] - 0s 3ms/step - loss: 2.5770e-04 - mae: 0.0120\n",
            "Epoch 17/30\n",
            "7/7 [==============================] - 0s 3ms/step - loss: 2.7171e-04 - mae: 0.0123\n",
            "Epoch 18/30\n",
            "7/7 [==============================] - 0s 4ms/step - loss: 2.3244e-04 - mae: 0.0118\n",
            "Epoch 19/30\n",
            "7/7 [==============================] - 0s 4ms/step - loss: 2.4066e-04 - mae: 0.0113\n",
            "Epoch 20/30\n",
            "7/7 [==============================] - 0s 3ms/step - loss: 2.2676e-04 - mae: 0.0114\n",
            "Epoch 21/30\n",
            "7/7 [==============================] - 0s 3ms/step - loss: 2.3218e-04 - mae: 0.0110\n",
            "Epoch 22/30\n",
            "7/7 [==============================] - 0s 3ms/step - loss: 2.0839e-04 - mae: 0.0109\n",
            "Epoch 23/30\n",
            "7/7 [==============================] - 0s 3ms/step - loss: 2.1394e-04 - mae: 0.0109\n",
            "Epoch 24/30\n",
            "7/7 [==============================] - 0s 3ms/step - loss: 2.1023e-04 - mae: 0.0105\n",
            "Epoch 25/30\n",
            "7/7 [==============================] - 0s 3ms/step - loss: 2.4181e-04 - mae: 0.0119\n",
            "Epoch 26/30\n",
            "7/7 [==============================] - 0s 4ms/step - loss: 2.3152e-04 - mae: 0.0111\n",
            "Epoch 27/30\n",
            "7/7 [==============================] - 0s 3ms/step - loss: 2.2959e-04 - mae: 0.0112\n",
            "Epoch 28/30\n",
            "7/7 [==============================] - 0s 4ms/step - loss: 2.5307e-04 - mae: 0.0116\n",
            "Epoch 29/30\n",
            "7/7 [==============================] - 0s 3ms/step - loss: 1.9637e-04 - mae: 0.0108\n",
            "Epoch 30/30\n",
            "7/7 [==============================] - 0s 3ms/step - loss: 1.8065e-04 - mae: 0.0099\n",
            "WARNING:tensorflow:Model was constructed with shape (None, 24) for input KerasTensor(type_spec=TensorSpec(shape=(None, 24), dtype=tf.float32, name='dense_6_input'), name='dense_6_input', description=\"created by layer 'dense_6_input'\"), but it was called on an input with incompatible shape (None, 1, 24).\n",
            "7/7 [==============================] - 0s 3ms/step - loss: 2.0580e-04 - mae: 0.0105\n",
            "1/1 [==============================] - 0s 17ms/step - loss: 2.0323e-04 - mae: 0.0115\n",
            "[0.00020580452110152692, 0.010473961941897869]\n",
            "[0.0002032340271398425, 0.011547218076884747]\n"
          ],
          "name": "stdout"
        }
      ]
    },
    {
      "cell_type": "code",
      "metadata": {
        "colab": {
          "base_uri": "https://localhost:8080/",
          "height": 279
        },
        "id": "hKWIZejsjiA7",
        "outputId": "71e33ee3-91f7-450e-dcf6-62a75c697a95"
      },
      "source": [
        "loss = history.history['loss']\n",
        "# val_loss = history.history['val_loss']\n",
        "epochs = range(1, len(loss)+1)\n",
        "plt.figure()\n",
        "plt.plot(epochs, loss, label='Training loss')\n",
        "# plt.plot(epochs, val_loss, label='Validation loss')\n",
        "plt.title('Training and Valdation loss')\n",
        "plt.legend()\n",
        "plt.show()  "
      ],
      "execution_count": 27,
      "outputs": [
        {
          "output_type": "display_data",
          "data": {
            "image/png": "[encoded data removed]",
            "text/plain": [
              "<Figure size 432x288 with 1 Axes>"
            ]
          },
          "metadata": {
            "tags": [],
            "needs_background": "light"
          }
        }
      ]
    },
    {
      "cell_type": "code",
      "metadata": {
        "colab": {
          "base_uri": "https://localhost:8080/"
        },
        "id": "oGKtib-nYMR6",
        "outputId": "9aaf78f4-ee1b-470d-9048-f15be446093c"
      },
      "source": [
        "## LSTM\n",
        "x_train=x_train.reshape(-1,1,24)\n",
        "x_test=x_test.reshape(-1,1,24)\n",
        "from tensorflow.keras.models import Sequential\n",
        "from tensorflow.keras.layers import Dense,GRU,LSTM\n",
        "model=Sequential()\n",
        "model.add(LSTM(32, input_shape=(1,24)))\n",
        "model.add(Dense(1))\n",
        "model.compile(optimizer='rmsprop', loss='mse',metrics=['mae'])\n",
        "history = model.fit(x_train,y_train,epochs=30,batch_size=32)\n",
        "loss_acc=model.evaluate(x_train,y_train)\n",
        "los_test=model.evaluate(x_test,y_test)\n",
        "print(loss_acc)\n",
        "print(los_test)"
      ],
      "execution_count": 24,
      "outputs": [
        {
          "output_type": "stream",
          "text": [
            "Epoch 1/30\n",
            "7/7 [==============================] - 2s 4ms/step - loss: 3.5226e-04 - mae: 0.0136\n",
            "Epoch 2/30\n",
            "7/7 [==============================] - 0s 4ms/step - loss: 3.6565e-04 - mae: 0.0141\n",
            "Epoch 3/30\n",
            "7/7 [==============================] - 0s 4ms/step - loss: 3.5727e-04 - mae: 0.0143\n",
            "Epoch 4/30\n",
            "7/7 [==============================] - 0s 4ms/step - loss: 3.6042e-04 - mae: 0.0140\n",
            "Epoch 5/30\n",
            "7/7 [==============================] - 0s 4ms/step - loss: 3.6170e-04 - mae: 0.0138\n",
            "Epoch 6/30\n",
            "7/7 [==============================] - 0s 4ms/step - loss: 3.6126e-04 - mae: 0.0137\n",
            "Epoch 7/30\n",
            "7/7 [==============================] - 0s 4ms/step - loss: 3.7430e-04 - mae: 0.0150\n",
            "Epoch 8/30\n",
            "7/7 [==============================] - 0s 4ms/step - loss: 3.0999e-04 - mae: 0.0129\n",
            "Epoch 9/30\n",
            "7/7 [==============================] - 0s 4ms/step - loss: 2.8501e-04 - mae: 0.0126\n",
            "Epoch 10/30\n",
            "7/7 [==============================] - 0s 4ms/step - loss: 3.1328e-04 - mae: 0.0130\n",
            "Epoch 11/30\n",
            "7/7 [==============================] - 0s 4ms/step - loss: 3.0569e-04 - mae: 0.0129\n",
            "Epoch 12/30\n",
            "7/7 [==============================] - 0s 5ms/step - loss: 3.4087e-04 - mae: 0.0140\n",
            "Epoch 13/30\n",
            "7/7 [==============================] - 0s 4ms/step - loss: 3.3554e-04 - mae: 0.0141\n",
            "Epoch 14/30\n",
            "7/7 [==============================] - 0s 4ms/step - loss: 3.0900e-04 - mae: 0.0130\n",
            "Epoch 15/30\n",
            "7/7 [==============================] - 0s 4ms/step - loss: 2.9538e-04 - mae: 0.0132\n",
            "Epoch 16/30\n",
            "7/7 [==============================] - 0s 4ms/step - loss: 2.6913e-04 - mae: 0.0120\n",
            "Epoch 17/30\n",
            "7/7 [==============================] - 0s 4ms/step - loss: 2.8590e-04 - mae: 0.0127\n",
            "Epoch 18/30\n",
            "7/7 [==============================] - 0s 4ms/step - loss: 2.7983e-04 - mae: 0.0126\n",
            "Epoch 19/30\n",
            "7/7 [==============================] - 0s 4ms/step - loss: 3.0631e-04 - mae: 0.0133\n",
            "Epoch 20/30\n",
            "7/7 [==============================] - 0s 4ms/step - loss: 2.8874e-04 - mae: 0.0128\n",
            "Epoch 21/30\n",
            "7/7 [==============================] - 0s 4ms/step - loss: 2.7896e-04 - mae: 0.0125\n",
            "Epoch 22/30\n",
            "7/7 [==============================] - 0s 4ms/step - loss: 2.8238e-04 - mae: 0.0124\n",
            "Epoch 23/30\n",
            "7/7 [==============================] - 0s 4ms/step - loss: 2.9527e-04 - mae: 0.0128\n",
            "Epoch 24/30\n",
            "7/7 [==============================] - 0s 4ms/step - loss: 3.3779e-04 - mae: 0.0141\n",
            "Epoch 25/30\n",
            "7/7 [==============================] - 0s 4ms/step - loss: 3.1215e-04 - mae: 0.0130\n",
            "Epoch 26/30\n",
            "7/7 [==============================] - 0s 4ms/step - loss: 2.6298e-04 - mae: 0.0122\n",
            "Epoch 27/30\n",
            "7/7 [==============================] - 0s 4ms/step - loss: 2.9202e-04 - mae: 0.0126\n",
            "Epoch 28/30\n",
            "7/7 [==============================] - 0s 4ms/step - loss: 2.2437e-04 - mae: 0.0114\n",
            "Epoch 29/30\n",
            "7/7 [==============================] - 0s 4ms/step - loss: 2.9123e-04 - mae: 0.0127\n",
            "Epoch 30/30\n",
            "7/7 [==============================] - 0s 4ms/step - loss: 3.0618e-04 - mae: 0.0132\n",
            "7/7 [==============================] - 0s 3ms/step - loss: 2.9647e-04 - mae: 0.0129\n",
            "1/1 [==============================] - 0s 18ms/step - loss: 1.5516e-04 - mae: 0.0100\n",
            "[0.00029646570328623056, 0.012877642177045345]\n",
            "[0.00015516087296418846, 0.009992812760174274]\n"
          ],
          "name": "stdout"
        }
      ]
    },
    {
      "cell_type": "code",
      "metadata": {
        "colab": {
          "base_uri": "https://localhost:8080/",
          "height": 279
        },
        "id": "Lw0yaPQhjVUS",
        "outputId": "6decc974-f9fe-4efa-bfe5-9047f33eadeb"
      },
      "source": [
        "loss = history.history['loss']\n",
        "# val_loss = history.history['val_loss']\n",
        "epochs = range(1, len(loss)+1)\n",
        "plt.figure()\n",
        "plt.plot(epochs, loss, label='Training loss')\n",
        "# plt.plot(epochs, val_loss, label='Validation loss')\n",
        "plt.title('Training and Valdation loss')\n",
        "plt.legend()\n",
        "plt.show()  "
      ],
      "execution_count": 25,
      "outputs": [
        {
          "output_type": "display_data",
          "data": {
            "image/png": "[encoded data removed]",
            "text/plain": [
              "<Figure size 432x288 with 1 Axes>"
            ]
          },
          "metadata": {
            "tags": [],
            "needs_background": "light"
          }
        }
      ]
    },
    {
      "cell_type": "code",
      "metadata": {
        "colab": {
          "base_uri": "https://localhost:8080/"
        },
        "id": "HfHuvCcfbCne",
        "outputId": "2b6adc41-894d-4a4d-8ce9-96d816c8f752"
      },
      "source": [
        "# GRU\n",
        "model=Sequential()\n",
        "model.add(GRU(32, input_shape=(1,24)))\n",
        "model.add(Dense(1))\n",
        "model.compile(optimizer='rmsprop', loss='mse',metrics=['mae'])\n",
        "model.fit(x_train,y_train,epochs=30,batch_size=32)\n",
        "loss_acc=model.evaluate(x_train,y_train)\n",
        "los_test=model.evaluate(x_test,y_test)\n",
        "print(loss_acc)\n",
        "print(los_test)"
      ],
      "execution_count": 23,
      "outputs": [
        {
          "output_type": "stream",
          "text": [
            "Epoch 1/30\n",
            "7/7 [==============================] - 2s 4ms/step - loss: 4.1148e-04 - mae: 0.0156\n",
            "Epoch 2/30\n",
            "7/7 [==============================] - 0s 4ms/step - loss: 3.3262e-04 - mae: 0.0140\n",
            "Epoch 3/30\n",
            "7/7 [==============================] - 0s 4ms/step - loss: 3.9577e-04 - mae: 0.0153\n",
            "Epoch 4/30\n",
            "7/7 [==============================] - 0s 4ms/step - loss: 3.7307e-04 - mae: 0.0150\n",
            "Epoch 5/30\n",
            "7/7 [==============================] - 0s 4ms/step - loss: 2.9075e-04 - mae: 0.0127\n",
            "Epoch 6/30\n",
            "7/7 [==============================] - 0s 4ms/step - loss: 3.6630e-04 - mae: 0.0144\n",
            "Epoch 7/30\n",
            "7/7 [==============================] - 0s 4ms/step - loss: 3.5418e-04 - mae: 0.0137\n",
            "Epoch 8/30\n",
            "7/7 [==============================] - 0s 4ms/step - loss: 3.2571e-04 - mae: 0.0134\n",
            "Epoch 9/30\n",
            "7/7 [==============================] - 0s 4ms/step - loss: 3.1203e-04 - mae: 0.0134\n",
            "Epoch 10/30\n",
            "7/7 [==============================] - 0s 4ms/step - loss: 3.2833e-04 - mae: 0.0136\n",
            "Epoch 11/30\n",
            "7/7 [==============================] - 0s 4ms/step - loss: 3.4712e-04 - mae: 0.0137\n",
            "Epoch 12/30\n",
            "7/7 [==============================] - 0s 4ms/step - loss: 2.9609e-04 - mae: 0.0129\n",
            "Epoch 13/30\n",
            "7/7 [==============================] - 0s 4ms/step - loss: 3.6371e-04 - mae: 0.0151\n",
            "Epoch 14/30\n",
            "7/7 [==============================] - 0s 4ms/step - loss: 2.8709e-04 - mae: 0.0126\n",
            "Epoch 15/30\n",
            "7/7 [==============================] - 0s 5ms/step - loss: 3.0284e-04 - mae: 0.0131\n",
            "Epoch 16/30\n",
            "7/7 [==============================] - 0s 4ms/step - loss: 3.0438e-04 - mae: 0.0131\n",
            "Epoch 17/30\n",
            "7/7 [==============================] - 0s 4ms/step - loss: 3.4862e-04 - mae: 0.0150\n",
            "Epoch 18/30\n",
            "7/7 [==============================] - 0s 4ms/step - loss: 3.4093e-04 - mae: 0.0138\n",
            "Epoch 19/30\n",
            "7/7 [==============================] - 0s 4ms/step - loss: 3.0198e-04 - mae: 0.0132\n",
            "Epoch 20/30\n",
            "7/7 [==============================] - 0s 4ms/step - loss: 3.0070e-04 - mae: 0.0127\n",
            "Epoch 21/30\n",
            "7/7 [==============================] - 0s 4ms/step - loss: 3.4998e-04 - mae: 0.0142\n",
            "Epoch 22/30\n",
            "7/7 [==============================] - 0s 4ms/step - loss: 3.2459e-04 - mae: 0.0132\n",
            "Epoch 23/30\n",
            "7/7 [==============================] - 0s 4ms/step - loss: 2.9963e-04 - mae: 0.0131\n",
            "Epoch 24/30\n",
            "7/7 [==============================] - 0s 4ms/step - loss: 3.0606e-04 - mae: 0.0130\n",
            "Epoch 25/30\n",
            "7/7 [==============================] - 0s 4ms/step - loss: 2.9068e-04 - mae: 0.0131\n",
            "Epoch 26/30\n",
            "7/7 [==============================] - 0s 5ms/step - loss: 2.7068e-04 - mae: 0.0126\n",
            "Epoch 27/30\n",
            "7/7 [==============================] - 0s 4ms/step - loss: 3.0531e-04 - mae: 0.0134\n",
            "Epoch 28/30\n",
            "7/7 [==============================] - 0s 4ms/step - loss: 2.8157e-04 - mae: 0.0132\n",
            "Epoch 29/30\n",
            "7/7 [==============================] - 0s 4ms/step - loss: 3.7755e-04 - mae: 0.0149\n",
            "Epoch 30/30\n",
            "7/7 [==============================] - 0s 4ms/step - loss: 3.0275e-04 - mae: 0.0130\n",
            "7/7 [==============================] - 0s 3ms/step - loss: 2.9513e-04 - mae: 0.0128\n",
            "1/1 [==============================] - 0s 19ms/step - loss: 1.6651e-04 - mae: 0.0103\n",
            "[0.00029513463960029185, 0.012833264656364918]\n",
            "[0.0001665068994043395, 0.010262292809784412]\n"
          ],
          "name": "stdout"
        }
      ]
    },
    {
      "cell_type": "code",
      "metadata": {
        "id": "Mu2NPwoAbCll"
      },
      "source": [
        ""
      ],
      "execution_count": null,
      "outputs": []
    },
    {
      "cell_type": "code",
      "metadata": {
        "id": "fDLiRYhtbCby"
      },
      "source": [
        ""
      ],
      "execution_count": null,
      "outputs": []
    },
    {
      "cell_type": "code",
      "metadata": {
        "id": "HlPODRQZbCY4"
      },
      "source": [
        ""
      ],
      "execution_count": null,
      "outputs": []
    },
    {
      "cell_type": "code",
      "metadata": {
        "id": "iRDI5O9dbCWk"
      },
      "source": [
        ""
      ],
      "execution_count": null,
      "outputs": []
    },
    {
      "cell_type": "code",
      "metadata": {
        "id": "riLV9XTNbCTz"
      },
      "source": [
        ""
      ],
      "execution_count": null,
      "outputs": []
    },
    {
      "cell_type": "code",
      "metadata": {
        "id": "ANSRck7MbCQ7"
      },
      "source": [
        ""
      ],
      "execution_count": null,
      "outputs": []
    }
  ]
}
