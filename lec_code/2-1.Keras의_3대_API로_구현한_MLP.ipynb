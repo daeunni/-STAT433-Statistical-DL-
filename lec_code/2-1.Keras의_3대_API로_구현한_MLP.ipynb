{
  "nbformat": 4,
  "nbformat_minor": 0,
  "metadata": {
    "colab": {
      "name": "2-1. Keras의 3대 API로 구현한 MLP.ipynb",
      "provenance": [],
      "collapsed_sections": [],
      "machine_shape": "hm"
    },
    "kernelspec": {
      "name": "python3",
      "display_name": "Python 3"
    },
    "language_info": {
      "name": "python"
    },
    "accelerator": "GPU"
  },
  "cells": [
    {
      "cell_type": "markdown",
      "metadata": {
        "id": "_XcYm5t7Czj_"
      },
      "source": [
        "# **2-1. Keras의 3대 API** - MLP\n",
        "\n",
        "- **Sequential API** : input부터 output까지 일렬로 설계\n",
        "- **Functional API** : 함수처럼 순서에 상관없이 연결\n",
        "- **Subclassing API** : 맞춤형 모형 설계시 이용\n",
        "\n",
        "> 가장 간단한 MNIST 로 MLP, CNN, RNN을 세가지 API로 구현해보자"
      ]
    },
    {
      "cell_type": "code",
      "metadata": {
        "colab": {
          "base_uri": "https://localhost:8080/"
        },
        "id": "UewvanEKW7Pc",
        "outputId": "60bd4664-fd50-4491-c8e4-696886e6bb15"
      },
      "source": [
        "import numpy as np\n",
        "from tensorflow.keras.datasets import mnist\n",
        "import matplotlib.pyplot as plt\n",
        "(x_train,y_train),(x_test,y_test)=mnist.load_data()  # array 형태\n",
        "print(x_train.shape)\n",
        "print(x_test.shape)  # 28*28 픽셀의 데이터\n",
        "print(y_train.shape)\n",
        "print(y_test.shape)"
      ],
      "execution_count": 113,
      "outputs": [
        {
          "output_type": "stream",
          "text": [
            "(60000, 28, 28)\n",
            "(10000, 28, 28)\n",
            "(60000,)\n",
            "(10000,)\n"
          ],
          "name": "stdout"
        }
      ]
    },
    {
      "cell_type": "code",
      "metadata": {
        "id": "r7vS2WpnBK8x",
        "colab": {
          "base_uri": "https://localhost:8080/"
        },
        "outputId": "4dde3a74-27ac-4998-d8fa-d1c0d6db09f0"
      },
      "source": [
        "x_train[1]  # 28*28개의 픽셀"
      ],
      "execution_count": null,
      "outputs": [
        {
          "output_type": "execute_result",
          "data": {
            "text/plain": [
              "array([[  0,   0,   0,   0,   0,   0,   0,   0,   0,   0,   0,   0,   0,\n",
              "          0,   0,   0,   0,   0,   0,   0,   0,   0,   0,   0,   0,   0,\n",
              "          0,   0],\n",
              "       [  0,   0,   0,   0,   0,   0,   0,   0,   0,   0,   0,   0,   0,\n",
              "          0,   0,   0,   0,   0,   0,   0,   0,   0,   0,   0,   0,   0,\n",
              "          0,   0],\n",
              "       [  0,   0,   0,   0,   0,   0,   0,   0,   0,   0,   0,   0,   0,\n",
              "          0,   0,   0,   0,   0,   0,   0,   0,   0,   0,   0,   0,   0,\n",
              "          0,   0],\n",
              "       [  0,   0,   0,   0,   0,   0,   0,   0,   0,   0,   0,   0,   0,\n",
              "          0,   0,   0,   0,   0,   0,   0,   0,   0,   0,   0,   0,   0,\n",
              "          0,   0],\n",
              "       [  0,   0,   0,   0,   0,   0,   0,   0,   0,   0,   0,   0,   0,\n",
              "          0,   0,  51, 159, 253, 159,  50,   0,   0,   0,   0,   0,   0,\n",
              "          0,   0],\n",
              "       [  0,   0,   0,   0,   0,   0,   0,   0,   0,   0,   0,   0,   0,\n",
              "          0,  48, 238, 252, 252, 252, 237,   0,   0,   0,   0,   0,   0,\n",
              "          0,   0],\n",
              "       [  0,   0,   0,   0,   0,   0,   0,   0,   0,   0,   0,   0,   0,\n",
              "         54, 227, 253, 252, 239, 233, 252,  57,   6,   0,   0,   0,   0,\n",
              "          0,   0],\n",
              "       [  0,   0,   0,   0,   0,   0,   0,   0,   0,   0,   0,  10,  60,\n",
              "        224, 252, 253, 252, 202,  84, 252, 253, 122,   0,   0,   0,   0,\n",
              "          0,   0],\n",
              "       [  0,   0,   0,   0,   0,   0,   0,   0,   0,   0,   0, 163, 252,\n",
              "        252, 252, 253, 252, 252,  96, 189, 253, 167,   0,   0,   0,   0,\n",
              "          0,   0],\n",
              "       [  0,   0,   0,   0,   0,   0,   0,   0,   0,   0,  51, 238, 253,\n",
              "        253, 190, 114, 253, 228,  47,  79, 255, 168,   0,   0,   0,   0,\n",
              "          0,   0],\n",
              "       [  0,   0,   0,   0,   0,   0,   0,   0,   0,  48, 238, 252, 252,\n",
              "        179,  12,  75, 121,  21,   0,   0, 253, 243,  50,   0,   0,   0,\n",
              "          0,   0],\n",
              "       [  0,   0,   0,   0,   0,   0,   0,   0,  38, 165, 253, 233, 208,\n",
              "         84,   0,   0,   0,   0,   0,   0, 253, 252, 165,   0,   0,   0,\n",
              "          0,   0],\n",
              "       [  0,   0,   0,   0,   0,   0,   0,   7, 178, 252, 240,  71,  19,\n",
              "         28,   0,   0,   0,   0,   0,   0, 253, 252, 195,   0,   0,   0,\n",
              "          0,   0],\n",
              "       [  0,   0,   0,   0,   0,   0,   0,  57, 252, 252,  63,   0,   0,\n",
              "          0,   0,   0,   0,   0,   0,   0, 253, 252, 195,   0,   0,   0,\n",
              "          0,   0],\n",
              "       [  0,   0,   0,   0,   0,   0,   0, 198, 253, 190,   0,   0,   0,\n",
              "          0,   0,   0,   0,   0,   0,   0, 255, 253, 196,   0,   0,   0,\n",
              "          0,   0],\n",
              "       [  0,   0,   0,   0,   0,   0,  76, 246, 252, 112,   0,   0,   0,\n",
              "          0,   0,   0,   0,   0,   0,   0, 253, 252, 148,   0,   0,   0,\n",
              "          0,   0],\n",
              "       [  0,   0,   0,   0,   0,   0,  85, 252, 230,  25,   0,   0,   0,\n",
              "          0,   0,   0,   0,   0,   7, 135, 253, 186,  12,   0,   0,   0,\n",
              "          0,   0],\n",
              "       [  0,   0,   0,   0,   0,   0,  85, 252, 223,   0,   0,   0,   0,\n",
              "          0,   0,   0,   0,   7, 131, 252, 225,  71,   0,   0,   0,   0,\n",
              "          0,   0],\n",
              "       [  0,   0,   0,   0,   0,   0,  85, 252, 145,   0,   0,   0,   0,\n",
              "          0,   0,   0,  48, 165, 252, 173,   0,   0,   0,   0,   0,   0,\n",
              "          0,   0],\n",
              "       [  0,   0,   0,   0,   0,   0,  86, 253, 225,   0,   0,   0,   0,\n",
              "          0,   0, 114, 238, 253, 162,   0,   0,   0,   0,   0,   0,   0,\n",
              "          0,   0],\n",
              "       [  0,   0,   0,   0,   0,   0,  85, 252, 249, 146,  48,  29,  85,\n",
              "        178, 225, 253, 223, 167,  56,   0,   0,   0,   0,   0,   0,   0,\n",
              "          0,   0],\n",
              "       [  0,   0,   0,   0,   0,   0,  85, 252, 252, 252, 229, 215, 252,\n",
              "        252, 252, 196, 130,   0,   0,   0,   0,   0,   0,   0,   0,   0,\n",
              "          0,   0],\n",
              "       [  0,   0,   0,   0,   0,   0,  28, 199, 252, 252, 253, 252, 252,\n",
              "        233, 145,   0,   0,   0,   0,   0,   0,   0,   0,   0,   0,   0,\n",
              "          0,   0],\n",
              "       [  0,   0,   0,   0,   0,   0,   0,  25, 128, 252, 253, 252, 141,\n",
              "         37,   0,   0,   0,   0,   0,   0,   0,   0,   0,   0,   0,   0,\n",
              "          0,   0],\n",
              "       [  0,   0,   0,   0,   0,   0,   0,   0,   0,   0,   0,   0,   0,\n",
              "          0,   0,   0,   0,   0,   0,   0,   0,   0,   0,   0,   0,   0,\n",
              "          0,   0],\n",
              "       [  0,   0,   0,   0,   0,   0,   0,   0,   0,   0,   0,   0,   0,\n",
              "          0,   0,   0,   0,   0,   0,   0,   0,   0,   0,   0,   0,   0,\n",
              "          0,   0],\n",
              "       [  0,   0,   0,   0,   0,   0,   0,   0,   0,   0,   0,   0,   0,\n",
              "          0,   0,   0,   0,   0,   0,   0,   0,   0,   0,   0,   0,   0,\n",
              "          0,   0],\n",
              "       [  0,   0,   0,   0,   0,   0,   0,   0,   0,   0,   0,   0,   0,\n",
              "          0,   0,   0,   0,   0,   0,   0,   0,   0,   0,   0,   0,   0,\n",
              "          0,   0]], dtype=uint8)"
            ]
          },
          "metadata": {
            "tags": []
          },
          "execution_count": 90
        }
      ]
    },
    {
      "cell_type": "code",
      "metadata": {
        "id": "0YAdjLzlBK6I",
        "colab": {
          "base_uri": "https://localhost:8080/"
        },
        "outputId": "8a80a5ea-af95-429f-ce02-b51870911b00"
      },
      "source": [
        "y_test   # y는 label"
      ],
      "execution_count": null,
      "outputs": [
        {
          "output_type": "execute_result",
          "data": {
            "text/plain": [
              "array([7, 2, 1, ..., 4, 5, 6], dtype=uint8)"
            ]
          },
          "metadata": {
            "tags": []
          },
          "execution_count": 91
        }
      ]
    },
    {
      "cell_type": "markdown",
      "metadata": {
        "id": "kkeYUxBrPwqM"
      },
      "source": [
        "### MLP\n",
        "\n",
        "- MNIST는 3D tensor로 구성되어있지만, MLP 적용을 위해 <U>2D tensor로 reshape</U>한다"
      ]
    },
    {
      "cell_type": "code",
      "metadata": {
        "id": "EADKzX6tBK4F",
        "colab": {
          "base_uri": "https://localhost:8080/"
        },
        "outputId": "e4d61f18-693e-40bc-95aa-d78cac3fc5b6"
      },
      "source": [
        "# preprocessing\n",
        "from tensorflow.keras.utils import to_categorical, plot_model\n",
        "num_features = 784  # 픽셀 수(28*28개)\n",
        "\n",
        "# 3d tensor의 mlp 적용을 위한 reshape\n",
        "x_train = x_train.reshape(-1, num_features).astype('float32') # -1이 알아서 맞춰줌(원래 6만이 들어갈것임)\n",
        "x_test = x_test.reshape(-1, num_features).astype('float32')\n",
        "print(x_train.shape, x_test.shape)\n",
        "\n",
        "# Activation func 적용을 위해 0과 1사이로 standardization\n",
        "x_train = x_train/255\n",
        "x_test = x_test/255   # 0자리를 빼고 255으로 나눈다!\n",
        "\n",
        "y_train = to_categorical(y_train)\n",
        "y_test = to_categorical(y_test)\n",
        "num_class = y_train.shape[1]\n",
        "\n",
        "print(y_train.shape, y_test.shape)"
      ],
      "execution_count": 114,
      "outputs": [
        {
          "output_type": "stream",
          "text": [
            "(60000, 784) (10000, 784)\n",
            "(60000, 10) (10000, 10)\n"
          ],
          "name": "stdout"
        }
      ]
    },
    {
      "cell_type": "markdown",
      "metadata": {
        "id": "pKoPSnjxZhZY"
      },
      "source": [
        "###  Sequential API  "
      ]
    },
    {
      "cell_type": "code",
      "metadata": {
        "id": "Ww3EicFZBK1W",
        "colab": {
          "base_uri": "https://localhost:8080/",
          "height": 1000
        },
        "outputId": "fdeadc43-b12c-47e3-cdb8-1324fb205599"
      },
      "source": [
        "from tensorflow.keras.models import Sequential\n",
        "from tensorflow.keras.layers import Dense, Activation, Dropout\n",
        "\n",
        "model = Sequential()\n",
        "# 입력층\n",
        "model.add(Dense(256, input_dim = num_features))  # 모수 : (784+1) * 256 = 200960개 (노드수를 256개로 설정)\n",
        "model.add(Activation('relu'))\n",
        "model.add(Dropout(0.45))   # 55%만 전달\n",
        "\n",
        "# 은닉층\n",
        "model.add(Dense(256))  # (256+1) * 256 = 65792개\n",
        "model.add(Activation('relu'))\n",
        "\n",
        "# 출력층 \n",
        "model.add(Dense(num_class, activation='softmax'))  # class 개수만큼 출력 (256+1)*10= 2570개softmax')) \n",
        "# 여기 activation에 sigmoid가 들어가면 뒤에 loss function이 binary crossentropy가 들어가야함!\n",
        "\n",
        "model.summary()\n",
        "plot_model(model, show_shapes=True)\n",
        "\n",
        "### 여기서 마지막에 출력된 2570개의 모수가 진짜 모수이고, 나머지는 매개변수임. "
      ],
      "execution_count": null,
      "outputs": [
        {
          "output_type": "stream",
          "text": [
            "Model: \"sequential_8\"\n",
            "_________________________________________________________________\n",
            "Layer (type)                 Output Shape              Param #   \n",
            "=================================================================\n",
            "dense_22 (Dense)             (None, 256)               200960    \n",
            "_________________________________________________________________\n",
            "activation_14 (Activation)   (None, 256)               0         \n",
            "_________________________________________________________________\n",
            "dropout_8 (Dropout)          (None, 256)               0         \n",
            "_________________________________________________________________\n",
            "dense_23 (Dense)             (None, 256)               65792     \n",
            "_________________________________________________________________\n",
            "activation_15 (Activation)   (None, 256)               0         \n",
            "_________________________________________________________________\n",
            "dense_24 (Dense)             (None, 10)                2570      \n",
            "=================================================================\n",
            "Total params: 269,322\n",
            "Trainable params: 269,322\n",
            "Non-trainable params: 0\n",
            "_________________________________________________________________\n"
          ],
          "name": "stdout"
        },
        {
          "output_type": "execute_result",
          "data": {
            "image/png": "[encoded data removed]",
            "text/plain": [
              "<IPython.core.display.Image object>"
            ]
          },
          "metadata": {
            "tags": []
          },
          "execution_count": 93
        }
      ]
    },
    {
      "cell_type": "code",
      "metadata": {
        "id": "yjz0XEfmBKy1",
        "colab": {
          "base_uri": "https://localhost:8080/"
        },
        "outputId": "d8d6dabe-b554-4ca4-80a9-ad0970ecba27"
      },
      "source": [
        "# valid data 생성\n",
        "x_val=x_train[:10000]  # valid data 만듦\n",
        "partial_x_train=x_train[10000:]\n",
        "\n",
        "y_val=y_train[:10000]\n",
        "partial_y_train = y_train[10000:]\n",
        "\n",
        "print(partial_x_train.shape)\n",
        "print(partial_y_train.shape)"
      ],
      "execution_count": null,
      "outputs": [
        {
          "output_type": "stream",
          "text": [
            "(50000, 784)\n",
            "(50000, 10)\n"
          ],
          "name": "stdout"
        }
      ]
    },
    {
      "cell_type": "code",
      "metadata": {
        "id": "qvTJOeH_3dqX",
        "colab": {
          "base_uri": "https://localhost:8080/"
        },
        "outputId": "d70ddcfd-a6d9-47bb-9ff6-4787eaa33fe0"
      },
      "source": [
        "# compile\n",
        "model.compile(loss='categorical_crossentropy',optimizer='adam', metrics=['accuracy']) \n",
        "history=model.fit(partial_x_train, partial_y_train, epochs=10, batch_size=64,validation_data=(x_val,y_val))\n",
        "history_out=history.history  # history를 history_out에 저장함\n",
        "history_out.keys() "
      ],
      "execution_count": null,
      "outputs": [
        {
          "output_type": "stream",
          "text": [
            "Epoch 1/10\n",
            "782/782 [==============================] - 3s 3ms/step - loss: 0.5598 - accuracy: 0.8303 - val_loss: 0.1356 - val_accuracy: 0.9594\n",
            "Epoch 2/10\n",
            "782/782 [==============================] - 2s 3ms/step - loss: 0.1742 - accuracy: 0.9461 - val_loss: 0.1061 - val_accuracy: 0.9685\n",
            "Epoch 3/10\n",
            "782/782 [==============================] - 2s 3ms/step - loss: 0.1330 - accuracy: 0.9584 - val_loss: 0.0881 - val_accuracy: 0.9733\n",
            "Epoch 4/10\n",
            "782/782 [==============================] - 2s 3ms/step - loss: 0.1143 - accuracy: 0.9630 - val_loss: 0.0869 - val_accuracy: 0.9744\n",
            "Epoch 5/10\n",
            "782/782 [==============================] - 2s 3ms/step - loss: 0.0975 - accuracy: 0.9686 - val_loss: 0.0840 - val_accuracy: 0.9758\n",
            "Epoch 6/10\n",
            "782/782 [==============================] - 2s 3ms/step - loss: 0.0845 - accuracy: 0.9734 - val_loss: 0.0842 - val_accuracy: 0.9754\n",
            "Epoch 7/10\n",
            "782/782 [==============================] - 2s 3ms/step - loss: 0.0836 - accuracy: 0.9730 - val_loss: 0.0713 - val_accuracy: 0.9789\n",
            "Epoch 8/10\n",
            "782/782 [==============================] - 2s 3ms/step - loss: 0.0722 - accuracy: 0.9759 - val_loss: 0.0710 - val_accuracy: 0.9786\n",
            "Epoch 9/10\n",
            "782/782 [==============================] - 2s 3ms/step - loss: 0.0675 - accuracy: 0.9782 - val_loss: 0.0741 - val_accuracy: 0.9795\n",
            "Epoch 10/10\n",
            "782/782 [==============================] - 2s 3ms/step - loss: 0.0630 - accuracy: 0.9791 - val_loss: 0.0775 - val_accuracy: 0.9797\n"
          ],
          "name": "stdout"
        },
        {
          "output_type": "execute_result",
          "data": {
            "text/plain": [
              "dict_keys(['loss', 'accuracy', 'val_loss', 'val_accuracy'])"
            ]
          },
          "metadata": {
            "tags": []
          },
          "execution_count": 95
        }
      ]
    },
    {
      "cell_type": "code",
      "metadata": {
        "colab": {
          "base_uri": "https://localhost:8080/"
        },
        "id": "_CQsaMjfeEaU",
        "outputId": "5b330a30-830c-4da5-ab8b-fbe0641f5281"
      },
      "source": [
        "history_out"
      ],
      "execution_count": null,
      "outputs": [
        {
          "output_type": "execute_result",
          "data": {
            "text/plain": [
              "{'accuracy': [0.8993200063705444,\n",
              "  0.9480000138282776,\n",
              "  0.958079993724823,\n",
              "  0.9631999731063843,\n",
              "  0.9686200022697449,\n",
              "  0.9718400239944458,\n",
              "  0.9731000065803528,\n",
              "  0.9748600125312805,\n",
              "  0.9772999882698059,\n",
              "  0.97816002368927],\n",
              " 'loss': [0.3338024616241455,\n",
              "  0.1690685749053955,\n",
              "  0.13417203724384308,\n",
              "  0.11466395854949951,\n",
              "  0.0984668955206871,\n",
              "  0.08666115999221802,\n",
              "  0.08355766534805298,\n",
              "  0.07645799964666367,\n",
              "  0.06952379643917084,\n",
              "  0.06526368856430054],\n",
              " 'val_accuracy': [0.9593999981880188,\n",
              "  0.968500018119812,\n",
              "  0.9732999801635742,\n",
              "  0.974399983882904,\n",
              "  0.9757999777793884,\n",
              "  0.9753999710083008,\n",
              "  0.9789000153541565,\n",
              "  0.978600025177002,\n",
              "  0.9794999957084656,\n",
              "  0.9797000288963318],\n",
              " 'val_loss': [0.13563711941242218,\n",
              "  0.10606862604618073,\n",
              "  0.08811026811599731,\n",
              "  0.08691809326410294,\n",
              "  0.08403810113668442,\n",
              "  0.08423633128404617,\n",
              "  0.07134938985109329,\n",
              "  0.07104003429412842,\n",
              "  0.07412435859441757,\n",
              "  0.07752126455307007]}"
            ]
          },
          "metadata": {
            "tags": []
          },
          "execution_count": 96
        }
      ]
    },
    {
      "cell_type": "code",
      "metadata": {
        "id": "VrKLSdXI3dns",
        "colab": {
          "base_uri": "https://localhost:8080/",
          "height": 295
        },
        "outputId": "86b85687-dbc7-47db-ff96-dc6a76f14306"
      },
      "source": [
        "# history out에 모두 기록됨. 이걸로 plotting 가능!\n",
        "\n",
        "import matplotlib.pyplot as plt  \n",
        "loss=history_out['loss']\n",
        "loss_val=history_out['val_loss']\n",
        "accuracy=history_out['accuracy']\n",
        "accuracy_val=history_out['val_accuracy']\n",
        "plt.plot(loss,'bo',label='training loss')\n",
        "plt.plot( loss_val,'b', label='validation loss' )\n",
        "plt.title('Training and validation losss')\n",
        "plt.xlabel('epochs')\n",
        "\n",
        "loss=history_out['loss']\n",
        "loss_val=history_out['val_loss']\n",
        "accuracy=history_out['accuracy']\n",
        "accuracy_val=history_out['val_accuracy']\n",
        "plt.plot(loss,'bo',label='training loss')\n",
        "plt.plot( loss_val,'b', label='validation loss' )\n",
        "plt.title('Training and validation losss')\n",
        "plt.xlabel('epochs')\n",
        "plt.ylabel('loss')\n",
        "plt.legend()\n",
        "plt.show()"
      ],
      "execution_count": null,
      "outputs": [
        {
          "output_type": "display_data",
          "data": {
            "image/png": "[encoded data removed]",
            "text/plain": [
              "<Figure size 432x288 with 1 Axes>"
            ]
          },
          "metadata": {
            "tags": [],
            "needs_background": "light"
          }
        }
      ]
    },
    {
      "cell_type": "code",
      "metadata": {
        "id": "ixkKRtEM3dlS",
        "colab": {
          "base_uri": "https://localhost:8080/",
          "height": 295
        },
        "outputId": "c0fd999d-4a93-4d85-ed97-8d0ecea18106"
      },
      "source": [
        "plt.clf()\n",
        "plt.plot(accuracy,'bo',label='training accuracy')\n",
        "plt.plot(accuracy_val,'b', label='validation accuracy' )\n",
        "plt.title('Training and validation accuracy')\n",
        "plt.xlabel('epochs')\n",
        "plt.ylabel('accuracy')\n",
        "plt.legend()\n",
        "plt.show()"
      ],
      "execution_count": null,
      "outputs": [
        {
          "output_type": "display_data",
          "data": {
            "image/png": "[encoded data removed]",
            "text/plain": [
              "<Figure size 432x288 with 1 Axes>"
            ]
          },
          "metadata": {
            "tags": [],
            "needs_background": "light"
          }
        }
      ]
    },
    {
      "cell_type": "code",
      "metadata": {
        "id": "NifhdM-u3dat",
        "colab": {
          "base_uri": "https://localhost:8080/"
        },
        "outputId": "c7c91bd7-371a-49a1-ffef-c0aad6c476ea"
      },
      "source": [
        "# valid로 계산했으면, 이제 전체 train data에 fitting 하기!\n",
        "model.compile(loss='categorical_crossentropy',optimizer='adam', metrics=['accuracy'])\n",
        "model.fit(x_train,y_train,epochs=30,batch_size=64)  # partial 말고 본격적으로 트레이닝"
      ],
      "execution_count": null,
      "outputs": [
        {
          "output_type": "stream",
          "text": [
            "Epoch 1/30\n",
            "938/938 [==============================] - 3s 2ms/step - loss: 0.0677 - accuracy: 0.9786\n",
            "Epoch 2/30\n",
            "938/938 [==============================] - 2s 2ms/step - loss: 0.0610 - accuracy: 0.9799\n",
            "Epoch 3/30\n",
            "938/938 [==============================] - 2s 2ms/step - loss: 0.0637 - accuracy: 0.9799\n",
            "Epoch 4/30\n",
            "938/938 [==============================] - 2s 2ms/step - loss: 0.0584 - accuracy: 0.9810\n",
            "Epoch 5/30\n",
            "938/938 [==============================] - 2s 2ms/step - loss: 0.0557 - accuracy: 0.9823\n",
            "Epoch 6/30\n",
            "938/938 [==============================] - 2s 2ms/step - loss: 0.0519 - accuracy: 0.9829\n",
            "Epoch 7/30\n",
            "938/938 [==============================] - 2s 2ms/step - loss: 0.0502 - accuracy: 0.9837\n",
            "Epoch 8/30\n",
            "938/938 [==============================] - 2s 2ms/step - loss: 0.0488 - accuracy: 0.9831\n",
            "Epoch 9/30\n",
            "938/938 [==============================] - 2s 2ms/step - loss: 0.0450 - accuracy: 0.9848\n",
            "Epoch 10/30\n",
            "938/938 [==============================] - 2s 2ms/step - loss: 0.0408 - accuracy: 0.9863\n",
            "Epoch 11/30\n",
            "938/938 [==============================] - 2s 2ms/step - loss: 0.0440 - accuracy: 0.9853\n",
            "Epoch 12/30\n",
            "938/938 [==============================] - 2s 2ms/step - loss: 0.0435 - accuracy: 0.9857\n",
            "Epoch 13/30\n",
            "938/938 [==============================] - 2s 2ms/step - loss: 0.0456 - accuracy: 0.9847\n",
            "Epoch 14/30\n",
            "938/938 [==============================] - 2s 2ms/step - loss: 0.0399 - accuracy: 0.9863\n",
            "Epoch 15/30\n",
            "938/938 [==============================] - 2s 2ms/step - loss: 0.0395 - accuracy: 0.9871\n",
            "Epoch 16/30\n",
            "938/938 [==============================] - 2s 2ms/step - loss: 0.0381 - accuracy: 0.9876\n",
            "Epoch 17/30\n",
            "938/938 [==============================] - 2s 2ms/step - loss: 0.0346 - accuracy: 0.9888\n",
            "Epoch 18/30\n",
            "938/938 [==============================] - 2s 2ms/step - loss: 0.0375 - accuracy: 0.9878\n",
            "Epoch 19/30\n",
            "938/938 [==============================] - 2s 2ms/step - loss: 0.0330 - accuracy: 0.9887\n",
            "Epoch 20/30\n",
            "938/938 [==============================] - 2s 2ms/step - loss: 0.0381 - accuracy: 0.9872\n",
            "Epoch 21/30\n",
            "938/938 [==============================] - 2s 2ms/step - loss: 0.0364 - accuracy: 0.9884\n",
            "Epoch 22/30\n",
            "938/938 [==============================] - 2s 2ms/step - loss: 0.0344 - accuracy: 0.9885\n",
            "Epoch 23/30\n",
            "938/938 [==============================] - 2s 2ms/step - loss: 0.0325 - accuracy: 0.9889\n",
            "Epoch 24/30\n",
            "938/938 [==============================] - 2s 2ms/step - loss: 0.0315 - accuracy: 0.9894\n",
            "Epoch 25/30\n",
            "938/938 [==============================] - 2s 2ms/step - loss: 0.0340 - accuracy: 0.9894\n",
            "Epoch 26/30\n",
            "938/938 [==============================] - 2s 2ms/step - loss: 0.0314 - accuracy: 0.9898\n",
            "Epoch 27/30\n",
            "938/938 [==============================] - 2s 2ms/step - loss: 0.0311 - accuracy: 0.9893\n",
            "Epoch 28/30\n",
            "938/938 [==============================] - 2s 2ms/step - loss: 0.0315 - accuracy: 0.9901\n",
            "Epoch 29/30\n",
            "938/938 [==============================] - 2s 2ms/step - loss: 0.0336 - accuracy: 0.9892\n",
            "Epoch 30/30\n",
            "938/938 [==============================] - 2s 2ms/step - loss: 0.0293 - accuracy: 0.9906\n"
          ],
          "name": "stdout"
        },
        {
          "output_type": "execute_result",
          "data": {
            "text/plain": [
              "<tensorflow.python.keras.callbacks.History at 0x7fbcd24c9310>"
            ]
          },
          "metadata": {
            "tags": []
          },
          "execution_count": 99
        }
      ]
    },
    {
      "cell_type": "code",
      "metadata": {
        "colab": {
          "base_uri": "https://localhost:8080/"
        },
        "id": "Jb6duwTegeXg",
        "outputId": "ec6bc93f-4819-4710-8321-23d38ca1ab30"
      },
      "source": [
        "y_test"
      ],
      "execution_count": null,
      "outputs": [
        {
          "output_type": "execute_result",
          "data": {
            "text/plain": [
              "array([[0., 0., 0., ..., 1., 0., 0.],\n",
              "       [0., 0., 1., ..., 0., 0., 0.],\n",
              "       [0., 1., 0., ..., 0., 0., 0.],\n",
              "       ...,\n",
              "       [0., 0., 0., ..., 0., 0., 0.],\n",
              "       [0., 0., 0., ..., 0., 0., 0.],\n",
              "       [0., 0., 0., ..., 0., 0., 0.]], dtype=float32)"
            ]
          },
          "metadata": {
            "tags": []
          },
          "execution_count": 100
        }
      ]
    },
    {
      "cell_type": "code",
      "metadata": {
        "id": "3n6T0OaQ3dYF",
        "colab": {
          "base_uri": "https://localhost:8080/"
        },
        "outputId": "c382c3cc-5587-4343-e304-8a3785bbc511"
      },
      "source": [
        "# evaluate\n",
        "result_train=model.evaluate(x_train,y_train)\n",
        "result_test=model.evaluate(x_test, y_test)\n",
        "\n",
        "pred=model.predict(x_test)  "
      ],
      "execution_count": null,
      "outputs": [
        {
          "output_type": "stream",
          "text": [
            "1875/1875 [==============================] - 3s 1ms/step - loss: 0.0050 - accuracy: 0.9987\n",
            "313/313 [==============================] - 1s 2ms/step - loss: 0.0684 - accuracy: 0.9838\n"
          ],
          "name": "stdout"
        }
      ]
    },
    {
      "cell_type": "markdown",
      "metadata": {
        "id": "GbcRkeBxhzGf"
      },
      "source": [
        "### Functional API\n",
        "순서에 상관없이 함수처럼 자유롭게 사용"
      ]
    },
    {
      "cell_type": "code",
      "metadata": {
        "id": "AnwWkyqY3dVe"
      },
      "source": [
        "from tensorflow.keras.models import Model\n",
        "from tensorflow.keras.layers import Dense, Dropout, Input\n",
        "\n",
        "# 함수처럼 삽입되어있음!\n",
        "x = Input(shape=(num_features,))   # input layer을 반드시 정의하기\n",
        "h1 = Dense(256, activation='relu')(x)\n",
        "h1 = Dropout(0.45)(h1) \n",
        "\n",
        "h2 = Dense(256, activation='relu')(h1)\n",
        "out = Dense(num_class, activation='softmax')(h2)\n",
        "model = Model(inputs=x, outputs=out)  # 마지막에 model로 input과 output layer를 정의하기!"
      ],
      "execution_count": null,
      "outputs": []
    },
    {
      "cell_type": "code",
      "metadata": {
        "id": "i3bMIdXF3dTY",
        "colab": {
          "base_uri": "https://localhost:8080/"
        },
        "outputId": "1ca5a498-0129-443b-9daf-c1a7e7f61708"
      },
      "source": [
        "model.compile(loss = 'categorical_crossentropy', optimizer = 'adam', metrics=['acc'])\n",
        "model.fit(x_train,y_train,epochs=30,batch_size=64)"
      ],
      "execution_count": null,
      "outputs": [
        {
          "output_type": "stream",
          "text": [
            "Epoch 1/30\n",
            "938/938 [==============================] - 2s 2ms/step - loss: 0.5193 - acc: 0.8398\n",
            "Epoch 2/30\n",
            "938/938 [==============================] - 2s 2ms/step - loss: 0.1648 - acc: 0.9495\n",
            "Epoch 3/30\n",
            "938/938 [==============================] - 2s 2ms/step - loss: 0.1234 - acc: 0.9611\n",
            "Epoch 4/30\n",
            "938/938 [==============================] - 2s 2ms/step - loss: 0.1124 - acc: 0.9650\n",
            "Epoch 5/30\n",
            "938/938 [==============================] - 2s 2ms/step - loss: 0.0918 - acc: 0.9715\n",
            "Epoch 6/30\n",
            "938/938 [==============================] - 2s 2ms/step - loss: 0.0860 - acc: 0.9734\n",
            "Epoch 7/30\n",
            "938/938 [==============================] - 2s 2ms/step - loss: 0.0754 - acc: 0.9744\n",
            "Epoch 8/30\n",
            "938/938 [==============================] - 2s 2ms/step - loss: 0.0740 - acc: 0.9758\n",
            "Epoch 9/30\n",
            "938/938 [==============================] - 2s 2ms/step - loss: 0.0669 - acc: 0.9780\n",
            "Epoch 10/30\n",
            "938/938 [==============================] - 2s 2ms/step - loss: 0.0614 - acc: 0.9789\n",
            "Epoch 11/30\n",
            "938/938 [==============================] - 2s 2ms/step - loss: 0.0585 - acc: 0.9806\n",
            "Epoch 12/30\n",
            "938/938 [==============================] - 2s 2ms/step - loss: 0.0576 - acc: 0.9808\n",
            "Epoch 13/30\n",
            "938/938 [==============================] - 2s 2ms/step - loss: 0.0575 - acc: 0.9806\n",
            "Epoch 14/30\n",
            "938/938 [==============================] - 2s 2ms/step - loss: 0.0495 - acc: 0.9838\n",
            "Epoch 15/30\n",
            "938/938 [==============================] - 2s 2ms/step - loss: 0.0475 - acc: 0.9844\n",
            "Epoch 16/30\n",
            "938/938 [==============================] - 2s 2ms/step - loss: 0.0469 - acc: 0.9843\n",
            "Epoch 17/30\n",
            "938/938 [==============================] - 2s 2ms/step - loss: 0.0449 - acc: 0.9844\n",
            "Epoch 18/30\n",
            "938/938 [==============================] - 2s 2ms/step - loss: 0.0464 - acc: 0.9840\n",
            "Epoch 19/30\n",
            "938/938 [==============================] - 2s 2ms/step - loss: 0.0465 - acc: 0.9844\n",
            "Epoch 20/30\n",
            "938/938 [==============================] - 2s 2ms/step - loss: 0.0422 - acc: 0.9863\n",
            "Epoch 21/30\n",
            "938/938 [==============================] - 2s 2ms/step - loss: 0.0390 - acc: 0.9865\n",
            "Epoch 22/30\n",
            "938/938 [==============================] - 2s 2ms/step - loss: 0.0393 - acc: 0.9869\n",
            "Epoch 23/30\n",
            "938/938 [==============================] - 2s 2ms/step - loss: 0.0416 - acc: 0.9865\n",
            "Epoch 24/30\n",
            "938/938 [==============================] - 2s 2ms/step - loss: 0.0396 - acc: 0.9867\n",
            "Epoch 25/30\n",
            "938/938 [==============================] - 2s 2ms/step - loss: 0.0365 - acc: 0.9880\n",
            "Epoch 26/30\n",
            "938/938 [==============================] - 2s 2ms/step - loss: 0.0379 - acc: 0.9873\n",
            "Epoch 27/30\n",
            "938/938 [==============================] - 2s 2ms/step - loss: 0.0355 - acc: 0.9875\n",
            "Epoch 28/30\n",
            "938/938 [==============================] - 2s 2ms/step - loss: 0.0367 - acc: 0.9876\n",
            "Epoch 29/30\n",
            "938/938 [==============================] - 2s 2ms/step - loss: 0.0337 - acc: 0.9891\n",
            "Epoch 30/30\n",
            "938/938 [==============================] - 2s 2ms/step - loss: 0.0366 - acc: 0.9879\n"
          ],
          "name": "stdout"
        },
        {
          "output_type": "execute_result",
          "data": {
            "text/plain": [
              "<tensorflow.python.keras.callbacks.History at 0x7fbcd230c290>"
            ]
          },
          "metadata": {
            "tags": []
          },
          "execution_count": 105
        }
      ]
    },
    {
      "cell_type": "markdown",
      "metadata": {
        "id": "rfYMV5FojU7l"
      },
      "source": [
        "### Subclassing API\n",
        "맞춤형 딥러닝 모델 설계"
      ]
    },
    {
      "cell_type": "code",
      "metadata": {
        "id": "HRtVGy2e3dRh"
      },
      "source": [
        "from tensorflow.keras.layers import Dense, Activation, Layer\n",
        "import tensorflow as tf\n",
        "\n",
        "# class를 통해 직접 layer 함수 구현\n",
        "class MyLayer(Layer):\n",
        "  def __init__(self, out_dim):   # Output layer를 정의하는 함수임!\n",
        "    self.out = out_dim\n",
        "    super(MyLayer, self).__init__()\n",
        "  \n",
        "  def build(self, input_shape):\n",
        "    self.kernel = self.add_weight(shape=(input_shape[1], self.out), trainable=True)\n",
        "  \n",
        "  def call(self, inputs):\n",
        "    return tf.matmul(inputs, self.kernel)"
      ],
      "execution_count": 115,
      "outputs": []
    },
    {
      "cell_type": "markdown",
      "metadata": {
        "id": "47n6ATTQuWcS"
      },
      "source": [
        "위의 layer class로 output layer를 맞춤형으로 정의한다! keras의 내장 class처럼 정의하면 된다!"
      ]
    },
    {
      "cell_type": "code",
      "metadata": {
        "id": "4iUAEjaZ3dO1",
        "colab": {
          "base_uri": "https://localhost:8080/"
        },
        "outputId": "8323b41d-f3b2-4de1-f770-710e5c2f9987"
      },
      "source": [
        "# 그냥 단순 모델\n",
        "model = tf.keras.Sequential([Dense(256, input_shape=(784,)), MyLayer(num_class), Activation('relu')])\n",
        "model.summary()\n",
        "\n",
        "# 맞춤형 layer 모델\n",
        "model1 = tf.keras.Sequential()\n",
        "model1.add(Dense(256, input_shape=(784,)))\n",
        "model1.add(MyLayer(num_class))   # 여기에 끼어있는 layer가 내가 제작한 layer\n",
        "model1.add(Activation('relu'))\n",
        "model1.summary()"
      ],
      "execution_count": 124,
      "outputs": [
        {
          "output_type": "stream",
          "text": [
            "Model: \"sequential_19\"\n",
            "_________________________________________________________________\n",
            "Layer (type)                 Output Shape              Param #   \n",
            "=================================================================\n",
            "dense_40 (Dense)             (None, 256)               200960    \n",
            "_________________________________________________________________\n",
            "my_layer_10 (MyLayer)        (None, 10)                2560      \n",
            "_________________________________________________________________\n",
            "activation_26 (Activation)   (None, 10)                0         \n",
            "=================================================================\n",
            "Total params: 203,520\n",
            "Trainable params: 203,520\n",
            "Non-trainable params: 0\n",
            "_________________________________________________________________\n",
            "Model: \"sequential_20\"\n",
            "_________________________________________________________________\n",
            "Layer (type)                 Output Shape              Param #   \n",
            "=================================================================\n",
            "dense_41 (Dense)             (None, 256)               200960    \n",
            "_________________________________________________________________\n",
            "my_layer_11 (MyLayer)        (None, 10)                2560      \n",
            "_________________________________________________________________\n",
            "activation_27 (Activation)   (None, 10)                0         \n",
            "=================================================================\n",
            "Total params: 203,520\n",
            "Trainable params: 203,520\n",
            "Non-trainable params: 0\n",
            "_________________________________________________________________\n"
          ],
          "name": "stdout"
        }
      ]
    },
    {
      "cell_type": "markdown",
      "metadata": {
        "id": "fM7rXyjkuTvQ"
      },
      "source": [
        "똑같이 학습 진행이 가능하다!"
      ]
    },
    {
      "cell_type": "code",
      "metadata": {
        "id": "ffDzoju-3dMV",
        "colab": {
          "base_uri": "https://localhost:8080/"
        },
        "outputId": "bd8e5fe3-95dc-4be9-ae48-4555acffd0db"
      },
      "source": [
        "model1.compile(loss = 'categorical_crossentropy', optimizer = 'adam', metrics=['acc'])\n",
        "model1.fit(x_train,y_train,epochs=30,batch_size=64)"
      ],
      "execution_count": 125,
      "outputs": [
        {
          "output_type": "stream",
          "text": [
            "Epoch 1/30\n",
            "938/938 [==============================] - 2s 2ms/step - loss: nan - acc: 0.6590\n",
            "Epoch 2/30\n",
            "938/938 [==============================] - 2s 2ms/step - loss: nan - acc: 0.7574\n",
            "Epoch 3/30\n",
            "938/938 [==============================] - 2s 2ms/step - loss: nan - acc: 0.6683\n",
            "Epoch 4/30\n",
            "938/938 [==============================] - 2s 2ms/step - loss: nan - acc: 0.8093\n",
            "Epoch 5/30\n",
            "938/938 [==============================] - 2s 2ms/step - loss: nan - acc: 0.8516\n",
            "Epoch 6/30\n",
            "938/938 [==============================] - 2s 2ms/step - loss: nan - acc: 0.8742\n",
            "Epoch 7/30\n",
            "938/938 [==============================] - 2s 2ms/step - loss: nan - acc: 0.8532\n",
            "Epoch 8/30\n",
            "938/938 [==============================] - 2s 2ms/step - loss: nan - acc: 0.8322\n",
            "Epoch 9/30\n",
            "938/938 [==============================] - 2s 2ms/step - loss: nan - acc: 0.8481\n",
            "Epoch 10/30\n",
            "938/938 [==============================] - 2s 2ms/step - loss: nan - acc: 0.8591\n",
            "Epoch 11/30\n",
            "938/938 [==============================] - 2s 2ms/step - loss: nan - acc: 0.8506\n",
            "Epoch 12/30\n",
            "938/938 [==============================] - 2s 2ms/step - loss: 0.9463 - acc: 0.6475\n",
            "Epoch 13/30\n",
            "938/938 [==============================] - 2s 2ms/step - loss: nan - acc: 0.7746\n",
            "Epoch 14/30\n",
            "938/938 [==============================] - 2s 2ms/step - loss: nan - acc: 0.8322\n",
            "Epoch 15/30\n",
            "938/938 [==============================] - 2s 2ms/step - loss: nan - acc: 0.8561\n",
            "Epoch 16/30\n",
            "938/938 [==============================] - 2s 2ms/step - loss: nan - acc: 0.8612\n",
            "Epoch 17/30\n",
            "938/938 [==============================] - 2s 2ms/step - loss: nan - acc: 0.8762\n",
            "Epoch 18/30\n",
            "938/938 [==============================] - 2s 2ms/step - loss: nan - acc: 0.8467\n",
            "Epoch 19/30\n",
            "938/938 [==============================] - 2s 2ms/step - loss: nan - acc: 0.8606\n",
            "Epoch 20/30\n",
            "938/938 [==============================] - 2s 2ms/step - loss: nan - acc: 0.8556\n",
            "Epoch 21/30\n",
            "938/938 [==============================] - 2s 2ms/step - loss: nan - acc: 0.8741\n",
            "Epoch 22/30\n",
            "938/938 [==============================] - 2s 2ms/step - loss: nan - acc: 0.8912\n",
            "Epoch 23/30\n",
            "938/938 [==============================] - 2s 2ms/step - loss: nan - acc: 0.7749\n",
            "Epoch 24/30\n",
            "938/938 [==============================] - 2s 2ms/step - loss: nan - acc: 0.8273\n",
            "Epoch 25/30\n",
            "938/938 [==============================] - 2s 2ms/step - loss: nan - acc: 0.8492\n",
            "Epoch 26/30\n",
            "938/938 [==============================] - 2s 2ms/step - loss: nan - acc: 0.8710\n",
            "Epoch 27/30\n",
            "938/938 [==============================] - 2s 2ms/step - loss: nan - acc: 0.8707\n",
            "Epoch 28/30\n",
            "938/938 [==============================] - 2s 2ms/step - loss: nan - acc: 0.8651\n",
            "Epoch 29/30\n",
            "938/938 [==============================] - 2s 2ms/step - loss: nan - acc: 0.8722\n",
            "Epoch 30/30\n",
            "938/938 [==============================] - 2s 2ms/step - loss: nan - acc: 0.8833\n"
          ],
          "name": "stdout"
        },
        {
          "output_type": "execute_result",
          "data": {
            "text/plain": [
              "<tensorflow.python.keras.callbacks.History at 0x7fbcd223e5d0>"
            ]
          },
          "metadata": {
            "tags": []
          },
          "execution_count": 125
        }
      ]
    }
  ]
}