{
  "nbformat": 4,
  "nbformat_minor": 0,
  "metadata": {
    "colab": {
      "name": "HW3(전이학습 overfitting).ipynb",
      "provenance": [],
      "collapsed_sections": [],
      "machine_shape": "hm",
      "mount_file_id": "1kFNYlEmBbIy0T5YEWyMrE3N5cv6tHZgc",
      "authorship_tag": "ABX9TyPO+fM0TIWvOyoXGVvjLqvc"
    },
    "kernelspec": {
      "name": "python3",
      "display_name": "Python 3"
    },
    "language_info": {
      "name": "python"
    },
    "accelerator": "GPU",
    "widgets": {
      "application/vnd.jupyter.widget-state+json": {
        "b1633aeea9ae42b49e617cc92864270c": {
          "model_module": "@jupyter-widgets/controls",
          "model_name": "HBoxModel",
          "state": {
            "_view_name": "HBoxView",
            "_dom_classes": [],
            "_model_name": "HBoxModel",
            "_view_module": "@jupyter-widgets/controls",
            "_model_module_version": "1.5.0",
            "_view_count": null,
            "_view_module_version": "1.5.0",
            "box_style": "",
            "layout": "IPY_MODEL_1a664e08d4fd40ea9a66a49632add8ed",
            "_model_module": "@jupyter-widgets/controls",
            "children": [
              "IPY_MODEL_7ab023e8e14e4d80989c8801036c99e7",
              "IPY_MODEL_32b6e176b4c246d599d3ff95679e5802"
            ]
          }
        },
        "1a664e08d4fd40ea9a66a49632add8ed": {
          "model_module": "@jupyter-widgets/base",
          "model_name": "LayoutModel",
          "state": {
            "_view_name": "LayoutView",
            "grid_template_rows": null,
            "right": null,
            "justify_content": null,
            "_view_module": "@jupyter-widgets/base",
            "overflow": null,
            "_model_module_version": "1.2.0",
            "_view_count": null,
            "flex_flow": null,
            "width": null,
            "min_width": null,
            "border": null,
            "align_items": null,
            "bottom": null,
            "_model_module": "@jupyter-widgets/base",
            "top": null,
            "grid_column": null,
            "overflow_y": null,
            "overflow_x": null,
            "grid_auto_flow": null,
            "grid_area": null,
            "grid_template_columns": null,
            "flex": null,
            "_model_name": "LayoutModel",
            "justify_items": null,
            "grid_row": null,
            "max_height": null,
            "align_content": null,
            "visibility": null,
            "align_self": null,
            "height": null,
            "min_height": null,
            "padding": null,
            "grid_auto_rows": null,
            "grid_gap": null,
            "max_width": null,
            "order": null,
            "_view_module_version": "1.2.0",
            "grid_template_areas": null,
            "object_position": null,
            "object_fit": null,
            "grid_auto_columns": null,
            "margin": null,
            "display": null,
            "left": null
          }
        },
        "7ab023e8e14e4d80989c8801036c99e7": {
          "model_module": "@jupyter-widgets/controls",
          "model_name": "FloatProgressModel",
          "state": {
            "_view_name": "ProgressView",
            "style": "IPY_MODEL_1704010ccf594d3b87daa2568226c710",
            "_dom_classes": [],
            "description": "100%",
            "_model_name": "FloatProgressModel",
            "bar_style": "success",
            "max": 2598,
            "_view_module": "@jupyter-widgets/controls",
            "_model_module_version": "1.5.0",
            "value": 2598,
            "_view_count": null,
            "_view_module_version": "1.5.0",
            "orientation": "horizontal",
            "min": 0,
            "description_tooltip": null,
            "_model_module": "@jupyter-widgets/controls",
            "layout": "IPY_MODEL_dbabfab3dd5445fbbe23313b88226c7e"
          }
        },
        "32b6e176b4c246d599d3ff95679e5802": {
          "model_module": "@jupyter-widgets/controls",
          "model_name": "HTMLModel",
          "state": {
            "_view_name": "HTMLView",
            "style": "IPY_MODEL_1af92838990740fc874cc346156e3b5b",
            "_dom_classes": [],
            "description": "",
            "_model_name": "HTMLModel",
            "placeholder": "​",
            "_view_module": "@jupyter-widgets/controls",
            "_model_module_version": "1.5.0",
            "value": " 2598/2598 [08:58&lt;00:00,  4.82it/s]",
            "_view_count": null,
            "_view_module_version": "1.5.0",
            "description_tooltip": null,
            "_model_module": "@jupyter-widgets/controls",
            "layout": "IPY_MODEL_24c4e7e9a7754f0cb239e51a734c4ed2"
          }
        },
        "1704010ccf594d3b87daa2568226c710": {
          "model_module": "@jupyter-widgets/controls",
          "model_name": "ProgressStyleModel",
          "state": {
            "_view_name": "StyleView",
            "_model_name": "ProgressStyleModel",
            "description_width": "initial",
            "_view_module": "@jupyter-widgets/base",
            "_model_module_version": "1.5.0",
            "_view_count": null,
            "_view_module_version": "1.2.0",
            "bar_color": null,
            "_model_module": "@jupyter-widgets/controls"
          }
        },
        "dbabfab3dd5445fbbe23313b88226c7e": {
          "model_module": "@jupyter-widgets/base",
          "model_name": "LayoutModel",
          "state": {
            "_view_name": "LayoutView",
            "grid_template_rows": null,
            "right": null,
            "justify_content": null,
            "_view_module": "@jupyter-widgets/base",
            "overflow": null,
            "_model_module_version": "1.2.0",
            "_view_count": null,
            "flex_flow": null,
            "width": null,
            "min_width": null,
            "border": null,
            "align_items": null,
            "bottom": null,
            "_model_module": "@jupyter-widgets/base",
            "top": null,
            "grid_column": null,
            "overflow_y": null,
            "overflow_x": null,
            "grid_auto_flow": null,
            "grid_area": null,
            "grid_template_columns": null,
            "flex": null,
            "_model_name": "LayoutModel",
            "justify_items": null,
            "grid_row": null,
            "max_height": null,
            "align_content": null,
            "visibility": null,
            "align_self": null,
            "height": null,
            "min_height": null,
            "padding": null,
            "grid_auto_rows": null,
            "grid_gap": null,
            "max_width": null,
            "order": null,
            "_view_module_version": "1.2.0",
            "grid_template_areas": null,
            "object_position": null,
            "object_fit": null,
            "grid_auto_columns": null,
            "margin": null,
            "display": null,
            "left": null
          }
        },
        "1af92838990740fc874cc346156e3b5b": {
          "model_module": "@jupyter-widgets/controls",
          "model_name": "DescriptionStyleModel",
          "state": {
            "_view_name": "StyleView",
            "_model_name": "DescriptionStyleModel",
            "description_width": "",
            "_view_module": "@jupyter-widgets/base",
            "_model_module_version": "1.5.0",
            "_view_count": null,
            "_view_module_version": "1.2.0",
            "_model_module": "@jupyter-widgets/controls"
          }
        },
        "24c4e7e9a7754f0cb239e51a734c4ed2": {
          "model_module": "@jupyter-widgets/base",
          "model_name": "LayoutModel",
          "state": {
            "_view_name": "LayoutView",
            "grid_template_rows": null,
            "right": null,
            "justify_content": null,
            "_view_module": "@jupyter-widgets/base",
            "overflow": null,
            "_model_module_version": "1.2.0",
            "_view_count": null,
            "flex_flow": null,
            "width": null,
            "min_width": null,
            "border": null,
            "align_items": null,
            "bottom": null,
            "_model_module": "@jupyter-widgets/base",
            "top": null,
            "grid_column": null,
            "overflow_y": null,
            "overflow_x": null,
            "grid_auto_flow": null,
            "grid_area": null,
            "grid_template_columns": null,
            "flex": null,
            "_model_name": "LayoutModel",
            "justify_items": null,
            "grid_row": null,
            "max_height": null,
            "align_content": null,
            "visibility": null,
            "align_self": null,
            "height": null,
            "min_height": null,
            "padding": null,
            "grid_auto_rows": null,
            "grid_gap": null,
            "max_width": null,
            "order": null,
            "_view_module_version": "1.2.0",
            "grid_template_areas": null,
            "object_position": null,
            "object_fit": null,
            "grid_auto_columns": null,
            "margin": null,
            "display": null,
            "left": null
          }
        }
      }
    }
  },
  "cells": [
    {
      "cell_type": "markdown",
      "metadata": {
        "id": "cnOXRoiuMQvS"
      },
      "source": [
        "# HW3\n",
        "각 사례에서 overfitting 해결하기!\n",
        "> 모수초기치, 활성함수, dropout, 노스 수나 커널사이즈 조절, vgg inputsize 규제화, normalization"
      ]
    },
    {
      "cell_type": "markdown",
      "metadata": {
        "id": "BVN23_EIManZ"
      },
      "source": [
        "## 1) Dog/Cat Classification Data\n",
        "> 이전학습 + 자료증대(No fine tuning)\n",
        "\n",
        "- target size(vgg input size) 150>100 조절\n",
        "- dropout, initialization 추가\n",
        "- 노드의 개수 256에서 64개로 줄임\n",
        "- L1 규제화 추가\n",
        "- callbacks 추가"
      ]
    },
    {
      "cell_type": "code",
      "metadata": {
        "colab": {
          "base_uri": "https://localhost:8080/"
        },
        "id": "sd6fhMttMOu4",
        "outputId": "3f55b3ab-4c8e-4ce3-c7cf-c0465650017d"
      },
      "source": [
        "# 관련 이미지가 들어있는 디렉토리 지정\n",
        "train_dir = '/content/drive/MyDrive/Colab Notebooks/DL/[STAT433] 딥러닝을 위한 통계적모델링/data/dogs and cats_small/train'\n",
        "validation_dir = '/content/drive/MyDrive/Colab Notebooks/DL/[STAT433] 딥러닝을 위한 통계적모델링/data/dogs and cats_small/validation'\n",
        "test_dir = '/content/drive/MyDrive/Colab Notebooks/DL/[STAT433] 딥러닝을 위한 통계적모델링/data/dogs and cats_small/test'\n",
        "\n",
        "from tensorflow.keras.preprocessing.image import ImageDataGenerator \n",
        "train_datagen=ImageDataGenerator(rescale=1./255,rotation_range=40, width_shift_range=0.2, \n",
        "                               height_shift_range=0.2, shear_range=0.2, zoom_range=0.2,\n",
        "                                horizontal_flip=True, fill_mode='nearest')    # augmentation > error 추가small/validation'\n",
        "                                                                                         \n",
        "test_datagen=ImageDataGenerator(rescale=1./255)   ## 뒤에서는 이 부분에 augmentation을 한다!\n",
        "\n",
        "# .flow_from_directory를 이용 \n",
        "train_generator=train_datagen.flow_from_directory(directory=train_dir,target_size=(100,100),\n",
        "                                                  batch_size=20,class_mode='binary')\n",
        "validation_generator=test_datagen.flow_from_directory(directory=validation_dir,target_size=(100,100),\n",
        "                                                      batch_size=20,class_mode='binary')"
      ],
      "execution_count": 30,
      "outputs": [
        {
          "output_type": "stream",
          "text": [
            "Found 2000 images belonging to 2 classes.\n",
            "Found 1010 images belonging to 2 classes.\n"
          ],
          "name": "stdout"
        }
      ]
    },
    {
      "cell_type": "code",
      "metadata": {
        "colab": {
          "base_uri": "https://localhost:8080/"
        },
        "id": "w7hf5bc3MOr9",
        "outputId": "04335871-c5d0-4515-c6cf-326ce3e53124"
      },
      "source": [
        "from tensorflow.keras.applications import VGG16  # 파라미터 freeze\n",
        "vgg_base=VGG16(weights='imagenet',include_top=False, input_shape=(100,100,3)) \n",
        "vgg_base.summary()  # 이미 training 되어있음"
      ],
      "execution_count": 31,
      "outputs": [
        {
          "output_type": "stream",
          "text": [
            "Model: \"vgg16\"\n",
            "_________________________________________________________________\n",
            "Layer (type)                 Output Shape              Param #   \n",
            "=================================================================\n",
            "input_7 (InputLayer)         [(None, 100, 100, 3)]     0         \n",
            "_________________________________________________________________\n",
            "block1_conv1 (Conv2D)        (None, 100, 100, 64)      1792      \n",
            "_________________________________________________________________\n",
            "block1_conv2 (Conv2D)        (None, 100, 100, 64)      36928     \n",
            "_________________________________________________________________\n",
            "block1_pool (MaxPooling2D)   (None, 50, 50, 64)        0         \n",
            "_________________________________________________________________\n",
            "block2_conv1 (Conv2D)        (None, 50, 50, 128)       73856     \n",
            "_________________________________________________________________\n",
            "block2_conv2 (Conv2D)        (None, 50, 50, 128)       147584    \n",
            "_________________________________________________________________\n",
            "block2_pool (MaxPooling2D)   (None, 25, 25, 128)       0         \n",
            "_________________________________________________________________\n",
            "block3_conv1 (Conv2D)        (None, 25, 25, 256)       295168    \n",
            "_________________________________________________________________\n",
            "block3_conv2 (Conv2D)        (None, 25, 25, 256)       590080    \n",
            "_________________________________________________________________\n",
            "block3_conv3 (Conv2D)        (None, 25, 25, 256)       590080    \n",
            "_________________________________________________________________\n",
            "block3_pool (MaxPooling2D)   (None, 12, 12, 256)       0         \n",
            "_________________________________________________________________\n",
            "block4_conv1 (Conv2D)        (None, 12, 12, 512)       1180160   \n",
            "_________________________________________________________________\n",
            "block4_conv2 (Conv2D)        (None, 12, 12, 512)       2359808   \n",
            "_________________________________________________________________\n",
            "block4_conv3 (Conv2D)        (None, 12, 12, 512)       2359808   \n",
            "_________________________________________________________________\n",
            "block4_pool (MaxPooling2D)   (None, 6, 6, 512)         0         \n",
            "_________________________________________________________________\n",
            "block5_conv1 (Conv2D)        (None, 6, 6, 512)         2359808   \n",
            "_________________________________________________________________\n",
            "block5_conv2 (Conv2D)        (None, 6, 6, 512)         2359808   \n",
            "_________________________________________________________________\n",
            "block5_conv3 (Conv2D)        (None, 6, 6, 512)         2359808   \n",
            "_________________________________________________________________\n",
            "block5_pool (MaxPooling2D)   (None, 3, 3, 512)         0         \n",
            "=================================================================\n",
            "Total params: 14,714,688\n",
            "Trainable params: 14,714,688\n",
            "Non-trainable params: 0\n",
            "_________________________________________________________________\n"
          ],
          "name": "stdout"
        }
      ]
    },
    {
      "cell_type": "code",
      "metadata": {
        "colab": {
          "base_uri": "https://localhost:8080/"
        },
        "id": "8XFnzDeLMOfr",
        "outputId": "6ae551e1-534c-48e5-b10d-2685e900c90b"
      },
      "source": [
        "import tensorflow as tf\n",
        "from tensorflow.keras.models import Sequential\n",
        "from tensorflow.keras.layers import Flatten, Dense, Dropout, BatchNormalization\n",
        "model_aug=Sequential()\n",
        "\n",
        "######### 우선 vgg 구조를 모델에 추가하기 ######\n",
        "model_aug.add(vgg_base)  # 여기에 아예 집어넣음 >> 근데 여기 파라미터는 freez 시켜야함.(아니면 2000개의 파라미터를 가지고 1400만개의 파라미터를 추정하는 꼴이 됨) 그럼 위 과정과 완전히 같아진다. \n",
        "model_aug.add(Flatten())\n",
        "model_aug.add(Dense(64,activation='relu', kernel_initializer='he_normal'))\n",
        "model_aug.add(Dropout(0.5))\n",
        "model_aug.add(Dense(1,activation='sigmoid', kernel_regularizer=tf.keras.regularizers.L1(0.01)))  # 드랍아웃을 안했기때문에 위 결과보다 나쁠수밖에 없음. \n",
        "model_aug.summary()"
      ],
      "execution_count": 37,
      "outputs": [
        {
          "output_type": "stream",
          "text": [
            "Model: \"sequential_12\"\n",
            "_________________________________________________________________\n",
            "Layer (type)                 Output Shape              Param #   \n",
            "=================================================================\n",
            "vgg16 (Functional)           (None, 3, 3, 512)         14714688  \n",
            "_________________________________________________________________\n",
            "flatten_12 (Flatten)         (None, 4608)              0         \n",
            "_________________________________________________________________\n",
            "dense_21 (Dense)             (None, 64)                294976    \n",
            "_________________________________________________________________\n",
            "dropout_9 (Dropout)          (None, 64)                0         \n",
            "_________________________________________________________________\n",
            "dense_22 (Dense)             (None, 1)                 65        \n",
            "=================================================================\n",
            "Total params: 15,009,729\n",
            "Trainable params: 15,009,729\n",
            "Non-trainable params: 0\n",
            "_________________________________________________________________\n"
          ],
          "name": "stdout"
        }
      ]
    },
    {
      "cell_type": "code",
      "metadata": {
        "colab": {
          "base_uri": "https://localhost:8080/"
        },
        "id": "abOYEOvGMOdf",
        "outputId": "d29cb538-82c5-406e-d2ec-7d63e1b3485a"
      },
      "source": [
        "from tensorflow.keras import optimizers\n",
        "\n",
        "# callbacks\n",
        "from keras.callbacks import ModelCheckpoint, ReduceLROnPlateau, EarlyStopping\n",
        "callback_list = [EarlyStopping(monitor='acc', patience=2),   \n",
        "                 ModelCheckpoint(filepath='model_ch5', monitor='val_acc', save_best_only='True')]\n",
        "\n",
        "model_aug.compile(optimizer=optimizers.RMSprop(lr=2e-5),loss='binary_crossentropy',metrics=['acc'])\n",
        "model_aug_result=model_aug.fit_generator(train_generator,\n",
        "                                         steps_per_epoch=100,   # 100개의 배치를 사용\n",
        "                                         epochs=10, \n",
        "                                         validation_data=validation_generator,\n",
        "                                         validation_steps=50, callbacks=callback_list)"
      ],
      "execution_count": 38,
      "outputs": [
        {
          "output_type": "stream",
          "text": [
            "/usr/local/lib/python3.7/dist-packages/tensorflow/python/keras/engine/training.py:1844: UserWarning: `Model.fit_generator` is deprecated and will be removed in a future version. Please use `Model.fit`, which supports generators.\n",
            "  warnings.warn('`Model.fit_generator` is deprecated and '\n"
          ],
          "name": "stderr"
        },
        {
          "output_type": "stream",
          "text": [
            "Epoch 1/10\n",
            "100/100 [==============================] - 21s 187ms/step - loss: 0.5754 - acc: 0.7615 - val_loss: 0.4725 - val_acc: 0.8420\n",
            "INFO:tensorflow:Assets written to: model_ch5/assets\n",
            "Epoch 2/10\n",
            "100/100 [==============================] - 19s 190ms/step - loss: 0.4478 - acc: 0.8466 - val_loss: 0.3119 - val_acc: 0.9130\n",
            "INFO:tensorflow:Assets written to: model_ch5/assets\n",
            "Epoch 3/10\n",
            "100/100 [==============================] - 18s 184ms/step - loss: 0.3693 - acc: 0.8936 - val_loss: 0.3003 - val_acc: 0.9080\n",
            "Epoch 4/10\n",
            "100/100 [==============================] - 18s 183ms/step - loss: 0.3258 - acc: 0.9061 - val_loss: 0.3530 - val_acc: 0.9020\n",
            "Epoch 5/10\n",
            "100/100 [==============================] - 18s 184ms/step - loss: 0.3424 - acc: 0.9088 - val_loss: 0.2554 - val_acc: 0.9370\n",
            "INFO:tensorflow:Assets written to: model_ch5/assets\n",
            "Epoch 6/10\n",
            "100/100 [==============================] - 18s 184ms/step - loss: 0.2949 - acc: 0.9218 - val_loss: 0.3040 - val_acc: 0.9170\n",
            "Epoch 7/10\n",
            "100/100 [==============================] - 18s 184ms/step - loss: 0.2721 - acc: 0.9263 - val_loss: 0.2548 - val_acc: 0.9310\n",
            "Epoch 8/10\n",
            "100/100 [==============================] - 18s 184ms/step - loss: 0.2585 - acc: 0.9362 - val_loss: 0.2625 - val_acc: 0.9420\n",
            "INFO:tensorflow:Assets written to: model_ch5/assets\n",
            "Epoch 9/10\n",
            "100/100 [==============================] - 18s 184ms/step - loss: 0.2545 - acc: 0.9347 - val_loss: 0.2709 - val_acc: 0.9310\n",
            "Epoch 10/10\n",
            "100/100 [==============================] - 18s 184ms/step - loss: 0.2123 - acc: 0.9603 - val_loss: 0.2782 - val_acc: 0.9370\n"
          ],
          "name": "stdout"
        }
      ]
    },
    {
      "cell_type": "code",
      "metadata": {
        "colab": {
          "base_uri": "https://localhost:8080/"
        },
        "id": "J4E3L5VYSv0H",
        "outputId": "0537e117-015f-449d-cbb0-6eb8f1c02629"
      },
      "source": [
        "test_datagen=ImageDataGenerator(rescale=1./255)\n",
        "test_generator=test_datagen.flow_from_directory(test_dir,target_size=(100,100),\n",
        "                                              batch_size=20, class_mode='binary')"
      ],
      "execution_count": 43,
      "outputs": [
        {
          "output_type": "stream",
          "text": [
            "Found 1000 images belonging to 2 classes.\n"
          ],
          "name": "stdout"
        }
      ]
    },
    {
      "cell_type": "code",
      "metadata": {
        "colab": {
          "base_uri": "https://localhost:8080/"
        },
        "id": "BWvRn6fcW5s4",
        "outputId": "c6f093fc-2026-4531-dc6e-fcb779b83ffd"
      },
      "source": [
        "loss, acc=model_aug.evaluate(test_generator,steps=50)  # 배치가20이므로 step size 1000"
      ],
      "execution_count": 46,
      "outputs": [
        {
          "output_type": "stream",
          "text": [
            "50/50 [==============================] - 4s 83ms/step - loss: 0.3211 - acc: 0.9270\n"
          ],
          "name": "stdout"
        }
      ]
    },
    {
      "cell_type": "code",
      "metadata": {
        "colab": {
          "base_uri": "https://localhost:8080/",
          "height": 545
        },
        "id": "191nuqTGPpbb",
        "outputId": "c57b0ec4-fe9b-4b69-dbe3-4f405d013a37"
      },
      "source": [
        "import matplotlib.pyplot as plt\n",
        "acc=model_aug_result.history['acc']\n",
        "val_acc=model_aug_result.history['val_acc']\n",
        "loss=model_aug_result.history['loss']\n",
        "val_loss=model_aug_result.history['val_loss']\n",
        "epochs=range(1,len(acc)+1)\n",
        "\n",
        "plt.plot(epochs,acc,'g',label='training acc')\n",
        "plt.plot(epochs,val_acc,'ro',label='validation acc')\n",
        "plt.title('training and validation accuracy')\n",
        "plt.legend()\n",
        "plt.figure()\n",
        "plt.plot(epochs,loss,'g',label='training loss')\n",
        "plt.plot(epochs,val_loss,'ro',label='validation loss')\n",
        "plt.title('training and validation loss')\n",
        "plt.legend()\n",
        "plt.show()"
      ],
      "execution_count": 50,
      "outputs": [
        {
          "output_type": "display_data",
          "data": {
            "image/png": "[encoded data removed]",
            "text/plain": [
              "<Figure size 432x288 with 1 Axes>"
            ]
          },
          "metadata": {
            "tags": [],
            "needs_background": "light"
          }
        },
        {
          "output_type": "display_data",
          "data": {
            "image/png": "[encoded data removed]",
            "text/plain": [
              "<Figure size 432x288 with 1 Axes>"
            ]
          },
          "metadata": {
            "tags": [],
            "needs_background": "light"
          }
        }
      ]
    },
    {
      "cell_type": "markdown",
      "metadata": {
        "id": "HmT-KCCCZE0L"
      },
      "source": [
        "## 2) Gender Classification Data\n",
        "> Simple 전이학습"
      ]
    },
    {
      "cell_type": "code",
      "metadata": {
        "colab": {
          "base_uri": "https://localhost:8080/",
          "height": 127
        },
        "id": "lF205xtZMOPH",
        "outputId": "0cda3d24-b66c-4875-f54c-41107afb5a77"
      },
      "source": [
        "import pandas as pd \n",
        "from skimage import io   # 이미지 read\n",
        "import cv2\n",
        "import numpy as np\n",
        "import matplotlib.pyplot as plt\n",
        "\n",
        "from tensorflow.keras.layers import Conv2D, MaxPooling2D,Flatten,Dense, Dropout\n",
        "from tensorflow.keras.models import Sequential\n",
        "\n",
        "data=pd.read_csv('/content/drive/MyDrive/Colab Notebooks/DL/[STAT433] 딥러닝을 위한 통계적모델링/data/gender_data.csv')  \n",
        "data.head(2)"
      ],
      "execution_count": 1,
      "outputs": [
        {
          "output_type": "execute_result",
          "data": {
            "text/html": [
              "<div>\n",
              "<style scoped>\n",
              "    .dataframe tbody tr th:only-of-type {\n",
              "        vertical-align: middle;\n",
              "    }\n",
              "\n",
              "    .dataframe tbody tr th {\n",
              "        vertical-align: top;\n",
              "    }\n",
              "\n",
              "    .dataframe thead th {\n",
              "        text-align: right;\n",
              "    }\n",
              "</style>\n",
              "<table border=\"1\" class=\"dataframe\">\n",
              "  <thead>\n",
              "    <tr style=\"text-align: right;\">\n",
              "      <th></th>\n",
              "      <th>_unit_id</th>\n",
              "      <th>_golden</th>\n",
              "      <th>_unit_state</th>\n",
              "      <th>_trusted_judgments</th>\n",
              "      <th>_last_judgment_at</th>\n",
              "      <th>please_select_the_gender_of_the_person_in_the_picture</th>\n",
              "      <th>please_select_the_gender_of_the_person_in_the_picture:confidence</th>\n",
              "      <th>image_url</th>\n",
              "      <th>please_select_the_gender_of_the_person_in_the_picture_gold</th>\n",
              "      <th>user_id</th>\n",
              "    </tr>\n",
              "  </thead>\n",
              "  <tbody>\n",
              "    <tr>\n",
              "      <th>0</th>\n",
              "      <td>1023132475</td>\n",
              "      <td>False</td>\n",
              "      <td>finalized</td>\n",
              "      <td>1</td>\n",
              "      <td>8/19/2016 17:00:25</td>\n",
              "      <td>male</td>\n",
              "      <td>1.0</td>\n",
              "      <td>https://d1qb2nb5cznatu.cloudfront.net/users/40...</td>\n",
              "      <td>NaN</td>\n",
              "      <td>40</td>\n",
              "    </tr>\n",
              "    <tr>\n",
              "      <th>1</th>\n",
              "      <td>1023132476</td>\n",
              "      <td>False</td>\n",
              "      <td>finalized</td>\n",
              "      <td>1</td>\n",
              "      <td>8/19/2016 17:00:48</td>\n",
              "      <td>male</td>\n",
              "      <td>1.0</td>\n",
              "      <td>https://d1qb2nb5cznatu.cloudfront.net/users/42...</td>\n",
              "      <td>NaN</td>\n",
              "      <td>42</td>\n",
              "    </tr>\n",
              "  </tbody>\n",
              "</table>\n",
              "</div>"
            ],
            "text/plain": [
              "     _unit_id  ...  user_id\n",
              "0  1023132475  ...       40\n",
              "1  1023132476  ...       42\n",
              "\n",
              "[2 rows x 10 columns]"
            ]
          },
          "metadata": {
            "tags": []
          },
          "execution_count": 1
        }
      ]
    },
    {
      "cell_type": "code",
      "metadata": {
        "colab": {
          "base_uri": "https://localhost:8080/"
        },
        "id": "_f35yNfbafrj",
        "outputId": "76470858-82bf-4981-c212-1c47b137f5a9"
      },
      "source": [
        "data.shape"
      ],
      "execution_count": 2,
      "outputs": [
        {
          "output_type": "execute_result",
          "data": {
            "text/plain": [
              "(64084, 10)"
            ]
          },
          "metadata": {
            "tags": []
          },
          "execution_count": 2
        }
      ]
    },
    {
      "cell_type": "code",
      "metadata": {
        "id": "mr0Y-CeNZwQi"
      },
      "source": [
        "# 남녀 동등하게 1000개만 뽑아서 학습 > 1500개로 늘림\n",
        "data_male=data[data['please_select_the_gender_of_the_person_in_the_picture']=='male']\n",
        "data_female=data[data['please_select_the_gender_of_the_person_in_the_picture']=='female']\n",
        "final_data=pd.concat([data_male[:1500],data_female[:1500]], axis=0).reset_index(drop=True) "
      ],
      "execution_count": 3,
      "outputs": []
    },
    {
      "cell_type": "code",
      "metadata": {
        "colab": {
          "base_uri": "https://localhost:8080/"
        },
        "id": "Wr_Ybnv1ah3q",
        "outputId": "c2bf4552-014d-45e8-9054-3dd56aa35f2d"
      },
      "source": [
        "final_data.shape"
      ],
      "execution_count": 4,
      "outputs": [
        {
          "output_type": "execute_result",
          "data": {
            "text/plain": [
              "(3000, 10)"
            ]
          },
          "metadata": {
            "tags": []
          },
          "execution_count": 4
        }
      ]
    },
    {
      "cell_type": "code",
      "metadata": {
        "colab": {
          "base_uri": "https://localhost:8080/"
        },
        "id": "TfZHqcvwarQr",
        "outputId": "0310d82f-8cdf-4b3d-bb6f-1c65ca537e4c"
      },
      "source": [
        "# 이미지 load(url로 연결되어있음)\n",
        "from tqdm import tqdm\n",
        "x=[]\n",
        "y=[]\n",
        "for i in tqdm(range(final_data.shape[0])):\n",
        "    try:\n",
        "        image=io.imread(final_data.loc[i]['image_url'])\n",
        "        if (image.shape==(300,300,3)): \n",
        "            x.append(image)\n",
        "            y.append(final_data.loc[i]['please_select_the_gender_of_the_person_in_the_picture'])\n",
        "    except:\n",
        "        continue"
      ],
      "execution_count": 5,
      "outputs": [
        {
          "output_type": "stream",
          "text": [
            "100%|██████████| 3000/3000 [22:29<00:00,  2.22it/s]\n"
          ],
          "name": "stderr"
        }
      ]
    },
    {
      "cell_type": "code",
      "metadata": {
        "colab": {
          "base_uri": "https://localhost:8080/"
        },
        "id": "_aZZCsOVjHkF",
        "outputId": "ab58c90b-a185-4e60-e2d0-22c3d5d51516"
      },
      "source": [
        "print(len(x), len(y))  # 3000개 중 2598개만 걸러냄"
      ],
      "execution_count": 12,
      "outputs": [
        {
          "output_type": "stream",
          "text": [
            "2598 2598\n"
          ],
          "name": "stdout"
        }
      ]
    },
    {
      "cell_type": "code",
      "metadata": {
        "id": "8dj-IO46ZD0t"
      },
      "source": [
        "# Resize\n",
        "x2=[]\n",
        "y2=[]\n",
        "for i in range(len(x)):  # 1760개의 data\n",
        "    img2=cv2.resize(x[i],(50,50))   # cv로 50,50으로 resize, 채널은 3이 디폴트\n",
        "    x2.append(img2)\n",
        "    img_label=np.where(y[i]=='male',1,0)  # 남성이면 1, 아니면 0으로 one-hot으로 바꿔줌\n",
        "    y2.append(img_label)"
      ],
      "execution_count": 45,
      "outputs": []
    },
    {
      "cell_type": "code",
      "metadata": {
        "colab": {
          "base_uri": "https://localhost:8080/"
        },
        "id": "wJ_CF932ZDyQ",
        "outputId": "ff3f3b78-ddca-4209-8a3a-76dfdbea4904"
      },
      "source": [
        "# 텐서(array 형태)로 변환\n",
        "x2=np.array(x2)  # tensor에서 numpy data로 고쳐줌\n",
        "\n",
        "x1=x2.astype('float32')/255.\n",
        "y1=np.array(y2)\n",
        "print(x1.shape, y1.shape)  # train, test data"
      ],
      "execution_count": 46,
      "outputs": [
        {
          "output_type": "stream",
          "text": [
            "(2598, 50, 50, 3) (2598,)\n"
          ],
          "name": "stdout"
        }
      ]
    },
    {
      "cell_type": "code",
      "metadata": {
        "colab": {
          "base_uri": "https://localhost:8080/"
        },
        "id": "TJyKclW2ZDvz",
        "outputId": "9c7c3d96-0430-4eaa-eb47-108d009a9ed9"
      },
      "source": [
        "# split\n",
        "from sklearn.model_selection import train_test_split\n",
        "x_train,x_test,y_train,y_test=train_test_split(x1,y1,test_size=0.2,random_state=1, stratify=y)\n",
        "print(x_train.shape,x_test.shape,y_train.shape,y_test.shape)"
      ],
      "execution_count": 47,
      "outputs": [
        {
          "output_type": "stream",
          "text": [
            "(2078, 50, 50, 3) (520, 50, 50, 3) (2078,) (520,)\n"
          ],
          "name": "stdout"
        }
      ]
    },
    {
      "cell_type": "code",
      "metadata": {
        "colab": {
          "base_uri": "https://localhost:8080/",
          "height": 268
        },
        "id": "w5HCa4GoZDtr",
        "outputId": "80346f0a-cc6d-444d-c508-e82e168881aa"
      },
      "source": [
        "plt.imshow(x_train[27])\n",
        "plt.show()  # 50*50 사이즈의 RGB(채널 3)로 이루어진 사진"
      ],
      "execution_count": 33,
      "outputs": [
        {
          "output_type": "display_data",
          "data": {
            "image/png": "[encoded data removed]",
            "text/plain": [
              "<Figure size 432x288 with 1 Axes>"
            ]
          },
          "metadata": {
            "tags": [],
            "needs_background": "light"
          }
        }
      ]
    },
    {
      "cell_type": "code",
      "metadata": {
        "colab": {
          "base_uri": "https://localhost:8080/"
        },
        "id": "62Hx4qYqZDrE",
        "outputId": "e494f316-4231-4206-c0bb-455d32142f6d"
      },
      "source": [
        "# Pretrained VGG16\n",
        "from tensorflow.keras.applications import VGG16   # input 줄여봄\n",
        "vgg16_model=VGG16(weights='imagenet',include_top=False,input_shape=(300,300,3))  # input size는 내 마음대로 조절 \n",
        "vgg16_model.summary()  "
      ],
      "execution_count": 48,
      "outputs": [
        {
          "output_type": "stream",
          "text": [
            "Model: \"vgg16\"\n",
            "_________________________________________________________________\n",
            "Layer (type)                 Output Shape              Param #   \n",
            "=================================================================\n",
            "input_3 (InputLayer)         [(None, 300, 300, 3)]     0         \n",
            "_________________________________________________________________\n",
            "block1_conv1 (Conv2D)        (None, 300, 300, 64)      1792      \n",
            "_________________________________________________________________\n",
            "block1_conv2 (Conv2D)        (None, 300, 300, 64)      36928     \n",
            "_________________________________________________________________\n",
            "block1_pool (MaxPooling2D)   (None, 150, 150, 64)      0         \n",
            "_________________________________________________________________\n",
            "block2_conv1 (Conv2D)        (None, 150, 150, 128)     73856     \n",
            "_________________________________________________________________\n",
            "block2_conv2 (Conv2D)        (None, 150, 150, 128)     147584    \n",
            "_________________________________________________________________\n",
            "block2_pool (MaxPooling2D)   (None, 75, 75, 128)       0         \n",
            "_________________________________________________________________\n",
            "block3_conv1 (Conv2D)        (None, 75, 75, 256)       295168    \n",
            "_________________________________________________________________\n",
            "block3_conv2 (Conv2D)        (None, 75, 75, 256)       590080    \n",
            "_________________________________________________________________\n",
            "block3_conv3 (Conv2D)        (None, 75, 75, 256)       590080    \n",
            "_________________________________________________________________\n",
            "block3_pool (MaxPooling2D)   (None, 37, 37, 256)       0         \n",
            "_________________________________________________________________\n",
            "block4_conv1 (Conv2D)        (None, 37, 37, 512)       1180160   \n",
            "_________________________________________________________________\n",
            "block4_conv2 (Conv2D)        (None, 37, 37, 512)       2359808   \n",
            "_________________________________________________________________\n",
            "block4_conv3 (Conv2D)        (None, 37, 37, 512)       2359808   \n",
            "_________________________________________________________________\n",
            "block4_pool (MaxPooling2D)   (None, 18, 18, 512)       0         \n",
            "_________________________________________________________________\n",
            "block5_conv1 (Conv2D)        (None, 18, 18, 512)       2359808   \n",
            "_________________________________________________________________\n",
            "block5_conv2 (Conv2D)        (None, 18, 18, 512)       2359808   \n",
            "_________________________________________________________________\n",
            "block5_conv3 (Conv2D)        (None, 18, 18, 512)       2359808   \n",
            "_________________________________________________________________\n",
            "block5_pool (MaxPooling2D)   (None, 9, 9, 512)         0         \n",
            "=================================================================\n",
            "Total params: 14,714,688\n",
            "Trainable params: 14,714,688\n",
            "Non-trainable params: 0\n",
            "_________________________________________________________________\n"
          ],
          "name": "stdout"
        }
      ]
    },
    {
      "cell_type": "code",
      "metadata": {
        "colab": {
          "base_uri": "https://localhost:8080/"
        },
        "id": "jMmja5Nbjaia",
        "outputId": "0b411243-1060-471e-f764-03062b9c6684"
      },
      "source": [
        "x1[1].shape"
      ],
      "execution_count": 50,
      "outputs": [
        {
          "output_type": "execute_result",
          "data": {
            "text/plain": [
              "(50, 50, 3)"
            ]
          },
          "metadata": {
            "tags": []
          },
          "execution_count": 50
        }
      ]
    },
    {
      "cell_type": "code",
      "metadata": {
        "colab": {
          "base_uri": "https://localhost:8080/",
          "height": 67,
          "referenced_widgets": [
            "b1633aeea9ae42b49e617cc92864270c",
            "1a664e08d4fd40ea9a66a49632add8ed",
            "7ab023e8e14e4d80989c8801036c99e7",
            "32b6e176b4c246d599d3ff95679e5802",
            "1704010ccf594d3b87daa2568226c710",
            "dbabfab3dd5445fbbe23313b88226c7e",
            "1af92838990740fc874cc346156e3b5b",
            "24c4e7e9a7754f0cb239e51a734c4ed2"
          ]
        },
        "id": "hcSxONzlZDoy",
        "outputId": "28b27e30-42ff-4cca-e5c1-05902d58847f"
      },
      "source": [
        "from tensorflow.keras.applications.vgg16 import preprocess_input \n",
        "from tqdm.notebook import tqdm\n",
        "\n",
        "x5_vgg16=[]  # vgg가 predict한 값 저장\n",
        "y5=[]\n",
        "\n",
        "for i in tqdm(range(len(x))):\n",
        "    img=x[i]\n",
        "    img=preprocess_input(img.reshape(1,300,300,3))  # reshape : 맨 앞에 1을 집어 넣음 > 4d 텐서 전환\n",
        "    img_new=vgg16_model.predict(img)  # vgg가 앞선 input을 학습하도록 함\n",
        "    x5_vgg16.append(img_new) \n",
        "\n",
        "    img_label=np.where(y[i]=='male',1,0)\n",
        "    y5.append(img_label)"
      ],
      "execution_count": 52,
      "outputs": [
        {
          "output_type": "display_data",
          "data": {
            "application/vnd.jupyter.widget-view+json": {
              "model_id": "b1633aeea9ae42b49e617cc92864270c",
              "version_minor": 0,
              "version_major": 2
            },
            "text/plain": [
              "HBox(children=(FloatProgress(value=0.0, max=2598.0), HTML(value='')))"
            ]
          },
          "metadata": {
            "tags": []
          }
        },
        {
          "output_type": "stream",
          "text": [
            "\n"
          ],
          "name": "stdout"
        }
      ]
    },
    {
      "cell_type": "code",
      "metadata": {
        "colab": {
          "base_uri": "https://localhost:8080/"
        },
        "id": "-_6h4kU7ZDmc",
        "outputId": "5d86de54-8675-48b7-d81f-dfc9c5135b24"
      },
      "source": [
        "# reshape\n",
        "x5_vgg16=np.array(x5_vgg16)\n",
        "print(x5_vgg16.shape)  # 불필요한 1이 존재하는 모습이다\n",
        "x5_vgg16=x5_vgg16.reshape(x5_vgg16.shape[0],x5_vgg16.shape[2],x5_vgg16.shape[3],x5_vgg16.shape[4])  # reshape\n",
        "print(x5_vgg16.shape)  \n",
        "y5=np.array(y5)  ## 이거 대신 tf.squeeze를 써도됨"
      ],
      "execution_count": 55,
      "outputs": [
        {
          "output_type": "stream",
          "text": [
            "(2598, 1, 9, 9, 512)\n",
            "(2598, 9, 9, 512)\n"
          ],
          "name": "stdout"
        }
      ]
    },
    {
      "cell_type": "code",
      "metadata": {
        "colab": {
          "base_uri": "https://localhost:8080/"
        },
        "id": "XvUrJBZzZEcY",
        "outputId": "0d57f237-1216-490f-86ee-ece892701c0a"
      },
      "source": [
        "# 한번 더 split\n",
        "from sklearn.model_selection import train_test_split\n",
        "x_train,x_test,y_train,y_test=train_test_split(x5_vgg16,y5,test_size=0.1,random_state=1, stratify=y5)\n",
        "## vgg 출력값이 X, label은 y\n",
        "print(x_train.shape, y_train.shape, x_test.shape, y_test.shape)"
      ],
      "execution_count": 56,
      "outputs": [
        {
          "output_type": "stream",
          "text": [
            "(2338, 9, 9, 512) (2338,) (260, 9, 9, 512) (260,)\n"
          ],
          "name": "stdout"
        }
      ]
    },
    {
      "cell_type": "code",
      "metadata": {
        "colab": {
          "base_uri": "https://localhost:8080/"
        },
        "id": "oNMML00kZEZk",
        "outputId": "89516d9d-155a-43ee-cf81-4064ea0d1108"
      },
      "source": [
        "import tensorflow as tf\n",
        "modelvgg16=Sequential()\n",
        "modelvgg16.add(Conv2D(64,(3,3),activation='relu',input_shape=(x_train.shape[1],x_train.shape[2],x_train.shape[3]), kernel_initializer='he_normal'))\n",
        "# # VGG 마지막 채널 수 512 맞춰주기\n",
        "# modelvgg16.add(MaxPooling2D((2,2)))\n",
        "\n",
        "# MLP 층\n",
        "modelvgg16.add(Flatten())\n",
        "modelvgg16.add(Dense(32,activation='relu', kernel_initializer='he_normal'))\n",
        "modelvgg16.add(Dropout(0.8))   # dropout 추가\n",
        "modelvgg16.add(Dense(1,activation='sigmoid', kernel_regularizer=tf.keras.regularizers.L1(0.03)))\n",
        "modelvgg16.summary()"
      ],
      "execution_count": 71,
      "outputs": [
        {
          "output_type": "stream",
          "text": [
            "Model: \"sequential_10\"\n",
            "_________________________________________________________________\n",
            "Layer (type)                 Output Shape              Param #   \n",
            "=================================================================\n",
            "conv2d_8 (Conv2D)            (None, 7, 7, 64)          294976    \n",
            "_________________________________________________________________\n",
            "flatten_10 (Flatten)         (None, 3136)              0         \n",
            "_________________________________________________________________\n",
            "dense_19 (Dense)             (None, 32)                100384    \n",
            "_________________________________________________________________\n",
            "dropout_10 (Dropout)         (None, 32)                0         \n",
            "_________________________________________________________________\n",
            "dense_20 (Dense)             (None, 1)                 33        \n",
            "=================================================================\n",
            "Total params: 395,393\n",
            "Trainable params: 395,393\n",
            "Non-trainable params: 0\n",
            "_________________________________________________________________\n"
          ],
          "name": "stdout"
        }
      ]
    },
    {
      "cell_type": "code",
      "metadata": {
        "colab": {
          "base_uri": "https://localhost:8080/"
        },
        "id": "Nvv88vISZEXX",
        "outputId": "05948cfe-85bb-45b3-f725-ccfc5b65a00b"
      },
      "source": [
        "modelvgg16.compile(loss='binary_crossentropy', optimizer='adam', metrics=['accuracy'])\n",
        "history_vgg16=modelvgg16.fit(x_train/np.max(x_train), y_train,batch_size=32, epochs=20, validation_data=(x_test/np.max(x_train),y_test))"
      ],
      "execution_count": 72,
      "outputs": [
        {
          "output_type": "stream",
          "text": [
            "Epoch 1/20\n",
            "74/74 [==============================] - 1s 8ms/step - loss: 0.8571 - accuracy: 0.5870 - val_loss: 0.5123 - val_accuracy: 0.9000\n",
            "Epoch 2/20\n",
            "74/74 [==============================] - 0s 5ms/step - loss: 0.5755 - accuracy: 0.8218 - val_loss: 0.3967 - val_accuracy: 0.9269\n",
            "Epoch 3/20\n",
            "74/74 [==============================] - 0s 5ms/step - loss: 0.4756 - accuracy: 0.8667 - val_loss: 0.3108 - val_accuracy: 0.9423\n",
            "Epoch 4/20\n",
            "74/74 [==============================] - 0s 5ms/step - loss: 0.4180 - accuracy: 0.8839 - val_loss: 0.2885 - val_accuracy: 0.9269\n",
            "Epoch 5/20\n",
            "74/74 [==============================] - 0s 5ms/step - loss: 0.3849 - accuracy: 0.8739 - val_loss: 0.2699 - val_accuracy: 0.9269\n",
            "Epoch 6/20\n",
            "74/74 [==============================] - 0s 5ms/step - loss: 0.3262 - accuracy: 0.9196 - val_loss: 0.2574 - val_accuracy: 0.9231\n",
            "Epoch 7/20\n",
            "74/74 [==============================] - 0s 5ms/step - loss: 0.3155 - accuracy: 0.9061 - val_loss: 0.2480 - val_accuracy: 0.9308\n",
            "Epoch 8/20\n",
            "74/74 [==============================] - 0s 5ms/step - loss: 0.2920 - accuracy: 0.9289 - val_loss: 0.2685 - val_accuracy: 0.9385\n",
            "Epoch 9/20\n",
            "74/74 [==============================] - 0s 5ms/step - loss: 0.2785 - accuracy: 0.9227 - val_loss: 0.2649 - val_accuracy: 0.9385\n",
            "Epoch 10/20\n",
            "74/74 [==============================] - 0s 6ms/step - loss: 0.2713 - accuracy: 0.9292 - val_loss: 0.2665 - val_accuracy: 0.9346\n",
            "Epoch 11/20\n",
            "74/74 [==============================] - 0s 6ms/step - loss: 0.2636 - accuracy: 0.9255 - val_loss: 0.2435 - val_accuracy: 0.9346\n",
            "Epoch 12/20\n",
            "74/74 [==============================] - 0s 5ms/step - loss: 0.2598 - accuracy: 0.9186 - val_loss: 0.2675 - val_accuracy: 0.9346\n",
            "Epoch 13/20\n",
            "74/74 [==============================] - 0s 5ms/step - loss: 0.2621 - accuracy: 0.9219 - val_loss: 0.2511 - val_accuracy: 0.9154\n",
            "Epoch 14/20\n",
            "74/74 [==============================] - 0s 5ms/step - loss: 0.2483 - accuracy: 0.9357 - val_loss: 0.2687 - val_accuracy: 0.9115\n",
            "Epoch 15/20\n",
            "74/74 [==============================] - 0s 5ms/step - loss: 0.2303 - accuracy: 0.9335 - val_loss: 0.2778 - val_accuracy: 0.9269\n",
            "Epoch 16/20\n",
            "74/74 [==============================] - 0s 6ms/step - loss: 0.2291 - accuracy: 0.9355 - val_loss: 0.2627 - val_accuracy: 0.9231\n",
            "Epoch 17/20\n",
            "74/74 [==============================] - 0s 5ms/step - loss: 0.2060 - accuracy: 0.9489 - val_loss: 0.2599 - val_accuracy: 0.9308\n",
            "Epoch 18/20\n",
            "74/74 [==============================] - 0s 5ms/step - loss: 0.2111 - accuracy: 0.9391 - val_loss: 0.2770 - val_accuracy: 0.9308\n",
            "Epoch 19/20\n",
            "74/74 [==============================] - 0s 5ms/step - loss: 0.2117 - accuracy: 0.9346 - val_loss: 0.2767 - val_accuracy: 0.9231\n",
            "Epoch 20/20\n",
            "74/74 [==============================] - 0s 5ms/step - loss: 0.2075 - accuracy: 0.9362 - val_loss: 0.2685 - val_accuracy: 0.9346\n"
          ],
          "name": "stdout"
        }
      ]
    },
    {
      "cell_type": "code",
      "metadata": {
        "colab": {
          "base_uri": "https://localhost:8080/"
        },
        "id": "ioYtgN1ar-U4",
        "outputId": "05a1a3c1-222e-455a-82a9-74c9f7b6b428"
      },
      "source": [
        "score=modelvgg16.evaluate(x_test,y_test)  # 모수가 100개이기 때문에 보나마나 오버피팅\n",
        "print(score)"
      ],
      "execution_count": 76,
      "outputs": [
        {
          "output_type": "stream",
          "text": [
            "9/9 [==============================] - 0s 3ms/step - loss: 100.9341 - accuracy: 0.9115\n",
            "[100.93408203125, 0.9115384817123413]\n"
          ],
          "name": "stdout"
        }
      ]
    },
    {
      "cell_type": "code",
      "metadata": {
        "colab": {
          "base_uri": "https://localhost:8080/",
          "height": 545
        },
        "id": "PvPDz4lJZEVK",
        "outputId": "534fb50c-d245-4e5a-e89f-459ef3e382f6"
      },
      "source": [
        "import matplotlib.pyplot as plt\n",
        "acc=history_vgg16.history['accuracy']\n",
        "val_acc=history_vgg16.history['val_accuracy']\n",
        "loss=history_vgg16.history['loss']\n",
        "val_loss=history_vgg16.history['val_loss']\n",
        "epochs=range(1,len(acc)+1)\n",
        "plt.plot(epochs,acc,'go',label='training accuracy')\n",
        "plt.plot(epochs, val_acc,'g',label='validation accuracy')\n",
        "plt.title('VGG16 training and validation accuracy')\n",
        "plt.legend()\n",
        "plt.figure()\n",
        "plt.plot(epochs,loss,'go',label='training loss')\n",
        "plt.plot(epochs, val_loss,'g',label='validation loss')\n",
        "plt.title('VGG16 training and validation loss')\n",
        "plt.legend()\n",
        "plt.show()"
      ],
      "execution_count": 73,
      "outputs": [
        {
          "output_type": "display_data",
          "data": {
            "image/png": "[encoded data removed]",
            "text/plain": [
              "<Figure size 432x288 with 1 Axes>"
            ]
          },
          "metadata": {
            "tags": [],
            "needs_background": "light"
          }
        },
        {
          "output_type": "display_data",
          "data": {
            "image/png": "[encoded data removed]",
            "text/plain": [
              "<Figure size 432x288 with 1 Axes>"
            ]
          },
          "metadata": {
            "tags": [],
            "needs_background": "light"
          }
        }
      ]
    },
    {
      "cell_type": "code",
      "metadata": {
        "id": "HHPSnUuwZESy"
      },
      "source": [
        ""
      ],
      "execution_count": null,
      "outputs": []
    }
  ]
}