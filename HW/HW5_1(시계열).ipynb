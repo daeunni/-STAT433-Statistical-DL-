{
  "nbformat": 4,
  "nbformat_minor": 0,
  "metadata": {
    "colab": {
      "name": "HW5-1(시계열).ipynb",
      "provenance": [],
      "collapsed_sections": [],
      "machine_shape": "hm",
      "authorship_tag": "ABX9TyOnjMKthQ/3MCWfw4aWkQm+"
    },
    "kernelspec": {
      "name": "python3",
      "display_name": "Python 3"
    },
    "language_info": {
      "name": "python"
    },
    "accelerator": "GPU"
  },
  "cells": [
    {
      "cell_type": "markdown",
      "metadata": {
        "id": "2cqnGuUtZMIp"
      },
      "source": [
        "# HW5\n",
        "\n",
        "1. validation data  를 따로 분리하여 overfitting  점검하고 해결하기\n",
        "2.   시계열 출력층에 L1   규제화를 부여하고 lambda  값을 변화시켜 overfitting  관점에서 설명하기"
      ]
    },
    {
      "cell_type": "markdown",
      "metadata": {
        "id": "OEZrRP1UuZBH"
      },
      "source": [
        "# Stationary? "
      ]
    },
    {
      "cell_type": "code",
      "metadata": {
        "id": "TrZE4AO-YKLn"
      },
      "source": [
        "import pandas as pd\n",
        "import numpy as np\n",
        "\n",
        "import matplotlib.pyplot as plt\n",
        "import seaborn as sns\n",
        "sns.set_style('whitegrid')\n",
        "plt.style.use(\"fivethirtyeight\")\n",
        "%matplotlib inline\n",
        "\n",
        "from pandas_datareader.data import DataReader\n",
        "from datetime import datetime"
      ],
      "execution_count": 117,
      "outputs": []
    },
    {
      "cell_type": "code",
      "metadata": {
        "id": "8-8m1LaTYM6U"
      },
      "source": [
        "# 주식 시점 입력(시작/끝)\n",
        "end = datetime.now()\n",
        "start = datetime(end.year - 1, end.month, end.day)"
      ],
      "execution_count": 118,
      "outputs": []
    },
    {
      "cell_type": "code",
      "metadata": {
        "id": "45dUgN07YM32"
      },
      "source": [
        "data= DataReader('GOOG', 'yahoo', start, end)   # 구글의 주식 데이터 가져옴"
      ],
      "execution_count": 119,
      "outputs": []
    },
    {
      "cell_type": "code",
      "metadata": {
        "colab": {
          "base_uri": "https://localhost:8080/",
          "height": 227
        },
        "id": "vPuJeviRYM2C",
        "outputId": "a9e691b0-858e-45d6-e38a-533322802090"
      },
      "source": [
        "data.head()"
      ],
      "execution_count": 120,
      "outputs": [
        {
          "output_type": "execute_result",
          "data": {
            "text/html": [
              "<div>\n",
              "<style scoped>\n",
              "    .dataframe tbody tr th:only-of-type {\n",
              "        vertical-align: middle;\n",
              "    }\n",
              "\n",
              "    .dataframe tbody tr th {\n",
              "        vertical-align: top;\n",
              "    }\n",
              "\n",
              "    .dataframe thead th {\n",
              "        text-align: right;\n",
              "    }\n",
              "</style>\n",
              "<table border=\"1\" class=\"dataframe\">\n",
              "  <thead>\n",
              "    <tr style=\"text-align: right;\">\n",
              "      <th></th>\n",
              "      <th>High</th>\n",
              "      <th>Low</th>\n",
              "      <th>Open</th>\n",
              "      <th>Close</th>\n",
              "      <th>Volume</th>\n",
              "      <th>Adj Close</th>\n",
              "    </tr>\n",
              "    <tr>\n",
              "      <th>Date</th>\n",
              "      <th></th>\n",
              "      <th></th>\n",
              "      <th></th>\n",
              "      <th></th>\n",
              "      <th></th>\n",
              "      <th></th>\n",
              "    </tr>\n",
              "  </thead>\n",
              "  <tbody>\n",
              "    <tr>\n",
              "      <th>2020-05-05</th>\n",
              "      <td>1373.939941</td>\n",
              "      <td>1337.459961</td>\n",
              "      <td>1337.920044</td>\n",
              "      <td>1351.109985</td>\n",
              "      <td>1651500</td>\n",
              "      <td>1351.109985</td>\n",
              "    </tr>\n",
              "    <tr>\n",
              "      <th>2020-05-06</th>\n",
              "      <td>1371.119995</td>\n",
              "      <td>1347.290039</td>\n",
              "      <td>1361.689941</td>\n",
              "      <td>1347.300049</td>\n",
              "      <td>1215400</td>\n",
              "      <td>1347.300049</td>\n",
              "    </tr>\n",
              "    <tr>\n",
              "      <th>2020-05-07</th>\n",
              "      <td>1377.599976</td>\n",
              "      <td>1355.270020</td>\n",
              "      <td>1365.939941</td>\n",
              "      <td>1372.560059</td>\n",
              "      <td>1397600</td>\n",
              "      <td>1372.560059</td>\n",
              "    </tr>\n",
              "    <tr>\n",
              "      <th>2020-05-08</th>\n",
              "      <td>1398.760010</td>\n",
              "      <td>1375.479980</td>\n",
              "      <td>1383.130005</td>\n",
              "      <td>1388.369995</td>\n",
              "      <td>1386900</td>\n",
              "      <td>1388.369995</td>\n",
              "    </tr>\n",
              "    <tr>\n",
              "      <th>2020-05-11</th>\n",
              "      <td>1416.530029</td>\n",
              "      <td>1377.151978</td>\n",
              "      <td>1378.280029</td>\n",
              "      <td>1403.260010</td>\n",
              "      <td>1412100</td>\n",
              "      <td>1403.260010</td>\n",
              "    </tr>\n",
              "  </tbody>\n",
              "</table>\n",
              "</div>"
            ],
            "text/plain": [
              "                   High          Low  ...   Volume    Adj Close\n",
              "Date                                  ...                      \n",
              "2020-05-05  1373.939941  1337.459961  ...  1651500  1351.109985\n",
              "2020-05-06  1371.119995  1347.290039  ...  1215400  1347.300049\n",
              "2020-05-07  1377.599976  1355.270020  ...  1397600  1372.560059\n",
              "2020-05-08  1398.760010  1375.479980  ...  1386900  1388.369995\n",
              "2020-05-11  1416.530029  1377.151978  ...  1412100  1403.260010\n",
              "\n",
              "[5 rows x 6 columns]"
            ]
          },
          "metadata": {
            "tags": []
          },
          "execution_count": 120
        }
      ]
    },
    {
      "cell_type": "code",
      "metadata": {
        "colab": {
          "base_uri": "https://localhost:8080/",
          "height": 437
        },
        "id": "dG-MN4JIYMy3",
        "outputId": "c0924fad-b0e2-4731-ce31-7364f4c2bb1f"
      },
      "source": [
        "# 종가 시각화\n",
        "plt.figure(figsize=(16,8))\n",
        "plt.title('Close Price History')\n",
        "plt.plot(data['Close'])\n",
        "plt.xlabel('Date', fontsize=18)\n",
        "plt.ylabel('Close Price USD ($)', fontsize=18)\n",
        "plt.show()"
      ],
      "execution_count": 121,
      "outputs": [
        {
          "output_type": "display_data",
          "data": {
            "image/png": "[encoded data removed]",
            "text/plain": [
              "<Figure size 1152x576 with 1 Axes>"
            ]
          },
          "metadata": {
            "tags": [],
            "needs_background": "light"
          }
        }
      ]
    },
    {
      "cell_type": "markdown",
      "metadata": {
        "id": "0I-WFCfMajDB"
      },
      "source": [
        "증가 추세를 벗어나면 일정 시간동안 추세를 벗어나있다가 느리게 전반적인 추세로 돌아오므로,       \n",
        "비정상성을 가지는 데이터임을 추측 가능"
      ]
    },
    {
      "cell_type": "code",
      "metadata": {
        "colab": {
          "base_uri": "https://localhost:8080/",
          "height": 287
        },
        "id": "-D649J-iYMwg",
        "outputId": "ec0f17dc-25f1-4b0a-f9d5-1c8a298661f3"
      },
      "source": [
        "data.describe()   # max와 min의 차이가 많이나는 상황"
      ],
      "execution_count": 122,
      "outputs": [
        {
          "output_type": "execute_result",
          "data": {
            "text/html": [
              "<div>\n",
              "<style scoped>\n",
              "    .dataframe tbody tr th:only-of-type {\n",
              "        vertical-align: middle;\n",
              "    }\n",
              "\n",
              "    .dataframe tbody tr th {\n",
              "        vertical-align: top;\n",
              "    }\n",
              "\n",
              "    .dataframe thead th {\n",
              "        text-align: right;\n",
              "    }\n",
              "</style>\n",
              "<table border=\"1\" class=\"dataframe\">\n",
              "  <thead>\n",
              "    <tr style=\"text-align: right;\">\n",
              "      <th></th>\n",
              "      <th>High</th>\n",
              "      <th>Low</th>\n",
              "      <th>Open</th>\n",
              "      <th>Close</th>\n",
              "      <th>Volume</th>\n",
              "      <th>Adj Close</th>\n",
              "    </tr>\n",
              "  </thead>\n",
              "  <tbody>\n",
              "    <tr>\n",
              "      <th>count</th>\n",
              "      <td>253.000000</td>\n",
              "      <td>253.000000</td>\n",
              "      <td>253.000000</td>\n",
              "      <td>253.000000</td>\n",
              "      <td>2.530000e+02</td>\n",
              "      <td>253.000000</td>\n",
              "    </tr>\n",
              "    <tr>\n",
              "      <th>mean</th>\n",
              "      <td>1751.659018</td>\n",
              "      <td>1712.527495</td>\n",
              "      <td>1730.181441</td>\n",
              "      <td>1732.520331</td>\n",
              "      <td>1.652827e+06</td>\n",
              "      <td>1732.520331</td>\n",
              "    </tr>\n",
              "    <tr>\n",
              "      <th>std</th>\n",
              "      <td>288.541514</td>\n",
              "      <td>285.625520</td>\n",
              "      <td>286.702364</td>\n",
              "      <td>287.053432</td>\n",
              "      <td>5.924438e+05</td>\n",
              "      <td>287.053432</td>\n",
              "    </tr>\n",
              "    <tr>\n",
              "      <th>min</th>\n",
              "      <td>1357.420044</td>\n",
              "      <td>1323.910034</td>\n",
              "      <td>1335.020020</td>\n",
              "      <td>1347.300049</td>\n",
              "      <td>1.717010e+05</td>\n",
              "      <td>1347.300049</td>\n",
              "    </tr>\n",
              "    <tr>\n",
              "      <th>25%</th>\n",
              "      <td>1506.589966</td>\n",
              "      <td>1473.079956</td>\n",
              "      <td>1490.000000</td>\n",
              "      <td>1494.489990</td>\n",
              "      <td>1.289300e+06</td>\n",
              "      <td>1494.489990</td>\n",
              "    </tr>\n",
              "    <tr>\n",
              "      <th>50%</th>\n",
              "      <td>1709.713989</td>\n",
              "      <td>1632.219971</td>\n",
              "      <td>1673.775024</td>\n",
              "      <td>1660.709961</td>\n",
              "      <td>1.535100e+06</td>\n",
              "      <td>1660.709961</td>\n",
              "    </tr>\n",
              "    <tr>\n",
              "      <th>75%</th>\n",
              "      <td>2050.989990</td>\n",
              "      <td>2002.020020</td>\n",
              "      <td>2023.369995</td>\n",
              "      <td>2024.170044</td>\n",
              "      <td>1.828400e+06</td>\n",
              "      <td>2024.170044</td>\n",
              "    </tr>\n",
              "    <tr>\n",
              "      <th>max</th>\n",
              "      <td>2452.377930</td>\n",
              "      <td>2402.280029</td>\n",
              "      <td>2410.330078</td>\n",
              "      <td>2429.889893</td>\n",
              "      <td>4.329100e+06</td>\n",
              "      <td>2429.889893</td>\n",
              "    </tr>\n",
              "  </tbody>\n",
              "</table>\n",
              "</div>"
            ],
            "text/plain": [
              "              High          Low  ...        Volume    Adj Close\n",
              "count   253.000000   253.000000  ...  2.530000e+02   253.000000\n",
              "mean   1751.659018  1712.527495  ...  1.652827e+06  1732.520331\n",
              "std     288.541514   285.625520  ...  5.924438e+05   287.053432\n",
              "min    1357.420044  1323.910034  ...  1.717010e+05  1347.300049\n",
              "25%    1506.589966  1473.079956  ...  1.289300e+06  1494.489990\n",
              "50%    1709.713989  1632.219971  ...  1.535100e+06  1660.709961\n",
              "75%    2050.989990  2002.020020  ...  1.828400e+06  2024.170044\n",
              "max    2452.377930  2402.280029  ...  4.329100e+06  2429.889893\n",
              "\n",
              "[8 rows x 6 columns]"
            ]
          },
          "metadata": {
            "tags": []
          },
          "execution_count": 122
        }
      ]
    },
    {
      "cell_type": "code",
      "metadata": {
        "colab": {
          "base_uri": "https://localhost:8080/"
        },
        "id": "nF9mKApgYMnR",
        "outputId": "039e7e8c-0292-4196-e5cc-fedfcd5ae828"
      },
      "source": [
        "## Dickey-Fuller의 단위근 검정\n",
        "from statsmodels.tsa.stattools import adfuller  # augmented 디큐플러 테스트\n",
        "result=adfuller(data['Close'])  # null은 단위근이 있다 = 이 데이터는 nonstaionary하다 \n",
        "print('검정통계량 : ', result[0])\n",
        "print('P-value : ', result[1])"
      ],
      "execution_count": 123,
      "outputs": [
        {
          "output_type": "stream",
          "text": [
            "검정통계량 :  0.26129409407405846\n",
            "P-value :  0.9754973043815989\n"
          ],
          "name": "stdout"
        }
      ]
    },
    {
      "cell_type": "markdown",
      "metadata": {
        "id": "V8zUCxf-bela"
      },
      "source": [
        "P-value가 매우 크므로 귀무가설을 기각하지 못한다. 비정상성을 지니는 데이터이다. "
      ]
    },
    {
      "cell_type": "code",
      "metadata": {
        "colab": {
          "base_uri": "https://localhost:8080/",
          "height": 541
        },
        "id": "rVQ_IJFaYMkK",
        "outputId": "4504d085-be39-4814-d611-df39b8939569"
      },
      "source": [
        "# 자기상관함수, 편자기상관함수\n",
        "from statsmodels.graphics.tsaplots import plot_acf, plot_pacf\n",
        "plot_acf(data['Close'])\n",
        "plot_pacf(data['Close'])\n",
        "plt.show()  # 지수 감소형태를 띔"
      ],
      "execution_count": 124,
      "outputs": [
        {
          "output_type": "display_data",
          "data": {
            "image/png": "[encoded data removed]",
            "text/plain": [
              "<Figure size 432x288 with 1 Axes>"
            ]
          },
          "metadata": {
            "tags": [],
            "needs_background": "light"
          }
        },
        {
          "output_type": "display_data",
          "data": {
            "image/png": "[encoded data removed]",
            "text/plain": [
              "<Figure size 432x288 with 1 Axes>"
            ]
          },
          "metadata": {
            "tags": [],
            "needs_background": "light"
          }
        }
      ]
    },
    {
      "cell_type": "markdown",
      "metadata": {
        "id": "nOxeKD53bskP"
      },
      "source": [
        "자기상관함수가 선형적으로 매우 느리게 감소하는 모습. 따라서 일일 종가는 비정상시계열이므로 차분이 필요함. "
      ]
    },
    {
      "cell_type": "code",
      "metadata": {
        "colab": {
          "base_uri": "https://localhost:8080/",
          "height": 473
        },
        "id": "AM4b_Qi9YMgX",
        "outputId": "c1d132a5-dc37-4ba6-9519-770e7bf6f323"
      },
      "source": [
        "## 로그수익률로 변화 (차분작업)\n",
        "datapct=data.pct_change()\n",
        "logreturn=np.log(1+datapct)  # 차분의 역할\n",
        "logreturn.head()\n",
        "print(logreturn.describe())  # log return 으로 바꿈\n",
        "plt.figure(figsize=(10,5))\n",
        "plt.plot(logreturn['Close'])\n",
        "plt.show()  # 0을 중심으로 매우 왔다갔다하므로 stationary"
      ],
      "execution_count": 125,
      "outputs": [
        {
          "output_type": "stream",
          "text": [
            "             High         Low        Open       Close      Volume   Adj Close\n",
            "count  252.000000  252.000000  252.000000  252.000000  252.000000  252.000000\n",
            "mean     0.002172    0.002248    0.002266    0.002211   -0.008983    0.002211\n",
            "std      0.016308    0.015902    0.018483    0.017758    0.374898    0.017758\n",
            "min     -0.050647   -0.049079   -0.057493   -0.058155   -2.324356   -0.058155\n",
            "25%     -0.006830   -0.006803   -0.007545   -0.006261   -0.199760   -0.006261\n",
            "50%      0.001169    0.003111    0.001763    0.003054   -0.012588    0.003054\n",
            "75%      0.009977    0.011488    0.012459    0.012282    0.184825    0.012282\n",
            "max      0.078985    0.053832    0.093825    0.071353    1.390467    0.071353\n"
          ],
          "name": "stdout"
        },
        {
          "output_type": "display_data",
          "data": {
            "image/png": "[encoded data removed]",
            "text/plain": [
              "<Figure size 720x360 with 1 Axes>"
            ]
          },
          "metadata": {
            "tags": [],
            "needs_background": "light"
          }
        }
      ]
    },
    {
      "cell_type": "markdown",
      "metadata": {
        "id": "c1D2enMKcL8J"
      },
      "source": [
        "로그 수익률 전환 결과 0을 중심으로 왔다갔다하므로 정상시계열일 가능성이 높음"
      ]
    },
    {
      "cell_type": "code",
      "metadata": {
        "colab": {
          "base_uri": "https://localhost:8080/"
        },
        "id": "ca4j-gurYMeB",
        "outputId": "d192f992-ba43-4e42-88bc-8307ecb1a18f"
      },
      "source": [
        "from statsmodels.tsa.stattools import adfuller  ## 차분 후 디큐플러테스트 적용\n",
        "logreturn=logreturn.dropna()  ## 차분을 취했기에 missing이 발생 > drop 해주기!\n",
        "result=adfuller(logreturn['Close'])\n",
        "print('검정통계량 : ', result[0])\n",
        "print('P-value : ', result[1])"
      ],
      "execution_count": 126,
      "outputs": [
        {
          "output_type": "stream",
          "text": [
            "검정통계량 :  -16.902822779433205\n",
            "P-value :  1.0245957068819297e-29\n"
          ],
          "name": "stdout"
        }
      ]
    },
    {
      "cell_type": "code",
      "metadata": {
        "colab": {
          "base_uri": "https://localhost:8080/",
          "height": 558
        },
        "id": "NnOaq4coYMb2",
        "outputId": "bdc15eab-a741-463d-ad40-223a84166767"
      },
      "source": [
        "from statsmodels.graphics.tsaplots import plot_acf, plot_pacf\n",
        "plot_acf(logreturn['Close'])\n",
        "plot_pacf(logreturn['Close'])\n",
        "plt.show()\n",
        "print(type(logreturn))"
      ],
      "execution_count": 127,
      "outputs": [
        {
          "output_type": "display_data",
          "data": {
            "image/png": "[encoded data removed]",
            "text/plain": [
              "<Figure size 432x288 with 1 Axes>"
            ]
          },
          "metadata": {
            "tags": [],
            "needs_background": "light"
          }
        },
        {
          "output_type": "display_data",
          "data": {
            "image/png": "[encoded data removed]",
            "text/plain": [
              "<Figure size 432x288 with 1 Axes>"
            ]
          },
          "metadata": {
            "tags": [],
            "needs_background": "light"
          }
        },
        {
          "output_type": "stream",
          "text": [
            "<class 'pandas.core.frame.DataFrame'>\n"
          ],
          "name": "stdout"
        }
      ]
    },
    {
      "cell_type": "markdown",
      "metadata": {
        "id": "2R2bwwDIcjDi"
      },
      "source": [
        "일일 종가 로그수익률의 acf와 pacf는 모두 절단형태를 띄는 모습 !    \n",
        "p는 우선 14로 설정"
      ]
    },
    {
      "cell_type": "markdown",
      "metadata": {
        "id": "1CjgFq0GnbWP"
      },
      "source": [
        "## Split"
      ]
    },
    {
      "cell_type": "markdown",
      "metadata": {
        "id": "7O6JTgG_nZed"
      },
      "source": [
        "![image.png](data:image/png;base64,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)"
      ]
    },
    {
      "cell_type": "code",
      "metadata": {
        "colab": {
          "base_uri": "https://localhost:8080/"
        },
        "id": "oVQV-J3rYMZO",
        "outputId": "86a67ca6-ee82-421a-cbe6-26cff2ebc8d9"
      },
      "source": [
        "# split \n",
        "logr1=logreturn['Close'].values  # 로그수익률\n",
        "print(logr1.shape)  \n",
        "\n",
        "logr=logr1.reshape(1,-1)\n",
        "print(logr.shape)\n",
        "\n",
        "inte=14    # p값\n",
        "\n",
        "x=[]\n",
        "y=[]\n",
        "for i in range(logr.shape[1]):\n",
        "    if i+inte>logr.shape[1]-1:\n",
        "        break\n",
        "    else:\n",
        "         xx=logr[0,i:i+inte]\n",
        "         x.append(xx)\n",
        "         yy=logr[0,i+inte]\n",
        "         y.append(yy)\n",
        "\n",
        "x=np.asarray(x)\n",
        "y=np.asarray(y)\n",
        "print(x.shape)\n",
        "print(y.shape)"
      ],
      "execution_count": 128,
      "outputs": [
        {
          "output_type": "stream",
          "text": [
            "(252,)\n",
            "(1, 252)\n",
            "(238, 14)\n",
            "(238,)\n"
          ],
          "name": "stdout"
        }
      ]
    },
    {
      "cell_type": "code",
      "metadata": {
        "id": "yStJwlW3l6Yn"
      },
      "source": [
        "# 첫 210개 시점의 로그수익률을 train. 나머지 16개 시점을 test\n",
        "xx=x[:210]\n",
        "x_test=x[210:]\n",
        "yy=y[:210]\n",
        "y_test=y[210:]"
      ],
      "execution_count": 129,
      "outputs": []
    },
    {
      "cell_type": "code",
      "metadata": {
        "colab": {
          "base_uri": "https://localhost:8080/"
        },
        "id": "TwnxM-y2pQ6V",
        "outputId": "0f36a09d-db4c-41a6-ae87-a5c5a12c53c8"
      },
      "source": [
        "# valid split\n",
        "xx.shape"
      ],
      "execution_count": 130,
      "outputs": [
        {
          "output_type": "execute_result",
          "data": {
            "text/plain": [
              "(210, 14)"
            ]
          },
          "metadata": {
            "tags": []
          },
          "execution_count": 130
        }
      ]
    },
    {
      "cell_type": "code",
      "metadata": {
        "colab": {
          "base_uri": "https://localhost:8080/",
          "height": 427
        },
        "id": "99yd3WwSnhkB",
        "outputId": "b34b3271-b98f-46ae-fc60-93f73888f91a"
      },
      "source": [
        "pd.DataFrame(xx)   # train data"
      ],
      "execution_count": 131,
      "outputs": [
        {
          "output_type": "execute_result",
          "data": {
            "text/html": [
              "<div>\n",
              "<style scoped>\n",
              "    .dataframe tbody tr th:only-of-type {\n",
              "        vertical-align: middle;\n",
              "    }\n",
              "\n",
              "    .dataframe tbody tr th {\n",
              "        vertical-align: top;\n",
              "    }\n",
              "\n",
              "    .dataframe thead th {\n",
              "        text-align: right;\n",
              "    }\n",
              "</style>\n",
              "<table border=\"1\" class=\"dataframe\">\n",
              "  <thead>\n",
              "    <tr style=\"text-align: right;\">\n",
              "      <th></th>\n",
              "      <th>0</th>\n",
              "      <th>1</th>\n",
              "      <th>2</th>\n",
              "      <th>3</th>\n",
              "      <th>4</th>\n",
              "      <th>5</th>\n",
              "      <th>6</th>\n",
              "      <th>7</th>\n",
              "      <th>8</th>\n",
              "      <th>9</th>\n",
              "      <th>10</th>\n",
              "      <th>11</th>\n",
              "      <th>12</th>\n",
              "      <th>13</th>\n",
              "    </tr>\n",
              "  </thead>\n",
              "  <tbody>\n",
              "    <tr>\n",
              "      <th>0</th>\n",
              "      <td>-0.002824</td>\n",
              "      <td>0.018575</td>\n",
              "      <td>0.011453</td>\n",
              "      <td>0.010668</td>\n",
              "      <td>-0.019806</td>\n",
              "      <td>-0.019384</td>\n",
              "      <td>0.005027</td>\n",
              "      <td>0.012501</td>\n",
              "      <td>0.007798</td>\n",
              "      <td>-0.007583</td>\n",
              "      <td>0.023909</td>\n",
              "      <td>-0.002790</td>\n",
              "      <td>0.005417</td>\n",
              "      <td>0.004669</td>\n",
              "    </tr>\n",
              "    <tr>\n",
              "      <th>1</th>\n",
              "      <td>0.018575</td>\n",
              "      <td>0.011453</td>\n",
              "      <td>0.010668</td>\n",
              "      <td>-0.019806</td>\n",
              "      <td>-0.019384</td>\n",
              "      <td>0.005027</td>\n",
              "      <td>0.012501</td>\n",
              "      <td>0.007798</td>\n",
              "      <td>-0.007583</td>\n",
              "      <td>0.023909</td>\n",
              "      <td>-0.002790</td>\n",
              "      <td>0.005417</td>\n",
              "      <td>0.004669</td>\n",
              "      <td>0.000578</td>\n",
              "    </tr>\n",
              "    <tr>\n",
              "      <th>2</th>\n",
              "      <td>0.011453</td>\n",
              "      <td>0.010668</td>\n",
              "      <td>-0.019806</td>\n",
              "      <td>-0.019384</td>\n",
              "      <td>0.005027</td>\n",
              "      <td>0.012501</td>\n",
              "      <td>0.007798</td>\n",
              "      <td>-0.007583</td>\n",
              "      <td>0.023909</td>\n",
              "      <td>-0.002790</td>\n",
              "      <td>0.005417</td>\n",
              "      <td>0.004669</td>\n",
              "      <td>0.000578</td>\n",
              "      <td>-0.000783</td>\n",
              "    </tr>\n",
              "    <tr>\n",
              "      <th>3</th>\n",
              "      <td>0.010668</td>\n",
              "      <td>-0.019806</td>\n",
              "      <td>-0.019384</td>\n",
              "      <td>0.005027</td>\n",
              "      <td>0.012501</td>\n",
              "      <td>0.007798</td>\n",
              "      <td>-0.007583</td>\n",
              "      <td>0.023909</td>\n",
              "      <td>-0.002790</td>\n",
              "      <td>0.005417</td>\n",
              "      <td>0.004669</td>\n",
              "      <td>0.000578</td>\n",
              "      <td>-0.000783</td>\n",
              "      <td>0.008568</td>\n",
              "    </tr>\n",
              "    <tr>\n",
              "      <th>4</th>\n",
              "      <td>-0.019806</td>\n",
              "      <td>-0.019384</td>\n",
              "      <td>0.005027</td>\n",
              "      <td>0.012501</td>\n",
              "      <td>0.007798</td>\n",
              "      <td>-0.007583</td>\n",
              "      <td>0.023909</td>\n",
              "      <td>-0.002790</td>\n",
              "      <td>0.005417</td>\n",
              "      <td>0.004669</td>\n",
              "      <td>0.000578</td>\n",
              "      <td>-0.000783</td>\n",
              "      <td>0.008568</td>\n",
              "      <td>0.002027</td>\n",
              "    </tr>\n",
              "    <tr>\n",
              "      <th>...</th>\n",
              "      <td>...</td>\n",
              "      <td>...</td>\n",
              "      <td>...</td>\n",
              "      <td>...</td>\n",
              "      <td>...</td>\n",
              "      <td>...</td>\n",
              "      <td>...</td>\n",
              "      <td>...</td>\n",
              "      <td>...</td>\n",
              "      <td>...</td>\n",
              "      <td>...</td>\n",
              "      <td>...</td>\n",
              "      <td>...</td>\n",
              "      <td>...</td>\n",
              "    </tr>\n",
              "    <tr>\n",
              "      <th>205</th>\n",
              "      <td>0.021684</td>\n",
              "      <td>-0.002728</td>\n",
              "      <td>-0.023952</td>\n",
              "      <td>0.010982</td>\n",
              "      <td>0.028600</td>\n",
              "      <td>-0.040836</td>\n",
              "      <td>0.013996</td>\n",
              "      <td>0.001134</td>\n",
              "      <td>0.028656</td>\n",
              "      <td>-0.025309</td>\n",
              "      <td>0.002214</td>\n",
              "      <td>0.012518</td>\n",
              "      <td>-0.000688</td>\n",
              "      <td>-0.026586</td>\n",
              "    </tr>\n",
              "    <tr>\n",
              "      <th>206</th>\n",
              "      <td>-0.002728</td>\n",
              "      <td>-0.023952</td>\n",
              "      <td>0.010982</td>\n",
              "      <td>0.028600</td>\n",
              "      <td>-0.040836</td>\n",
              "      <td>0.013996</td>\n",
              "      <td>0.001134</td>\n",
              "      <td>0.028656</td>\n",
              "      <td>-0.025309</td>\n",
              "      <td>0.002214</td>\n",
              "      <td>0.012518</td>\n",
              "      <td>-0.000688</td>\n",
              "      <td>-0.026586</td>\n",
              "      <td>0.003422</td>\n",
              "    </tr>\n",
              "    <tr>\n",
              "      <th>207</th>\n",
              "      <td>-0.023952</td>\n",
              "      <td>0.010982</td>\n",
              "      <td>0.028600</td>\n",
              "      <td>-0.040836</td>\n",
              "      <td>0.013996</td>\n",
              "      <td>0.001134</td>\n",
              "      <td>0.028656</td>\n",
              "      <td>-0.025309</td>\n",
              "      <td>0.002214</td>\n",
              "      <td>0.012518</td>\n",
              "      <td>-0.000688</td>\n",
              "      <td>-0.026586</td>\n",
              "      <td>0.003422</td>\n",
              "      <td>-0.002259</td>\n",
              "    </tr>\n",
              "    <tr>\n",
              "      <th>208</th>\n",
              "      <td>0.010982</td>\n",
              "      <td>0.028600</td>\n",
              "      <td>-0.040836</td>\n",
              "      <td>0.013996</td>\n",
              "      <td>0.001134</td>\n",
              "      <td>0.028656</td>\n",
              "      <td>-0.025309</td>\n",
              "      <td>0.002214</td>\n",
              "      <td>0.012518</td>\n",
              "      <td>-0.000688</td>\n",
              "      <td>-0.026586</td>\n",
              "      <td>0.003422</td>\n",
              "      <td>-0.002259</td>\n",
              "      <td>0.007024</td>\n",
              "    </tr>\n",
              "    <tr>\n",
              "      <th>209</th>\n",
              "      <td>0.028600</td>\n",
              "      <td>-0.040836</td>\n",
              "      <td>0.013996</td>\n",
              "      <td>0.001134</td>\n",
              "      <td>0.028656</td>\n",
              "      <td>-0.025309</td>\n",
              "      <td>0.002214</td>\n",
              "      <td>0.012518</td>\n",
              "      <td>-0.000688</td>\n",
              "      <td>-0.026586</td>\n",
              "      <td>0.003422</td>\n",
              "      <td>-0.002259</td>\n",
              "      <td>0.007024</td>\n",
              "      <td>-0.003855</td>\n",
              "    </tr>\n",
              "  </tbody>\n",
              "</table>\n",
              "<p>210 rows × 14 columns</p>\n",
              "</div>"
            ],
            "text/plain": [
              "           0         1         2   ...        11        12        13\n",
              "0   -0.002824  0.018575  0.011453  ... -0.002790  0.005417  0.004669\n",
              "1    0.018575  0.011453  0.010668  ...  0.005417  0.004669  0.000578\n",
              "2    0.011453  0.010668 -0.019806  ...  0.004669  0.000578 -0.000783\n",
              "3    0.010668 -0.019806 -0.019384  ...  0.000578 -0.000783  0.008568\n",
              "4   -0.019806 -0.019384  0.005027  ... -0.000783  0.008568  0.002027\n",
              "..        ...       ...       ...  ...       ...       ...       ...\n",
              "205  0.021684 -0.002728 -0.023952  ...  0.012518 -0.000688 -0.026586\n",
              "206 -0.002728 -0.023952  0.010982  ... -0.000688 -0.026586  0.003422\n",
              "207 -0.023952  0.010982  0.028600  ... -0.026586  0.003422 -0.002259\n",
              "208  0.010982  0.028600 -0.040836  ...  0.003422 -0.002259  0.007024\n",
              "209  0.028600 -0.040836  0.013996  ... -0.002259  0.007024 -0.003855\n",
              "\n",
              "[210 rows x 14 columns]"
            ]
          },
          "metadata": {
            "tags": []
          },
          "execution_count": 131
        }
      ]
    },
    {
      "cell_type": "code",
      "metadata": {
        "id": "OHaLRbtgmdpw"
      },
      "source": [
        "## train의 일부분을 valid로 나눔 (70:30으로)\n",
        "x_train=xx[:147]\n",
        "x_valid=xx[147:]\n",
        "y_train=yy[:147]\n",
        "y_valid=yy[147:]"
      ],
      "execution_count": 132,
      "outputs": []
    },
    {
      "cell_type": "code",
      "metadata": {
        "colab": {
          "base_uri": "https://localhost:8080/"
        },
        "id": "8KcTyWuxqBLt",
        "outputId": "72e0eed2-a7d8-450f-f68e-4f3b1f1dd776"
      },
      "source": [
        "print(x_train.shape, x_valid.shape, y_train.shape, y_valid.shape)   # valid 구성 완료"
      ],
      "execution_count": 133,
      "outputs": [
        {
          "output_type": "stream",
          "text": [
            "(147, 14) (63, 14) (147,) (63,)\n"
          ],
          "name": "stdout"
        }
      ]
    },
    {
      "cell_type": "markdown",
      "metadata": {
        "id": "RZdXQG3liOGQ"
      },
      "source": [
        "# Modeling"
      ]
    },
    {
      "cell_type": "markdown",
      "metadata": {
        "id": "YH26tSTqsc2-"
      },
      "source": [
        "## AR + Dense"
      ]
    },
    {
      "cell_type": "markdown",
      "metadata": {
        "id": "AL9aYwlf0cs6"
      },
      "source": [
        "원래 모델"
      ]
    },
    {
      "cell_type": "code",
      "metadata": {
        "colab": {
          "base_uri": "https://localhost:8080/"
        },
        "id": "mhigJ2kFYMUM",
        "outputId": "f418278a-9ac9-41ec-87db-8765fc8f4638"
      },
      "source": [
        "# 원래 모델 \n",
        "from tensorflow.keras.models import Sequential\n",
        "from tensorflow.keras.layers import Dense,GRU,LSTM\n",
        "model=Sequential()\n",
        "model.add(Dense(32,activation='relu',input_shape=(14,)))\n",
        "model.add(Dense(1))                \n",
        "model.summary()"
      ],
      "execution_count": 134,
      "outputs": [
        {
          "output_type": "stream",
          "text": [
            "Model: \"sequential_27\"\n",
            "_________________________________________________________________\n",
            "Layer (type)                 Output Shape              Param #   \n",
            "=================================================================\n",
            "dense_36 (Dense)             (None, 32)                480       \n",
            "_________________________________________________________________\n",
            "dense_37 (Dense)             (None, 1)                 33        \n",
            "=================================================================\n",
            "Total params: 513\n",
            "Trainable params: 513\n",
            "Non-trainable params: 0\n",
            "_________________________________________________________________\n"
          ],
          "name": "stdout"
        }
      ]
    },
    {
      "cell_type": "code",
      "metadata": {
        "colab": {
          "base_uri": "https://localhost:8080/"
        },
        "id": "XyLHc4QHzUnR",
        "outputId": "bc5293f6-34e4-4b30-cd3e-812852844983"
      },
      "source": [
        "model.compile(optimizer='rmsprop', loss='mse',metrics=['mae'])\n",
        "history = model.fit(x_train,y_train,epochs=30,batch_size=32,  validation_data=(x_valid, y_valid))"
      ],
      "execution_count": 135,
      "outputs": [
        {
          "output_type": "stream",
          "text": [
            "Epoch 1/30\n",
            "5/5 [==============================] - 1s 43ms/step - loss: 4.0851e-04 - mae: 0.0154 - val_loss: 4.2815e-04 - val_mae: 0.0151\n",
            "Epoch 2/30\n",
            "5/5 [==============================] - 0s 12ms/step - loss: 3.4299e-04 - mae: 0.0136 - val_loss: 4.2751e-04 - val_mae: 0.0151\n",
            "Epoch 3/30\n",
            "5/5 [==============================] - 0s 11ms/step - loss: 3.0873e-04 - mae: 0.0132 - val_loss: 4.2314e-04 - val_mae: 0.0151\n",
            "Epoch 4/30\n",
            "5/5 [==============================] - 0s 11ms/step - loss: 2.7786e-04 - mae: 0.0120 - val_loss: 4.3143e-04 - val_mae: 0.0153\n",
            "Epoch 5/30\n",
            "5/5 [==============================] - 0s 11ms/step - loss: 2.7992e-04 - mae: 0.0128 - val_loss: 4.1226e-04 - val_mae: 0.0148\n",
            "Epoch 6/30\n",
            "5/5 [==============================] - 0s 11ms/step - loss: 2.8025e-04 - mae: 0.0126 - val_loss: 4.1994e-04 - val_mae: 0.0149\n",
            "Epoch 7/30\n",
            "5/5 [==============================] - 0s 12ms/step - loss: 2.4862e-04 - mae: 0.0118 - val_loss: 4.2561e-04 - val_mae: 0.0150\n",
            "Epoch 8/30\n",
            "5/5 [==============================] - 0s 11ms/step - loss: 2.4763e-04 - mae: 0.0118 - val_loss: 4.2144e-04 - val_mae: 0.0150\n",
            "Epoch 9/30\n",
            "5/5 [==============================] - 0s 11ms/step - loss: 2.5672e-04 - mae: 0.0120 - val_loss: 4.1620e-04 - val_mae: 0.0148\n",
            "Epoch 10/30\n",
            "5/5 [==============================] - 0s 11ms/step - loss: 2.5516e-04 - mae: 0.0122 - val_loss: 4.1238e-04 - val_mae: 0.0147\n",
            "Epoch 11/30\n",
            "5/5 [==============================] - 0s 12ms/step - loss: 2.4625e-04 - mae: 0.0112 - val_loss: 4.0889e-04 - val_mae: 0.0146\n",
            "Epoch 12/30\n",
            "5/5 [==============================] - 0s 11ms/step - loss: 2.6856e-04 - mae: 0.0122 - val_loss: 4.2259e-04 - val_mae: 0.0150\n",
            "Epoch 13/30\n",
            "5/5 [==============================] - 0s 11ms/step - loss: 2.7566e-04 - mae: 0.0123 - val_loss: 4.2132e-04 - val_mae: 0.0149\n",
            "Epoch 14/30\n",
            "5/5 [==============================] - 0s 11ms/step - loss: 2.6161e-04 - mae: 0.0119 - val_loss: 4.1317e-04 - val_mae: 0.0147\n",
            "Epoch 15/30\n",
            "5/5 [==============================] - 0s 11ms/step - loss: 2.7303e-04 - mae: 0.0121 - val_loss: 4.1650e-04 - val_mae: 0.0150\n",
            "Epoch 16/30\n",
            "5/5 [==============================] - 0s 11ms/step - loss: 2.2967e-04 - mae: 0.0106 - val_loss: 4.4295e-04 - val_mae: 0.0155\n",
            "Epoch 17/30\n",
            "5/5 [==============================] - 0s 11ms/step - loss: 2.1285e-04 - mae: 0.0110 - val_loss: 4.1738e-04 - val_mae: 0.0150\n",
            "Epoch 18/30\n",
            "5/5 [==============================] - 0s 11ms/step - loss: 2.6498e-04 - mae: 0.0119 - val_loss: 4.2238e-04 - val_mae: 0.0150\n",
            "Epoch 19/30\n",
            "5/5 [==============================] - 0s 11ms/step - loss: 2.2600e-04 - mae: 0.0109 - val_loss: 4.4366e-04 - val_mae: 0.0160\n",
            "Epoch 20/30\n",
            "5/5 [==============================] - 0s 11ms/step - loss: 2.4798e-04 - mae: 0.0111 - val_loss: 4.1797e-04 - val_mae: 0.0150\n",
            "Epoch 21/30\n",
            "5/5 [==============================] - 0s 10ms/step - loss: 2.1490e-04 - mae: 0.0108 - val_loss: 4.3597e-04 - val_mae: 0.0153\n",
            "Epoch 22/30\n",
            "5/5 [==============================] - 0s 11ms/step - loss: 2.2206e-04 - mae: 0.0109 - val_loss: 4.2251e-04 - val_mae: 0.0150\n",
            "Epoch 23/30\n",
            "5/5 [==============================] - 0s 11ms/step - loss: 2.1979e-04 - mae: 0.0104 - val_loss: 4.2389e-04 - val_mae: 0.0152\n",
            "Epoch 24/30\n",
            "5/5 [==============================] - 0s 14ms/step - loss: 2.3735e-04 - mae: 0.0109 - val_loss: 4.3757e-04 - val_mae: 0.0154\n",
            "Epoch 25/30\n",
            "5/5 [==============================] - 0s 12ms/step - loss: 1.9690e-04 - mae: 0.0103 - val_loss: 4.5464e-04 - val_mae: 0.0158\n",
            "Epoch 26/30\n",
            "5/5 [==============================] - 0s 12ms/step - loss: 2.4197e-04 - mae: 0.0115 - val_loss: 4.3051e-04 - val_mae: 0.0153\n",
            "Epoch 27/30\n",
            "5/5 [==============================] - 0s 11ms/step - loss: 2.0667e-04 - mae: 0.0103 - val_loss: 4.5181e-04 - val_mae: 0.0158\n",
            "Epoch 28/30\n",
            "5/5 [==============================] - 0s 11ms/step - loss: 2.0438e-04 - mae: 0.0107 - val_loss: 4.2565e-04 - val_mae: 0.0152\n",
            "Epoch 29/30\n",
            "5/5 [==============================] - 0s 11ms/step - loss: 2.1130e-04 - mae: 0.0104 - val_loss: 4.3341e-04 - val_mae: 0.0155\n",
            "Epoch 30/30\n",
            "5/5 [==============================] - 0s 11ms/step - loss: 1.7558e-04 - mae: 0.0096 - val_loss: 4.1668e-04 - val_mae: 0.0151\n"
          ],
          "name": "stdout"
        }
      ]
    },
    {
      "cell_type": "code",
      "metadata": {
        "colab": {
          "base_uri": "https://localhost:8080/",
          "height": 279
        },
        "id": "IgF0a5SzzUku",
        "outputId": "9573922c-a397-42d7-fad2-9036386ccb8d"
      },
      "source": [
        "loss = history.history['loss']\n",
        "val_loss = history.history['val_loss']\n",
        "epochs = range(1, len(loss)+1)\n",
        "plt.figure()\n",
        "plt.plot(epochs, loss, label='Training loss')\n",
        "plt.plot(epochs, val_loss, label='Validation loss')\n",
        "plt.title('Training and Valdation loss')\n",
        "plt.legend()\n",
        "plt.show()  "
      ],
      "execution_count": 136,
      "outputs": [
        {
          "output_type": "display_data",
          "data": {
            "image/png": "[encoded data removed]",
            "text/plain": [
              "<Figure size 432x288 with 1 Axes>"
            ]
          },
          "metadata": {
            "tags": [],
            "needs_background": "light"
          }
        }
      ]
    },
    {
      "cell_type": "code",
      "metadata": {
        "colab": {
          "base_uri": "https://localhost:8080/",
          "height": 279
        },
        "id": "stOS01TPzWzi",
        "outputId": "2e9f7f64-d655-41da-bfea-008a38dfefc3"
      },
      "source": [
        "# mae\n",
        "loss = history.history['mae']\n",
        "val_loss = history.history['val_mae']\n",
        "epochs = range(1, len(loss)+1)\n",
        "plt.figure()\n",
        "plt.plot(epochs, loss, label='Training MAE')\n",
        "plt.plot(epochs, val_loss, label='Validation MAE')\n",
        "plt.title('Training and Valdation MAE')\n",
        "plt.legend()\n",
        "plt.show()  "
      ],
      "execution_count": 137,
      "outputs": [
        {
          "output_type": "display_data",
          "data": {
            "image/png": "[encoded data removed]",
            "text/plain": [
              "<Figure size 432x288 with 1 Axes>"
            ]
          },
          "metadata": {
            "tags": [],
            "needs_background": "light"
          }
        }
      ]
    },
    {
      "cell_type": "markdown",
      "metadata": {
        "id": "JkpfLt4Z0aRs"
      },
      "source": [
        "바꾼 모델 "
      ]
    },
    {
      "cell_type": "code",
      "metadata": {
        "colab": {
          "base_uri": "https://localhost:8080/"
        },
        "id": "3t6ZoK8txImQ",
        "outputId": "a4613f46-43bc-4b30-d543-8d42e28c3f24"
      },
      "source": [
        "import tensorflow as tf\n",
        "from tensorflow.keras.models import Sequential\n",
        "from tensorflow.keras.layers import Dense,GRU,LSTM, Dropout\n",
        "model=Sequential()\n",
        "model.add(Dense(32,activation='relu',kernel_initializer='he_normal', input_shape=(14,)))\n",
        "model.add(Dropout(0.5))\n",
        "model.add(Dense(1, kernel_regularizer=tf.keras.regularizers.L1(0.01)))                \n",
        "model.summary()"
      ],
      "execution_count": 138,
      "outputs": [
        {
          "output_type": "stream",
          "text": [
            "Model: \"sequential_28\"\n",
            "_________________________________________________________________\n",
            "Layer (type)                 Output Shape              Param #   \n",
            "=================================================================\n",
            "dense_38 (Dense)             (None, 32)                480       \n",
            "_________________________________________________________________\n",
            "dropout_4 (Dropout)          (None, 32)                0         \n",
            "_________________________________________________________________\n",
            "dense_39 (Dense)             (None, 1)                 33        \n",
            "=================================================================\n",
            "Total params: 513\n",
            "Trainable params: 513\n",
            "Non-trainable params: 0\n",
            "_________________________________________________________________\n"
          ],
          "name": "stdout"
        }
      ]
    },
    {
      "cell_type": "code",
      "metadata": {
        "colab": {
          "base_uri": "https://localhost:8080/"
        },
        "id": "TXW_EglXxGGM",
        "outputId": "5ca2f1aa-2706-45ba-ac1c-8605e7e30de9"
      },
      "source": [
        "model.compile(optimizer='rmsprop', loss='mse',metrics=['mae'])\n",
        "history = model.fit(x_train,y_train,epochs=30,batch_size=32,  validation_data=(x_valid, y_valid))"
      ],
      "execution_count": 139,
      "outputs": [
        {
          "output_type": "stream",
          "text": [
            "Epoch 1/30\n",
            "5/5 [==============================] - 1s 47ms/step - loss: 0.0634 - mae: 0.0281 - val_loss: 0.0605 - val_mae: 0.0214\n",
            "Epoch 2/30\n",
            "5/5 [==============================] - 0s 12ms/step - loss: 0.0602 - mae: 0.0221 - val_loss: 0.0582 - val_mae: 0.0199\n",
            "Epoch 3/30\n",
            "5/5 [==============================] - 0s 11ms/step - loss: 0.0579 - mae: 0.0212 - val_loss: 0.0563 - val_mae: 0.0190\n",
            "Epoch 4/30\n",
            "5/5 [==============================] - 0s 11ms/step - loss: 0.0561 - mae: 0.0212 - val_loss: 0.0546 - val_mae: 0.0181\n",
            "Epoch 5/30\n",
            "5/5 [==============================] - 0s 11ms/step - loss: 0.0544 - mae: 0.0198 - val_loss: 0.0529 - val_mae: 0.0174\n",
            "Epoch 6/30\n",
            "5/5 [==============================] - 0s 11ms/step - loss: 0.0526 - mae: 0.0181 - val_loss: 0.0513 - val_mae: 0.0171\n",
            "Epoch 7/30\n",
            "5/5 [==============================] - 0s 11ms/step - loss: 0.0512 - mae: 0.0188 - val_loss: 0.0498 - val_mae: 0.0167\n",
            "Epoch 8/30\n",
            "5/5 [==============================] - 0s 11ms/step - loss: 0.0495 - mae: 0.0172 - val_loss: 0.0484 - val_mae: 0.0164\n",
            "Epoch 9/30\n",
            "5/5 [==============================] - 0s 11ms/step - loss: 0.0481 - mae: 0.0169 - val_loss: 0.0469 - val_mae: 0.0160\n",
            "Epoch 10/30\n",
            "5/5 [==============================] - 0s 11ms/step - loss: 0.0467 - mae: 0.0164 - val_loss: 0.0455 - val_mae: 0.0156\n",
            "Epoch 11/30\n",
            "5/5 [==============================] - 0s 11ms/step - loss: 0.0452 - mae: 0.0151 - val_loss: 0.0441 - val_mae: 0.0153\n",
            "Epoch 12/30\n",
            "5/5 [==============================] - 0s 11ms/step - loss: 0.0438 - mae: 0.0149 - val_loss: 0.0427 - val_mae: 0.0150\n",
            "Epoch 13/30\n",
            "5/5 [==============================] - 0s 11ms/step - loss: 0.0424 - mae: 0.0149 - val_loss: 0.0413 - val_mae: 0.0149\n",
            "Epoch 14/30\n",
            "5/5 [==============================] - 0s 11ms/step - loss: 0.0409 - mae: 0.0147 - val_loss: 0.0399 - val_mae: 0.0148\n",
            "Epoch 15/30\n",
            "5/5 [==============================] - 0s 11ms/step - loss: 0.0396 - mae: 0.0154 - val_loss: 0.0385 - val_mae: 0.0146\n",
            "Epoch 16/30\n",
            "5/5 [==============================] - 0s 12ms/step - loss: 0.0381 - mae: 0.0135 - val_loss: 0.0372 - val_mae: 0.0146\n",
            "Epoch 17/30\n",
            "5/5 [==============================] - 0s 11ms/step - loss: 0.0369 - mae: 0.0152 - val_loss: 0.0360 - val_mae: 0.0144\n",
            "Epoch 18/30\n",
            "5/5 [==============================] - 0s 12ms/step - loss: 0.0357 - mae: 0.0139 - val_loss: 0.0348 - val_mae: 0.0143\n",
            "Epoch 19/30\n",
            "5/5 [==============================] - 0s 11ms/step - loss: 0.0345 - mae: 0.0148 - val_loss: 0.0336 - val_mae: 0.0141\n",
            "Epoch 20/30\n",
            "5/5 [==============================] - 0s 11ms/step - loss: 0.0333 - mae: 0.0139 - val_loss: 0.0325 - val_mae: 0.0140\n",
            "Epoch 21/30\n",
            "5/5 [==============================] - 0s 11ms/step - loss: 0.0321 - mae: 0.0131 - val_loss: 0.0313 - val_mae: 0.0140\n",
            "Epoch 22/30\n",
            "5/5 [==============================] - 0s 11ms/step - loss: 0.0310 - mae: 0.0131 - val_loss: 0.0302 - val_mae: 0.0140\n",
            "Epoch 23/30\n",
            "5/5 [==============================] - 0s 11ms/step - loss: 0.0298 - mae: 0.0126 - val_loss: 0.0290 - val_mae: 0.0141\n",
            "Epoch 24/30\n",
            "5/5 [==============================] - 0s 12ms/step - loss: 0.0287 - mae: 0.0138 - val_loss: 0.0279 - val_mae: 0.0138\n",
            "Epoch 25/30\n",
            "5/5 [==============================] - 0s 11ms/step - loss: 0.0276 - mae: 0.0128 - val_loss: 0.0268 - val_mae: 0.0138\n",
            "Epoch 26/30\n",
            "5/5 [==============================] - 0s 11ms/step - loss: 0.0265 - mae: 0.0129 - val_loss: 0.0257 - val_mae: 0.0136\n",
            "Epoch 27/30\n",
            "5/5 [==============================] - 0s 11ms/step - loss: 0.0254 - mae: 0.0124 - val_loss: 0.0247 - val_mae: 0.0135\n",
            "Epoch 28/30\n",
            "5/5 [==============================] - 0s 12ms/step - loss: 0.0245 - mae: 0.0145 - val_loss: 0.0238 - val_mae: 0.0135\n",
            "Epoch 29/30\n",
            "5/5 [==============================] - 0s 13ms/step - loss: 0.0235 - mae: 0.0132 - val_loss: 0.0229 - val_mae: 0.0137\n",
            "Epoch 30/30\n",
            "5/5 [==============================] - 0s 11ms/step - loss: 0.0227 - mae: 0.0136 - val_loss: 0.0220 - val_mae: 0.0134\n"
          ],
          "name": "stdout"
        }
      ]
    },
    {
      "cell_type": "code",
      "metadata": {
        "colab": {
          "base_uri": "https://localhost:8080/",
          "height": 279
        },
        "id": "hKWIZejsjiA7",
        "outputId": "9db0c8fa-da28-4f63-9a27-10bb1fba11e3"
      },
      "source": [
        "loss = history.history['loss']\n",
        "val_loss = history.history['val_loss']\n",
        "epochs = range(1, len(loss)+1)\n",
        "plt.figure()\n",
        "plt.plot(epochs, loss, label='Training loss')\n",
        "plt.plot(epochs, val_loss, label='Validation loss')\n",
        "plt.title('Training and Valdation loss')\n",
        "plt.legend()\n",
        "plt.show()  "
      ],
      "execution_count": 140,
      "outputs": [
        {
          "output_type": "display_data",
          "data": {
            "image/png": "[encoded data removed]",
            "text/plain": [
              "<Figure size 432x288 with 1 Axes>"
            ]
          },
          "metadata": {
            "tags": [],
            "needs_background": "light"
          }
        }
      ]
    },
    {
      "cell_type": "code",
      "metadata": {
        "colab": {
          "base_uri": "https://localhost:8080/",
          "height": 279
        },
        "id": "M7jyQlQRta3a",
        "outputId": "4b95de75-2239-4050-d407-0702d7381a44"
      },
      "source": [
        "# mae\n",
        "loss = history.history['mae']\n",
        "val_loss = history.history['val_mae']\n",
        "epochs = range(1, len(loss)+1)\n",
        "plt.figure()\n",
        "plt.plot(epochs, loss, label='Training MAE')\n",
        "plt.plot(epochs, val_loss, label='Validation MAE')\n",
        "plt.title('Training and Valdation MAE')\n",
        "plt.legend()\n",
        "plt.show()  "
      ],
      "execution_count": 141,
      "outputs": [
        {
          "output_type": "display_data",
          "data": {
            "image/png": "[encoded data removed]",
            "text/plain": [
              "<Figure size 432x288 with 1 Axes>"
            ]
          },
          "metadata": {
            "tags": [],
            "needs_background": "light"
          }
        }
      ]
    },
    {
      "cell_type": "code",
      "metadata": {
        "colab": {
          "base_uri": "https://localhost:8080/"
        },
        "id": "BOZOVpLnsVGD",
        "outputId": "5a790f2e-28a5-4d17-963c-40b6444f4d62"
      },
      "source": [
        "# evaluate\n",
        "loss_acc=model.evaluate(x_train,y_train)\n",
        "loss_valid=model.evaluate(x_valid,y_valid)\n",
        "los_test=model.evaluate(x_test,y_test)\n",
        "print(loss_acc)\n",
        "print(loss_valid)\n",
        "print(los_test)"
      ],
      "execution_count": 142,
      "outputs": [
        {
          "output_type": "stream",
          "text": [
            "5/5 [==============================] - 0s 2ms/step - loss: 0.0219 - mae: 0.0130\n",
            "2/2 [==============================] - 0s 6ms/step - loss: 0.0220 - mae: 0.0134\n",
            "1/1 [==============================] - 0s 17ms/step - loss: 0.0218 - mae: 0.0107\n",
            "[0.021922871470451355, 0.01300086546689272]\n",
            "[0.021997565403580666, 0.013430379331111908]\n",
            "[0.021837500855326653, 0.010728172026574612]\n"
          ],
          "name": "stdout"
        }
      ]
    },
    {
      "cell_type": "markdown",
      "metadata": {
        "id": "PKlYXXja0h6q"
      },
      "source": [
        "### L1 규제화 lambda값 변화시키기"
      ]
    },
    {
      "cell_type": "code",
      "metadata": {
        "colab": {
          "base_uri": "https://localhost:8080/",
          "height": 1000
        },
        "id": "zBM6ru4l0BCv",
        "outputId": "e90e9db7-0302-40d4-8473-bcc7ef0362c7"
      },
      "source": [
        "lambda_list = [0.0000000001, 0.0000001, 0.0001, 0.001, 0.01, 0.3, 0.8 ]\n",
        "\n",
        "train_errors = []\n",
        "valid_errors = []\n",
        "test_errors = [] \n",
        "\n",
        "for i in lambda_list:\n",
        "  model=Sequential()\n",
        "  model.add(Dense(32,activation='relu',kernel_initializer='he_normal', input_shape=(14,)))\n",
        "  model.add(Dropout(0.5))\n",
        "  model.add(Dense(1, kernel_regularizer=tf.keras.regularizers.L1(i)))                \n",
        "  model.compile(optimizer='rmsprop', loss='mse',metrics=['mae'])\n",
        "  model.fit(x_train,y_train,epochs=30,batch_size=32,  validation_data=(x_valid, y_valid))\n",
        "  train_errors.append(model.evaluate(x_train,y_train)[1])\n",
        "  valid_errors.append(model.evaluate(x_valid,y_valid)[1])\n",
        "  test_errors.append(model.evaluate(x_test,y_test)[1])\n",
        "\n",
        "x = np.arange(len(lambda_list)) + 1\n",
        "plt.plot(x, train_errors, label='Training MAE') \n",
        "plt.plot(x, valid_errors, label='Valid MAE') \n",
        "plt.plot(x, test_errors, label='Testing MAE') \n",
        "plt.xlabel('Lambda')\n",
        "plt.ylabel('Total MAE')\n",
        "plt.legend()\n",
        "plt.title('MAE per Lambda change')\n",
        "plt.plot() "
      ],
      "execution_count": 155,
      "outputs": [
        {
          "output_type": "stream",
          "text": [
            "Epoch 1/30\n",
            "5/5 [==============================] - 1s 49ms/step - loss: 8.3307e-04 - mae: 0.0235 - val_loss: 5.1027e-04 - val_mae: 0.0172\n",
            "Epoch 2/30\n",
            "5/5 [==============================] - 0s 12ms/step - loss: 6.9245e-04 - mae: 0.0206 - val_loss: 4.9820e-04 - val_mae: 0.0169\n",
            "Epoch 3/30\n",
            "5/5 [==============================] - 0s 12ms/step - loss: 6.2983e-04 - mae: 0.0197 - val_loss: 4.6738e-04 - val_mae: 0.0165\n",
            "Epoch 4/30\n",
            "5/5 [==============================] - 0s 12ms/step - loss: 5.6988e-04 - mae: 0.0192 - val_loss: 4.4726e-04 - val_mae: 0.0160\n",
            "Epoch 5/30\n",
            "5/5 [==============================] - 0s 12ms/step - loss: 7.0241e-04 - mae: 0.0191 - val_loss: 4.3220e-04 - val_mae: 0.0158\n",
            "Epoch 6/30\n",
            "5/5 [==============================] - 0s 12ms/step - loss: 5.6399e-04 - mae: 0.0173 - val_loss: 4.3763e-04 - val_mae: 0.0156\n",
            "Epoch 7/30\n",
            "5/5 [==============================] - 0s 12ms/step - loss: 4.9631e-04 - mae: 0.0163 - val_loss: 4.2581e-04 - val_mae: 0.0154\n",
            "Epoch 8/30\n",
            "5/5 [==============================] - 0s 12ms/step - loss: 4.4779e-04 - mae: 0.0159 - val_loss: 4.1526e-04 - val_mae: 0.0152\n",
            "Epoch 9/30\n",
            "5/5 [==============================] - 0s 12ms/step - loss: 4.6388e-04 - mae: 0.0164 - val_loss: 4.1718e-04 - val_mae: 0.0153\n",
            "Epoch 10/30\n",
            "5/5 [==============================] - 0s 13ms/step - loss: 3.9545e-04 - mae: 0.0153 - val_loss: 4.3153e-04 - val_mae: 0.0152\n",
            "Epoch 11/30\n",
            "5/5 [==============================] - 0s 12ms/step - loss: 4.3191e-04 - mae: 0.0156 - val_loss: 4.2205e-04 - val_mae: 0.0150\n",
            "Epoch 12/30\n",
            "5/5 [==============================] - 0s 12ms/step - loss: 3.9070e-04 - mae: 0.0148 - val_loss: 4.2707e-04 - val_mae: 0.0150\n",
            "Epoch 13/30\n",
            "5/5 [==============================] - 0s 11ms/step - loss: 4.3066e-04 - mae: 0.0152 - val_loss: 4.1758e-04 - val_mae: 0.0149\n",
            "Epoch 14/30\n",
            "5/5 [==============================] - 0s 12ms/step - loss: 3.7296e-04 - mae: 0.0151 - val_loss: 4.0816e-04 - val_mae: 0.0147\n",
            "Epoch 15/30\n",
            "5/5 [==============================] - 0s 11ms/step - loss: 3.6399e-04 - mae: 0.0146 - val_loss: 4.0238e-04 - val_mae: 0.0146\n",
            "Epoch 16/30\n",
            "5/5 [==============================] - 0s 11ms/step - loss: 3.5433e-04 - mae: 0.0143 - val_loss: 4.1376e-04 - val_mae: 0.0147\n",
            "Epoch 17/30\n",
            "5/5 [==============================] - 0s 11ms/step - loss: 3.3514e-04 - mae: 0.0133 - val_loss: 4.2889e-04 - val_mae: 0.0150\n",
            "Epoch 18/30\n",
            "5/5 [==============================] - 0s 12ms/step - loss: 3.3642e-04 - mae: 0.0136 - val_loss: 4.2618e-04 - val_mae: 0.0149\n",
            "Epoch 19/30\n",
            "5/5 [==============================] - 0s 12ms/step - loss: 3.4025e-04 - mae: 0.0140 - val_loss: 4.1618e-04 - val_mae: 0.0147\n",
            "Epoch 20/30\n",
            "5/5 [==============================] - 0s 12ms/step - loss: 3.5663e-04 - mae: 0.0151 - val_loss: 4.1307e-04 - val_mae: 0.0146\n",
            "Epoch 21/30\n",
            "5/5 [==============================] - 0s 12ms/step - loss: 2.8472e-04 - mae: 0.0123 - val_loss: 4.1087e-04 - val_mae: 0.0145\n",
            "Epoch 22/30\n",
            "5/5 [==============================] - 0s 13ms/step - loss: 3.6517e-04 - mae: 0.0142 - val_loss: 4.0349e-04 - val_mae: 0.0143\n",
            "Epoch 23/30\n",
            "5/5 [==============================] - 0s 12ms/step - loss: 3.1650e-04 - mae: 0.0133 - val_loss: 4.0248e-04 - val_mae: 0.0143\n",
            "Epoch 24/30\n",
            "5/5 [==============================] - 0s 11ms/step - loss: 3.5098e-04 - mae: 0.0142 - val_loss: 4.0440e-04 - val_mae: 0.0142\n",
            "Epoch 25/30\n",
            "5/5 [==============================] - 0s 11ms/step - loss: 3.4381e-04 - mae: 0.0138 - val_loss: 4.0871e-04 - val_mae: 0.0143\n",
            "Epoch 26/30\n",
            "5/5 [==============================] - 0s 11ms/step - loss: 3.1106e-04 - mae: 0.0132 - val_loss: 4.0298e-04 - val_mae: 0.0142\n",
            "Epoch 27/30\n",
            "5/5 [==============================] - 0s 13ms/step - loss: 2.8911e-04 - mae: 0.0123 - val_loss: 4.0347e-04 - val_mae: 0.0142\n",
            "Epoch 28/30\n",
            "5/5 [==============================] - 0s 12ms/step - loss: 3.1893e-04 - mae: 0.0136 - val_loss: 3.9490e-04 - val_mae: 0.0141\n",
            "Epoch 29/30\n",
            "5/5 [==============================] - 0s 13ms/step - loss: 3.2506e-04 - mae: 0.0132 - val_loss: 3.9494e-04 - val_mae: 0.0140\n",
            "Epoch 30/30\n",
            "5/5 [==============================] - 0s 12ms/step - loss: 2.7753e-04 - mae: 0.0125 - val_loss: 4.0021e-04 - val_mae: 0.0142\n",
            "5/5 [==============================] - 0s 3ms/step - loss: 2.8746e-04 - mae: 0.0126\n",
            "2/2 [==============================] - 0s 5ms/step - loss: 4.0021e-04 - mae: 0.0142\n",
            "1/1 [==============================] - 0s 17ms/step - loss: 2.1051e-04 - mae: 0.0110\n",
            "Epoch 1/30\n",
            "5/5 [==============================] - 1s 49ms/step - loss: 0.0015 - mae: 0.0286 - val_loss: 7.1524e-04 - val_mae: 0.0221\n",
            "Epoch 2/30\n",
            "5/5 [==============================] - 0s 12ms/step - loss: 0.0011 - mae: 0.0253 - val_loss: 5.9648e-04 - val_mae: 0.0198\n",
            "Epoch 3/30\n",
            "5/5 [==============================] - 0s 13ms/step - loss: 9.7471e-04 - mae: 0.0229 - val_loss: 5.3399e-04 - val_mae: 0.0184\n",
            "Epoch 4/30\n",
            "5/5 [==============================] - 0s 13ms/step - loss: 8.7776e-04 - mae: 0.0224 - val_loss: 5.1792e-04 - val_mae: 0.0180\n",
            "Epoch 5/30\n",
            "5/5 [==============================] - 0s 12ms/step - loss: 7.6742e-04 - mae: 0.0212 - val_loss: 4.9352e-04 - val_mae: 0.0177\n",
            "Epoch 6/30\n",
            "5/5 [==============================] - 0s 12ms/step - loss: 7.4209e-04 - mae: 0.0208 - val_loss: 4.8923e-04 - val_mae: 0.0176\n",
            "Epoch 7/30\n",
            "5/5 [==============================] - 0s 12ms/step - loss: 6.4481e-04 - mae: 0.0181 - val_loss: 4.7476e-04 - val_mae: 0.0171\n",
            "Epoch 8/30\n",
            "5/5 [==============================] - 0s 13ms/step - loss: 5.9168e-04 - mae: 0.0186 - val_loss: 4.6155e-04 - val_mae: 0.0169\n",
            "Epoch 9/30\n",
            "5/5 [==============================] - 0s 12ms/step - loss: 6.9171e-04 - mae: 0.0195 - val_loss: 4.2143e-04 - val_mae: 0.0159\n",
            "Epoch 10/30\n",
            "5/5 [==============================] - 0s 12ms/step - loss: 6.1468e-04 - mae: 0.0183 - val_loss: 4.0729e-04 - val_mae: 0.0157\n",
            "Epoch 11/30\n",
            "5/5 [==============================] - 0s 12ms/step - loss: 5.0311e-04 - mae: 0.0174 - val_loss: 4.0134e-04 - val_mae: 0.0154\n",
            "Epoch 12/30\n",
            "5/5 [==============================] - 0s 12ms/step - loss: 4.6582e-04 - mae: 0.0173 - val_loss: 4.0390e-04 - val_mae: 0.0156\n",
            "Epoch 13/30\n",
            "5/5 [==============================] - 0s 13ms/step - loss: 5.9919e-04 - mae: 0.0185 - val_loss: 3.9699e-04 - val_mae: 0.0152\n",
            "Epoch 14/30\n",
            "5/5 [==============================] - 0s 13ms/step - loss: 3.6840e-04 - mae: 0.0146 - val_loss: 4.0129e-04 - val_mae: 0.0154\n",
            "Epoch 15/30\n",
            "5/5 [==============================] - 0s 13ms/step - loss: 4.4188e-04 - mae: 0.0161 - val_loss: 3.7815e-04 - val_mae: 0.0145\n",
            "Epoch 16/30\n",
            "5/5 [==============================] - 0s 12ms/step - loss: 5.4663e-04 - mae: 0.0177 - val_loss: 3.7650e-04 - val_mae: 0.0144\n",
            "Epoch 17/30\n",
            "5/5 [==============================] - 0s 11ms/step - loss: 3.6440e-04 - mae: 0.0142 - val_loss: 3.7251e-04 - val_mae: 0.0143\n",
            "Epoch 18/30\n",
            "5/5 [==============================] - 0s 12ms/step - loss: 4.3098e-04 - mae: 0.0160 - val_loss: 3.6926e-04 - val_mae: 0.0141\n",
            "Epoch 19/30\n",
            "5/5 [==============================] - 0s 12ms/step - loss: 3.7672e-04 - mae: 0.0149 - val_loss: 3.7901e-04 - val_mae: 0.0143\n",
            "Epoch 20/30\n",
            "5/5 [==============================] - 0s 11ms/step - loss: 3.9780e-04 - mae: 0.0160 - val_loss: 3.6803e-04 - val_mae: 0.0141\n",
            "Epoch 21/30\n",
            "5/5 [==============================] - 0s 12ms/step - loss: 3.1822e-04 - mae: 0.0138 - val_loss: 3.5977e-04 - val_mae: 0.0137\n",
            "Epoch 22/30\n",
            "5/5 [==============================] - 0s 12ms/step - loss: 4.1612e-04 - mae: 0.0158 - val_loss: 3.7251e-04 - val_mae: 0.0140\n",
            "Epoch 23/30\n",
            "5/5 [==============================] - 0s 11ms/step - loss: 3.9967e-04 - mae: 0.0152 - val_loss: 3.6872e-04 - val_mae: 0.0138\n",
            "Epoch 24/30\n",
            "5/5 [==============================] - 0s 13ms/step - loss: 2.8468e-04 - mae: 0.0129 - val_loss: 3.6395e-04 - val_mae: 0.0136\n",
            "Epoch 25/30\n",
            "5/5 [==============================] - 0s 12ms/step - loss: 4.0198e-04 - mae: 0.0153 - val_loss: 3.6094e-04 - val_mae: 0.0134\n",
            "Epoch 26/30\n",
            "5/5 [==============================] - 0s 13ms/step - loss: 3.7707e-04 - mae: 0.0145 - val_loss: 3.6757e-04 - val_mae: 0.0137\n",
            "Epoch 27/30\n",
            "5/5 [==============================] - 0s 12ms/step - loss: 3.8251e-04 - mae: 0.0149 - val_loss: 3.6030e-04 - val_mae: 0.0133\n",
            "Epoch 28/30\n",
            "5/5 [==============================] - 0s 12ms/step - loss: 3.1248e-04 - mae: 0.0133 - val_loss: 3.7190e-04 - val_mae: 0.0137\n",
            "Epoch 29/30\n",
            "5/5 [==============================] - 0s 12ms/step - loss: 3.5047e-04 - mae: 0.0143 - val_loss: 3.7089e-04 - val_mae: 0.0135\n",
            "Epoch 30/30\n",
            "5/5 [==============================] - 0s 12ms/step - loss: 3.4284e-04 - mae: 0.0138 - val_loss: 3.7448e-04 - val_mae: 0.0136\n",
            "5/5 [==============================] - 0s 2ms/step - loss: 2.8979e-04 - mae: 0.0127\n",
            "2/2 [==============================] - 0s 5ms/step - loss: 3.7448e-04 - mae: 0.0136\n",
            "1/1 [==============================] - 0s 18ms/step - loss: 2.2656e-04 - mae: 0.0114\n",
            "Epoch 1/30\n",
            "5/5 [==============================] - 1s 48ms/step - loss: 0.0026 - mae: 0.0328 - val_loss: 0.0016 - val_mae: 0.0247\n",
            "Epoch 2/30\n",
            "5/5 [==============================] - 0s 12ms/step - loss: 0.0022 - mae: 0.0294 - val_loss: 0.0015 - val_mae: 0.0227\n",
            "Epoch 3/30\n",
            "5/5 [==============================] - 0s 12ms/step - loss: 0.0018 - mae: 0.0250 - val_loss: 0.0014 - val_mae: 0.0218\n",
            "Epoch 4/30\n",
            "5/5 [==============================] - 0s 13ms/step - loss: 0.0014 - mae: 0.0213 - val_loss: 0.0013 - val_mae: 0.0210\n",
            "Epoch 5/30\n",
            "5/5 [==============================] - 0s 13ms/step - loss: 0.0013 - mae: 0.0205 - val_loss: 0.0013 - val_mae: 0.0204\n",
            "Epoch 6/30\n",
            "5/5 [==============================] - 0s 13ms/step - loss: 0.0014 - mae: 0.0209 - val_loss: 0.0013 - val_mae: 0.0200\n",
            "Epoch 7/30\n",
            "5/5 [==============================] - 0s 12ms/step - loss: 0.0015 - mae: 0.0231 - val_loss: 0.0012 - val_mae: 0.0195\n",
            "Epoch 8/30\n",
            "5/5 [==============================] - 0s 12ms/step - loss: 0.0012 - mae: 0.0193 - val_loss: 0.0012 - val_mae: 0.0192\n",
            "Epoch 9/30\n",
            "5/5 [==============================] - 0s 13ms/step - loss: 0.0012 - mae: 0.0168 - val_loss: 0.0012 - val_mae: 0.0190\n",
            "Epoch 10/30\n",
            "5/5 [==============================] - 0s 13ms/step - loss: 0.0012 - mae: 0.0183 - val_loss: 0.0011 - val_mae: 0.0186\n",
            "Epoch 11/30\n",
            "5/5 [==============================] - 0s 13ms/step - loss: 0.0011 - mae: 0.0166 - val_loss: 0.0011 - val_mae: 0.0185\n",
            "Epoch 12/30\n",
            "5/5 [==============================] - 0s 12ms/step - loss: 0.0011 - mae: 0.0171 - val_loss: 0.0011 - val_mae: 0.0179\n",
            "Epoch 13/30\n",
            "5/5 [==============================] - 0s 12ms/step - loss: 0.0010 - mae: 0.0155 - val_loss: 0.0011 - val_mae: 0.0176\n",
            "Epoch 14/30\n",
            "5/5 [==============================] - 0s 13ms/step - loss: 9.6507e-04 - mae: 0.0148 - val_loss: 0.0011 - val_mae: 0.0173\n",
            "Epoch 15/30\n",
            "5/5 [==============================] - 0s 13ms/step - loss: 0.0010 - mae: 0.0155 - val_loss: 0.0011 - val_mae: 0.0171\n",
            "Epoch 16/30\n",
            "5/5 [==============================] - 0s 12ms/step - loss: 9.8412e-04 - mae: 0.0157 - val_loss: 0.0010 - val_mae: 0.0168\n",
            "Epoch 17/30\n",
            "5/5 [==============================] - 0s 12ms/step - loss: 9.7719e-04 - mae: 0.0151 - val_loss: 0.0010 - val_mae: 0.0163\n",
            "Epoch 18/30\n",
            "5/5 [==============================] - 0s 12ms/step - loss: 9.4840e-04 - mae: 0.0151 - val_loss: 9.8441e-04 - val_mae: 0.0161\n",
            "Epoch 19/30\n",
            "5/5 [==============================] - 0s 13ms/step - loss: 8.9007e-04 - mae: 0.0143 - val_loss: 9.6810e-04 - val_mae: 0.0159\n",
            "Epoch 20/30\n",
            "5/5 [==============================] - 0s 13ms/step - loss: 8.8364e-04 - mae: 0.0143 - val_loss: 9.5169e-04 - val_mae: 0.0156\n",
            "Epoch 21/30\n",
            "5/5 [==============================] - 0s 13ms/step - loss: 8.9364e-04 - mae: 0.0142 - val_loss: 9.3478e-04 - val_mae: 0.0156\n",
            "Epoch 22/30\n",
            "5/5 [==============================] - 0s 13ms/step - loss: 8.7681e-04 - mae: 0.0140 - val_loss: 9.2262e-04 - val_mae: 0.0154\n",
            "Epoch 23/30\n",
            "5/5 [==============================] - 0s 12ms/step - loss: 8.9233e-04 - mae: 0.0154 - val_loss: 9.0971e-04 - val_mae: 0.0154\n",
            "Epoch 24/30\n",
            "5/5 [==============================] - 0s 12ms/step - loss: 8.4013e-04 - mae: 0.0141 - val_loss: 8.9175e-04 - val_mae: 0.0152\n",
            "Epoch 25/30\n",
            "5/5 [==============================] - 0s 12ms/step - loss: 8.2516e-04 - mae: 0.0137 - val_loss: 8.7558e-04 - val_mae: 0.0150\n",
            "Epoch 26/30\n",
            "5/5 [==============================] - 0s 12ms/step - loss: 8.1382e-04 - mae: 0.0139 - val_loss: 8.5900e-04 - val_mae: 0.0148\n",
            "Epoch 27/30\n",
            "5/5 [==============================] - 0s 12ms/step - loss: 7.1433e-04 - mae: 0.0122 - val_loss: 8.4569e-04 - val_mae: 0.0148\n",
            "Epoch 28/30\n",
            "5/5 [==============================] - 0s 12ms/step - loss: 7.2442e-04 - mae: 0.0126 - val_loss: 8.3237e-04 - val_mae: 0.0146\n",
            "Epoch 29/30\n",
            "5/5 [==============================] - 0s 12ms/step - loss: 7.4699e-04 - mae: 0.0135 - val_loss: 8.2202e-04 - val_mae: 0.0146\n",
            "Epoch 30/30\n",
            "5/5 [==============================] - 0s 12ms/step - loss: 7.2921e-04 - mae: 0.0132 - val_loss: 8.0498e-04 - val_mae: 0.0145\n",
            "5/5 [==============================] - 0s 3ms/step - loss: 6.9072e-04 - mae: 0.0125\n",
            "2/2 [==============================] - 0s 6ms/step - loss: 8.0498e-04 - mae: 0.0145\n",
            "1/1 [==============================] - 0s 17ms/step - loss: 6.3596e-04 - mae: 0.0110\n",
            "Epoch 1/30\n",
            "5/5 [==============================] - 1s 46ms/step - loss: 0.0083 - mae: 0.0250 - val_loss: 0.0076 - val_mae: 0.0181\n",
            "Epoch 2/30\n",
            "5/5 [==============================] - 0s 12ms/step - loss: 0.0079 - mae: 0.0218 - val_loss: 0.0074 - val_mae: 0.0173\n",
            "Epoch 3/30\n",
            "5/5 [==============================] - 0s 12ms/step - loss: 0.0074 - mae: 0.0200 - val_loss: 0.0072 - val_mae: 0.0169\n",
            "Epoch 4/30\n",
            "5/5 [==============================] - 0s 13ms/step - loss: 0.0074 - mae: 0.0229 - val_loss: 0.0070 - val_mae: 0.0168\n",
            "Epoch 5/30\n",
            "5/5 [==============================] - 0s 12ms/step - loss: 0.0071 - mae: 0.0184 - val_loss: 0.0068 - val_mae: 0.0169\n",
            "Epoch 6/30\n",
            "5/5 [==============================] - 0s 14ms/step - loss: 0.0069 - mae: 0.0198 - val_loss: 0.0067 - val_mae: 0.0165\n",
            "Epoch 7/30\n",
            "5/5 [==============================] - 0s 12ms/step - loss: 0.0068 - mae: 0.0189 - val_loss: 0.0065 - val_mae: 0.0163\n",
            "Epoch 8/30\n",
            "5/5 [==============================] - 0s 13ms/step - loss: 0.0066 - mae: 0.0180 - val_loss: 0.0064 - val_mae: 0.0161\n",
            "Epoch 9/30\n",
            "5/5 [==============================] - 0s 12ms/step - loss: 0.0063 - mae: 0.0155 - val_loss: 0.0062 - val_mae: 0.0163\n",
            "Epoch 10/30\n",
            "5/5 [==============================] - 0s 13ms/step - loss: 0.0062 - mae: 0.0164 - val_loss: 0.0061 - val_mae: 0.0160\n",
            "Epoch 11/30\n",
            "5/5 [==============================] - 0s 13ms/step - loss: 0.0061 - mae: 0.0172 - val_loss: 0.0059 - val_mae: 0.0158\n",
            "Epoch 12/30\n",
            "5/5 [==============================] - 0s 13ms/step - loss: 0.0059 - mae: 0.0152 - val_loss: 0.0058 - val_mae: 0.0157\n",
            "Epoch 13/30\n",
            "5/5 [==============================] - 0s 12ms/step - loss: 0.0057 - mae: 0.0147 - val_loss: 0.0056 - val_mae: 0.0155\n",
            "Epoch 14/30\n",
            "5/5 [==============================] - 0s 12ms/step - loss: 0.0056 - mae: 0.0153 - val_loss: 0.0055 - val_mae: 0.0155\n",
            "Epoch 15/30\n",
            "5/5 [==============================] - 0s 12ms/step - loss: 0.0055 - mae: 0.0159 - val_loss: 0.0053 - val_mae: 0.0153\n",
            "Epoch 16/30\n",
            "5/5 [==============================] - 0s 12ms/step - loss: 0.0053 - mae: 0.0146 - val_loss: 0.0052 - val_mae: 0.0152\n",
            "Epoch 17/30\n",
            "5/5 [==============================] - 0s 12ms/step - loss: 0.0052 - mae: 0.0162 - val_loss: 0.0051 - val_mae: 0.0151\n",
            "Epoch 18/30\n",
            "5/5 [==============================] - 0s 13ms/step - loss: 0.0050 - mae: 0.0132 - val_loss: 0.0049 - val_mae: 0.0150\n",
            "Epoch 19/30\n",
            "5/5 [==============================] - 0s 12ms/step - loss: 0.0048 - mae: 0.0142 - val_loss: 0.0048 - val_mae: 0.0150\n",
            "Epoch 20/30\n",
            "5/5 [==============================] - 0s 11ms/step - loss: 0.0046 - mae: 0.0128 - val_loss: 0.0047 - val_mae: 0.0150\n",
            "Epoch 21/30\n",
            "5/5 [==============================] - 0s 12ms/step - loss: 0.0046 - mae: 0.0147 - val_loss: 0.0045 - val_mae: 0.0149\n",
            "Epoch 22/30\n",
            "5/5 [==============================] - 0s 13ms/step - loss: 0.0044 - mae: 0.0136 - val_loss: 0.0044 - val_mae: 0.0150\n",
            "Epoch 23/30\n",
            "5/5 [==============================] - 0s 12ms/step - loss: 0.0043 - mae: 0.0139 - val_loss: 0.0043 - val_mae: 0.0148\n",
            "Epoch 24/30\n",
            "5/5 [==============================] - 0s 11ms/step - loss: 0.0041 - mae: 0.0131 - val_loss: 0.0041 - val_mae: 0.0149\n",
            "Epoch 25/30\n",
            "5/5 [==============================] - 0s 12ms/step - loss: 0.0040 - mae: 0.0135 - val_loss: 0.0040 - val_mae: 0.0147\n",
            "Epoch 26/30\n",
            "5/5 [==============================] - 0s 11ms/step - loss: 0.0038 - mae: 0.0126 - val_loss: 0.0039 - val_mae: 0.0145\n",
            "Epoch 27/30\n",
            "5/5 [==============================] - 0s 11ms/step - loss: 0.0038 - mae: 0.0131 - val_loss: 0.0037 - val_mae: 0.0144\n",
            "Epoch 28/30\n",
            "5/5 [==============================] - 0s 13ms/step - loss: 0.0036 - mae: 0.0130 - val_loss: 0.0036 - val_mae: 0.0145\n",
            "Epoch 29/30\n",
            "5/5 [==============================] - 0s 12ms/step - loss: 0.0035 - mae: 0.0137 - val_loss: 0.0035 - val_mae: 0.0143\n",
            "Epoch 30/30\n",
            "5/5 [==============================] - 0s 13ms/step - loss: 0.0034 - mae: 0.0134 - val_loss: 0.0034 - val_mae: 0.0142\n",
            "5/5 [==============================] - 0s 3ms/step - loss: 0.0033 - mae: 0.0130\n",
            "2/2 [==============================] - 0s 7ms/step - loss: 0.0034 - mae: 0.0142\n",
            "1/1 [==============================] - 0s 17ms/step - loss: 0.0032 - mae: 0.0110\n",
            "Epoch 1/30\n",
            "5/5 [==============================] - 1s 46ms/step - loss: 0.0706 - mae: 0.0390 - val_loss: 0.0665 - val_mae: 0.0228\n",
            "Epoch 2/30\n",
            "5/5 [==============================] - 0s 13ms/step - loss: 0.0667 - mae: 0.0308 - val_loss: 0.0642 - val_mae: 0.0212\n",
            "Epoch 3/30\n",
            "5/5 [==============================] - 0s 12ms/step - loss: 0.0642 - mae: 0.0252 - val_loss: 0.0623 - val_mae: 0.0198\n",
            "Epoch 4/30\n",
            "5/5 [==============================] - 0s 12ms/step - loss: 0.0624 - mae: 0.0239 - val_loss: 0.0607 - val_mae: 0.0188\n",
            "Epoch 5/30\n",
            "5/5 [==============================] - 0s 12ms/step - loss: 0.0607 - mae: 0.0227 - val_loss: 0.0592 - val_mae: 0.0181\n",
            "Epoch 6/30\n",
            "5/5 [==============================] - 0s 12ms/step - loss: 0.0590 - mae: 0.0197 - val_loss: 0.0576 - val_mae: 0.0177\n",
            "Epoch 7/30\n",
            "5/5 [==============================] - 0s 12ms/step - loss: 0.0576 - mae: 0.0207 - val_loss: 0.0562 - val_mae: 0.0171\n",
            "Epoch 8/30\n",
            "5/5 [==============================] - 0s 12ms/step - loss: 0.0561 - mae: 0.0195 - val_loss: 0.0548 - val_mae: 0.0167\n",
            "Epoch 9/30\n",
            "5/5 [==============================] - 0s 13ms/step - loss: 0.0546 - mae: 0.0177 - val_loss: 0.0533 - val_mae: 0.0163\n",
            "Epoch 10/30\n",
            "5/5 [==============================] - 0s 13ms/step - loss: 0.0532 - mae: 0.0176 - val_loss: 0.0520 - val_mae: 0.0160\n",
            "Epoch 11/30\n",
            "5/5 [==============================] - 0s 13ms/step - loss: 0.0518 - mae: 0.0174 - val_loss: 0.0506 - val_mae: 0.0157\n",
            "Epoch 12/30\n",
            "5/5 [==============================] - 0s 13ms/step - loss: 0.0505 - mae: 0.0181 - val_loss: 0.0493 - val_mae: 0.0154\n",
            "Epoch 13/30\n",
            "5/5 [==============================] - 0s 13ms/step - loss: 0.0491 - mae: 0.0155 - val_loss: 0.0480 - val_mae: 0.0153\n",
            "Epoch 14/30\n",
            "5/5 [==============================] - 0s 11ms/step - loss: 0.0477 - mae: 0.0150 - val_loss: 0.0467 - val_mae: 0.0151\n",
            "Epoch 15/30\n",
            "5/5 [==============================] - 0s 12ms/step - loss: 0.0464 - mae: 0.0139 - val_loss: 0.0454 - val_mae: 0.0150\n",
            "Epoch 16/30\n",
            "5/5 [==============================] - 0s 12ms/step - loss: 0.0451 - mae: 0.0144 - val_loss: 0.0441 - val_mae: 0.0146\n",
            "Epoch 17/30\n",
            "5/5 [==============================] - 0s 12ms/step - loss: 0.0439 - mae: 0.0146 - val_loss: 0.0429 - val_mae: 0.0145\n",
            "Epoch 18/30\n",
            "5/5 [==============================] - 0s 12ms/step - loss: 0.0426 - mae: 0.0144 - val_loss: 0.0417 - val_mae: 0.0146\n",
            "Epoch 19/30\n",
            "5/5 [==============================] - 0s 13ms/step - loss: 0.0414 - mae: 0.0139 - val_loss: 0.0405 - val_mae: 0.0144\n",
            "Epoch 20/30\n",
            "5/5 [==============================] - 0s 12ms/step - loss: 0.0402 - mae: 0.0142 - val_loss: 0.0393 - val_mae: 0.0142\n",
            "Epoch 21/30\n",
            "5/5 [==============================] - 0s 12ms/step - loss: 0.0390 - mae: 0.0140 - val_loss: 0.0381 - val_mae: 0.0142\n",
            "Epoch 22/30\n",
            "5/5 [==============================] - 0s 12ms/step - loss: 0.0378 - mae: 0.0139 - val_loss: 0.0369 - val_mae: 0.0140\n",
            "Epoch 23/30\n",
            "5/5 [==============================] - 0s 12ms/step - loss: 0.0366 - mae: 0.0137 - val_loss: 0.0357 - val_mae: 0.0139\n",
            "Epoch 24/30\n",
            "5/5 [==============================] - 0s 13ms/step - loss: 0.0354 - mae: 0.0137 - val_loss: 0.0345 - val_mae: 0.0140\n",
            "Epoch 25/30\n",
            "5/5 [==============================] - 0s 12ms/step - loss: 0.0342 - mae: 0.0142 - val_loss: 0.0333 - val_mae: 0.0138\n",
            "Epoch 26/30\n",
            "5/5 [==============================] - 0s 12ms/step - loss: 0.0331 - mae: 0.0147 - val_loss: 0.0322 - val_mae: 0.0137\n",
            "Epoch 27/30\n",
            "5/5 [==============================] - 0s 12ms/step - loss: 0.0319 - mae: 0.0146 - val_loss: 0.0311 - val_mae: 0.0136\n",
            "Epoch 28/30\n",
            "5/5 [==============================] - 0s 14ms/step - loss: 0.0308 - mae: 0.0129 - val_loss: 0.0301 - val_mae: 0.0137\n",
            "Epoch 29/30\n",
            "5/5 [==============================] - 0s 12ms/step - loss: 0.0298 - mae: 0.0122 - val_loss: 0.0291 - val_mae: 0.0135\n",
            "Epoch 30/30\n",
            "5/5 [==============================] - 0s 12ms/step - loss: 0.0288 - mae: 0.0143 - val_loss: 0.0281 - val_mae: 0.0134\n",
            "5/5 [==============================] - 0s 3ms/step - loss: 0.0280 - mae: 0.0127\n",
            "2/2 [==============================] - 0s 5ms/step - loss: 0.0281 - mae: 0.0134\n",
            "1/1 [==============================] - 0s 18ms/step - loss: 0.0279 - mae: 0.0107\n",
            "Epoch 1/30\n",
            "5/5 [==============================] - 1s 46ms/step - loss: 1.8653 - mae: 0.0256 - val_loss: 1.7922 - val_mae: 0.0224\n",
            "Epoch 2/30\n",
            "5/5 [==============================] - 0s 12ms/step - loss: 1.7776 - mae: 0.0209 - val_loss: 1.7316 - val_mae: 0.0214\n",
            "Epoch 3/30\n",
            "5/5 [==============================] - 0s 12ms/step - loss: 1.7195 - mae: 0.0214 - val_loss: 1.6794 - val_mae: 0.0211\n",
            "Epoch 4/30\n",
            "5/5 [==============================] - 0s 12ms/step - loss: 1.6693 - mae: 0.0209 - val_loss: 1.6342 - val_mae: 0.0199\n",
            "Epoch 5/30\n",
            "5/5 [==============================] - 0s 13ms/step - loss: 1.6241 - mae: 0.0199 - val_loss: 1.5896 - val_mae: 0.0194\n",
            "Epoch 6/30\n",
            "5/5 [==============================] - 0s 13ms/step - loss: 1.5801 - mae: 0.0187 - val_loss: 1.5469 - val_mae: 0.0193\n",
            "Epoch 7/30\n",
            "5/5 [==============================] - 0s 13ms/step - loss: 1.5370 - mae: 0.0170 - val_loss: 1.5040 - val_mae: 0.0187\n",
            "Epoch 8/30\n",
            "5/5 [==============================] - 0s 13ms/step - loss: 1.4953 - mae: 0.0180 - val_loss: 1.4648 - val_mae: 0.0184\n",
            "Epoch 9/30\n",
            "5/5 [==============================] - 0s 12ms/step - loss: 1.4559 - mae: 0.0156 - val_loss: 1.4265 - val_mae: 0.0182\n",
            "Epoch 10/30\n",
            "5/5 [==============================] - 0s 12ms/step - loss: 1.4180 - mae: 0.0173 - val_loss: 1.3888 - val_mae: 0.0178\n",
            "Epoch 11/30\n",
            "5/5 [==============================] - 0s 12ms/step - loss: 1.3804 - mae: 0.0165 - val_loss: 1.3525 - val_mae: 0.0177\n",
            "Epoch 12/30\n",
            "5/5 [==============================] - 0s 12ms/step - loss: 1.3446 - mae: 0.0162 - val_loss: 1.3178 - val_mae: 0.0173\n",
            "Epoch 13/30\n",
            "5/5 [==============================] - 0s 12ms/step - loss: 1.3100 - mae: 0.0153 - val_loss: 1.2842 - val_mae: 0.0172\n",
            "Epoch 14/30\n",
            "5/5 [==============================] - 0s 12ms/step - loss: 1.2767 - mae: 0.0145 - val_loss: 1.2511 - val_mae: 0.0169\n",
            "Epoch 15/30\n",
            "5/5 [==============================] - 0s 13ms/step - loss: 1.2437 - mae: 0.0160 - val_loss: 1.2181 - val_mae: 0.0167\n",
            "Epoch 16/30\n",
            "5/5 [==============================] - 0s 13ms/step - loss: 1.2106 - mae: 0.0139 - val_loss: 1.1851 - val_mae: 0.0168\n",
            "Epoch 17/30\n",
            "5/5 [==============================] - 0s 12ms/step - loss: 1.1776 - mae: 0.0140 - val_loss: 1.1527 - val_mae: 0.0165\n",
            "Epoch 18/30\n",
            "5/5 [==============================] - 0s 14ms/step - loss: 1.1456 - mae: 0.0141 - val_loss: 1.1210 - val_mae: 0.0159\n",
            "Epoch 19/30\n",
            "5/5 [==============================] - 0s 13ms/step - loss: 1.1139 - mae: 0.0131 - val_loss: 1.0897 - val_mae: 0.0159\n",
            "Epoch 20/30\n",
            "5/5 [==============================] - 0s 12ms/step - loss: 1.0825 - mae: 0.0127 - val_loss: 1.0580 - val_mae: 0.0155\n",
            "Epoch 21/30\n",
            "5/5 [==============================] - 0s 12ms/step - loss: 1.0510 - mae: 0.0136 - val_loss: 1.0267 - val_mae: 0.0153\n",
            "Epoch 22/30\n",
            "5/5 [==============================] - 0s 12ms/step - loss: 1.0195 - mae: 0.0133 - val_loss: 0.9950 - val_mae: 0.0152\n",
            "Epoch 23/30\n",
            "5/5 [==============================] - 0s 12ms/step - loss: 0.9880 - mae: 0.0138 - val_loss: 0.9636 - val_mae: 0.0152\n",
            "Epoch 24/30\n",
            "5/5 [==============================] - 0s 14ms/step - loss: 0.9565 - mae: 0.0126 - val_loss: 0.9320 - val_mae: 0.0151\n",
            "Epoch 25/30\n",
            "5/5 [==============================] - 0s 12ms/step - loss: 0.9250 - mae: 0.0134 - val_loss: 0.9006 - val_mae: 0.0148\n",
            "Epoch 26/30\n",
            "5/5 [==============================] - 0s 12ms/step - loss: 0.8935 - mae: 0.0135 - val_loss: 0.8698 - val_mae: 0.0147\n",
            "Epoch 27/30\n",
            "5/5 [==============================] - 0s 13ms/step - loss: 0.8632 - mae: 0.0136 - val_loss: 0.8411 - val_mae: 0.0148\n",
            "Epoch 28/30\n",
            "5/5 [==============================] - 0s 12ms/step - loss: 0.8346 - mae: 0.0138 - val_loss: 0.8139 - val_mae: 0.0145\n",
            "Epoch 29/30\n",
            "5/5 [==============================] - 0s 13ms/step - loss: 0.8081 - mae: 0.0129 - val_loss: 0.7883 - val_mae: 0.0145\n",
            "Epoch 30/30\n",
            "5/5 [==============================] - 0s 13ms/step - loss: 0.7828 - mae: 0.0148 - val_loss: 0.7641 - val_mae: 0.0144\n",
            "5/5 [==============================] - 0s 3ms/step - loss: 0.7640 - mae: 0.0132\n",
            "2/2 [==============================] - 0s 5ms/step - loss: 0.7641 - mae: 0.0144\n",
            "1/1 [==============================] - 0s 19ms/step - loss: 0.7639 - mae: 0.0112\n",
            "Epoch 1/30\n",
            "5/5 [==============================] - 1s 46ms/step - loss: 5.7509 - mae: 0.0242 - val_loss: 5.5594 - val_mae: 0.0230\n",
            "Epoch 2/30\n",
            "5/5 [==============================] - 0s 13ms/step - loss: 5.5212 - mae: 0.0273 - val_loss: 5.3960 - val_mae: 0.0204\n",
            "Epoch 3/30\n",
            "5/5 [==============================] - 0s 12ms/step - loss: 5.3650 - mae: 0.0230 - val_loss: 5.2605 - val_mae: 0.0197\n",
            "Epoch 4/30\n",
            "5/5 [==============================] - 0s 13ms/step - loss: 5.2318 - mae: 0.0190 - val_loss: 5.1335 - val_mae: 0.0188\n",
            "Epoch 5/30\n",
            "5/5 [==============================] - 0s 15ms/step - loss: 5.1069 - mae: 0.0213 - val_loss: 5.0127 - val_mae: 0.0182\n",
            "Epoch 6/30\n",
            "5/5 [==============================] - 0s 13ms/step - loss: 4.9859 - mae: 0.0197 - val_loss: 4.8926 - val_mae: 0.0179\n",
            "Epoch 7/30\n",
            "5/5 [==============================] - 0s 13ms/step - loss: 4.8667 - mae: 0.0169 - val_loss: 4.7756 - val_mae: 0.0173\n",
            "Epoch 8/30\n",
            "5/5 [==============================] - 0s 14ms/step - loss: 4.7497 - mae: 0.0154 - val_loss: 4.6609 - val_mae: 0.0168\n",
            "Epoch 9/30\n",
            "5/5 [==============================] - 0s 13ms/step - loss: 4.6367 - mae: 0.0162 - val_loss: 4.5528 - val_mae: 0.0168\n",
            "Epoch 10/30\n",
            "5/5 [==============================] - 0s 12ms/step - loss: 4.5283 - mae: 0.0174 - val_loss: 4.4440 - val_mae: 0.0164\n",
            "Epoch 11/30\n",
            "5/5 [==============================] - 0s 12ms/step - loss: 4.4213 - mae: 0.0168 - val_loss: 4.3410 - val_mae: 0.0161\n",
            "Epoch 12/30\n",
            "5/5 [==============================] - 0s 13ms/step - loss: 4.3174 - mae: 0.0153 - val_loss: 4.2356 - val_mae: 0.0158\n",
            "Epoch 13/30\n",
            "5/5 [==============================] - 0s 13ms/step - loss: 4.2141 - mae: 0.0150 - val_loss: 4.1375 - val_mae: 0.0154\n",
            "Epoch 14/30\n",
            "5/5 [==============================] - 0s 13ms/step - loss: 4.1146 - mae: 0.0151 - val_loss: 4.0355 - val_mae: 0.0153\n",
            "Epoch 15/30\n",
            "5/5 [==============================] - 0s 12ms/step - loss: 4.0140 - mae: 0.0137 - val_loss: 3.9375 - val_mae: 0.0152\n",
            "Epoch 16/30\n",
            "5/5 [==============================] - 0s 12ms/step - loss: 3.9146 - mae: 0.0152 - val_loss: 3.8371 - val_mae: 0.0149\n",
            "Epoch 17/30\n",
            "5/5 [==============================] - 0s 12ms/step - loss: 3.8167 - mae: 0.0133 - val_loss: 3.7438 - val_mae: 0.0147\n",
            "Epoch 18/30\n",
            "5/5 [==============================] - 0s 13ms/step - loss: 3.7215 - mae: 0.0135 - val_loss: 3.6466 - val_mae: 0.0147\n",
            "Epoch 19/30\n",
            "5/5 [==============================] - 0s 12ms/step - loss: 3.6274 - mae: 0.0140 - val_loss: 3.5579 - val_mae: 0.0145\n",
            "Epoch 20/30\n",
            "5/5 [==============================] - 0s 12ms/step - loss: 3.5378 - mae: 0.0127 - val_loss: 3.4700 - val_mae: 0.0143\n",
            "Epoch 21/30\n",
            "5/5 [==============================] - 0s 13ms/step - loss: 3.4528 - mae: 0.0142 - val_loss: 3.3899 - val_mae: 0.0142\n",
            "Epoch 22/30\n",
            "5/5 [==============================] - 0s 13ms/step - loss: 3.3698 - mae: 0.0136 - val_loss: 3.3020 - val_mae: 0.0143\n",
            "Epoch 23/30\n",
            "5/5 [==============================] - 0s 13ms/step - loss: 3.2847 - mae: 0.0139 - val_loss: 3.2219 - val_mae: 0.0144\n",
            "Epoch 24/30\n",
            "5/5 [==============================] - 0s 13ms/step - loss: 3.2018 - mae: 0.0136 - val_loss: 3.1340 - val_mae: 0.0143\n",
            "Epoch 25/30\n",
            "5/5 [==============================] - 0s 13ms/step - loss: 3.1168 - mae: 0.0141 - val_loss: 3.0539 - val_mae: 0.0143\n",
            "Epoch 26/30\n",
            "5/5 [==============================] - 0s 12ms/step - loss: 3.0337 - mae: 0.0129 - val_loss: 2.9660 - val_mae: 0.0142\n",
            "Epoch 27/30\n",
            "5/5 [==============================] - 0s 12ms/step - loss: 2.9487 - mae: 0.0127 - val_loss: 2.8859 - val_mae: 0.0141\n",
            "Epoch 28/30\n",
            "5/5 [==============================] - 0s 13ms/step - loss: 2.8664 - mae: 0.0119 - val_loss: 2.8013 - val_mae: 0.0141\n",
            "Epoch 29/30\n",
            "5/5 [==============================] - 0s 13ms/step - loss: 2.7852 - mae: 0.0141 - val_loss: 2.7259 - val_mae: 0.0140\n",
            "Epoch 30/30\n",
            "5/5 [==============================] - 0s 12ms/step - loss: 2.7064 - mae: 0.0129 - val_loss: 2.6413 - val_mae: 0.0140\n",
            "5/5 [==============================] - 0s 3ms/step - loss: 2.6412 - mae: 0.0125\n",
            "2/2 [==============================] - 0s 5ms/step - loss: 2.6413 - mae: 0.0140\n",
            "1/1 [==============================] - 0s 18ms/step - loss: 2.6411 - mae: 0.0116\n"
          ],
          "name": "stdout"
        },
        {
          "output_type": "execute_result",
          "data": {
            "text/plain": [
              "[]"
            ]
          },
          "metadata": {
            "tags": []
          },
          "execution_count": 155
        },
        {
          "output_type": "display_data",
          "data": {
            "image/png": "[encoded data removed]",
            "text/plain": [
              "<Figure size 432x288 with 1 Axes>"
            ]
          },
          "metadata": {
            "tags": [],
            "needs_background": "light"
          }
        }
      ]
    }
  ]
}