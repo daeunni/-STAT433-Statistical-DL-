{
  "nbformat": 4,
  "nbformat_minor": 0,
  "metadata": {
    "colab": {
      "name": "HW5-2(Bidirectional RNN).ipynb",
      "provenance": [],
      "collapsed_sections": [],
      "machine_shape": "hm",
      "authorship_tag": "ABX9TyOdz7upkR98eYMm6t/tJTHB"
    },
    "kernelspec": {
      "name": "python3",
      "display_name": "Python 3"
    },
    "language_info": {
      "name": "python"
    },
    "accelerator": "GPU"
  },
  "cells": [
    {
      "cell_type": "markdown",
      "metadata": {
        "id": "BcQRLsko6fqa"
      },
      "source": [
        "# HW 5-2\n",
        "1. bidirectional  RNN  에서 merge_mode  를 변화시켜 결과 비교하여 해설하기\n",
        "> IMDB 데이터 이용"
      ]
    },
    {
      "cell_type": "code",
      "metadata": {
        "colab": {
          "base_uri": "https://localhost:8080/"
        },
        "id": "HBc62lvV6W4R",
        "outputId": "f36e3d35-325a-451c-ac4a-06e455757746"
      },
      "source": [
        "from tensorflow.keras.datasets import imdb\n",
        "from tensorflow.keras.preprocessing import sequence\n",
        "from tensorflow.keras.layers import Embedding, Bidirectional, Dense, LSTM   # bidirectional \n",
        "from tensorflow.keras.models import Sequential\n",
        "max_features=10000\n",
        "lenmax=700\n",
        "(x_train,y_train),(x_test,y_test)=imdb.load_data(num_words=max_features)\n",
        "x_train=sequence.pad_sequences(x_train,maxlen=lenmax)\n",
        "x_test=sequence.pad_sequences(x_test,maxlen=lenmax)"
      ],
      "execution_count": 1,
      "outputs": [
        {
          "output_type": "stream",
          "text": [
            "Downloading data from https://storage.googleapis.com/tensorflow/tf-keras-datasets/imdb.npz\n",
            "17465344/17464789 [==============================] - 0s 0us/step\n"
          ],
          "name": "stdout"
        },
        {
          "output_type": "stream",
          "text": [
            "<string>:6: VisibleDeprecationWarning: Creating an ndarray from ragged nested sequences (which is a list-or-tuple of lists-or-tuples-or ndarrays with different lengths or shapes) is deprecated. If you meant to do this, you must specify 'dtype=object' when creating the ndarray\n",
            "/usr/local/lib/python3.7/dist-packages/tensorflow/python/keras/datasets/imdb.py:159: VisibleDeprecationWarning: Creating an ndarray from ragged nested sequences (which is a list-or-tuple of lists-or-tuples-or ndarrays with different lengths or shapes) is deprecated. If you meant to do this, you must specify 'dtype=object' when creating the ndarray\n",
            "  x_train, y_train = np.array(xs[:idx]), np.array(labels[:idx])\n",
            "/usr/local/lib/python3.7/dist-packages/tensorflow/python/keras/datasets/imdb.py:160: VisibleDeprecationWarning: Creating an ndarray from ragged nested sequences (which is a list-or-tuple of lists-or-tuples-or ndarrays with different lengths or shapes) is deprecated. If you meant to do this, you must specify 'dtype=object' when creating the ndarray\n",
            "  x_test, y_test = np.array(xs[idx:]), np.array(labels[idx:])\n"
          ],
          "name": "stderr"
        }
      ]
    },
    {
      "cell_type": "markdown",
      "metadata": {
        "id": "QLubEj2V_XaY"
      },
      "source": [
        "## concat"
      ]
    },
    {
      "cell_type": "code",
      "metadata": {
        "colab": {
          "base_uri": "https://localhost:8080/"
        },
        "id": "vwjTW8-H6cF2",
        "outputId": "f919fd54-e585-4ebb-8246-f8d126e3f95b"
      },
      "source": [
        "from tensorflow.keras.layers import Embedding, Bidirectional, Dense, LSTM, SimpleRNN\n",
        "m_bd=Sequential()\n",
        "m_bd.add(Embedding(max_features,32))\n",
        "\n",
        "## bidirectional\n",
        "m_bd.add(Bidirectional(SimpleRNN(32),merge_mode='concat'))  \n",
        "# 맨 마지막 층은 통계학의 독립변수라고 생각해야함\n",
        "m_bd.add(Dense(1, activation='sigmoid'))  # 두방향에서 오는 것을 concat하면 64개가 됨(파라미터가 lstm의 2배, simple rnn의 8배가 됨)\n",
        "m_bd.summary()"
      ],
      "execution_count": 6,
      "outputs": [
        {
          "output_type": "stream",
          "text": [
            "Model: \"sequential_3\"\n",
            "_________________________________________________________________\n",
            "Layer (type)                 Output Shape              Param #   \n",
            "=================================================================\n",
            "embedding_3 (Embedding)      (None, None, 32)          320000    \n",
            "_________________________________________________________________\n",
            "bidirectional_1 (Bidirection (None, 64)                4160      \n",
            "_________________________________________________________________\n",
            "dense_1 (Dense)              (None, 1)                 65        \n",
            "=================================================================\n",
            "Total params: 324,225\n",
            "Trainable params: 324,225\n",
            "Non-trainable params: 0\n",
            "_________________________________________________________________\n"
          ],
          "name": "stdout"
        }
      ]
    },
    {
      "cell_type": "code",
      "metadata": {
        "colab": {
          "base_uri": "https://localhost:8080/"
        },
        "id": "a5m6Czs06cDS",
        "outputId": "d70c25fe-3496-411b-ec56-982dc833e2fb"
      },
      "source": [
        "m_bd.compile(optimizer='rmsprop',loss='binary_crossentropy',metrics=['acc'])\n",
        "m_bd.fit(x_train,y_train, epochs=10,batch_size=128)\n",
        "tr_loss_acc=m_bd.evaluate(x_train,y_train)\n",
        "test_loss_acc=m_bd.evaluate(x_test,y_test)\n",
        "print(tr_loss_acc)\n",
        "print(test_loss_acc)"
      ],
      "execution_count": 7,
      "outputs": [
        {
          "output_type": "stream",
          "text": [
            "Epoch 1/10\n",
            "196/196 [==============================] - 78s 391ms/step - loss: 0.6904 - acc: 0.5257\n",
            "Epoch 2/10\n",
            "196/196 [==============================] - 76s 389ms/step - loss: 0.4580 - acc: 0.7950\n",
            "Epoch 3/10\n",
            "196/196 [==============================] - 76s 389ms/step - loss: 0.3240 - acc: 0.8682\n",
            "Epoch 4/10\n",
            "196/196 [==============================] - 76s 387ms/step - loss: 0.2655 - acc: 0.8954\n",
            "Epoch 5/10\n",
            "196/196 [==============================] - 76s 385ms/step - loss: 0.2125 - acc: 0.9183\n",
            "Epoch 6/10\n",
            "196/196 [==============================] - 76s 386ms/step - loss: 0.1691 - acc: 0.9372\n",
            "Epoch 7/10\n",
            "196/196 [==============================] - 76s 387ms/step - loss: 0.1428 - acc: 0.9508\n",
            "Epoch 8/10\n",
            "196/196 [==============================] - 76s 388ms/step - loss: 0.1135 - acc: 0.9616\n",
            "Epoch 9/10\n",
            "196/196 [==============================] - 76s 388ms/step - loss: 0.0884 - acc: 0.9698\n",
            "Epoch 10/10\n",
            "196/196 [==============================] - 76s 388ms/step - loss: 0.0555 - acc: 0.9823\n",
            "782/782 [==============================] - 36s 46ms/step - loss: 0.0252 - acc: 0.9926\n",
            "782/782 [==============================] - 35s 45ms/step - loss: 0.5022 - acc: 0.8503\n",
            "[0.02516973204910755, 0.9925600290298462]\n",
            "[0.5021798014640808, 0.8503199815750122]\n"
          ],
          "name": "stdout"
        }
      ]
    },
    {
      "cell_type": "markdown",
      "metadata": {
        "id": "s7gW7FU6_Zg-"
      },
      "source": [
        "## sum "
      ]
    },
    {
      "cell_type": "code",
      "metadata": {
        "colab": {
          "base_uri": "https://localhost:8080/"
        },
        "id": "lk7w-SE36cA6",
        "outputId": "d10bc050-6133-4969-c0e0-85af5054e0d8"
      },
      "source": [
        "from tensorflow.keras.layers import Embedding, Bidirectional, Dense, LSTM, SimpleRNN\n",
        "m_bd=Sequential()\n",
        "m_bd.add(Embedding(max_features,32))\n",
        "\n",
        "## bidirectional\n",
        "m_bd.add(Bidirectional(SimpleRNN(32),merge_mode='sum'))  \n",
        "# 맨 마지막 층은 통계학의 독립변수라고 생각해야함\n",
        "m_bd.add(Dense(1, activation='sigmoid'))  # 두방향에서 오는 것을 concat하면 64개가 됨(파라미터가 lstm의 2배, simple rnn의 8배가 됨)\n",
        "m_bd.summary()"
      ],
      "execution_count": 9,
      "outputs": [
        {
          "output_type": "stream",
          "text": [
            "Model: \"sequential_5\"\n",
            "_________________________________________________________________\n",
            "Layer (type)                 Output Shape              Param #   \n",
            "=================================================================\n",
            "embedding_5 (Embedding)      (None, None, 32)          320000    \n",
            "_________________________________________________________________\n",
            "bidirectional_3 (Bidirection (None, 32)                4160      \n",
            "_________________________________________________________________\n",
            "dense_3 (Dense)              (None, 1)                 33        \n",
            "=================================================================\n",
            "Total params: 324,193\n",
            "Trainable params: 324,193\n",
            "Non-trainable params: 0\n",
            "_________________________________________________________________\n"
          ],
          "name": "stdout"
        }
      ]
    },
    {
      "cell_type": "code",
      "metadata": {
        "colab": {
          "base_uri": "https://localhost:8080/"
        },
        "id": "euBTY8Gt6b-x",
        "outputId": "7e00bcdb-2538-4a6e-9ee2-53165cf12500"
      },
      "source": [
        "m_bd.compile(optimizer='rmsprop',loss='binary_crossentropy',metrics=['acc'])\n",
        "m_bd.fit(x_train,y_train, epochs=10,batch_size=128)\n",
        "tr_loss_acc=m_bd.evaluate(x_train,y_train)\n",
        "test_loss_acc=m_bd.evaluate(x_test,y_test)\n",
        "print(tr_loss_acc)\n",
        "print(test_loss_acc)"
      ],
      "execution_count": 10,
      "outputs": [
        {
          "output_type": "stream",
          "text": [
            "Epoch 1/10\n",
            "196/196 [==============================] - 77s 385ms/step - loss: 0.6266 - acc: 0.6285\n",
            "Epoch 2/10\n",
            "196/196 [==============================] - 76s 385ms/step - loss: 0.3601 - acc: 0.8509\n",
            "Epoch 3/10\n",
            "196/196 [==============================] - 76s 385ms/step - loss: 0.2842 - acc: 0.8883\n",
            "Epoch 4/10\n",
            "196/196 [==============================] - 76s 386ms/step - loss: 0.2295 - acc: 0.9122\n",
            "Epoch 5/10\n",
            "196/196 [==============================] - 75s 383ms/step - loss: 0.1855 - acc: 0.9329\n",
            "Epoch 6/10\n",
            "196/196 [==============================] - 75s 384ms/step - loss: 0.1378 - acc: 0.9506\n",
            "Epoch 7/10\n",
            "196/196 [==============================] - 76s 386ms/step - loss: 0.0938 - acc: 0.9680\n",
            "Epoch 8/10\n",
            "196/196 [==============================] - 76s 387ms/step - loss: 0.0686 - acc: 0.9788\n",
            "Epoch 9/10\n",
            "196/196 [==============================] - 76s 389ms/step - loss: 0.0470 - acc: 0.9863\n",
            "Epoch 10/10\n",
            "196/196 [==============================] - 75s 383ms/step - loss: 0.0414 - acc: 0.9870\n",
            "782/782 [==============================] - 36s 46ms/step - loss: 0.0239 - acc: 0.9927\n",
            "782/782 [==============================] - 35s 45ms/step - loss: 0.5835 - acc: 0.8429\n",
            "[0.02394663169980049, 0.992680013179779]\n",
            "[0.5834541320800781, 0.8429200053215027]\n"
          ],
          "name": "stdout"
        }
      ]
    },
    {
      "cell_type": "markdown",
      "metadata": {
        "id": "wqh5Bbia_1ur"
      },
      "source": [
        "## mul"
      ]
    },
    {
      "cell_type": "code",
      "metadata": {
        "colab": {
          "base_uri": "https://localhost:8080/"
        },
        "id": "lZSAe73i6b8p",
        "outputId": "56a8def1-84ff-44ab-f85a-9d0ed67fd041"
      },
      "source": [
        "from tensorflow.keras.layers import Embedding, Bidirectional, Dense, LSTM, SimpleRNN\n",
        "m_bd=Sequential()\n",
        "m_bd.add(Embedding(max_features,32))\n",
        "\n",
        "## bidirectional\n",
        "m_bd.add(Bidirectional(SimpleRNN(32),merge_mode='mul'))  \n",
        "# 맨 마지막 층은 통계학의 독립변수라고 생각해야함\n",
        "m_bd.add(Dense(1, activation='sigmoid'))  # 두방향에서 오는 것을 concat하면 64개가 됨(파라미터가 lstm의 2배, simple rnn의 8배가 됨)\n",
        "m_bd.summary()"
      ],
      "execution_count": 11,
      "outputs": [
        {
          "output_type": "stream",
          "text": [
            "Model: \"sequential_6\"\n",
            "_________________________________________________________________\n",
            "Layer (type)                 Output Shape              Param #   \n",
            "=================================================================\n",
            "embedding_6 (Embedding)      (None, None, 32)          320000    \n",
            "_________________________________________________________________\n",
            "bidirectional_4 (Bidirection (None, 32)                4160      \n",
            "_________________________________________________________________\n",
            "dense_4 (Dense)              (None, 1)                 33        \n",
            "=================================================================\n",
            "Total params: 324,193\n",
            "Trainable params: 324,193\n",
            "Non-trainable params: 0\n",
            "_________________________________________________________________\n"
          ],
          "name": "stdout"
        }
      ]
    },
    {
      "cell_type": "code",
      "metadata": {
        "colab": {
          "base_uri": "https://localhost:8080/"
        },
        "id": "le58wYg26b6W",
        "outputId": "0ff66a2e-1b96-4ba1-b5e1-aebe78e2f845"
      },
      "source": [
        "m_bd.compile(optimizer='rmsprop',loss='binary_crossentropy',metrics=['acc'])\n",
        "m_bd.fit(x_train,y_train, epochs=10,batch_size=128)\n",
        "tr_loss_acc=m_bd.evaluate(x_train,y_train)\n",
        "test_loss_acc=m_bd.evaluate(x_test,y_test)\n",
        "print(tr_loss_acc)\n",
        "print(test_loss_acc)"
      ],
      "execution_count": 12,
      "outputs": [
        {
          "output_type": "stream",
          "text": [
            "Epoch 1/10\n",
            "196/196 [==============================] - 78s 387ms/step - loss: 0.6933 - acc: 0.5114\n",
            "Epoch 2/10\n",
            "196/196 [==============================] - 76s 387ms/step - loss: 0.5351 - acc: 0.7471\n",
            "Epoch 3/10\n",
            "196/196 [==============================] - 76s 387ms/step - loss: 0.3449 - acc: 0.8595\n",
            "Epoch 4/10\n",
            "196/196 [==============================] - 77s 391ms/step - loss: 0.2678 - acc: 0.8956\n",
            "Epoch 5/10\n",
            "196/196 [==============================] - 76s 389ms/step - loss: 0.2292 - acc: 0.9130\n",
            "Epoch 6/10\n",
            "196/196 [==============================] - 76s 386ms/step - loss: 0.2043 - acc: 0.9249\n",
            "Epoch 7/10\n",
            "196/196 [==============================] - 76s 386ms/step - loss: 0.1860 - acc: 0.9324\n",
            "Epoch 8/10\n",
            "196/196 [==============================] - 76s 390ms/step - loss: 0.1486 - acc: 0.9481\n",
            "Epoch 9/10\n",
            "196/196 [==============================] - 77s 391ms/step - loss: 0.1265 - acc: 0.9565\n",
            "Epoch 10/10\n",
            "196/196 [==============================] - 77s 391ms/step - loss: 0.1098 - acc: 0.9615\n",
            "782/782 [==============================] - 36s 45ms/step - loss: 0.0704 - acc: 0.9757\n",
            "782/782 [==============================] - 35s 45ms/step - loss: 0.4284 - acc: 0.8590\n",
            "[0.07040858268737793, 0.9756799936294556]\n",
            "[0.4284396171569824, 0.858959972858429]\n"
          ],
          "name": "stdout"
        }
      ]
    },
    {
      "cell_type": "markdown",
      "metadata": {
        "id": "wyxQjag7_8GX"
      },
      "source": [
        "## ave"
      ]
    },
    {
      "cell_type": "code",
      "metadata": {
        "colab": {
          "base_uri": "https://localhost:8080/"
        },
        "id": "jM4f5vmY6fBX",
        "outputId": "13a78f77-b16d-44ed-eed7-4974ceaef71d"
      },
      "source": [
        "from tensorflow.keras.layers import Embedding, Bidirectional, Dense, LSTM, SimpleRNN\n",
        "m_bd=Sequential()\n",
        "m_bd.add(Embedding(max_features,32))\n",
        "\n",
        "## bidirectional\n",
        "m_bd.add(Bidirectional(SimpleRNN(32),merge_mode='ave'))  \n",
        "# 맨 마지막 층은 통계학의 독립변수라고 생각해야함\n",
        "m_bd.add(Dense(1, activation='sigmoid'))  # 두방향에서 오는 것을 concat하면 64개가 됨(파라미터가 lstm의 2배, simple rnn의 8배가 됨)\n",
        "m_bd.summary()"
      ],
      "execution_count": 2,
      "outputs": [
        {
          "output_type": "stream",
          "text": [
            "Model: \"sequential\"\n",
            "_________________________________________________________________\n",
            "Layer (type)                 Output Shape              Param #   \n",
            "=================================================================\n",
            "embedding (Embedding)        (None, None, 32)          320000    \n",
            "_________________________________________________________________\n",
            "bidirectional (Bidirectional (None, 32)                4160      \n",
            "_________________________________________________________________\n",
            "dense (Dense)                (None, 1)                 33        \n",
            "=================================================================\n",
            "Total params: 324,193\n",
            "Trainable params: 324,193\n",
            "Non-trainable params: 0\n",
            "_________________________________________________________________\n"
          ],
          "name": "stdout"
        }
      ]
    },
    {
      "cell_type": "code",
      "metadata": {
        "colab": {
          "base_uri": "https://localhost:8080/"
        },
        "id": "hoqaiFga6e_C",
        "outputId": "c11d4e73-4bb4-4fa1-f891-70d171496912"
      },
      "source": [
        "m_bd.compile(optimizer='rmsprop',loss='binary_crossentropy',metrics=['acc'])\n",
        "m_bd.fit(x_train,y_train, epochs=10,batch_size=128)\n",
        "tr_loss_acc=m_bd.evaluate(x_train,y_train)\n",
        "test_loss_acc=m_bd.evaluate(x_test,y_test)\n",
        "print(tr_loss_acc)\n",
        "print(test_loss_acc)"
      ],
      "execution_count": 3,
      "outputs": [
        {
          "output_type": "stream",
          "text": [
            "Epoch 1/10\n",
            "196/196 [==============================] - 153s 765ms/step - loss: 0.6609 - acc: 0.5824\n",
            "Epoch 2/10\n",
            "196/196 [==============================] - 149s 758ms/step - loss: 0.4487 - acc: 0.8135\n",
            "Epoch 3/10\n",
            "196/196 [==============================] - 150s 764ms/step - loss: 0.3392 - acc: 0.8668\n",
            "Epoch 4/10\n",
            "196/196 [==============================] - 151s 771ms/step - loss: 0.2793 - acc: 0.8926\n",
            "Epoch 5/10\n",
            "196/196 [==============================] - 153s 780ms/step - loss: 0.2423 - acc: 0.9096\n",
            "Epoch 6/10\n",
            "196/196 [==============================] - 154s 783ms/step - loss: 0.2250 - acc: 0.9194\n",
            "Epoch 7/10\n",
            "196/196 [==============================] - 153s 782ms/step - loss: 0.2001 - acc: 0.9282\n",
            "Epoch 8/10\n",
            "196/196 [==============================] - 151s 768ms/step - loss: 0.1794 - acc: 0.9355\n",
            "Epoch 9/10\n",
            "196/196 [==============================] - 148s 757ms/step - loss: 0.1545 - acc: 0.9465\n",
            "Epoch 10/10\n",
            "196/196 [==============================] - 148s 756ms/step - loss: 0.1447 - acc: 0.9483\n",
            "782/782 [==============================] - 57s 73ms/step - loss: 0.2675 - acc: 0.8873\n",
            "782/782 [==============================] - 58s 74ms/step - loss: 0.4539 - acc: 0.7874\n",
            "[0.2675311863422394, 0.8872799873352051]\n",
            "[0.45394569635391235, 0.7874400019645691]\n"
          ],
          "name": "stdout"
        }
      ]
    },
    {
      "cell_type": "markdown",
      "metadata": {
        "id": "LlHvN3DaV_d_"
      },
      "source": [
        "- 양방향 RNN은 기본적으로 LSTM, GRU보다 모수의 개수를 적게 사용하면서 이들과 비슷한 성능을 냄\n",
        "\n",
        "- Concat여부에 따라 모수의 개수 66에서 33으로 감소 (concat과 연산은 차이가 있음)\n",
        "- concat, mul, sum은 정확도/오버피팅의 차이가 없지만 mean은 정확도가 매우 낮아짐. 이는 두 히든 스테이트의 영향력이 합쳐지는 과정에서 mean이 되면서 상쇄되었을 것이라고 추론 가능. loss도 매우 커짐\n",
        "\n",
        "\n",
        "\n",
        "> Simple RNN과 test acc는 비슷하지만, train loss는 매우 커짐. Simple RNN보다 모수의 개수는 두배 더 많아진데에 비해 양방향 RNN이 학습에는 도움이 안되니까, train data도 제대로 학습하지 못하고 있는 모습임. \n",
        "\n",
        "- 모수의 개수가 일반 rnn보다는 2배 많으므로 오버피팅도 훨씬 심해짐."
      ]
    }
  ]
}