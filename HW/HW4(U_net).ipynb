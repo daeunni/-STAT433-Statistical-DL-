{
  "nbformat": 4,
  "nbformat_minor": 0,
  "metadata": {
    "colab": {
      "name": "HW4(U-net).ipynb",
      "provenance": [],
      "collapsed_sections": [],
      "machine_shape": "hm",
      "mount_file_id": "1EMHK-zq25hbA2YnVjxOFbJN3mNVQzWA7",
      "authorship_tag": "ABX9TyMMlsMDuVXbw6sWmeeHY/Iv"
    },
    "kernelspec": {
      "name": "python3",
      "display_name": "Python 3"
    },
    "language_info": {
      "name": "python"
    },
    "accelerator": "GPU"
  },
  "cells": [
    {
      "cell_type": "markdown",
      "metadata": {
        "id": "RkEOwHklZB-7"
      },
      "source": [
        "# HW4\n",
        "1.  제 6  장의 dogs/cats  를 제 8  장에서 사용한 VGG16  모형과 잔차연결을 적용하여 제 6  장의 결과와 비교할 것"
      ]
    },
    {
      "cell_type": "markdown",
      "metadata": {
        "id": "7cNU8DJuvEZ3"
      },
      "source": [
        "## U-Net"
      ]
    },
    {
      "cell_type": "code",
      "metadata": {
        "colab": {
          "base_uri": "https://localhost:8080/"
        },
        "id": "2EQe8h1TYcrL",
        "outputId": "e8052174-b5eb-4030-8c1d-833e2dcd63c6"
      },
      "source": [
        "# 관련 이미지가 들어있는 디렉토리 지정\n",
        "train_dir = '/content/drive/MyDrive/Colab Notebooks/DL/[STAT433] 딥러닝을 위한 통계적모델링/data/dogs and cats_small/train'\n",
        "validation_dir = '/content/drive/MyDrive/Colab Notebooks/DL/[STAT433] 딥러닝을 위한 통계적모델링/data/dogs and cats_small/validation'\n",
        "test_dir = '/content/drive/MyDrive/Colab Notebooks/DL/[STAT433] 딥러닝을 위한 통계적모델링/data/dogs and cats_small/test'\n",
        "\n",
        "from tensorflow.keras.preprocessing.image import ImageDataGenerator \n",
        "train_datagen=ImageDataGenerator(rescale=1./255,rotation_range=40, width_shift_range=0.2, \n",
        "                               height_shift_range=0.2, shear_range=0.2, zoom_range=0.2,\n",
        "                                horizontal_flip=True, fill_mode='nearest')    # augmentation > error 추가small/validation'\n",
        "                                                                                         \n",
        "test_datagen=ImageDataGenerator(rescale=1./255)   ## 뒤에서는 이 부분에 augmentation을 한다!\n",
        "\n",
        "# .flow_from_directory를 이용 \n",
        "train_generator=train_datagen.flow_from_directory(directory=train_dir,target_size=(224,224),   # input size 224 변경\n",
        "                                                  batch_size=20,class_mode='binary')\n",
        "validation_generator=test_datagen.flow_from_directory(directory=validation_dir,target_size=(224,224),\n",
        "                                                      batch_size=20,class_mode='binary')"
      ],
      "execution_count": 24,
      "outputs": [
        {
          "output_type": "stream",
          "text": [
            "Found 2000 images belonging to 2 classes.\n",
            "Found 1010 images belonging to 2 classes.\n"
          ],
          "name": "stdout"
        }
      ]
    },
    {
      "cell_type": "code",
      "metadata": {
        "colab": {
          "base_uri": "https://localhost:8080/"
        },
        "id": "-K9wm5RjYRVd",
        "outputId": "dcbc598f-e4dc-4e54-99b7-7575b6c99e08"
      },
      "source": [
        "# Pretrained VGG\n",
        "from tensorflow.keras.applications import VGG16  # 파라미터 freeze\n",
        "base_vgg16=VGG16(weights='imagenet',include_top=False, input_shape=(224,224,3)) \n",
        "base_vgg16.trainable = False  # training 안함\n",
        "base_vgg16.summary()  # 이미 training 되어있음"
      ],
      "execution_count": 25,
      "outputs": [
        {
          "output_type": "stream",
          "text": [
            "Model: \"vgg16\"\n",
            "_________________________________________________________________\n",
            "Layer (type)                 Output Shape              Param #   \n",
            "=================================================================\n",
            "input_5 (InputLayer)         [(None, 224, 224, 3)]     0         \n",
            "_________________________________________________________________\n",
            "block1_conv1 (Conv2D)        (None, 224, 224, 64)      1792      \n",
            "_________________________________________________________________\n",
            "block1_conv2 (Conv2D)        (None, 224, 224, 64)      36928     \n",
            "_________________________________________________________________\n",
            "block1_pool (MaxPooling2D)   (None, 112, 112, 64)      0         \n",
            "_________________________________________________________________\n",
            "block2_conv1 (Conv2D)        (None, 112, 112, 128)     73856     \n",
            "_________________________________________________________________\n",
            "block2_conv2 (Conv2D)        (None, 112, 112, 128)     147584    \n",
            "_________________________________________________________________\n",
            "block2_pool (MaxPooling2D)   (None, 56, 56, 128)       0         \n",
            "_________________________________________________________________\n",
            "block3_conv1 (Conv2D)        (None, 56, 56, 256)       295168    \n",
            "_________________________________________________________________\n",
            "block3_conv2 (Conv2D)        (None, 56, 56, 256)       590080    \n",
            "_________________________________________________________________\n",
            "block3_conv3 (Conv2D)        (None, 56, 56, 256)       590080    \n",
            "_________________________________________________________________\n",
            "block3_pool (MaxPooling2D)   (None, 28, 28, 256)       0         \n",
            "_________________________________________________________________\n",
            "block4_conv1 (Conv2D)        (None, 28, 28, 512)       1180160   \n",
            "_________________________________________________________________\n",
            "block4_conv2 (Conv2D)        (None, 28, 28, 512)       2359808   \n",
            "_________________________________________________________________\n",
            "block4_conv3 (Conv2D)        (None, 28, 28, 512)       2359808   \n",
            "_________________________________________________________________\n",
            "block4_pool (MaxPooling2D)   (None, 14, 14, 512)       0         \n",
            "_________________________________________________________________\n",
            "block5_conv1 (Conv2D)        (None, 14, 14, 512)       2359808   \n",
            "_________________________________________________________________\n",
            "block5_conv2 (Conv2D)        (None, 14, 14, 512)       2359808   \n",
            "_________________________________________________________________\n",
            "block5_conv3 (Conv2D)        (None, 14, 14, 512)       2359808   \n",
            "_________________________________________________________________\n",
            "block5_pool (MaxPooling2D)   (None, 7, 7, 512)         0         \n",
            "=================================================================\n",
            "Total params: 14,714,688\n",
            "Trainable params: 0\n",
            "Non-trainable params: 14,714,688\n",
            "_________________________________________________________________\n"
          ],
          "name": "stdout"
        }
      ]
    },
    {
      "cell_type": "code",
      "metadata": {
        "id": "pOwd40jSYSW6"
      },
      "source": [
        "from tensorflow.keras.layers import Input, Conv2D, MaxPooling2D,UpSampling2D, Dropout, concatenate, BatchNormalization\n",
        "from tensorflow.keras.optimizers import Adam\n",
        "from tensorflow.keras.models import Model\n",
        "\n",
        "# vgg의 layer를 모두 변수에 저장하기\n",
        "conv1 = Model(inputs=base_vgg16.input,outputs=base_vgg16.get_layer('block1_conv2').output).output  # vgg의 output을 따로 받아서 conv1에 저장함\n",
        "conv2 = Model(inputs=base_vgg16.input,outputs=base_vgg16.get_layer('block2_conv2').output).output\n",
        "conv3 = Model(inputs=base_vgg16.input,outputs=base_vgg16.get_layer('block3_conv3').output).output\n",
        "conv4 = Model(inputs=base_vgg16.input,outputs=base_vgg16.get_layer('block4_conv3').output).output\n",
        "drop4 = Dropout(0.5)(conv4)\n",
        "conv5 = Model(inputs=base_vgg16.input,outputs=base_vgg16.get_layer('block5_conv3').output).output\n",
        "drop5 = Dropout(0.5)(conv5)"
      ],
      "execution_count": 59,
      "outputs": []
    },
    {
      "cell_type": "code",
      "metadata": {
        "colab": {
          "base_uri": "https://localhost:8080/"
        },
        "id": "ZoSUlftwYSVM",
        "outputId": "24440d9d-33cb-423b-bc4a-f41ab6a77817"
      },
      "source": [
        "print(drop4)\n",
        "print(drop5)   # 최종적으로 (6,6,512) 텐서 출력중임"
      ],
      "execution_count": 60,
      "outputs": [
        {
          "output_type": "stream",
          "text": [
            "KerasTensor(type_spec=TensorSpec(shape=(None, 28, 28, 512), dtype=tf.float32, name=None), name='dropout_10/Identity:0', description=\"created by layer 'dropout_10'\")\n",
            "KerasTensor(type_spec=TensorSpec(shape=(None, 14, 14, 512), dtype=tf.float32, name=None), name='dropout_11/Identity:0', description=\"created by layer 'dropout_11'\")\n"
          ],
          "name": "stdout"
        }
      ]
    },
    {
      "cell_type": "code",
      "metadata": {
        "id": "TUEUkK8NgINq"
      },
      "source": [
        "## functional API\n",
        "up6 = Conv2D(512, 2, activation = 'relu', padding = 'same', kernel_initializer='he_normal')(UpSampling2D(size =(2,2))(drop5))\n",
        "merge6 = concatenate([drop4,up6], axis = -1)  # 마지막 drop5를 upsampling 시킴 \n",
        "\n",
        "conv6 = Conv2D(512, 3, activation = 'relu', padding = 'same', kernel_initializer='he_normal')(merge6)\n",
        "conv6 = Conv2D(512, 3, activation = 'relu', padding = 'same', kernel_initializer='he_normal')(conv6)\n",
        "conv6 = BatchNormalization()(conv6)\n",
        "\n",
        "up7 = Conv2D(256, 2, activation = 'relu', padding = 'same', kernel_initializer='he_normal')(UpSampling2D(size =(2,2))(conv6))\n",
        "merge7 = concatenate([conv3,up7], axis = -1)\n",
        "conv7 = Conv2D(256, 3, activation = 'relu', padding = 'same', kernel_initializer='he_normal')(merge7)\n",
        "conv7 = Conv2D(256, 3, activation = 'relu', padding = 'same', kernel_initializer='he_normal')(conv7)\n",
        "conv7 = BatchNormalization()(conv7)\n",
        "up8 = Conv2D(128, 2, activation = 'relu', padding = 'same', kernel_initializer='he_normal')(UpSampling2D(size =(2,2))(conv7))\n",
        "merge8 = concatenate([conv2,up8],axis = -1)\n",
        "conv8 = Conv2D(128, 3, activation = 'relu', padding = 'same', kernel_initializer='he_normal')(merge8)\n",
        "conv8 = Conv2D(128, 3, activation = 'relu', padding = 'same', kernel_initializer='he_normal')(conv8)\n",
        "conv8 = BatchNormalization()(conv8)\n",
        "\n",
        "up9 = Conv2D(64, 2, activation = 'relu', padding = 'same', kernel_initializer='he_normal')(UpSampling2D(size =(2,2))(conv8))\n",
        "merge9 = concatenate([conv1,up9], axis = -1)\n",
        "conv9 = Conv2D(64, 3, activation = 'relu', padding = 'same', kernel_initializer='he_normal')(merge9)\n",
        "conv9 = Conv2D(64, 3, activation = 'relu', padding = 'same', kernel_initializer='he_normal')(conv9)\n",
        "conv9 = Conv2D(64, 3, activation = 'relu', padding = 'same', kernel_initializer='he_normal')(conv9)\n",
        "conv9 = BatchNormalization()(conv9)\n",
        "\n",
        "conv10 = Conv2D(1, 1, activation = 'relu')(conv9)    # 픽셀별 객체 구분"
      ],
      "execution_count": 61,
      "outputs": []
    },
    {
      "cell_type": "code",
      "metadata": {
        "id": "f6HDTtc-jvfK"
      },
      "source": [
        "# flatten 더하고 dense추가 ! (functional API)\n",
        "import tensorflow as tf\n",
        "from tensorflow.keras.layers import Flatten, Dense, Dropout, BatchNormalization\n",
        "f = Flatten()(conv10)\n",
        "f = Dense(64, activation='relu',kernel_initializer='he_normal' )(f)\n",
        "f = Dropout(0.5)(f)\n",
        "out = Dense(1, activation='sigmoid',  kernel_regularizer=tf.keras.regularizers.L1(0.01))(f)"
      ],
      "execution_count": 62,
      "outputs": []
    },
    {
      "cell_type": "code",
      "metadata": {
        "colab": {
          "base_uri": "https://localhost:8080/"
        },
        "id": "OzzkEA7vYSPT",
        "outputId": "cd62f5be-6770-476b-d5a7-9e5f2f65deac"
      },
      "source": [
        "model = Model(base_vgg16.input, out)\n",
        "model.summary()"
      ],
      "execution_count": 63,
      "outputs": [
        {
          "output_type": "stream",
          "text": [
            "Model: \"model_22\"\n",
            "__________________________________________________________________________________________________\n",
            "Layer (type)                    Output Shape         Param #     Connected to                     \n",
            "==================================================================================================\n",
            "input_5 (InputLayer)            [(None, 224, 224, 3) 0                                            \n",
            "__________________________________________________________________________________________________\n",
            "block1_conv1 (Conv2D)           (None, 224, 224, 64) 1792        input_5[0][0]                    \n",
            "__________________________________________________________________________________________________\n",
            "block1_conv2 (Conv2D)           (None, 224, 224, 64) 36928       block1_conv1[0][0]               \n",
            "__________________________________________________________________________________________________\n",
            "block1_pool (MaxPooling2D)      (None, 112, 112, 64) 0           block1_conv2[0][0]               \n",
            "__________________________________________________________________________________________________\n",
            "block2_conv1 (Conv2D)           (None, 112, 112, 128 73856       block1_pool[0][0]                \n",
            "__________________________________________________________________________________________________\n",
            "block2_conv2 (Conv2D)           (None, 112, 112, 128 147584      block2_conv1[0][0]               \n",
            "__________________________________________________________________________________________________\n",
            "block2_pool (MaxPooling2D)      (None, 56, 56, 128)  0           block2_conv2[0][0]               \n",
            "__________________________________________________________________________________________________\n",
            "block3_conv1 (Conv2D)           (None, 56, 56, 256)  295168      block2_pool[0][0]                \n",
            "__________________________________________________________________________________________________\n",
            "block3_conv2 (Conv2D)           (None, 56, 56, 256)  590080      block3_conv1[0][0]               \n",
            "__________________________________________________________________________________________________\n",
            "block3_conv3 (Conv2D)           (None, 56, 56, 256)  590080      block3_conv2[0][0]               \n",
            "__________________________________________________________________________________________________\n",
            "block3_pool (MaxPooling2D)      (None, 28, 28, 256)  0           block3_conv3[0][0]               \n",
            "__________________________________________________________________________________________________\n",
            "block4_conv1 (Conv2D)           (None, 28, 28, 512)  1180160     block3_pool[0][0]                \n",
            "__________________________________________________________________________________________________\n",
            "block4_conv2 (Conv2D)           (None, 28, 28, 512)  2359808     block4_conv1[0][0]               \n",
            "__________________________________________________________________________________________________\n",
            "block4_conv3 (Conv2D)           (None, 28, 28, 512)  2359808     block4_conv2[0][0]               \n",
            "__________________________________________________________________________________________________\n",
            "block4_pool (MaxPooling2D)      (None, 14, 14, 512)  0           block4_conv3[0][0]               \n",
            "__________________________________________________________________________________________________\n",
            "block5_conv1 (Conv2D)           (None, 14, 14, 512)  2359808     block4_pool[0][0]                \n",
            "__________________________________________________________________________________________________\n",
            "block5_conv2 (Conv2D)           (None, 14, 14, 512)  2359808     block5_conv1[0][0]               \n",
            "__________________________________________________________________________________________________\n",
            "block5_conv3 (Conv2D)           (None, 14, 14, 512)  2359808     block5_conv2[0][0]               \n",
            "__________________________________________________________________________________________________\n",
            "dropout_11 (Dropout)            (None, 14, 14, 512)  0           block5_conv3[0][0]               \n",
            "__________________________________________________________________________________________________\n",
            "up_sampling2d_29 (UpSampling2D) (None, 28, 28, 512)  0           dropout_11[0][0]                 \n",
            "__________________________________________________________________________________________________\n",
            "dropout_10 (Dropout)            (None, 28, 28, 512)  0           block4_conv3[0][0]               \n",
            "__________________________________________________________________________________________________\n",
            "conv2d_89 (Conv2D)              (None, 28, 28, 512)  1049088     up_sampling2d_29[0][0]           \n",
            "__________________________________________________________________________________________________\n",
            "concatenate_28 (Concatenate)    (None, 28, 28, 1024) 0           dropout_10[0][0]                 \n",
            "                                                                 conv2d_89[0][0]                  \n",
            "__________________________________________________________________________________________________\n",
            "conv2d_90 (Conv2D)              (None, 28, 28, 512)  4719104     concatenate_28[0][0]             \n",
            "__________________________________________________________________________________________________\n",
            "conv2d_91 (Conv2D)              (None, 28, 28, 512)  2359808     conv2d_90[0][0]                  \n",
            "__________________________________________________________________________________________________\n",
            "batch_normalization_25 (BatchNo (None, 28, 28, 512)  2048        conv2d_91[0][0]                  \n",
            "__________________________________________________________________________________________________\n",
            "up_sampling2d_30 (UpSampling2D) (None, 56, 56, 512)  0           batch_normalization_25[0][0]     \n",
            "__________________________________________________________________________________________________\n",
            "conv2d_92 (Conv2D)              (None, 56, 56, 256)  524544      up_sampling2d_30[0][0]           \n",
            "__________________________________________________________________________________________________\n",
            "concatenate_29 (Concatenate)    (None, 56, 56, 512)  0           block3_conv3[0][0]               \n",
            "                                                                 conv2d_92[0][0]                  \n",
            "__________________________________________________________________________________________________\n",
            "conv2d_93 (Conv2D)              (None, 56, 56, 256)  1179904     concatenate_29[0][0]             \n",
            "__________________________________________________________________________________________________\n",
            "conv2d_94 (Conv2D)              (None, 56, 56, 256)  590080      conv2d_93[0][0]                  \n",
            "__________________________________________________________________________________________________\n",
            "batch_normalization_26 (BatchNo (None, 56, 56, 256)  1024        conv2d_94[0][0]                  \n",
            "__________________________________________________________________________________________________\n",
            "up_sampling2d_31 (UpSampling2D) (None, 112, 112, 256 0           batch_normalization_26[0][0]     \n",
            "__________________________________________________________________________________________________\n",
            "conv2d_95 (Conv2D)              (None, 112, 112, 128 131200      up_sampling2d_31[0][0]           \n",
            "__________________________________________________________________________________________________\n",
            "concatenate_30 (Concatenate)    (None, 112, 112, 256 0           block2_conv2[0][0]               \n",
            "                                                                 conv2d_95[0][0]                  \n",
            "__________________________________________________________________________________________________\n",
            "conv2d_96 (Conv2D)              (None, 112, 112, 128 295040      concatenate_30[0][0]             \n",
            "__________________________________________________________________________________________________\n",
            "conv2d_97 (Conv2D)              (None, 112, 112, 128 147584      conv2d_96[0][0]                  \n",
            "__________________________________________________________________________________________________\n",
            "batch_normalization_27 (BatchNo (None, 112, 112, 128 512         conv2d_97[0][0]                  \n",
            "__________________________________________________________________________________________________\n",
            "up_sampling2d_32 (UpSampling2D) (None, 224, 224, 128 0           batch_normalization_27[0][0]     \n",
            "__________________________________________________________________________________________________\n",
            "conv2d_98 (Conv2D)              (None, 224, 224, 64) 32832       up_sampling2d_32[0][0]           \n",
            "__________________________________________________________________________________________________\n",
            "concatenate_31 (Concatenate)    (None, 224, 224, 128 0           block1_conv2[0][0]               \n",
            "                                                                 conv2d_98[0][0]                  \n",
            "__________________________________________________________________________________________________\n",
            "conv2d_99 (Conv2D)              (None, 224, 224, 64) 73792       concatenate_31[0][0]             \n",
            "__________________________________________________________________________________________________\n",
            "conv2d_100 (Conv2D)             (None, 224, 224, 64) 36928       conv2d_99[0][0]                  \n",
            "__________________________________________________________________________________________________\n",
            "conv2d_101 (Conv2D)             (None, 224, 224, 64) 36928       conv2d_100[0][0]                 \n",
            "__________________________________________________________________________________________________\n",
            "batch_normalization_28 (BatchNo (None, 224, 224, 64) 256         conv2d_101[0][0]                 \n",
            "__________________________________________________________________________________________________\n",
            "conv2d_102 (Conv2D)             (None, 224, 224, 1)  65          batch_normalization_28[0][0]     \n",
            "__________________________________________________________________________________________________\n",
            "flatten_4 (Flatten)             (None, 50176)        0           conv2d_102[0][0]                 \n",
            "__________________________________________________________________________________________________\n",
            "dense_7 (Dense)                 (None, 64)           3211328     flatten_4[0][0]                  \n",
            "__________________________________________________________________________________________________\n",
            "dropout_12 (Dropout)            (None, 64)           0           dense_7[0][0]                    \n",
            "__________________________________________________________________________________________________\n",
            "dense_8 (Dense)                 (None, 1)            65          dropout_12[0][0]                 \n",
            "==================================================================================================\n",
            "Total params: 29,106,818\n",
            "Trainable params: 14,390,210\n",
            "Non-trainable params: 14,716,608\n",
            "__________________________________________________________________________________________________\n"
          ],
          "name": "stdout"
        }
      ]
    },
    {
      "cell_type": "code",
      "metadata": {
        "id": "yWObyCTLYSMi"
      },
      "source": [
        "for layer in model.layers[:18]:\n",
        "  layer.trainable = False"
      ],
      "execution_count": 64,
      "outputs": []
    },
    {
      "cell_type": "code",
      "metadata": {
        "id": "Zg-M6z7yYSKS"
      },
      "source": [
        "model.compile(optimizer=Adam(1e-3, decay = 1e-6), \n",
        "                   loss='binary_crossentropy', metrics = ['accuracy'])"
      ],
      "execution_count": 65,
      "outputs": []
    },
    {
      "cell_type": "code",
      "metadata": {
        "colab": {
          "base_uri": "https://localhost:8080/"
        },
        "id": "wiM0LpWwYSH5",
        "outputId": "857237c4-5dc0-4942-fafd-4acb6e5440a2"
      },
      "source": [
        "history = model.fit_generator(train_generator,\n",
        "                      steps_per_epoch=100,   # 100개의 배치를 사용\n",
        "                      epochs=30, \n",
        "                      validation_data=validation_generator,\n",
        "                      validation_steps=50)"
      ],
      "execution_count": 66,
      "outputs": [
        {
          "output_type": "stream",
          "text": [
            "/usr/local/lib/python3.7/dist-packages/tensorflow/python/keras/engine/training.py:1844: UserWarning: `Model.fit_generator` is deprecated and will be removed in a future version. Please use `Model.fit`, which supports generators.\n",
            "  warnings.warn('`Model.fit_generator` is deprecated and '\n"
          ],
          "name": "stderr"
        },
        {
          "output_type": "stream",
          "text": [
            "Epoch 1/30\n",
            "100/100 [==============================] - 54s 523ms/step - loss: 1.6820 - accuracy: 0.5142 - val_loss: 0.7629 - val_accuracy: 0.4930\n",
            "Epoch 2/30\n",
            "100/100 [==============================] - 52s 519ms/step - loss: 0.7493 - accuracy: 0.6194 - val_loss: 0.4978 - val_accuracy: 0.8210\n",
            "Epoch 3/30\n",
            "100/100 [==============================] - 52s 519ms/step - loss: 0.6338 - accuracy: 0.7592 - val_loss: 0.3657 - val_accuracy: 0.8800\n",
            "Epoch 4/30\n",
            "100/100 [==============================] - 52s 519ms/step - loss: 0.4819 - accuracy: 0.8318 - val_loss: 0.4480 - val_accuracy: 0.8660\n",
            "Epoch 5/30\n",
            "100/100 [==============================] - 52s 519ms/step - loss: 0.4847 - accuracy: 0.8210 - val_loss: 0.4676 - val_accuracy: 0.7920\n",
            "Epoch 6/30\n",
            "100/100 [==============================] - 52s 519ms/step - loss: 0.4153 - accuracy: 0.8591 - val_loss: 1.3273 - val_accuracy: 0.5050\n",
            "Epoch 7/30\n",
            "100/100 [==============================] - 52s 519ms/step - loss: 0.4290 - accuracy: 0.8543 - val_loss: 0.3149 - val_accuracy: 0.8810\n",
            "Epoch 8/30\n",
            "100/100 [==============================] - 52s 519ms/step - loss: 0.4687 - accuracy: 0.8163 - val_loss: 0.3607 - val_accuracy: 0.9060\n",
            "Epoch 9/30\n",
            "100/100 [==============================] - 52s 519ms/step - loss: 0.3907 - accuracy: 0.8619 - val_loss: 0.2749 - val_accuracy: 0.8900\n",
            "Epoch 10/30\n",
            "100/100 [==============================] - 52s 519ms/step - loss: 0.3460 - accuracy: 0.8731 - val_loss: 0.2765 - val_accuracy: 0.8980\n",
            "Epoch 11/30\n",
            "100/100 [==============================] - 52s 519ms/step - loss: 0.3215 - accuracy: 0.8861 - val_loss: 3.6640 - val_accuracy: 0.4960\n",
            "Epoch 12/30\n",
            "100/100 [==============================] - 52s 519ms/step - loss: 0.3344 - accuracy: 0.8801 - val_loss: 0.3036 - val_accuracy: 0.8910\n",
            "Epoch 13/30\n",
            "100/100 [==============================] - 52s 519ms/step - loss: 0.3548 - accuracy: 0.8802 - val_loss: 0.3289 - val_accuracy: 0.8870\n",
            "Epoch 14/30\n",
            "100/100 [==============================] - 52s 519ms/step - loss: 0.3199 - accuracy: 0.8778 - val_loss: 0.2949 - val_accuracy: 0.9110\n",
            "Epoch 15/30\n",
            "100/100 [==============================] - 52s 519ms/step - loss: 0.3355 - accuracy: 0.8641 - val_loss: 0.2832 - val_accuracy: 0.9020\n",
            "Epoch 16/30\n",
            "100/100 [==============================] - 52s 519ms/step - loss: 0.3479 - accuracy: 0.8712 - val_loss: 0.3361 - val_accuracy: 0.8830\n",
            "Epoch 17/30\n",
            "100/100 [==============================] - 52s 519ms/step - loss: 0.3165 - accuracy: 0.9029 - val_loss: 0.2397 - val_accuracy: 0.9200\n",
            "Epoch 18/30\n",
            "100/100 [==============================] - 52s 519ms/step - loss: 0.2564 - accuracy: 0.9008 - val_loss: 0.2233 - val_accuracy: 0.9170\n",
            "Epoch 19/30\n",
            "100/100 [==============================] - 52s 519ms/step - loss: 0.2553 - accuracy: 0.9058 - val_loss: 0.2020 - val_accuracy: 0.9200\n",
            "Epoch 20/30\n",
            "100/100 [==============================] - 52s 519ms/step - loss: 0.2472 - accuracy: 0.9132 - val_loss: 0.2471 - val_accuracy: 0.9010\n",
            "Epoch 21/30\n",
            "100/100 [==============================] - 52s 519ms/step - loss: 0.2795 - accuracy: 0.9070 - val_loss: 0.2499 - val_accuracy: 0.9170\n",
            "Epoch 22/30\n",
            "100/100 [==============================] - 52s 519ms/step - loss: 0.2496 - accuracy: 0.9028 - val_loss: 0.2292 - val_accuracy: 0.9320\n",
            "Epoch 23/30\n",
            "100/100 [==============================] - 52s 519ms/step - loss: 0.3518 - accuracy: 0.8969 - val_loss: 0.2276 - val_accuracy: 0.9190\n",
            "Epoch 24/30\n",
            "100/100 [==============================] - 52s 519ms/step - loss: 0.2614 - accuracy: 0.9139 - val_loss: 0.3175 - val_accuracy: 0.9160\n",
            "Epoch 25/30\n",
            "100/100 [==============================] - 52s 519ms/step - loss: 0.2324 - accuracy: 0.9190 - val_loss: 0.2505 - val_accuracy: 0.9030\n",
            "Epoch 26/30\n",
            "100/100 [==============================] - 52s 519ms/step - loss: 0.2129 - accuracy: 0.9247 - val_loss: 0.2195 - val_accuracy: 0.9180\n",
            "Epoch 27/30\n",
            "100/100 [==============================] - 52s 519ms/step - loss: 0.2560 - accuracy: 0.9022 - val_loss: 0.2291 - val_accuracy: 0.9090\n",
            "Epoch 28/30\n",
            "100/100 [==============================] - 52s 519ms/step - loss: 0.2218 - accuracy: 0.9213 - val_loss: 0.3572 - val_accuracy: 0.8940\n",
            "Epoch 29/30\n",
            "100/100 [==============================] - 52s 519ms/step - loss: 0.2365 - accuracy: 0.9145 - val_loss: 0.2158 - val_accuracy: 0.9220\n",
            "Epoch 30/30\n",
            "100/100 [==============================] - 52s 519ms/step - loss: 0.1768 - accuracy: 0.9392 - val_loss: 0.3753 - val_accuracy: 0.8680\n"
          ],
          "name": "stdout"
        }
      ]
    },
    {
      "cell_type": "code",
      "metadata": {
        "colab": {
          "base_uri": "https://localhost:8080/"
        },
        "id": "hEIiFFs0qIkz",
        "outputId": "a53e0ad7-ae12-4680-9f70-d12939055528"
      },
      "source": [
        "test_datagen=ImageDataGenerator(rescale=1./255)\n",
        "test_generator=test_datagen.flow_from_directory(test_dir,target_size=(224,224),\n",
        "                                              batch_size=20, class_mode='binary')"
      ],
      "execution_count": 67,
      "outputs": [
        {
          "output_type": "stream",
          "text": [
            "Found 1000 images belonging to 2 classes.\n"
          ],
          "name": "stdout"
        }
      ]
    },
    {
      "cell_type": "code",
      "metadata": {
        "colab": {
          "base_uri": "https://localhost:8080/"
        },
        "id": "XYTk-L7lYSFf",
        "outputId": "73067dc7-0162-47cc-9009-61376f62bb3b"
      },
      "source": [
        "loss, acc=model.evaluate(test_generator,steps=50) "
      ],
      "execution_count": 68,
      "outputs": [
        {
          "output_type": "stream",
          "text": [
            "50/50 [==============================] - 9s 175ms/step - loss: 0.4413 - accuracy: 0.8640\n"
          ],
          "name": "stdout"
        }
      ]
    },
    {
      "cell_type": "code",
      "metadata": {
        "colab": {
          "base_uri": "https://localhost:8080/",
          "height": 545
        },
        "id": "5YRTOtwmvQKJ",
        "outputId": "41ce9538-fbb3-472a-a8f7-e468a3a6351a"
      },
      "source": [
        "import matplotlib.pyplot as plt\n",
        "acc=history.history['accuracy']\n",
        "val_acc=history.history['val_accuracy']\n",
        "loss=history.history['loss']\n",
        "val_loss=history.history['val_loss']\n",
        "epochs=range(1,len(acc)+1)\n",
        "\n",
        "plt.plot(epochs,acc,'g',label='training acc')\n",
        "plt.plot(epochs,val_acc,'ro',label='validation acc')\n",
        "plt.title('training and validation accuracy')\n",
        "plt.legend()\n",
        "plt.figure()\n",
        "plt.plot(epochs,loss,'g',label='training loss')\n",
        "plt.plot(epochs,val_loss,'ro',label='validation loss')\n",
        "plt.title('training and validation loss')\n",
        "plt.legend()\n",
        "plt.show()"
      ],
      "execution_count": 69,
      "outputs": [
        {
          "output_type": "display_data",
          "data": {
            "image/png": "[encoded data removed]",
            "text/plain": [
              "<Figure size 432x288 with 1 Axes>"
            ]
          },
          "metadata": {
            "tags": [],
            "needs_background": "light"
          }
        },
        {
          "output_type": "display_data",
          "data": {
            "image/png": "[encoded data removed]",
            "text/plain": [
              "<Figure size 432x288 with 1 Axes>"
            ]
          },
          "metadata": {
            "tags": [],
            "needs_background": "light"
          }
        }
      ]
    },
    {
      "cell_type": "markdown",
      "metadata": {
        "id": "u77ELs1e4xPy"
      },
      "source": [
        "- U-net은 픽셀기반으로 이미지를 분할한다. 따라서 각 픽셀마다 객체를 분류하는 Segmentation에 특화된 모델이다. \n",
        "- 따라서 Input은 픽셀별 rgb 데이터이고, output은 각 픽셀별 객체 구분정보이다(class) 하지만 이 개/고양이 분류에서는 이 픽셀별 객체 구분정보가 단순 flatten되었고, 이 flatten 된 것을 dense로 분류하였으므로 무언가 맞지 않는다. \n",
        "\n",
        "- U-net은 수축경로에서 채널 범위(참조 범위)를 넓혀가며 contextual 정보를 추출하는 역할을 하고, 전환구간에서 dropout을 통해 노이즈에 견고하게 만든다. 또한 확장경로에서는 Unsampling 과정을 반복하며 이전 layer의 feature map과 concat한다. \n",
        "\n",
        "- 마지막 1*1 conv layer는 각 픽셀이 어떤 class에 해당하는지에 대한 정보를 나타내는 3차원 벡터가 생성된다. \n",
        "\n",
        "> 결론적으로 원래 모델이 훨씬 좋다. U-net은 픽셀단위 연산을 진행하기 떄문이다. "
      ]
    },
    {
      "cell_type": "markdown",
      "metadata": {
        "id": "wdSvdUuQsaNk"
      },
      "source": [
        "### 원래 모델 "
      ]
    },
    {
      "cell_type": "code",
      "metadata": {
        "colab": {
          "base_uri": "https://localhost:8080/"
        },
        "id": "Q7gIMDIVqPJn",
        "outputId": "f63dda56-2666-43c4-f4a5-cb88d91324cd"
      },
      "source": [
        "import tensorflow as tf\n",
        "from tensorflow.keras.models import Sequential\n",
        "from tensorflow.keras.layers import Flatten, Dense, Dropout, BatchNormalization\n",
        "model_aug=Sequential()\n",
        "\n",
        "from tensorflow.keras.applications import VGG16  # 파라미터 freeze\n",
        "vgg_base=VGG16(weights='imagenet',include_top=False, input_shape=(224,224,3)) \n",
        "\n",
        "######### 우선 vgg 구조를 모델에 추가하기 ######\n",
        "model_aug.add(vgg_base)  # 여기에 아예 집어넣음 >> 근데 여기 파라미터는 freez 시켜야함.(아니면 2000개의 파라미터를 가지고 1400만개의 파라미터를 추정하는 꼴이 됨) 그럼 위 과정과 완전히 같아진다. \n",
        "model_aug.add(Flatten())\n",
        "model_aug.add(Dense(64,activation='relu', kernel_initializer='he_normal'))\n",
        "model_aug.add(Dropout(0.5))\n",
        "model_aug.add(Dense(1,activation='sigmoid', kernel_regularizer=tf.keras.regularizers.L1(0.01)))  # 드랍아웃을 안했기때문에 위 결과보다 나쁠수밖에 없음. \n",
        "model_aug.summary()"
      ],
      "execution_count": 54,
      "outputs": [
        {
          "output_type": "stream",
          "text": [
            "Model: \"sequential\"\n",
            "_________________________________________________________________\n",
            "Layer (type)                 Output Shape              Param #   \n",
            "=================================================================\n",
            "vgg16 (Functional)           (None, 7, 7, 512)         14714688  \n",
            "_________________________________________________________________\n",
            "flatten_3 (Flatten)          (None, 25088)             0         \n",
            "_________________________________________________________________\n",
            "dense_5 (Dense)              (None, 64)                1605696   \n",
            "_________________________________________________________________\n",
            "dropout_9 (Dropout)          (None, 64)                0         \n",
            "_________________________________________________________________\n",
            "dense_6 (Dense)              (None, 1)                 65        \n",
            "=================================================================\n",
            "Total params: 16,320,449\n",
            "Trainable params: 16,320,449\n",
            "Non-trainable params: 0\n",
            "_________________________________________________________________\n"
          ],
          "name": "stdout"
        }
      ]
    },
    {
      "cell_type": "code",
      "metadata": {
        "colab": {
          "base_uri": "https://localhost:8080/"
        },
        "id": "jnv-co64qPHY",
        "outputId": "5032a109-5cd6-41f6-a9dd-df923c5192c1"
      },
      "source": [
        "from tensorflow.keras import optimizers\n",
        "model_aug.compile(optimizer=optimizers.RMSprop(lr=2e-5),loss='binary_crossentropy',metrics=['acc'])\n",
        "model_aug_result=model_aug.fit_generator(train_generator,\n",
        "                                         steps_per_epoch=100,   # 100개의 배치를 사용\n",
        "                                         epochs=10, \n",
        "                                         validation_data=validation_generator,\n",
        "                                         validation_steps=50)"
      ],
      "execution_count": 56,
      "outputs": [
        {
          "output_type": "stream",
          "text": [
            "/usr/local/lib/python3.7/dist-packages/tensorflow/python/keras/engine/training.py:1844: UserWarning: `Model.fit_generator` is deprecated and will be removed in a future version. Please use `Model.fit`, which supports generators.\n",
            "  warnings.warn('`Model.fit_generator` is deprecated and '\n"
          ],
          "name": "stderr"
        },
        {
          "output_type": "stream",
          "text": [
            "Epoch 1/10\n",
            "100/100 [==============================] - 32s 308ms/step - loss: 0.7961 - acc: 0.5828 - val_loss: 0.3257 - val_acc: 0.9270\n",
            "Epoch 2/10\n",
            "100/100 [==============================] - 30s 302ms/step - loss: 0.4662 - acc: 0.8330 - val_loss: 0.2397 - val_acc: 0.9420\n",
            "Epoch 3/10\n",
            "100/100 [==============================] - 30s 303ms/step - loss: 0.3460 - acc: 0.8984 - val_loss: 0.3012 - val_acc: 0.9220\n",
            "Epoch 4/10\n",
            "100/100 [==============================] - 31s 308ms/step - loss: 0.2682 - acc: 0.9332 - val_loss: 0.1863 - val_acc: 0.9630\n",
            "Epoch 5/10\n",
            "100/100 [==============================] - 30s 303ms/step - loss: 0.2300 - acc: 0.9461 - val_loss: 0.1607 - val_acc: 0.9740\n",
            "Epoch 6/10\n",
            "100/100 [==============================] - 31s 307ms/step - loss: 0.2084 - acc: 0.9618 - val_loss: 0.3273 - val_acc: 0.8980\n",
            "Epoch 7/10\n",
            "100/100 [==============================] - 31s 305ms/step - loss: 0.2159 - acc: 0.9543 - val_loss: 0.1542 - val_acc: 0.9770\n",
            "Epoch 8/10\n",
            "100/100 [==============================] - 31s 305ms/step - loss: 0.1834 - acc: 0.9643 - val_loss: 0.2505 - val_acc: 0.9300\n",
            "Epoch 9/10\n",
            "100/100 [==============================] - 31s 306ms/step - loss: 0.1910 - acc: 0.9618 - val_loss: 0.2291 - val_acc: 0.9580\n",
            "Epoch 10/10\n",
            "100/100 [==============================] - 31s 305ms/step - loss: 0.1703 - acc: 0.9684 - val_loss: 0.1796 - val_acc: 0.9690\n"
          ],
          "name": "stdout"
        }
      ]
    },
    {
      "cell_type": "code",
      "metadata": {
        "colab": {
          "base_uri": "https://localhost:8080/"
        },
        "id": "MJakDzQdqPEx",
        "outputId": "594553cf-5aa4-4594-9cb1-6f38ab65753c"
      },
      "source": [
        "loss, acc=model_aug.evaluate(test_generator,steps=50) "
      ],
      "execution_count": 57,
      "outputs": [
        {
          "output_type": "stream",
          "text": [
            "50/50 [==============================] - 4s 81ms/step - loss: 0.1593 - acc: 0.9760\n"
          ],
          "name": "stdout"
        }
      ]
    },
    {
      "cell_type": "code",
      "metadata": {
        "colab": {
          "base_uri": "https://localhost:8080/",
          "height": 545
        },
        "id": "eLJJoHTmqPCM",
        "outputId": "151cd63d-2a98-4cc0-9228-6ac9ce95f8b5"
      },
      "source": [
        "import matplotlib.pyplot as plt\n",
        "acc=model_aug_result.history['acc']\n",
        "val_acc=model_aug_result.history['val_acc']\n",
        "loss=model_aug_result.history['loss']\n",
        "val_loss=model_aug_result.history['val_loss']\n",
        "epochs=range(1,len(acc)+1)\n",
        "\n",
        "plt.plot(epochs,acc,'g',label='training acc')\n",
        "plt.plot(epochs,val_acc,'ro',label='validation acc')\n",
        "plt.title('training and validation accuracy')\n",
        "plt.legend()\n",
        "plt.figure()\n",
        "plt.plot(epochs,loss,'g',label='training loss')\n",
        "plt.plot(epochs,val_loss,'ro',label='validation loss')\n",
        "plt.title('training and validation loss')\n",
        "plt.legend()\n",
        "plt.show()"
      ],
      "execution_count": 58,
      "outputs": [
        {
          "output_type": "display_data",
          "data": {
            "image/png": "[encoded data removed]",
            "text/plain": [
              "<Figure size 432x288 with 1 Axes>"
            ]
          },
          "metadata": {
            "tags": [],
            "needs_background": "light"
          }
        },
        {
          "output_type": "display_data",
          "data": {
            "image/png": "[encoded data removed]",
            "text/plain": [
              "<Figure size 432x288 with 1 Axes>"
            ]
          },
          "metadata": {
            "tags": [],
            "needs_background": "light"
          }
        }
      ]
    }
  ]
}