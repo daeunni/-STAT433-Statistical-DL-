{
  "nbformat": 4,
  "nbformat_minor": 0,
  "metadata": {
    "accelerator": "GPU",
    "colab": {
      "name": "HW6(Attention overfitting).ipynb",
      "provenance": [],
      "collapsed_sections": [],
      "machine_shape": "hm",
      "include_colab_link": true
    },
    "kernelspec": {
      "display_name": "Python 3",
      "language": "python",
      "name": "python3"
    },
    "language_info": {
      "codemirror_mode": {
        "name": "ipython",
        "version": 3
      },
      "file_extension": ".py",
      "mimetype": "text/x-python",
      "name": "python",
      "nbconvert_exporter": "python",
      "pygments_lexer": "ipython3",
      "version": "3.6.9"
    }
  },
  "cells": [
    {
      "cell_type": "markdown",
      "metadata": {
        "id": "view-in-github",
        "colab_type": "text"
      },
      "source": [
        "<a href=\"https://colab.research.google.com/github/daeunni/Statistical_DL/blob/main/HW/HW6(Attention_overfitting).ipynb\" target=\"_parent\"><img src=\"https://colab.research.google.com/assets/colab-badge.svg\" alt=\"Open In Colab\"/></a>"
      ]
    },
    {
      "cell_type": "markdown",
      "metadata": {
        "id": "MlPSATplHe_2"
      },
      "source": [
        "# **HW**\n",
        "### 1. attetion 모형의 overfitting 해결하기"
      ]
    },
    {
      "cell_type": "code",
      "metadata": {
        "id": "YbZpxcZfN8oE"
      },
      "source": [
        "import pandas as pd\n",
        "import numpy as np\n",
        "import string"
      ],
      "execution_count": null,
      "outputs": []
    },
    {
      "cell_type": "code",
      "metadata": {
        "id": "h2TfyCbaGv9T",
        "colab": {
          "base_uri": "https://localhost:8080/"
        },
        "outputId": "6508683f-522b-4bb5-cfa2-c3770f5dfe62"
      },
      "source": [
        "from google.colab import drive\n",
        "drive.mount('/content/drive')"
      ],
      "execution_count": null,
      "outputs": [
        {
          "output_type": "stream",
          "text": [
            "Mounted at /content/drive\n"
          ],
          "name": "stdout"
        }
      ]
    },
    {
      "cell_type": "code",
      "metadata": {
        "id": "ATqji5eL4W4U"
      },
      "source": [
        "lines= pd.read_table('/content/drive/MyDrive/Colab Notebooks/DL/[STAT433] 딥러닝을 위한 통계적모델링/data/english to french.txt', names=['eng', 'fr'])"
      ],
      "execution_count": null,
      "outputs": []
    },
    {
      "cell_type": "code",
      "metadata": {
        "id": "agbkqAB3G_6Y",
        "colab": {
          "base_uri": "https://localhost:8080/",
          "height": 142
        },
        "outputId": "81ff1afe-b4fe-4979-dee3-3d8794b4bd42"
      },
      "source": [
        "lines.head(3)"
      ],
      "execution_count": null,
      "outputs": [
        {
          "output_type": "execute_result",
          "data": {
            "text/html": [
              "<div>\n",
              "<style scoped>\n",
              "    .dataframe tbody tr th:only-of-type {\n",
              "        vertical-align: middle;\n",
              "    }\n",
              "\n",
              "    .dataframe tbody tr th {\n",
              "        vertical-align: top;\n",
              "    }\n",
              "\n",
              "    .dataframe thead th {\n",
              "        text-align: right;\n",
              "    }\n",
              "</style>\n",
              "<table border=\"1\" class=\"dataframe\">\n",
              "  <thead>\n",
              "    <tr style=\"text-align: right;\">\n",
              "      <th></th>\n",
              "      <th>eng</th>\n",
              "      <th>fr</th>\n",
              "    </tr>\n",
              "  </thead>\n",
              "  <tbody>\n",
              "    <tr>\n",
              "      <th>0</th>\n",
              "      <td>Go.</td>\n",
              "      <td>Va !</td>\n",
              "    </tr>\n",
              "    <tr>\n",
              "      <th>1</th>\n",
              "      <td>Run!</td>\n",
              "      <td>Cours !</td>\n",
              "    </tr>\n",
              "    <tr>\n",
              "      <th>2</th>\n",
              "      <td>Run!</td>\n",
              "      <td>Courez !</td>\n",
              "    </tr>\n",
              "  </tbody>\n",
              "</table>\n",
              "</div>"
            ],
            "text/plain": [
              "    eng        fr\n",
              "0   Go.      Va !\n",
              "1  Run!   Cours !\n",
              "2  Run!  Courez !"
            ]
          },
          "metadata": {
            "tags": []
          },
          "execution_count": 4
        }
      ]
    },
    {
      "cell_type": "code",
      "metadata": {
        "colab": {
          "base_uri": "https://localhost:8080/"
        },
        "id": "cnoyhpsqXA9I",
        "outputId": "e00b244d-352c-4d4b-a380-3ca34f0c65a4"
      },
      "source": [
        "lines.shape"
      ],
      "execution_count": null,
      "outputs": [
        {
          "output_type": "execute_result",
          "data": {
            "text/plain": [
              "(149861, 2)"
            ]
          },
          "metadata": {
            "tags": []
          },
          "execution_count": 5
        }
      ]
    },
    {
      "cell_type": "code",
      "metadata": {
        "id": "F_qXu5VX4XIp"
      },
      "source": [
        "lines = lines[0:50000]  # 5만 > 10만"
      ],
      "execution_count": null,
      "outputs": []
    },
    {
      "cell_type": "markdown",
      "metadata": {
        "id": "QbnVTmwj1Tkl"
      },
      "source": [
        "# 1. Preprocessing "
      ]
    },
    {
      "cell_type": "code",
      "metadata": {
        "id": "NkdgGL404XGc"
      },
      "source": [
        " # 소문자로 만들기 \n",
        "lines['eng']=lines['eng'].apply(lambda x: x.lower()) \n",
        "lines['fr']=lines['fr'].apply(lambda x: x.lower())"
      ],
      "execution_count": null,
      "outputs": []
    },
    {
      "cell_type": "code",
      "metadata": {
        "id": "gOkzFxTe4fhL"
      },
      "source": [
        "# 문장부호 없애기\n",
        "exclude = set(string.punctuation)\n",
        "lines.eng=lines.eng.apply(lambda x: ''.join(ch for ch in x if ch not in exclude))  \n",
        "lines.fr=lines.fr.apply(lambda x: ''.join(ch for ch in x if ch not in exclude))"
      ],
      "execution_count": null,
      "outputs": []
    },
    {
      "cell_type": "code",
      "metadata": {
        "id": "2tVHM-oR4fpm"
      },
      "source": [
        "# start와 end를 추가한다!\n",
        "lines.fr = lines.fr.apply(lambda x : 'start '+ x + ' end')"
      ],
      "execution_count": null,
      "outputs": []
    },
    {
      "cell_type": "code",
      "metadata": {
        "id": "2D_AMqsdndne",
        "colab": {
          "base_uri": "https://localhost:8080/",
          "height": 142
        },
        "outputId": "7beda98d-88bf-4f10-b7bb-163dedd0b3bb"
      },
      "source": [
        "lines.head(3)   "
      ],
      "execution_count": null,
      "outputs": [
        {
          "output_type": "execute_result",
          "data": {
            "text/html": [
              "<div>\n",
              "<style scoped>\n",
              "    .dataframe tbody tr th:only-of-type {\n",
              "        vertical-align: middle;\n",
              "    }\n",
              "\n",
              "    .dataframe tbody tr th {\n",
              "        vertical-align: top;\n",
              "    }\n",
              "\n",
              "    .dataframe thead th {\n",
              "        text-align: right;\n",
              "    }\n",
              "</style>\n",
              "<table border=\"1\" class=\"dataframe\">\n",
              "  <thead>\n",
              "    <tr style=\"text-align: right;\">\n",
              "      <th></th>\n",
              "      <th>eng</th>\n",
              "      <th>fr</th>\n",
              "    </tr>\n",
              "  </thead>\n",
              "  <tbody>\n",
              "    <tr>\n",
              "      <th>0</th>\n",
              "      <td>go</td>\n",
              "      <td>start va  end</td>\n",
              "    </tr>\n",
              "    <tr>\n",
              "      <th>1</th>\n",
              "      <td>run</td>\n",
              "      <td>start cours  end</td>\n",
              "    </tr>\n",
              "    <tr>\n",
              "      <th>2</th>\n",
              "      <td>run</td>\n",
              "      <td>start courez  end</td>\n",
              "    </tr>\n",
              "  </tbody>\n",
              "</table>\n",
              "</div>"
            ],
            "text/plain": [
              "   eng                 fr\n",
              "0   go      start va  end\n",
              "1  run   start cours  end\n",
              "2  run  start courez  end"
            ]
          },
          "metadata": {
            "tags": []
          },
          "execution_count": 10
        }
      ]
    },
    {
      "cell_type": "code",
      "metadata": {
        "id": "BByeGbi6rx89",
        "colab": {
          "base_uri": "https://localhost:8080/"
        },
        "outputId": "18df5a6f-3421-4dd2-cce6-ec8d8c0924af"
      },
      "source": [
        "lines.shape"
      ],
      "execution_count": null,
      "outputs": [
        {
          "output_type": "execute_result",
          "data": {
            "text/plain": [
              "(50000, 2)"
            ]
          },
          "metadata": {
            "tags": []
          },
          "execution_count": 11
        }
      ]
    },
    {
      "cell_type": "markdown",
      "metadata": {
        "id": "Tr9Nll0iHcrR"
      },
      "source": [
        "## 토큰화"
      ]
    },
    {
      "cell_type": "code",
      "metadata": {
        "id": "gCXv8Y7G_szR"
      },
      "source": [
        "# fit a tokenizer\n",
        "from tensorflow.keras.preprocessing.text import Tokenizer\n",
        "def create_tokenizer(lines):\n",
        "    tokenizer = Tokenizer()\n",
        "    tokenizer.fit_on_texts(lines)\n",
        "    return tokenizer"
      ],
      "execution_count": null,
      "outputs": []
    },
    {
      "cell_type": "code",
      "metadata": {
        "id": "4y854XLW_swc"
      },
      "source": [
        "## 영어\n",
        "import json\n",
        "eng_tokenizer = create_tokenizer(lines['eng'])\n",
        "eng_dict=json.loads(json.dumps(eng_tokenizer.word_counts))  \n",
        "\n",
        "df =pd.DataFrame([eng_dict.keys(), eng_dict.values()]).T\n",
        "df.columns = ['word','count']\n",
        "df = df.sort_values(by='count',ascending = False)\n",
        "\n",
        "df['cum_count']=df['count'].cumsum()  # 단어 등장 빈도\n",
        "df['cum_perc'] = df['cum_count']/df['cum_count'].max()  # 단어 등장 비율\n",
        "final_eng_words = df[df['cum_perc']<0.8]['word'].values   # 상위 80퍼센트 등장한 단어만 사용"
      ],
      "execution_count": null,
      "outputs": []
    },
    {
      "cell_type": "code",
      "metadata": {
        "id": "e_UfzxgyJUW5",
        "colab": {
          "base_uri": "https://localhost:8080/"
        },
        "outputId": "1b5ca42c-79c4-461e-bf63-66eb4480a2db"
      },
      "source": [
        "final_eng_words   # 80% 빈도수를 차지하는 총 영어 단어의 수 "
      ],
      "execution_count": null,
      "outputs": [
        {
          "output_type": "execute_result",
          "data": {
            "text/plain": [
              "array(['i', 'you', 'a', 'is', 'the', 'it', 'to', 'he', 'tom', 'im', 'me',\n",
              "       'do', 'are', 'this', 'that', 'dont', 'was', 'youre', 'we', 'not',\n",
              "       'my', 'have', 'your', 'did', 'be', 'were', 'all', 'she', 'its',\n",
              "       'they', 'like', 'can', 'what', 'go', 'of', 'in', 'very', 'want',\n",
              "       'no', 'how', 'here', 'him', 'on', 'cant', 'ill', 'thats', 'for',\n",
              "       'know', 'get', 'up', 'need', 'out', 'at', 'just', 'one', 'his',\n",
              "       'so', 'now', 'why', 'good', 'there', 'please', 'come', 'with',\n",
              "       'hes', 'think', 'has', 'too', 'will', 'her', 'love', 'see', 'got',\n",
              "       'look', 'help', 'am', 'really', 'us', 'had', 'who', 'right',\n",
              "       'take', 'didnt', 'well', 'let', 'where', 'theyre', 'an', 'feel',\n",
              "       'must', 'home', 'lets', 'stop', 'made', 'happy', 'back', 'about',\n",
              "       'ive', 'work', 'time', 'still', 'whats', 'give', 'going', 'may',\n",
              "       'never', 'them', 'tell', 'car', 'leave', 'alone', 'try', 'busy',\n",
              "       'could', 'say', 'went', 'saw', 'make', 'much', 'isnt', 'should',\n",
              "       'ready', 'money', 'keep', 'does', 'lost', 'dog', 'big', 'eat',\n",
              "       'wont', 'off', 'book', 'some', 'job', 'today', 'stay', 'down',\n",
              "       'bad', 'drink', 'everyone', 'again', 'been', 'tired', 'way',\n",
              "       'talk', 'old', 'door', 'hate', 'hear', 'as', 'day', 'id', 'wrong',\n",
              "       'enough', 'nice', 'call', 'toms', 'mary', 'lot', 'our', 'wait',\n",
              "       'sure', 'better', 'live', 'something', 'find', 'would', 'hard',\n",
              "       'hurt', 'hope', 'left', 'shes', 'open', 'gave', 'room', 'from',\n",
              "       'when', 'french', 'said', 'speak', 'new', 'house', 'yet', 'anyone',\n",
              "       'felt', 'everything', 'came', 'done', 'over', 'and', 'man', 'long',\n",
              "       'youve', 'read', 'fun', 'late', 'away', 'doing', 'wasnt', 'funny',\n",
              "       'bed', 'by', 'these', 'any', 'more', 'mine', 'water', 'name',\n",
              "       'friends', 'anything', 'told', 'ask', 'friend', 'believe', 'play',\n",
              "       'looks', 'everybody', 'show', 'always', 'great', 'thought', 'turn',\n",
              "       'heard', 'theres', 'only', 'doesnt', 'watch', 'nothing', 'cold',\n",
              "       'likes', 'took', 'cat', 'sorry', 'nobody', 'anybody', 'being',\n",
              "       'knew', 'both', 'life', 'trust', 'gone', 'teacher', 'remember',\n",
              "       'knows', 'true', 'yours', 'idea', 'sleep', 'careful', 'found',\n",
              "       'died', 'almost', 'use', 'already', 'if', 'wheres', 'put',\n",
              "       'mother', 'sick', 'married', 'school', 'best', 'father', 'safe',\n",
              "       'little', 'problem', 'tomorrow', 'hungry', 'glad', 'boy', 'close',\n",
              "       'buy', 'kind', 'than', 'arent', 'coming', 'miss', 'angry', 'sing',\n",
              "       'afraid', 'answer', 'ok', 'mean', 'tried', 'care', 'hurry',\n",
              "       'wanted', 'myself', 'run', 'walk', 'seems', 'lie', 'stupid',\n",
              "       'looked', 'broke', 'quit', 'early', 'enjoy', 'eyes', 'pretty',\n",
              "       'dead', 'soon', 'easy', 'loves', 'forget', 'ran', 'fast', 'met',\n",
              "       'beautiful', 'into', 'called', 'die', 'next', 'food', 'swim',\n",
              "       'sit', 'study', 'yourself', 'bicycle', 'lunch', 'word', 'shut',\n",
              "       'many', 'meet', 'else', 'pay', 'asked', 'talking', 'start', 'last',\n",
              "       'crazy', 'bring', 'two', 'wants', 'whos', 'hot', 'first',\n",
              "       'happened', 'agree', 'drunk', 'youd', 'win', 'wish', 'night',\n",
              "       'phone', 'proud', 'books', 'caught', 'yesterday', 'mind', 'upset',\n",
              "       'tv', 'plan', 'those', 'hand', 'working', 'understand', 'sad',\n",
              "       'wife', 'used', 'getting', 'bit', 'hat', 'bought', 'finished',\n",
              "       'liked', 'free', 'fine', 'english', 'coffee', 'often', 'handle',\n",
              "       'quite', 'light', 'own', 'young', 'hows', 'drive', 'tea', 'kids',\n",
              "       'someone', 'stand', 'music', 'guy'], dtype=object)"
            ]
          },
          "metadata": {
            "tags": []
          },
          "execution_count": 14
        }
      ]
    },
    {
      "cell_type": "code",
      "metadata": {
        "id": "h5dVNOyvHsyu",
        "colab": {
          "base_uri": "https://localhost:8080/",
          "height": 204
        },
        "outputId": "9198ce4c-8b5d-4c70-f5a0-4296d17b05be"
      },
      "source": [
        "df.head()"
      ],
      "execution_count": null,
      "outputs": [
        {
          "output_type": "execute_result",
          "data": {
            "text/html": [
              "<div>\n",
              "<style scoped>\n",
              "    .dataframe tbody tr th:only-of-type {\n",
              "        vertical-align: middle;\n",
              "    }\n",
              "\n",
              "    .dataframe tbody tr th {\n",
              "        vertical-align: top;\n",
              "    }\n",
              "\n",
              "    .dataframe thead th {\n",
              "        text-align: right;\n",
              "    }\n",
              "</style>\n",
              "<table border=\"1\" class=\"dataframe\">\n",
              "  <thead>\n",
              "    <tr style=\"text-align: right;\">\n",
              "      <th></th>\n",
              "      <th>word</th>\n",
              "      <th>count</th>\n",
              "      <th>cum_count</th>\n",
              "      <th>cum_perc</th>\n",
              "    </tr>\n",
              "  </thead>\n",
              "  <tbody>\n",
              "    <tr>\n",
              "      <th>9</th>\n",
              "      <td>i</td>\n",
              "      <td>11307</td>\n",
              "      <td>11307</td>\n",
              "      <td>0.057204</td>\n",
              "    </tr>\n",
              "    <tr>\n",
              "      <th>78</th>\n",
              "      <td>you</td>\n",
              "      <td>8787</td>\n",
              "      <td>20094</td>\n",
              "      <td>0.101659</td>\n",
              "    </tr>\n",
              "    <tr>\n",
              "      <th>92</th>\n",
              "      <td>a</td>\n",
              "      <td>4899</td>\n",
              "      <td>24993</td>\n",
              "      <td>0.126444</td>\n",
              "    </tr>\n",
              "    <tr>\n",
              "      <th>215</th>\n",
              "      <td>is</td>\n",
              "      <td>4468</td>\n",
              "      <td>29461</td>\n",
              "      <td>0.149048</td>\n",
              "    </tr>\n",
              "    <tr>\n",
              "      <th>568</th>\n",
              "      <td>the</td>\n",
              "      <td>3808</td>\n",
              "      <td>33269</td>\n",
              "      <td>0.168313</td>\n",
              "    </tr>\n",
              "  </tbody>\n",
              "</table>\n",
              "</div>"
            ],
            "text/plain": [
              "    word  count cum_count  cum_perc\n",
              "9      i  11307     11307  0.057204\n",
              "78   you   8787     20094  0.101659\n",
              "92     a   4899     24993  0.126444\n",
              "215   is   4468     29461  0.149048\n",
              "568  the   3808     33269  0.168313"
            ]
          },
          "metadata": {
            "tags": []
          },
          "execution_count": 15
        }
      ]
    },
    {
      "cell_type": "code",
      "metadata": {
        "id": "I3OrR4k0AfTX"
      },
      "source": [
        "## 프랑스어\n",
        "fr_tokenizer = create_tokenizer(lines['fr'])\n",
        "fr_dict = json.loads(json.dumps(fr_tokenizer.word_counts))\n",
        "\n",
        "df =pd.DataFrame([fr_dict.keys(), fr_dict.values()]).T\n",
        "df.columns = ['word','count']\n",
        "df = df.sort_values(by='count',ascending = False)\n",
        "\n",
        "df['cum_count']=df['count'].cumsum()   # 단어 등장 빈도\n",
        "df['cum_perc'] = df['cum_count']/df['cum_count'].max()  # 단어 등장 비율\n",
        "final_fr_words = df[df['cum_perc']<0.8]['word'].values"
      ],
      "execution_count": null,
      "outputs": []
    },
    {
      "cell_type": "code",
      "metadata": {
        "id": "klT6hK2fJSDJ",
        "colab": {
          "base_uri": "https://localhost:8080/"
        },
        "outputId": "9d3a1984-7146-49b0-9338-e55ef231319b"
      },
      "source": [
        "final_fr_words    # 80% 빈도수를 차지하는 총 프랑스 단어의 수 "
      ],
      "execution_count": null,
      "outputs": [
        {
          "output_type": "execute_result",
          "data": {
            "text/plain": [
              "array(['start', 'end', 'je', 'pas', 'de', 'ne', 'vous', 'il', 'le', 'est',\n",
              "       'nous', 'la', 'à', 'tom', 'que', 'suis', 'un', 'cest', 'jai', 'tu',\n",
              "       'a', 'en', 'me', 'ce', 'une', 'les', 'ça', 'elle', 'tout', 'êtes',\n",
              "       'fait', 'sont', 'te', 'qui', 'mon', 'ma', 'faire', 'très',\n",
              "       'sommes', 'ils', 'des', 'nest', 'veux', 'es', 'estce', 'votre',\n",
              "       'du', 'se', 'pour', 'elles', 'y', 'bien', 'cela', 'moi', 'peux',\n",
              "       'comment', 'été', 'pourquoi', 'êtesvous', 'ici', 'besoin', 'ton',\n",
              "       'personne', 'où', 'avec', 'dans', 'plus', 'tous', 'vraiment',\n",
              "       'lui', 'lair', 'être', 'aller', 'si', 'cette', 'train', 'au',\n",
              "       'toi', 'trop', 'faut', 'nai', 'était', 'ai', 'monde', 'avons',\n",
              "       'son', 'pense', 'maintenant', 'astu', 'dit', 'ont', 'estu',\n",
              "       'avezvous', 'va', 'bon', 'cétait', 'puisje', 'toutes', 'sur',\n",
              "       'jaime', 'as', 'là', 'avez', 'ta', 'sest', 'encore', 'temps',\n",
              "       'sais', 'jamais', 'lai', 'on', 'fais', 'maison', 'quelle',\n",
              "       'jétais', 'comme', 'vais', 'vu', 'quel', 'sens', 'beaucoup',\n",
              "       'dois', 'mal', 'rien', 'voir', 'sil', 'peut', 'voiture', 'peu',\n",
              "       'ceci', 'porte', 'juste', 'ny', 'quelque', 'na', 'fort', 'soyez',\n",
              "       'toujours', 'chose', 'mes', 'quoi', 'estil', 'tes', 'deux', 'chez',\n",
              "       'quil', 'jadore', 'chien', 'sois', 'partir', 'bonne', 'plaît',\n",
              "       'questce', 'assez', 'nen', 'aujourdhui', 'sa', 'livre', 'et',\n",
              "       'atil', 'parler', 'travail', 'prie', 'déteste', 'dire', 'men',\n",
              "       'eu', 'heureux', 'viens', 'tellement', 'perdu', 'quand', 'dun',\n",
              "       'mieux', 'avoir', 'soit', 'jen', 'fut', 'seul', 'pris', 'déjà',\n",
              "       'quelquun', 'combien', 'simplement', 'notre', 'faites', 'raison',\n",
              "       'par', 'vos', 'aussi', 'pouvez', 'nêtes', 'peur', 'parle', 'dêtre',\n",
              "       'nouveau', 'avait', 'vie', 'sait', 'aije', 'confiance', 'occupé',\n",
              "       'entendu', 'ses', 'français', 'prêt', 'aime', 'connais', 'mary',\n",
              "       'prendre', 'ces', 'pouvons', 'manger', 'peuxtu', 'dune', 'naime',\n",
              "       'lit', 'regarde', 'daccord', 'homme', 'grand', 'arrête',\n",
              "       'pouvezvous', 'vrai', 'mort', 'père', 'mère', 'jespère', 'nom',\n",
              "       'même', 'idée', 'chambre', 'presque', 'faim', 'veuillez', 'trouve',\n",
              "       'fille', 'prends', 'semble', 'malade', 'merci', 'problème',\n",
              "       'nétait', 'tai', 'toute', 'pensais', 'peutêtre', 'reste',\n",
              "       'jaimerais', 'leau', 'demain', 'fatigué', 'heureuse', 'laissemoi',\n",
              "       'chanter', 'jy', 'dis', 'femme', 'garçon', 'aider', 'laissezmoi',\n",
              "       'venir', 'veut', 'non', 'enfants', 'nes', 'tête', 'chat', 'colère',\n",
              "       'gros', 'coup', 'aucun', 'aux', 'fini', 'dargent', 'pourrait',\n",
              "       'boulot', 'yeux', 'sans', 'vite', 'trouvé', 'nestce', 'tard',\n",
              "       'retard', 'fois', 'seule', 'journée', 'chance', 'crois', 'passé',\n",
              "       'lire', 'terminé', 'sûr', 'narrive', 'travaille', 'mauvais',\n",
              "       'nager', 'restez', 'laisse', 'veuxtu', 'travailler', 'allé',\n",
              "       'allez', 'arrêtez', 'bientôt', 'tôt', 'quiconque', 'main',\n",
              "       'rester', 'venu', 'doit', 'prenez', 'voulezvous', 'ami', 'sen',\n",
              "       'voulons', 'occupée', 'amis', 'hier', 'voici', 'point', 'estelle',\n",
              "       'tomber', 'verre', 'mourir', 'tort', 'difficile', 'froid',\n",
              "       'plutôt', 'heures', 'cet', 'vieux', 'grande', 'javais', 'devrais',\n",
              "       'pleurer', 'nuit', 'vis', 'demandé', 'prête', 'lécole', 'devez',\n",
              "       'vélo', 'aucune', 'acheté', 'parti', 'étaient', 'jeune', 'largent',\n",
              "       'mis', 'boire', 'chercher', 'ten', 'vois', 'vue', 'lheure',\n",
              "       'dautre'], dtype=object)"
            ]
          },
          "metadata": {
            "tags": []
          },
          "execution_count": 17
        }
      ]
    },
    {
      "cell_type": "code",
      "metadata": {
        "id": "QYB8EkD_Ipvn",
        "colab": {
          "base_uri": "https://localhost:8080/",
          "height": 204
        },
        "outputId": "c765ebb0-33eb-4182-9cc3-1a8ac1f2dd7d"
      },
      "source": [
        "df.head()"
      ],
      "execution_count": null,
      "outputs": [
        {
          "output_type": "execute_result",
          "data": {
            "text/html": [
              "<div>\n",
              "<style scoped>\n",
              "    .dataframe tbody tr th:only-of-type {\n",
              "        vertical-align: middle;\n",
              "    }\n",
              "\n",
              "    .dataframe tbody tr th {\n",
              "        vertical-align: top;\n",
              "    }\n",
              "\n",
              "    .dataframe thead th {\n",
              "        text-align: right;\n",
              "    }\n",
              "</style>\n",
              "<table border=\"1\" class=\"dataframe\">\n",
              "  <thead>\n",
              "    <tr style=\"text-align: right;\">\n",
              "      <th></th>\n",
              "      <th>word</th>\n",
              "      <th>count</th>\n",
              "      <th>cum_count</th>\n",
              "      <th>cum_perc</th>\n",
              "    </tr>\n",
              "  </thead>\n",
              "  <tbody>\n",
              "    <tr>\n",
              "      <th>0</th>\n",
              "      <td>start</td>\n",
              "      <td>50000</td>\n",
              "      <td>50000</td>\n",
              "      <td>0.158865</td>\n",
              "    </tr>\n",
              "    <tr>\n",
              "      <th>2</th>\n",
              "      <td>end</td>\n",
              "      <td>50000</td>\n",
              "      <td>100000</td>\n",
              "      <td>0.31773</td>\n",
              "    </tr>\n",
              "    <tr>\n",
              "      <th>20</th>\n",
              "      <td>je</td>\n",
              "      <td>9886</td>\n",
              "      <td>109886</td>\n",
              "      <td>0.34914</td>\n",
              "    </tr>\n",
              "    <tr>\n",
              "      <th>66</th>\n",
              "      <td>pas</td>\n",
              "      <td>5758</td>\n",
              "      <td>115644</td>\n",
              "      <td>0.367435</td>\n",
              "    </tr>\n",
              "    <tr>\n",
              "      <th>75</th>\n",
              "      <td>de</td>\n",
              "      <td>4663</td>\n",
              "      <td>120307</td>\n",
              "      <td>0.382251</td>\n",
              "    </tr>\n",
              "  </tbody>\n",
              "</table>\n",
              "</div>"
            ],
            "text/plain": [
              "     word  count cum_count  cum_perc\n",
              "0   start  50000     50000  0.158865\n",
              "2     end  50000    100000   0.31773\n",
              "20     je   9886    109886   0.34914\n",
              "66    pas   5758    115644  0.367435\n",
              "75     de   4663    120307  0.382251"
            ]
          },
          "metadata": {
            "tags": []
          },
          "execution_count": 18
        }
      ]
    },
    {
      "cell_type": "code",
      "metadata": {
        "id": "m4jrbgIjAfPd",
        "colab": {
          "base_uri": "https://localhost:8080/"
        },
        "outputId": "c9353df3-a805-4f08-af43-d55349d42ea3"
      },
      "source": [
        " # 영어, 프랑스어에서 80%차지하는 unique한 단어 개수\n",
        "print('80% 차지하는 unique한 영어 단어 개수 : ', len(final_eng_words))\n",
        "print('80% 차지하는 unique한 프랑스 단어 개수 : ', len(final_fr_words)) \n",
        "\n",
        "### 80%에 해당하지 않는 단어는 unknown으로 하나의 단어 클래스로 한다. "
      ],
      "execution_count": null,
      "outputs": [
        {
          "output_type": "stream",
          "text": [
            "80% 차지하는 unique한 영어 단어 개수 :  384\n",
            "80% 차지하는 unique한 프랑스 단어 개수 :  357\n"
          ],
          "name": "stdout"
        }
      ]
    },
    {
      "cell_type": "markdown",
      "metadata": {
        "id": "xgZw9lw9J03y"
      },
      "source": [
        "따라서 머신 번역 문제는 385개의 영어 단어를 입력해 358개의 프랑스 단어를 구분하는 문제이다!       \n",
        "(class가 358개인 다중분류문제, categorical crossentropy)"
      ]
    },
    {
      "cell_type": "code",
      "metadata": {
        "id": "mTOesHOq_ss0"
      },
      "source": [
        "# 위 80%에 해당하지 않는 단어는 unknown으로 전환한다!\n",
        "def filter_eng_words(x):\n",
        "  t = []\n",
        "  x = x.split()\n",
        "  for i in range(len(x)):\n",
        "    if x[i] in final_eng_words:\n",
        "      t.append(x[i])\n",
        "    else:\n",
        "      t.append('unk')  # unknown \n",
        "  x3 = ''\n",
        "  for i in range(len(t)):\n",
        "    x3 = x3+t[i]+' '   # 공백을 준다\n",
        "  return x3\n",
        "\n",
        "# 프랑스어 함수\n",
        "def filter_fr_words(x):\n",
        "  t = []\n",
        "  x = x.split()\n",
        "  for i in range(len(x)):\n",
        "    if x[i] in final_fr_words:\n",
        "      t.append(x[i])\n",
        "    else:\n",
        "      t.append('unk')\n",
        "  x3 = ''\n",
        "  for i in range(len(t)):\n",
        "    x3 = x3+t[i]+' '   # 공백을 준다\n",
        "  return x3"
      ],
      "execution_count": null,
      "outputs": []
    },
    {
      "cell_type": "code",
      "metadata": {
        "id": "djQPLFAml-A3",
        "colab": {
          "base_uri": "https://localhost:8080/",
          "height": 35
        },
        "outputId": "a90aaa78-59e2-42f2-daf4-8e8230727101"
      },
      "source": [
        "filter_eng_words('he is extremely good')   # extremely > unk 변환! "
      ],
      "execution_count": null,
      "outputs": [
        {
          "output_type": "execute_result",
          "data": {
            "application/vnd.google.colaboratory.intrinsic+json": {
              "type": "string"
            },
            "text/plain": [
              "'he is unk good '"
            ]
          },
          "metadata": {
            "tags": []
          },
          "execution_count": 21
        }
      ]
    },
    {
      "cell_type": "code",
      "metadata": {
        "id": "qy6K2pdXCxhb"
      },
      "source": [
        "# unk설정 + 마지막 공백\n",
        "lines['eng']=lines['eng'].apply(filter_eng_words)\n",
        "lines['fr']=lines['fr'].apply(filter_fr_words)"
      ],
      "execution_count": null,
      "outputs": []
    },
    {
      "cell_type": "code",
      "metadata": {
        "id": "kFDBf_Zgxqrk",
        "colab": {
          "base_uri": "https://localhost:8080/",
          "height": 204
        },
        "outputId": "3ddd1e9a-e97e-423a-9932-b0392e1c62ba"
      },
      "source": [
        "lines.head()"
      ],
      "execution_count": null,
      "outputs": [
        {
          "output_type": "execute_result",
          "data": {
            "text/html": [
              "<div>\n",
              "<style scoped>\n",
              "    .dataframe tbody tr th:only-of-type {\n",
              "        vertical-align: middle;\n",
              "    }\n",
              "\n",
              "    .dataframe tbody tr th {\n",
              "        vertical-align: top;\n",
              "    }\n",
              "\n",
              "    .dataframe thead th {\n",
              "        text-align: right;\n",
              "    }\n",
              "</style>\n",
              "<table border=\"1\" class=\"dataframe\">\n",
              "  <thead>\n",
              "    <tr style=\"text-align: right;\">\n",
              "      <th></th>\n",
              "      <th>eng</th>\n",
              "      <th>fr</th>\n",
              "    </tr>\n",
              "  </thead>\n",
              "  <tbody>\n",
              "    <tr>\n",
              "      <th>0</th>\n",
              "      <td>go</td>\n",
              "      <td>start va end</td>\n",
              "    </tr>\n",
              "    <tr>\n",
              "      <th>1</th>\n",
              "      <td>run</td>\n",
              "      <td>start unk end</td>\n",
              "    </tr>\n",
              "    <tr>\n",
              "      <th>2</th>\n",
              "      <td>run</td>\n",
              "      <td>start unk end</td>\n",
              "    </tr>\n",
              "    <tr>\n",
              "      <th>3</th>\n",
              "      <td>unk</td>\n",
              "      <td>start ça unk end</td>\n",
              "    </tr>\n",
              "    <tr>\n",
              "      <th>4</th>\n",
              "      <td>unk</td>\n",
              "      <td>start au unk end</td>\n",
              "    </tr>\n",
              "  </tbody>\n",
              "</table>\n",
              "</div>"
            ],
            "text/plain": [
              "    eng                 fr\n",
              "0   go       start va end \n",
              "1  run      start unk end \n",
              "2  run      start unk end \n",
              "3  unk   start ça unk end \n",
              "4  unk   start au unk end "
            ]
          },
          "metadata": {
            "tags": []
          },
          "execution_count": 23
        }
      ]
    },
    {
      "cell_type": "code",
      "metadata": {
        "id": "iCO5WTo84fnn"
      },
      "source": [
        "# 유일한 영어와 프랑스어 집합\n",
        "all_eng_words=set()\n",
        "for eng in lines.eng:\n",
        "    for word in eng.split():\n",
        "        if word not in all_eng_words:\n",
        "            all_eng_words.add(word)\n",
        "    \n",
        "all_french_words=set()\n",
        "for fr in lines.fr:\n",
        "    for word in fr.split():\n",
        "        if word not in all_french_words:\n",
        "            all_french_words.add(word)"
      ],
      "execution_count": null,
      "outputs": []
    },
    {
      "cell_type": "code",
      "metadata": {
        "id": "UCaP87KP4W_S"
      },
      "source": [
        "# 유일한 영어, 프랑스어 집합\n",
        "input_words = sorted(list(all_eng_words))\n",
        "target_words = sorted(list(all_french_words))\n",
        "num_encoder_tokens = len(all_eng_words)\n",
        "num_decoder_tokens = len(all_french_words)"
      ],
      "execution_count": null,
      "outputs": []
    },
    {
      "cell_type": "code",
      "metadata": {
        "id": "SgE2G1tsyyER",
        "colab": {
          "base_uri": "https://localhost:8080/"
        },
        "outputId": "5dd714d1-ca55-412f-ff42-d360596faf1a"
      },
      "source": [
        "print(input_words[10:20])  # 영어\n",
        "print(target_words[10:20])  # 프랑스어\n",
        "\n",
        "print(num_encoder_tokens, num_decoder_tokens)"
      ],
      "execution_count": null,
      "outputs": [
        {
          "output_type": "stream",
          "text": [
            "['am', 'an', 'and', 'angry', 'answer', 'any', 'anybody', 'anyone', 'anything', 'are']\n",
            "['amis', 'arrête', 'arrêtez', 'as', 'assez', 'astu', 'atil', 'au', 'aucun', 'aucune']\n",
            "385 358\n"
          ],
          "name": "stdout"
        }
      ]
    },
    {
      "cell_type": "code",
      "metadata": {
        "id": "B5eKtS1hnMob",
        "colab": {
          "base_uri": "https://localhost:8080/"
        },
        "outputId": "0655b18a-fee0-425d-bbc9-c0d071fe7b9e"
      },
      "source": [
        "set(all_french_words) - set(final_fr_words)   # unknown 포함 여부 차이"
      ],
      "execution_count": null,
      "outputs": [
        {
          "output_type": "execute_result",
          "data": {
            "text/plain": [
              "{'unk'}"
            ]
          },
          "metadata": {
            "tags": []
          },
          "execution_count": 27
        }
      ]
    },
    {
      "cell_type": "code",
      "metadata": {
        "id": "7-S77pDvkBp1",
        "colab": {
          "base_uri": "https://localhost:8080/"
        },
        "outputId": "716bb066-18ce-4676-b7c9-fd34b42eec4a"
      },
      "source": [
        "print('unknown 포함 유일한 영어 집합 원소 개수 : ', len(input_words))\n",
        "print('unknown 포함 유일한 프랑스어 집합 원소 개수 : ', len(target_words))"
      ],
      "execution_count": null,
      "outputs": [
        {
          "output_type": "stream",
          "text": [
            "unknown 포함 유일한 영어 집합 원소 개수 :  385\n",
            "unknown 포함 유일한 프랑스어 집합 원소 개수 :  358\n"
          ],
          "name": "stdout"
        }
      ]
    },
    {
      "cell_type": "code",
      "metadata": {
        "id": "YZQegvje4W8w"
      },
      "source": [
        "# 인덱스와 단어를 딕셔너리로 매핑\n",
        "input_token_index = dict(\n",
        "    [(word, i+1) for i, word in enumerate(input_words)])\n",
        "target_token_index = dict(\n",
        "    [(word, i+1) for i, word in enumerate(target_words)])"
      ],
      "execution_count": null,
      "outputs": []
    },
    {
      "cell_type": "code",
      "metadata": {
        "id": "haKpA4AJhDnV",
        "colab": {
          "base_uri": "https://localhost:8080/"
        },
        "outputId": "f2aa403e-a397-464c-ca04-24d7583a8d31"
      },
      "source": [
        "input_token_index"
      ],
      "execution_count": null,
      "outputs": [
        {
          "output_type": "execute_result",
          "data": {
            "text/plain": [
              "{'a': 1,\n",
              " 'about': 2,\n",
              " 'afraid': 3,\n",
              " 'again': 4,\n",
              " 'agree': 5,\n",
              " 'all': 6,\n",
              " 'almost': 7,\n",
              " 'alone': 8,\n",
              " 'already': 9,\n",
              " 'always': 10,\n",
              " 'am': 11,\n",
              " 'an': 12,\n",
              " 'and': 13,\n",
              " 'angry': 14,\n",
              " 'answer': 15,\n",
              " 'any': 16,\n",
              " 'anybody': 17,\n",
              " 'anyone': 18,\n",
              " 'anything': 19,\n",
              " 'are': 20,\n",
              " 'arent': 21,\n",
              " 'as': 22,\n",
              " 'ask': 23,\n",
              " 'asked': 24,\n",
              " 'at': 25,\n",
              " 'away': 26,\n",
              " 'back': 27,\n",
              " 'bad': 28,\n",
              " 'be': 29,\n",
              " 'beautiful': 30,\n",
              " 'bed': 31,\n",
              " 'been': 32,\n",
              " 'being': 33,\n",
              " 'believe': 34,\n",
              " 'best': 35,\n",
              " 'better': 36,\n",
              " 'bicycle': 37,\n",
              " 'big': 38,\n",
              " 'bit': 39,\n",
              " 'book': 40,\n",
              " 'books': 41,\n",
              " 'both': 42,\n",
              " 'bought': 43,\n",
              " 'boy': 44,\n",
              " 'bring': 45,\n",
              " 'broke': 46,\n",
              " 'busy': 47,\n",
              " 'buy': 48,\n",
              " 'by': 49,\n",
              " 'call': 50,\n",
              " 'called': 51,\n",
              " 'came': 52,\n",
              " 'can': 53,\n",
              " 'cant': 54,\n",
              " 'car': 55,\n",
              " 'care': 56,\n",
              " 'careful': 57,\n",
              " 'cat': 58,\n",
              " 'caught': 59,\n",
              " 'close': 60,\n",
              " 'coffee': 61,\n",
              " 'cold': 62,\n",
              " 'come': 63,\n",
              " 'coming': 64,\n",
              " 'could': 65,\n",
              " 'crazy': 66,\n",
              " 'day': 67,\n",
              " 'dead': 68,\n",
              " 'did': 69,\n",
              " 'didnt': 70,\n",
              " 'die': 71,\n",
              " 'died': 72,\n",
              " 'do': 73,\n",
              " 'does': 74,\n",
              " 'doesnt': 75,\n",
              " 'dog': 76,\n",
              " 'doing': 77,\n",
              " 'done': 78,\n",
              " 'dont': 79,\n",
              " 'door': 80,\n",
              " 'down': 81,\n",
              " 'drink': 82,\n",
              " 'drive': 83,\n",
              " 'drunk': 84,\n",
              " 'early': 85,\n",
              " 'easy': 86,\n",
              " 'eat': 87,\n",
              " 'else': 88,\n",
              " 'english': 89,\n",
              " 'enjoy': 90,\n",
              " 'enough': 91,\n",
              " 'everybody': 92,\n",
              " 'everyone': 93,\n",
              " 'everything': 94,\n",
              " 'eyes': 95,\n",
              " 'fast': 96,\n",
              " 'father': 97,\n",
              " 'feel': 98,\n",
              " 'felt': 99,\n",
              " 'find': 100,\n",
              " 'fine': 101,\n",
              " 'finished': 102,\n",
              " 'first': 103,\n",
              " 'food': 104,\n",
              " 'for': 105,\n",
              " 'forget': 106,\n",
              " 'found': 107,\n",
              " 'free': 108,\n",
              " 'french': 109,\n",
              " 'friend': 110,\n",
              " 'friends': 111,\n",
              " 'from': 112,\n",
              " 'fun': 113,\n",
              " 'funny': 114,\n",
              " 'gave': 115,\n",
              " 'get': 116,\n",
              " 'getting': 117,\n",
              " 'give': 118,\n",
              " 'glad': 119,\n",
              " 'go': 120,\n",
              " 'going': 121,\n",
              " 'gone': 122,\n",
              " 'good': 123,\n",
              " 'got': 124,\n",
              " 'great': 125,\n",
              " 'guy': 126,\n",
              " 'had': 127,\n",
              " 'hand': 128,\n",
              " 'handle': 129,\n",
              " 'happened': 130,\n",
              " 'happy': 131,\n",
              " 'hard': 132,\n",
              " 'has': 133,\n",
              " 'hat': 134,\n",
              " 'hate': 135,\n",
              " 'have': 136,\n",
              " 'he': 137,\n",
              " 'hear': 138,\n",
              " 'heard': 139,\n",
              " 'help': 140,\n",
              " 'her': 141,\n",
              " 'here': 142,\n",
              " 'hes': 143,\n",
              " 'him': 144,\n",
              " 'his': 145,\n",
              " 'home': 146,\n",
              " 'hope': 147,\n",
              " 'hot': 148,\n",
              " 'house': 149,\n",
              " 'how': 150,\n",
              " 'hows': 151,\n",
              " 'hungry': 152,\n",
              " 'hurry': 153,\n",
              " 'hurt': 154,\n",
              " 'i': 155,\n",
              " 'id': 156,\n",
              " 'idea': 157,\n",
              " 'if': 158,\n",
              " 'ill': 159,\n",
              " 'im': 160,\n",
              " 'in': 161,\n",
              " 'into': 162,\n",
              " 'is': 163,\n",
              " 'isnt': 164,\n",
              " 'it': 165,\n",
              " 'its': 166,\n",
              " 'ive': 167,\n",
              " 'job': 168,\n",
              " 'just': 169,\n",
              " 'keep': 170,\n",
              " 'kids': 171,\n",
              " 'kind': 172,\n",
              " 'knew': 173,\n",
              " 'know': 174,\n",
              " 'knows': 175,\n",
              " 'last': 176,\n",
              " 'late': 177,\n",
              " 'leave': 178,\n",
              " 'left': 179,\n",
              " 'let': 180,\n",
              " 'lets': 181,\n",
              " 'lie': 182,\n",
              " 'life': 183,\n",
              " 'light': 184,\n",
              " 'like': 185,\n",
              " 'liked': 186,\n",
              " 'likes': 187,\n",
              " 'little': 188,\n",
              " 'live': 189,\n",
              " 'long': 190,\n",
              " 'look': 191,\n",
              " 'looked': 192,\n",
              " 'looks': 193,\n",
              " 'lost': 194,\n",
              " 'lot': 195,\n",
              " 'love': 196,\n",
              " 'loves': 197,\n",
              " 'lunch': 198,\n",
              " 'made': 199,\n",
              " 'make': 200,\n",
              " 'man': 201,\n",
              " 'many': 202,\n",
              " 'married': 203,\n",
              " 'mary': 204,\n",
              " 'may': 205,\n",
              " 'me': 206,\n",
              " 'mean': 207,\n",
              " 'meet': 208,\n",
              " 'met': 209,\n",
              " 'mind': 210,\n",
              " 'mine': 211,\n",
              " 'miss': 212,\n",
              " 'money': 213,\n",
              " 'more': 214,\n",
              " 'mother': 215,\n",
              " 'much': 216,\n",
              " 'music': 217,\n",
              " 'must': 218,\n",
              " 'my': 219,\n",
              " 'myself': 220,\n",
              " 'name': 221,\n",
              " 'need': 222,\n",
              " 'never': 223,\n",
              " 'new': 224,\n",
              " 'next': 225,\n",
              " 'nice': 226,\n",
              " 'night': 227,\n",
              " 'no': 228,\n",
              " 'nobody': 229,\n",
              " 'not': 230,\n",
              " 'nothing': 231,\n",
              " 'now': 232,\n",
              " 'of': 233,\n",
              " 'off': 234,\n",
              " 'often': 235,\n",
              " 'ok': 236,\n",
              " 'old': 237,\n",
              " 'on': 238,\n",
              " 'one': 239,\n",
              " 'only': 240,\n",
              " 'open': 241,\n",
              " 'our': 242,\n",
              " 'out': 243,\n",
              " 'over': 244,\n",
              " 'own': 245,\n",
              " 'pay': 246,\n",
              " 'phone': 247,\n",
              " 'plan': 248,\n",
              " 'play': 249,\n",
              " 'please': 250,\n",
              " 'pretty': 251,\n",
              " 'problem': 252,\n",
              " 'proud': 253,\n",
              " 'put': 254,\n",
              " 'quit': 255,\n",
              " 'quite': 256,\n",
              " 'ran': 257,\n",
              " 'read': 258,\n",
              " 'ready': 259,\n",
              " 'really': 260,\n",
              " 'remember': 261,\n",
              " 'right': 262,\n",
              " 'room': 263,\n",
              " 'run': 264,\n",
              " 'sad': 265,\n",
              " 'safe': 266,\n",
              " 'said': 267,\n",
              " 'saw': 268,\n",
              " 'say': 269,\n",
              " 'school': 270,\n",
              " 'see': 271,\n",
              " 'seems': 272,\n",
              " 'she': 273,\n",
              " 'shes': 274,\n",
              " 'should': 275,\n",
              " 'show': 276,\n",
              " 'shut': 277,\n",
              " 'sick': 278,\n",
              " 'sing': 279,\n",
              " 'sit': 280,\n",
              " 'sleep': 281,\n",
              " 'so': 282,\n",
              " 'some': 283,\n",
              " 'someone': 284,\n",
              " 'something': 285,\n",
              " 'soon': 286,\n",
              " 'sorry': 287,\n",
              " 'speak': 288,\n",
              " 'stand': 289,\n",
              " 'start': 290,\n",
              " 'stay': 291,\n",
              " 'still': 292,\n",
              " 'stop': 293,\n",
              " 'study': 294,\n",
              " 'stupid': 295,\n",
              " 'sure': 296,\n",
              " 'swim': 297,\n",
              " 'take': 298,\n",
              " 'talk': 299,\n",
              " 'talking': 300,\n",
              " 'tea': 301,\n",
              " 'teacher': 302,\n",
              " 'tell': 303,\n",
              " 'than': 304,\n",
              " 'that': 305,\n",
              " 'thats': 306,\n",
              " 'the': 307,\n",
              " 'them': 308,\n",
              " 'there': 309,\n",
              " 'theres': 310,\n",
              " 'these': 311,\n",
              " 'they': 312,\n",
              " 'theyre': 313,\n",
              " 'think': 314,\n",
              " 'this': 315,\n",
              " 'those': 316,\n",
              " 'thought': 317,\n",
              " 'time': 318,\n",
              " 'tired': 319,\n",
              " 'to': 320,\n",
              " 'today': 321,\n",
              " 'told': 322,\n",
              " 'tom': 323,\n",
              " 'tomorrow': 324,\n",
              " 'toms': 325,\n",
              " 'too': 326,\n",
              " 'took': 327,\n",
              " 'tried': 328,\n",
              " 'true': 329,\n",
              " 'trust': 330,\n",
              " 'try': 331,\n",
              " 'turn': 332,\n",
              " 'tv': 333,\n",
              " 'two': 334,\n",
              " 'understand': 335,\n",
              " 'unk': 336,\n",
              " 'up': 337,\n",
              " 'upset': 338,\n",
              " 'us': 339,\n",
              " 'use': 340,\n",
              " 'used': 341,\n",
              " 'very': 342,\n",
              " 'wait': 343,\n",
              " 'walk': 344,\n",
              " 'want': 345,\n",
              " 'wanted': 346,\n",
              " 'wants': 347,\n",
              " 'was': 348,\n",
              " 'wasnt': 349,\n",
              " 'watch': 350,\n",
              " 'water': 351,\n",
              " 'way': 352,\n",
              " 'we': 353,\n",
              " 'well': 354,\n",
              " 'went': 355,\n",
              " 'were': 356,\n",
              " 'what': 357,\n",
              " 'whats': 358,\n",
              " 'when': 359,\n",
              " 'where': 360,\n",
              " 'wheres': 361,\n",
              " 'who': 362,\n",
              " 'whos': 363,\n",
              " 'why': 364,\n",
              " 'wife': 365,\n",
              " 'will': 366,\n",
              " 'win': 367,\n",
              " 'wish': 368,\n",
              " 'with': 369,\n",
              " 'wont': 370,\n",
              " 'word': 371,\n",
              " 'work': 372,\n",
              " 'working': 373,\n",
              " 'would': 374,\n",
              " 'wrong': 375,\n",
              " 'yesterday': 376,\n",
              " 'yet': 377,\n",
              " 'you': 378,\n",
              " 'youd': 379,\n",
              " 'young': 380,\n",
              " 'your': 381,\n",
              " 'youre': 382,\n",
              " 'yours': 383,\n",
              " 'yourself': 384,\n",
              " 'youve': 385}"
            ]
          },
          "metadata": {
            "tags": []
          },
          "execution_count": 30
        }
      ]
    },
    {
      "cell_type": "code",
      "metadata": {
        "id": "JdjR90537OVl",
        "colab": {
          "base_uri": "https://localhost:8080/"
        },
        "outputId": "4b9435de-8481-4d45-b164-50124a8a8eb3"
      },
      "source": [
        "print(input_token_index['unk'])\n",
        "print(target_token_index['start'])\n",
        "print(target_token_index['end'])\n",
        "print(list(input_token_index.keys())[335])   # unknown은 336번으로 매핑"
      ],
      "execution_count": null,
      "outputs": [
        {
          "output_type": "stream",
          "text": [
            "336\n",
            "284\n",
            "89\n",
            "unk\n"
          ],
          "name": "stdout"
        }
      ]
    },
    {
      "cell_type": "code",
      "metadata": {
        "id": "Sn8EDmXk7OVp"
      },
      "source": [
        "# RNN 시간스텝 정의를 위한 가장 긴 문장 찾기\n",
        "\n",
        "length_list=[]   # 영어\n",
        "for l in lines.eng:\n",
        "    length_list.append(len(l.split(' ')))\n",
        "eng_max_length = np.max(length_list)\n",
        "\n",
        "length_list=[]   # 프랑스어\n",
        "for l in lines.fr:\n",
        "    length_list.append(len(l.split(' ')))\n",
        "fr_max_length = np.max(length_list)"
      ],
      "execution_count": null,
      "outputs": []
    },
    {
      "cell_type": "code",
      "metadata": {
        "id": "dLKWQXq07OV4",
        "colab": {
          "base_uri": "https://localhost:8080/"
        },
        "outputId": "e3cc08be-0e4c-4455-d8e2-d18651427d06"
      },
      "source": [
        "print(eng_max_length)   # 영어는 8개의 단어가 가장 긴 문장\n",
        "print(fr_max_length)    # 프랑스어는 17개의 단어가 가장 긴 문장"
      ],
      "execution_count": null,
      "outputs": [
        {
          "output_type": "stream",
          "text": [
            "8\n",
            "17\n"
          ],
          "name": "stdout"
        }
      ]
    },
    {
      "cell_type": "code",
      "metadata": {
        "id": "r5_mrLkj45gt"
      },
      "source": [
        "# Time step 기반 RNN Input data 생성(우선 zero로 shape만 맞춰서 생성함)\n",
        "encoder_input_data = np.zeros(\n",
        "    (len(lines['eng']), eng_max_length),\n",
        "    dtype='float32')\n",
        "\n",
        "decoder_input_data = np.zeros(\n",
        "    (len(lines['fr']), fr_max_length),\n",
        "    dtype='float32')\n",
        "\n",
        "decoder_target_data = np.zeros(\n",
        "    (len(lines['fr']), fr_max_length, num_decoder_tokens+1),\n",
        "    dtype='float32')"
      ],
      "execution_count": null,
      "outputs": []
    },
    {
      "cell_type": "code",
      "metadata": {
        "id": "wrURv1JXrBDF",
        "colab": {
          "base_uri": "https://localhost:8080/"
        },
        "outputId": "dd2f4331-8a75-4d45-9c22-6f142fceaa3b"
      },
      "source": [
        "# 시간스텝(단어 수)와 5만개의 문장 수\n",
        "print(encoder_input_data.shape)\n",
        "print(decoder_input_data.shape)\n",
        "print(decoder_target_data.shape)   # 디코더는 358 + 1로 지정(index=0은 그냥 빈 공간으로 정의)\n",
        "# (표본, 시간스텝, 359개의 단어 원핫 벡터)"
      ],
      "execution_count": null,
      "outputs": [
        {
          "output_type": "stream",
          "text": [
            "(50000, 8)\n",
            "(50000, 17)\n",
            "(50000, 17, 359)\n"
          ],
          "name": "stdout"
        }
      ]
    },
    {
      "cell_type": "markdown",
      "metadata": {
        "id": "v96r8est1yqA"
      },
      "source": [
        "- Encoder_input_data : 영어 문장 저장\n",
        "- Decoder_input_data : 영어 문장에 대응되는 프랑스어 문장\n",
        "- Decoder_target_data : Decoder_input_data보다 한 시점 앞서게 해서 번역을 예측문제로 전환\n",
        "\n",
        "> 현재 영어 단어와 프랑스어 단어로 다음에 오는 프랑스어 단어를 예측하는 문제가 된다. "
      ]
    },
    {
      "cell_type": "code",
      "metadata": {
        "id": "TLu41cqb1Czj",
        "colab": {
          "base_uri": "https://localhost:8080/"
        },
        "outputId": "799ee218-f135-4382-eae2-b3b155d11640"
      },
      "source": [
        "encoder_input_data[3]"
      ],
      "execution_count": null,
      "outputs": [
        {
          "output_type": "execute_result",
          "data": {
            "text/plain": [
              "array([0., 0., 0., 0., 0., 0., 0., 0.], dtype=float32)"
            ]
          },
          "metadata": {
            "tags": []
          },
          "execution_count": 36
        }
      ]
    },
    {
      "cell_type": "code",
      "metadata": {
        "id": "km2HiJ0G45oB"
      },
      "source": [
        "# 데이터 직접 생성\n",
        "for i, (input_text, target_text) in enumerate(zip(lines['eng'], lines['fr'])):\n",
        "\n",
        "    for t, word in enumerate(input_text.split()):\n",
        "        encoder_input_data[i, t] = input_token_index[word]\n",
        "\n",
        "    for t, word in enumerate(target_text.split()):\n",
        "        decoder_input_data[i, t] = target_token_index[word]\n",
        "\n",
        "        if t>0:\n",
        "            decoder_target_data[i, t - 1, target_token_index[word]] = 1.\n",
        "\n",
        "            if t== len(target_text.split())-1:\n",
        "                decoder_target_data[i, t:, 89] = 1   # 0은 모두 89로 대체함 "
      ],
      "execution_count": null,
      "outputs": []
    },
    {
      "cell_type": "code",
      "metadata": {
        "id": "DFwjmRUe-EC5",
        "colab": {
          "base_uri": "https://localhost:8080/"
        },
        "outputId": "61cd4f55-73d0-48c1-968c-f10cd66c2e54"
      },
      "source": [
        "print(decoder_input_data.shape, encoder_input_data.shape, decoder_target_data.shape)"
      ],
      "execution_count": null,
      "outputs": [
        {
          "output_type": "stream",
          "text": [
            "(50000, 17) (50000, 8) (50000, 17, 359)\n"
          ],
          "name": "stdout"
        }
      ]
    },
    {
      "cell_type": "code",
      "metadata": {
        "id": "ju3zZwus9kth",
        "colab": {
          "base_uri": "https://localhost:8080/"
        },
        "outputId": "0deb11ee-ec0b-42f1-92f5-dca15b1523ac"
      },
      "source": [
        "decoder_input_data   # 0은 모두 end를 의미하는 89로 채움! "
      ],
      "execution_count": null,
      "outputs": [
        {
          "output_type": "execute_result",
          "data": {
            "text/plain": [
              "array([[284., 321.,  89., ...,   0.,   0.,   0.],\n",
              "       [284., 320.,  89., ...,   0.,   0.,   0.],\n",
              "       [284., 320.,  89., ...,   0.,   0.,   0.],\n",
              "       ...,\n",
              "       [284., 127., 320., ...,   0.,   0.,   0.],\n",
              "       [284., 127., 320., ...,   0.,   0.,   0.],\n",
              "       [284.,  86., 320., ...,   0.,   0.,   0.]], dtype=float32)"
            ]
          },
          "metadata": {
            "tags": []
          },
          "execution_count": 39
        }
      ]
    },
    {
      "cell_type": "code",
      "metadata": {
        "id": "syERbzcc-hC2",
        "colab": {
          "base_uri": "https://localhost:8080/"
        },
        "outputId": "38497635-6b86-44b1-8d78-dd74add0278c"
      },
      "source": [
        "encoder_input_data"
      ],
      "execution_count": null,
      "outputs": [
        {
          "output_type": "execute_result",
          "data": {
            "text/plain": [
              "array([[120.,   0.,   0., ...,   0.,   0.,   0.],\n",
              "       [264.,   0.,   0., ...,   0.,   0.,   0.],\n",
              "       [264.,   0.,   0., ...,   0.,   0.,   0.],\n",
              "       ...,\n",
              "       [312., 120., 320., ..., 336.,   0.,   0.],\n",
              "       [312., 124., 162., ...,   0.,   0.,   0.],\n",
              "       [312., 124., 162., ...,   0.,   0.,   0.]], dtype=float32)"
            ]
          },
          "metadata": {
            "tags": []
          },
          "execution_count": 40
        }
      ]
    },
    {
      "cell_type": "code",
      "metadata": {
        "id": "bd_TzFXztDBQ"
      },
      "source": [
        "for i in range(decoder_input_data.shape[0]):\n",
        "    for j in range(decoder_input_data.shape[1]):\n",
        "        if(decoder_input_data[i][j]==0):\n",
        "            decoder_input_data[i][j] = 89"
      ],
      "execution_count": null,
      "outputs": []
    },
    {
      "cell_type": "markdown",
      "metadata": {
        "id": "bgekjoPz1Ydk"
      },
      "source": [
        "\n",
        "\n",
        "\n",
        "# 2. Attention\n",
        "- encoder output과 decoder 출력값의 유사성인 attention을 계산해 인코더에 가중치를 부여한다. "
      ]
    },
    {
      "cell_type": "code",
      "metadata": {
        "id": "OBoQwD7vlQcQ"
      },
      "source": [
        "# 원래..\n",
        "from tensorflow.keras.models import Model\n",
        "from tensorflow.keras.layers import dot\n",
        "from tensorflow.keras.layers import Input, LSTM, Dense, Embedding, Dropout, Activation, concatenate\n",
        "import tensorflow as tf\n",
        "# dropout 0.1 > 0.5\n",
        "\n",
        "\n",
        "################################ 인코더 #################################\n",
        "encoder_inputs = Input(shape=(eng_max_length,))\n",
        "en_x=  Embedding(num_encoder_tokens+1, 256)(encoder_inputs)  # 임베딩차원 늘림 \n",
        "en_x = Dropout(0.1)(en_x)   # dropout 추가\n",
        "encoder_outputs, state_h, state_c = LSTM(256, return_sequences=True, return_state=True)(en_x)\n",
        "encoder_states=[state_h, state_c]   \n",
        "\n",
        "################################ 디코더 #################################\n",
        "decoder_inputs = Input(shape=(fr_max_length,))\n",
        "dex=  Embedding(num_decoder_tokens+1,256)(decoder_inputs)\n",
        "decoder = Dropout(0.1)(dex)\n",
        "decoder = LSTM(256, return_sequences=True)(decoder, initial_state=encoder_states)   # 인코더 state와 연결!!\n",
        "\n",
        "\n",
        "################################ Attention Layer #################################\n",
        "t = Dense(1500, activation='tanh')(encoder_outputs)\n",
        "t1 = Dense(1500, activation='tanh')(decoder)\n",
        "\n",
        "# dot product attention (유사도를 구하는 방법)\n",
        "# attention 가중치를 value에 반영 (어텐션 score 계산) \n",
        "# > 인코더의 모든 은닉상태 각각이 디코더의 현 시점 은닉상태 St와 얼마나 유사한지를 score로 나타냄\n",
        "attention = dot([t1, t], axes=[2, 2])    # attention 가중치 계산 (Query와 Key의 유사도를 구함)\n",
        "\n",
        "attention = Dense(eng_max_length, activation='tanh')(attention)  \n",
        "attention = Activation('softmax')(attention)  # 가중치를 softmax 확률 값을 통해 인코더 output(value)에 전달!\n",
        "\n",
        "context = dot([attention, encoder_outputs], axes = [2,1])  # 어텐션 value(가중합, product, weighted sum)\n",
        "\n",
        "decoder_combined_context = concatenate([context, decoder])   # attention value와 디코더의 현재 은닉상태를 concat하여 하나의 벡터로 만듦 \n",
        "decoder_combined_context = Dense(1000, activation='tanh')(decoder_combined_context)\n",
        "# decoder = Dropout(0.5)()\n",
        "\n",
        "output = Dense( num_decoder_tokens+1, activation=\"softmax\")(decoder_combined_context)    # 출력층 (단어 확률값으로 출력)\n",
        "\n",
        "model3 = Model(inputs=[encoder_inputs, decoder_inputs], outputs=[output])\n",
        "\n",
        "\n",
        "## ,  kernel_regularizer=tf.keras.regularizers.L1(0.01) 안좋음 > train"
      ],
      "execution_count": null,
      "outputs": []
    },
    {
      "cell_type": "code",
      "metadata": {
        "id": "1-dKyqvjJFYz",
        "colab": {
          "base_uri": "https://localhost:8080/"
        },
        "outputId": "9348e9eb-5880-4843-8aee-5703d27ea2e6"
      },
      "source": [
        "# from tensorflow.keras.models import Model\n",
        "# from tensorflow.keras.layers import dot\n",
        "# from tensorflow.keras.layers import Input, LSTM, Dense, Embedding, Dropout, Activation, concatenate, BatchNormalization, GRU\n",
        "# import tensorflow as tf\n",
        "# # dropout 0.1 > 0.5\n",
        "# # recurrent dropout 안좋음 \n",
        "# # 임베딩차원 늘림  > 안좋음\n",
        "\n",
        "# # 노드 수 줄임\n",
        "# # initializer, batchnormal 추가\n",
        "# ################################ 인코더 #################################\n",
        "# encoder_inputs = Input(shape=(eng_max_length,))\n",
        "# en_x=  Embedding(num_encoder_tokens+1, 128)(encoder_inputs)  \n",
        "# en_x = Dropout(0.7)(en_x)   # dropout 추가\n",
        "# encoder_outputs, state_h, state_c = LSTM(128, return_sequences=True, recurrent_dropout = 0.3, return_state=True)(en_x)   \n",
        "# encoder_states=[state_h, state_c]   \n",
        "\n",
        "# ################################ 디코더 #################################\n",
        "# decoder_inputs = Input(shape=(fr_max_length,))\n",
        "# dex=  Embedding(num_decoder_tokens+1, 128)(decoder_inputs)\n",
        "# decoder = Dropout(0.7)(dex)\n",
        "# decoder = LSTM(128, recurrent_dropout = 0.3, return_sequences=True)(decoder, initial_state=encoder_states)   # 인코더 state와 연결!!\n",
        "\n",
        "\n",
        "# ################################ Attention Layer #################################\n",
        "# t = Dense(1000, activation='tanh', kernel_initializer='he_normal')(encoder_outputs)\n",
        "# t1 = Dense(1000, activation='tanh', kernel_initializer='he_normal')(decoder)\n",
        "\n",
        "# # dot product attention (유사도를 구하는 방법)\n",
        "# # attention 가중치를 value에 반영 (어텐션 score 계산) \n",
        "# # > 인코더의 모든 은닉상태 각각이 디코더의 현 시점 은닉상태 St와 얼마나 유사한지를 score로 나타냄\n",
        "# attention = dot([t1, t], axes=[2, 2])    # attention 가중치 계산 (Query와 Key의 유사도를 구함)\n",
        "\n",
        "# # attention = \n",
        "\n",
        "# attention = Dense(eng_max_length, activation='tanh', kernel_initializer='he_normal')(attention)  \n",
        "# attention = BatchNormalization(momentum=0.9)(attention)\n",
        "# attention = Activation('softmax')(attention)  # 가중치를 softmax 확률 값을 통해 인코더 output(value)에 전달!\n",
        "\n",
        "# context = dot([attention, encoder_outputs], axes = [2,1])  # 어텐션 value(가중합, product, weighted sum)\n",
        "\n",
        "# decoder_combined_context = concatenate([context, decoder])   # attention value와 디코더의 현재 은닉상태를 concat하여 하나의 벡터로 만듦 \n",
        "# decoder_combined_context = Dense(1000, activation='tanh', kernel_initializer='he_normal')(decoder_combined_context)\n",
        "# # decoder = Dropout(0.5)()\n",
        "\n",
        "# output = Dense( num_decoder_tokens+1, activation=\"softmax\", kernel_regularizer=tf.keras.regularizers.L1(0.0001))(decoder_combined_context)    # 출력층 (단어 확률값으로 출력)\n",
        "\n",
        "# model3 = Model(inputs=[encoder_inputs, decoder_inputs], outputs=[output])\n",
        "\n",
        "\n",
        "# ## ,  kernel_regularizer=tf.keras.regularizers.L1(0.01) 안좋음 > train"
      ],
      "execution_count": null,
      "outputs": [
        {
          "output_type": "stream",
          "text": [
            "WARNING:tensorflow:Layer lstm_4 will not use cuDNN kernel since it doesn't meet the cuDNN kernel criteria. It will use generic GPU kernel as fallback when running on GPU\n",
            "WARNING:tensorflow:Layer lstm_5 will not use cuDNN kernel since it doesn't meet the cuDNN kernel criteria. It will use generic GPU kernel as fallback when running on GPU\n"
          ],
          "name": "stdout"
        }
      ]
    },
    {
      "cell_type": "code",
      "metadata": {
        "colab": {
          "base_uri": "https://localhost:8080/"
        },
        "id": "kDcG7wu2qWdT",
        "outputId": "a515b612-041f-4118-b4a7-249c7954c3fc"
      },
      "source": [
        "model3.summary()"
      ],
      "execution_count": null,
      "outputs": [
        {
          "output_type": "stream",
          "text": [
            "Model: \"model_4\"\n",
            "__________________________________________________________________________________________________\n",
            "Layer (type)                    Output Shape         Param #     Connected to                     \n",
            "==================================================================================================\n",
            "input_9 (InputLayer)            [(None, 8)]          0                                            \n",
            "__________________________________________________________________________________________________\n",
            "input_10 (InputLayer)           [(None, 17)]         0                                            \n",
            "__________________________________________________________________________________________________\n",
            "embedding_8 (Embedding)         (None, 8, 256)       98816       input_9[0][0]                    \n",
            "__________________________________________________________________________________________________\n",
            "embedding_9 (Embedding)         (None, 17, 256)      91904       input_10[0][0]                   \n",
            "__________________________________________________________________________________________________\n",
            "dropout_8 (Dropout)             (None, 8, 256)       0           embedding_8[0][0]                \n",
            "__________________________________________________________________________________________________\n",
            "dropout_9 (Dropout)             (None, 17, 256)      0           embedding_9[0][0]                \n",
            "__________________________________________________________________________________________________\n",
            "lstm_8 (LSTM)                   [(None, 8, 256), (No 525312      dropout_8[0][0]                  \n",
            "__________________________________________________________________________________________________\n",
            "lstm_9 (LSTM)                   (None, 17, 256)      525312      dropout_9[0][0]                  \n",
            "                                                                 lstm_8[0][1]                     \n",
            "                                                                 lstm_8[0][2]                     \n",
            "__________________________________________________________________________________________________\n",
            "dense_21 (Dense)                (None, 17, 1500)     385500      lstm_9[0][0]                     \n",
            "__________________________________________________________________________________________________\n",
            "dense_20 (Dense)                (None, 8, 1500)      385500      lstm_8[0][0]                     \n",
            "__________________________________________________________________________________________________\n",
            "dot_8 (Dot)                     (None, 17, 8)        0           dense_21[0][0]                   \n",
            "                                                                 dense_20[0][0]                   \n",
            "__________________________________________________________________________________________________\n",
            "dense_22 (Dense)                (None, 17, 8)        72          dot_8[0][0]                      \n",
            "__________________________________________________________________________________________________\n",
            "activation_4 (Activation)       (None, 17, 8)        0           dense_22[0][0]                   \n",
            "__________________________________________________________________________________________________\n",
            "dot_9 (Dot)                     (None, 17, 256)      0           activation_4[0][0]               \n",
            "                                                                 lstm_8[0][0]                     \n",
            "__________________________________________________________________________________________________\n",
            "concatenate_4 (Concatenate)     (None, 17, 512)      0           dot_9[0][0]                      \n",
            "                                                                 lstm_9[0][0]                     \n",
            "__________________________________________________________________________________________________\n",
            "dense_23 (Dense)                (None, 17, 1000)     513000      concatenate_4[0][0]              \n",
            "__________________________________________________________________________________________________\n",
            "dense_24 (Dense)                (None, 17, 359)      359359      dense_23[0][0]                   \n",
            "==================================================================================================\n",
            "Total params: 2,884,775\n",
            "Trainable params: 2,884,775\n",
            "Non-trainable params: 0\n",
            "__________________________________________________________________________________________________\n"
          ],
          "name": "stdout"
        }
      ]
    },
    {
      "cell_type": "code",
      "metadata": {
        "colab": {
          "base_uri": "https://localhost:8080/"
        },
        "id": "PUcBRTs4E5P_",
        "outputId": "0005cfef-61c3-4773-acf6-f643089683af"
      },
      "source": [
        "model3.summary()"
      ],
      "execution_count": null,
      "outputs": [
        {
          "output_type": "stream",
          "text": [
            "Model: \"model\"\n",
            "__________________________________________________________________________________________________\n",
            "Layer (type)                    Output Shape         Param #     Connected to                     \n",
            "==================================================================================================\n",
            "input_1 (InputLayer)            [(None, 8)]          0                                            \n",
            "__________________________________________________________________________________________________\n",
            "input_2 (InputLayer)            [(None, 17)]         0                                            \n",
            "__________________________________________________________________________________________________\n",
            "embedding (Embedding)           (None, 8, 256)       98816       input_1[0][0]                    \n",
            "__________________________________________________________________________________________________\n",
            "embedding_1 (Embedding)         (None, 17, 256)      91904       input_2[0][0]                    \n",
            "__________________________________________________________________________________________________\n",
            "dropout (Dropout)               (None, 8, 256)       0           embedding[0][0]                  \n",
            "__________________________________________________________________________________________________\n",
            "dropout_1 (Dropout)             (None, 17, 256)      0           embedding_1[0][0]                \n",
            "__________________________________________________________________________________________________\n",
            "lstm (LSTM)                     [(None, 8, 256), (No 525312      dropout[0][0]                    \n",
            "__________________________________________________________________________________________________\n",
            "lstm_1 (LSTM)                   (None, 17, 256)      525312      dropout_1[0][0]                  \n",
            "                                                                 lstm[0][1]                       \n",
            "                                                                 lstm[0][2]                       \n",
            "__________________________________________________________________________________________________\n",
            "dense_1 (Dense)                 (None, 17, 5000)     1285000     lstm_1[0][0]                     \n",
            "__________________________________________________________________________________________________\n",
            "dense (Dense)                   (None, 8, 5000)      1285000     lstm[0][0]                       \n",
            "__________________________________________________________________________________________________\n",
            "dot (Dot)                       (None, 17, 8)        0           dense_1[0][0]                    \n",
            "                                                                 dense[0][0]                      \n",
            "__________________________________________________________________________________________________\n",
            "dense_2 (Dense)                 (None, 17, 8)        72          dot[0][0]                        \n",
            "__________________________________________________________________________________________________\n",
            "activation (Activation)         (None, 17, 8)        0           dense_2[0][0]                    \n",
            "__________________________________________________________________________________________________\n",
            "dot_1 (Dot)                     (None, 17, 256)      0           activation[0][0]                 \n",
            "                                                                 lstm[0][0]                       \n",
            "__________________________________________________________________________________________________\n",
            "concatenate (Concatenate)       (None, 17, 512)      0           dot_1[0][0]                      \n",
            "                                                                 lstm_1[0][0]                     \n",
            "__________________________________________________________________________________________________\n",
            "dense_3 (Dense)                 (None, 17, 2000)     1026000     concatenate[0][0]                \n",
            "__________________________________________________________________________________________________\n",
            "dense_4 (Dense)                 (None, 17, 359)      718359      dense_3[0][0]                    \n",
            "==================================================================================================\n",
            "Total params: 5,555,775\n",
            "Trainable params: 5,555,775\n",
            "Non-trainable params: 0\n",
            "__________________________________________________________________________________________________\n"
          ],
          "name": "stdout"
        }
      ]
    },
    {
      "cell_type": "code",
      "metadata": {
        "id": "cF5bgIFETzfE"
      },
      "source": [
        "model3.compile(optimizer='adam', loss='categorical_crossentropy',metrics = ['accuracy'])"
      ],
      "execution_count": null,
      "outputs": []
    },
    {
      "cell_type": "code",
      "metadata": {
        "colab": {
          "base_uri": "https://localhost:8080/"
        },
        "id": "ocqJw1y3E5Ju",
        "outputId": "7311f2cf-2647-4300-e0eb-8e27ed4e47d1"
      },
      "source": [
        "history3 = model3.fit([encoder_input_data, decoder_input_data], decoder_target_data,\n",
        "          batch_size=32,\n",
        "          epochs=5,\n",
        "          validation_split=0.01)"
      ],
      "execution_count": null,
      "outputs": [
        {
          "output_type": "stream",
          "text": [
            "Epoch 1/5\n",
            "1547/1547 [==============================] - 25s 14ms/step - loss: 0.9883 - accuracy: 0.8219 - val_loss: 0.6518 - val_accuracy: 0.8367\n",
            "Epoch 2/5\n",
            "1547/1547 [==============================] - 20s 13ms/step - loss: 0.4390 - accuracy: 0.8886 - val_loss: 0.5206 - val_accuracy: 0.8644\n",
            "Epoch 3/5\n",
            "1547/1547 [==============================] - 20s 13ms/step - loss: 0.3520 - accuracy: 0.9051 - val_loss: 0.4837 - val_accuracy: 0.8706\n",
            "Epoch 4/5\n",
            "1547/1547 [==============================] - 20s 13ms/step - loss: 0.3118 - accuracy: 0.9126 - val_loss: 0.4790 - val_accuracy: 0.8699\n",
            "Epoch 5/5\n",
            "1547/1547 [==============================] - 20s 13ms/step - loss: 0.2879 - accuracy: 0.9177 - val_loss: 0.4591 - val_accuracy: 0.8794\n"
          ],
          "name": "stdout"
        }
      ]
    },
    {
      "cell_type": "code",
      "metadata": {
        "id": "pN96vlcAJjYF",
        "colab": {
          "base_uri": "https://localhost:8080/",
          "height": 545
        },
        "outputId": "fbc83cf5-36fc-4058-9dcc-a4caac349cad"
      },
      "source": [
        "import matplotlib.pyplot as plt\n",
        "acc=history3.history['accuracy']\n",
        "val_acc=history3.history['val_accuracy']\n",
        "loss=history3.history['loss']\n",
        "val_loss=history3.history['val_loss']\n",
        "epochs=range(1,len(acc)+1)\n",
        "plt.plot(epochs,acc,'b',label='training acc')\n",
        "plt.plot(epochs,val_acc,'bo',label='validation acc')\n",
        "plt.title('training and validation accuracy')\n",
        "plt.legend()\n",
        "plt.figure()\n",
        "plt.plot(epochs,loss,'b',label='training loss')\n",
        "plt.plot(epochs,val_loss,'bo',label='validation loss')\n",
        "plt.title('training and validation loss')\n",
        "plt.legend()\n",
        "plt.show()"
      ],
      "execution_count": null,
      "outputs": [
        {
          "output_type": "display_data",
          "data": {
            "image/png": "[encoded data removed]",
            "text/plain": [
              "<Figure size 432x288 with 1 Axes>"
            ]
          },
          "metadata": {
            "tags": [],
            "needs_background": "light"
          }
        },
        {
          "output_type": "display_data",
          "data": {
            "image/png": "[encoded data removed]",
            "text/plain": [
              "<Figure size 432x288 with 1 Axes>"
            ]
          },
          "metadata": {
            "tags": [],
            "needs_background": "light"
          }
        }
      ]
    },
    {
      "cell_type": "code",
      "metadata": {
        "id": "Tk74zRzIJlAX"
      },
      "source": [
        "decoder_input_data_pred = np.zeros(\n",
        "    (len(lines.fr), fr_max_length),\n",
        "    dtype='float32')\n",
        "\n",
        "final_pred_att = []\n",
        "for i in range(2500):\n",
        "  word = 284\n",
        "  for j in range(17):\n",
        "    decoder_input_data_pred[(47500+i), j] = word\n",
        "    pred = model3.predict([encoder_input_data[(47500+i)].reshape(1,8),decoder_input_data_pred[47500+i].reshape(1,17)])\n",
        "    t = np.argmax(pred[0][j])\n",
        "    word = t\n",
        "    if word==89:\n",
        "      break\n",
        "  final_pred_att.append(list(decoder_input_data_pred[47500+i]))"
      ],
      "execution_count": null,
      "outputs": []
    },
    {
      "cell_type": "code",
      "metadata": {
        "id": "7busalnKJk9g",
        "colab": {
          "base_uri": "https://localhost:8080/"
        },
        "outputId": "dd0c654b-2504-45f1-c1eb-70551f057ea8"
      },
      "source": [
        "final_pred2_att = np.array(final_pred_att)\n",
        "count = 0\n",
        "correct_count = 0\n",
        "\n",
        "for i in range(2500):\n",
        "  correct_count += np.sum((decoder_input_data[47500+i]==final_pred2_att[i]) & (decoder_input_data[47500+i]!=89))\n",
        "  count += np.sum(decoder_input_data[47500+i]!=89)\n",
        "correct_count/count  "
      ],
      "execution_count": null,
      "outputs": [
        {
          "output_type": "execute_result",
          "data": {
            "text/plain": [
              "0.4925907321361296"
            ]
          },
          "metadata": {
            "tags": []
          },
          "execution_count": 49
        }
      ]
    },
    {
      "cell_type": "code",
      "metadata": {
        "id": "orIBBoEFJk6x",
        "colab": {
          "base_uri": "https://localhost:8080/"
        },
        "outputId": "09aab436-49fc-45f5-faff-b9164e2c314c"
      },
      "source": [
        "k = -2400\n",
        "t = model3.predict([encoder_input_data[k].reshape(1,encoder_input_data.shape[1]),decoder_input_data[k].reshape(1,decoder_input_data.shape[1])]).reshape(decoder_input_data.shape[1], num_decoder_tokens+1)\n",
        "\n",
        "for i in range(len(encoder_input_data[k])):\n",
        "  if int(encoder_input_data[k][i])!=0:\n",
        "    print(list(input_token_index.keys())[int(encoder_input_data[k][i]-1)])"
      ],
      "execution_count": null,
      "outputs": [
        {
          "output_type": "stream",
          "text": [
            "i\n",
            "feel\n",
            "like\n",
            "unk\n"
          ],
          "name": "stdout"
        }
      ]
    },
    {
      "cell_type": "code",
      "metadata": {
        "id": "SFpYNi2RJuYe",
        "colab": {
          "base_uri": "https://localhost:8080/"
        },
        "outputId": "4af5a5a2-c25e-4dc0-d997-ac31af8bf028"
      },
      "source": [
        "t2 = np.argmax(t,axis=1)\n",
        "for i in range(len(t2)):\n",
        "  if int(t2[i])!=0:\n",
        "    print(list(target_token_index.keys())[int(t2[i]-1)])"
      ],
      "execution_count": null,
      "outputs": [
        {
          "output_type": "stream",
          "text": [
            "je\n",
            "unk\n",
            "unk\n",
            "unk\n",
            "end\n",
            "unk\n",
            "end\n",
            "end\n",
            "end\n",
            "end\n",
            "end\n",
            "end\n",
            "end\n",
            "end\n",
            "end\n",
            "end\n",
            "end\n"
          ],
          "name": "stdout"
        }
      ]
    },
    {
      "cell_type": "code",
      "metadata": {
        "id": "k7HfpAsDJk4N",
        "colab": {
          "base_uri": "https://localhost:8080/"
        },
        "outputId": "5d75d8ee-7bda-45ff-815f-afa5a6796c4f"
      },
      "source": [
        "t2 = decoder_input_data[k]\n",
        "for i in range(len(t2)):\n",
        "  if int(t2[i])!=0:\n",
        "    print(list(target_token_index.keys())[int(t2[i]-1)])"
      ],
      "execution_count": null,
      "outputs": [
        {
          "output_type": "stream",
          "text": [
            "start\n",
            "jai\n",
            "unk\n",
            "de\n",
            "faire\n",
            "la\n",
            "unk\n",
            "end\n",
            "end\n",
            "end\n",
            "end\n",
            "end\n",
            "end\n",
            "end\n",
            "end\n",
            "end\n",
            "end\n"
          ],
          "name": "stdout"
        }
      ]
    },
    {
      "cell_type": "code",
      "metadata": {
        "id": "8aiNyHymsvoa"
      },
      "source": [
        ""
      ],
      "execution_count": null,
      "outputs": []
    },
    {
      "cell_type": "code",
      "metadata": {
        "id": "hq6GBblrJkwx"
      },
      "source": [
        ""
      ],
      "execution_count": null,
      "outputs": []
    },
    {
      "cell_type": "code",
      "metadata": {
        "id": "rxO3kicHJkt7"
      },
      "source": [
        ""
      ],
      "execution_count": null,
      "outputs": []
    }
  ]
}