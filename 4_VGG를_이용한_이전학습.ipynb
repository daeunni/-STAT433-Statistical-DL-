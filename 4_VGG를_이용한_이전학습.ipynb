{
  "nbformat": 4,
  "nbformat_minor": 0,
  "metadata": {
    "colab": {
      "name": "4. VGG를 이용한 이전학습.ipynb",
      "provenance": [],
      "collapsed_sections": [],
      "machine_shape": "hm",
      "mount_file_id": "1L-ivrqqRpNSD-OSTFvDOdry0xYwCGvYF",
      "authorship_tag": "ABX9TyNdI65KxUpayLCZlG2DDJae",
      "include_colab_link": true
    },
    "kernelspec": {
      "name": "python3",
      "display_name": "Python 3"
    },
    "language_info": {
      "name": "python"
    },
    "accelerator": "GPU",
    "widgets": {
      "application/vnd.jupyter.widget-state+json": {
        "ae9cabff9a74465e973c58130b86ead3": {
          "model_module": "@jupyter-widgets/controls",
          "model_name": "HBoxModel",
          "state": {
            "_view_name": "HBoxView",
            "_dom_classes": [],
            "_model_name": "HBoxModel",
            "_view_module": "@jupyter-widgets/controls",
            "_model_module_version": "1.5.0",
            "_view_count": null,
            "_view_module_version": "1.5.0",
            "box_style": "",
            "layout": "IPY_MODEL_b296cf0e4e7f41cf8ee3246f5372121a",
            "_model_module": "@jupyter-widgets/controls",
            "children": [
              "IPY_MODEL_5c3a3e940f294d9bb5f191e83a37988c",
              "IPY_MODEL_3bb95f8b965b43dfb4538f6fd937dbfb"
            ]
          }
        },
        "b296cf0e4e7f41cf8ee3246f5372121a": {
          "model_module": "@jupyter-widgets/base",
          "model_name": "LayoutModel",
          "state": {
            "_view_name": "LayoutView",
            "grid_template_rows": null,
            "right": null,
            "justify_content": null,
            "_view_module": "@jupyter-widgets/base",
            "overflow": null,
            "_model_module_version": "1.2.0",
            "_view_count": null,
            "flex_flow": null,
            "width": null,
            "min_width": null,
            "border": null,
            "align_items": null,
            "bottom": null,
            "_model_module": "@jupyter-widgets/base",
            "top": null,
            "grid_column": null,
            "overflow_y": null,
            "overflow_x": null,
            "grid_auto_flow": null,
            "grid_area": null,
            "grid_template_columns": null,
            "flex": null,
            "_model_name": "LayoutModel",
            "justify_items": null,
            "grid_row": null,
            "max_height": null,
            "align_content": null,
            "visibility": null,
            "align_self": null,
            "height": null,
            "min_height": null,
            "padding": null,
            "grid_auto_rows": null,
            "grid_gap": null,
            "max_width": null,
            "order": null,
            "_view_module_version": "1.2.0",
            "grid_template_areas": null,
            "object_position": null,
            "object_fit": null,
            "grid_auto_columns": null,
            "margin": null,
            "display": null,
            "left": null
          }
        },
        "5c3a3e940f294d9bb5f191e83a37988c": {
          "model_module": "@jupyter-widgets/controls",
          "model_name": "FloatProgressModel",
          "state": {
            "_view_name": "ProgressView",
            "style": "IPY_MODEL_d4dee1b8f0a5404bb1fd44a0a5fb1923",
            "_dom_classes": [],
            "description": "100%",
            "_model_name": "FloatProgressModel",
            "bar_style": "success",
            "max": 1730,
            "_view_module": "@jupyter-widgets/controls",
            "_model_module_version": "1.5.0",
            "value": 1730,
            "_view_count": null,
            "_view_module_version": "1.5.0",
            "orientation": "horizontal",
            "min": 0,
            "description_tooltip": null,
            "_model_module": "@jupyter-widgets/controls",
            "layout": "IPY_MODEL_b5bba97ec2a144188f772c1738b3475e"
          }
        },
        "3bb95f8b965b43dfb4538f6fd937dbfb": {
          "model_module": "@jupyter-widgets/controls",
          "model_name": "HTMLModel",
          "state": {
            "_view_name": "HTMLView",
            "style": "IPY_MODEL_6df7132ae1ef41649bde0f07ac4f5ada",
            "_dom_classes": [],
            "description": "",
            "_model_name": "HTMLModel",
            "placeholder": "​",
            "_view_module": "@jupyter-widgets/controls",
            "_model_module_version": "1.5.0",
            "value": " 1730/1730 [01:08&lt;00:00, 25.25it/s]",
            "_view_count": null,
            "_view_module_version": "1.5.0",
            "description_tooltip": null,
            "_model_module": "@jupyter-widgets/controls",
            "layout": "IPY_MODEL_63688c0e7b894132b53b2dfab4a126c7"
          }
        },
        "d4dee1b8f0a5404bb1fd44a0a5fb1923": {
          "model_module": "@jupyter-widgets/controls",
          "model_name": "ProgressStyleModel",
          "state": {
            "_view_name": "StyleView",
            "_model_name": "ProgressStyleModel",
            "description_width": "initial",
            "_view_module": "@jupyter-widgets/base",
            "_model_module_version": "1.5.0",
            "_view_count": null,
            "_view_module_version": "1.2.0",
            "bar_color": null,
            "_model_module": "@jupyter-widgets/controls"
          }
        },
        "b5bba97ec2a144188f772c1738b3475e": {
          "model_module": "@jupyter-widgets/base",
          "model_name": "LayoutModel",
          "state": {
            "_view_name": "LayoutView",
            "grid_template_rows": null,
            "right": null,
            "justify_content": null,
            "_view_module": "@jupyter-widgets/base",
            "overflow": null,
            "_model_module_version": "1.2.0",
            "_view_count": null,
            "flex_flow": null,
            "width": null,
            "min_width": null,
            "border": null,
            "align_items": null,
            "bottom": null,
            "_model_module": "@jupyter-widgets/base",
            "top": null,
            "grid_column": null,
            "overflow_y": null,
            "overflow_x": null,
            "grid_auto_flow": null,
            "grid_area": null,
            "grid_template_columns": null,
            "flex": null,
            "_model_name": "LayoutModel",
            "justify_items": null,
            "grid_row": null,
            "max_height": null,
            "align_content": null,
            "visibility": null,
            "align_self": null,
            "height": null,
            "min_height": null,
            "padding": null,
            "grid_auto_rows": null,
            "grid_gap": null,
            "max_width": null,
            "order": null,
            "_view_module_version": "1.2.0",
            "grid_template_areas": null,
            "object_position": null,
            "object_fit": null,
            "grid_auto_columns": null,
            "margin": null,
            "display": null,
            "left": null
          }
        },
        "6df7132ae1ef41649bde0f07ac4f5ada": {
          "model_module": "@jupyter-widgets/controls",
          "model_name": "DescriptionStyleModel",
          "state": {
            "_view_name": "StyleView",
            "_model_name": "DescriptionStyleModel",
            "description_width": "",
            "_view_module": "@jupyter-widgets/base",
            "_model_module_version": "1.5.0",
            "_view_count": null,
            "_view_module_version": "1.2.0",
            "_model_module": "@jupyter-widgets/controls"
          }
        },
        "63688c0e7b894132b53b2dfab4a126c7": {
          "model_module": "@jupyter-widgets/base",
          "model_name": "LayoutModel",
          "state": {
            "_view_name": "LayoutView",
            "grid_template_rows": null,
            "right": null,
            "justify_content": null,
            "_view_module": "@jupyter-widgets/base",
            "overflow": null,
            "_model_module_version": "1.2.0",
            "_view_count": null,
            "flex_flow": null,
            "width": null,
            "min_width": null,
            "border": null,
            "align_items": null,
            "bottom": null,
            "_model_module": "@jupyter-widgets/base",
            "top": null,
            "grid_column": null,
            "overflow_y": null,
            "overflow_x": null,
            "grid_auto_flow": null,
            "grid_area": null,
            "grid_template_columns": null,
            "flex": null,
            "_model_name": "LayoutModel",
            "justify_items": null,
            "grid_row": null,
            "max_height": null,
            "align_content": null,
            "visibility": null,
            "align_self": null,
            "height": null,
            "min_height": null,
            "padding": null,
            "grid_auto_rows": null,
            "grid_gap": null,
            "max_width": null,
            "order": null,
            "_view_module_version": "1.2.0",
            "grid_template_areas": null,
            "object_position": null,
            "object_fit": null,
            "grid_auto_columns": null,
            "margin": null,
            "display": null,
            "left": null
          }
        }
      }
    }
  },
  "cells": [
    {
      "cell_type": "markdown",
      "metadata": {
        "id": "view-in-github",
        "colab_type": "text"
      },
      "source": [
        "<a href=\"https://colab.research.google.com/github/daeunni/Statistical_DL/blob/main/4_VGG%EB%A5%BC_%EC%9D%B4%EC%9A%A9%ED%95%9C_%EC%9D%B4%EC%A0%84%ED%95%99%EC%8A%B5.ipynb\" target=\"_parent\"><img src=\"https://colab.research.google.com/assets/colab-badge.svg\" alt=\"Open In Colab\"/></a>"
      ]
    },
    {
      "cell_type": "markdown",
      "metadata": {
        "id": "qXke7I1p79jk"
      },
      "source": [
        "# **Gender Classification Data**"
      ]
    },
    {
      "cell_type": "code",
      "metadata": {
        "colab": {
          "base_uri": "https://localhost:8080/",
          "height": 217
        },
        "id": "R0uoOmfV7jjk",
        "outputId": "1f2776ec-7d06-450d-9cdf-e66fec65c782"
      },
      "source": [
        "# url로 이미지가 연결된 남녀 사진자료임 !!\n",
        "import pandas as pd \n",
        "from skimage import io   # 이미지 read\n",
        "import cv2\n",
        "import numpy as np\n",
        "import matplotlib.pyplot as plt\n",
        "\n",
        "from tensorflow.keras.layers import Conv2D, MaxPooling2D,Flatten,Dense, Dropout\n",
        "from tensorflow.keras.models import Sequential\n",
        "\n",
        "data=pd.read_csv('/content/drive/MyDrive/Colab Notebooks/DL/[STAT433] 딥러닝을 위한 통계적모델링/data/gender_data.csv')  \n",
        "data.head()"
      ],
      "execution_count": null,
      "outputs": [
        {
          "output_type": "execute_result",
          "data": {
            "text/html": [
              "<div>\n",
              "<style scoped>\n",
              "    .dataframe tbody tr th:only-of-type {\n",
              "        vertical-align: middle;\n",
              "    }\n",
              "\n",
              "    .dataframe tbody tr th {\n",
              "        vertical-align: top;\n",
              "    }\n",
              "\n",
              "    .dataframe thead th {\n",
              "        text-align: right;\n",
              "    }\n",
              "</style>\n",
              "<table border=\"1\" class=\"dataframe\">\n",
              "  <thead>\n",
              "    <tr style=\"text-align: right;\">\n",
              "      <th></th>\n",
              "      <th>_unit_id</th>\n",
              "      <th>_golden</th>\n",
              "      <th>_unit_state</th>\n",
              "      <th>_trusted_judgments</th>\n",
              "      <th>_last_judgment_at</th>\n",
              "      <th>please_select_the_gender_of_the_person_in_the_picture</th>\n",
              "      <th>please_select_the_gender_of_the_person_in_the_picture:confidence</th>\n",
              "      <th>image_url</th>\n",
              "      <th>please_select_the_gender_of_the_person_in_the_picture_gold</th>\n",
              "      <th>user_id</th>\n",
              "    </tr>\n",
              "  </thead>\n",
              "  <tbody>\n",
              "    <tr>\n",
              "      <th>0</th>\n",
              "      <td>1023132475</td>\n",
              "      <td>False</td>\n",
              "      <td>finalized</td>\n",
              "      <td>1</td>\n",
              "      <td>8/19/2016 17:00:25</td>\n",
              "      <td>male</td>\n",
              "      <td>1.0</td>\n",
              "      <td>https://d1qb2nb5cznatu.cloudfront.net/users/40...</td>\n",
              "      <td>NaN</td>\n",
              "      <td>40</td>\n",
              "    </tr>\n",
              "    <tr>\n",
              "      <th>1</th>\n",
              "      <td>1023132476</td>\n",
              "      <td>False</td>\n",
              "      <td>finalized</td>\n",
              "      <td>1</td>\n",
              "      <td>8/19/2016 17:00:48</td>\n",
              "      <td>male</td>\n",
              "      <td>1.0</td>\n",
              "      <td>https://d1qb2nb5cznatu.cloudfront.net/users/42...</td>\n",
              "      <td>NaN</td>\n",
              "      <td>42</td>\n",
              "    </tr>\n",
              "    <tr>\n",
              "      <th>2</th>\n",
              "      <td>1023132477</td>\n",
              "      <td>False</td>\n",
              "      <td>finalized</td>\n",
              "      <td>1</td>\n",
              "      <td>8/19/2016 17:01:43</td>\n",
              "      <td>male</td>\n",
              "      <td>1.0</td>\n",
              "      <td>https://d1qb2nb5cznatu.cloudfront.net/users/44...</td>\n",
              "      <td>NaN</td>\n",
              "      <td>44</td>\n",
              "    </tr>\n",
              "    <tr>\n",
              "      <th>3</th>\n",
              "      <td>1023132478</td>\n",
              "      <td>False</td>\n",
              "      <td>finalized</td>\n",
              "      <td>1</td>\n",
              "      <td>8/19/2016 17:01:04</td>\n",
              "      <td>male</td>\n",
              "      <td>1.0</td>\n",
              "      <td>https://d1qb2nb5cznatu.cloudfront.net/users/47...</td>\n",
              "      <td>NaN</td>\n",
              "      <td>47</td>\n",
              "    </tr>\n",
              "    <tr>\n",
              "      <th>4</th>\n",
              "      <td>1023132479</td>\n",
              "      <td>False</td>\n",
              "      <td>finalized</td>\n",
              "      <td>1</td>\n",
              "      <td>8/19/2016 17:00:48</td>\n",
              "      <td>male</td>\n",
              "      <td>1.0</td>\n",
              "      <td>https://d1qb2nb5cznatu.cloudfront.net/users/50...</td>\n",
              "      <td>NaN</td>\n",
              "      <td>50</td>\n",
              "    </tr>\n",
              "  </tbody>\n",
              "</table>\n",
              "</div>"
            ],
            "text/plain": [
              "     _unit_id  ...  user_id\n",
              "0  1023132475  ...       40\n",
              "1  1023132476  ...       42\n",
              "2  1023132477  ...       44\n",
              "3  1023132478  ...       47\n",
              "4  1023132479  ...       50\n",
              "\n",
              "[5 rows x 10 columns]"
            ]
          },
          "metadata": {
            "tags": []
          },
          "execution_count": 1
        }
      ]
    },
    {
      "cell_type": "code",
      "metadata": {
        "colab": {
          "base_uri": "https://localhost:8080/"
        },
        "id": "RxY-l2TR7m8U",
        "outputId": "2deeb3a5-4506-4cf5-b61e-60d215772284"
      },
      "source": [
        "data.columns"
      ],
      "execution_count": null,
      "outputs": [
        {
          "output_type": "execute_result",
          "data": {
            "text/plain": [
              "Index(['_unit_id', '_golden', '_unit_state', '_trusted_judgments',\n",
              "       '_last_judgment_at',\n",
              "       'please_select_the_gender_of_the_person_in_the_picture',\n",
              "       'please_select_the_gender_of_the_person_in_the_picture:confidence',\n",
              "       'image_url',\n",
              "       'please_select_the_gender_of_the_person_in_the_picture_gold',\n",
              "       'user_id'],\n",
              "      dtype='object')"
            ]
          },
          "metadata": {
            "tags": []
          },
          "execution_count": 2
        }
      ]
    },
    {
      "cell_type": "code",
      "metadata": {
        "colab": {
          "base_uri": "https://localhost:8080/"
        },
        "id": "-G0OzPp79ob6",
        "outputId": "22956f0a-15a4-4311-dbbb-c9d88f8ac356"
      },
      "source": [
        "data.shape"
      ],
      "execution_count": null,
      "outputs": [
        {
          "output_type": "execute_result",
          "data": {
            "text/plain": [
              "(64084, 10)"
            ]
          },
          "metadata": {
            "tags": []
          },
          "execution_count": 3
        }
      ]
    },
    {
      "cell_type": "code",
      "metadata": {
        "colab": {
          "base_uri": "https://localhost:8080/"
        },
        "id": "bN4AMdoo7m5J",
        "outputId": "46457306-a189-40d5-9d0e-524851f3a951"
      },
      "source": [
        "# 남녀 동등하게 1000개만 뽑아서 학습\n",
        "final_data.shape\n",
        "data_male=data[data['please_select_the_gender_of_the_person_in_the_picture']=='male']\n",
        "data_female=data[data['please_select_the_gender_of_the_person_in_the_picture']=='female']\n",
        "final_data=pd.concat([data_male[:1000],data_female[:1000]], axis=0).reset_index(drop=True) "
      ],
      "execution_count": null,
      "outputs": [
        {
          "output_type": "execute_result",
          "data": {
            "text/plain": [
              "(2000, 10)"
            ]
          },
          "metadata": {
            "tags": []
          },
          "execution_count": 4
        }
      ]
    },
    {
      "cell_type": "code",
      "metadata": {
        "id": "jSIwDc4e7n9r"
      },
      "source": [
        "# 이미지 load(url로 연결되어있음)\n",
        "x=[]\n",
        "y=[]\n",
        "for i in range(final_data.shape[0]):\n",
        "    try:\n",
        "        image=io.imread(final_data.loc[i]['image_url'])\n",
        "        if (image.shape==(300,300,3)): \n",
        "            x.append(image)\n",
        "            y.append(final_data.loc[i]['please_select_the_gender_of_the_person_in_the_picture'])\n",
        "    except:\n",
        "        continue"
      ],
      "execution_count": null,
      "outputs": []
    },
    {
      "cell_type": "code",
      "metadata": {
        "colab": {
          "base_uri": "https://localhost:8080/",
          "height": 269
        },
        "id": "BXeukuZSBF1_",
        "outputId": "478b82b7-f506-4d36-f6d3-fb7e3513b02a"
      },
      "source": [
        "plt.imshow(x[444])\n",
        "plt.show()  # 300*300 사이즈로 이루어진 사진"
      ],
      "execution_count": null,
      "outputs": [
        {
          "output_type": "display_data",
          "data": {
            "image/png": "[encoded data removed]",
            "text/plain": [
              "<Figure size 432x288 with 1 Axes>"
            ]
          },
          "metadata": {
            "tags": [],
            "needs_background": "light"
          }
        }
      ]
    },
    {
      "cell_type": "markdown",
      "metadata": {
        "id": "eA8vMlwIBQAL"
      },
      "source": [
        "확실히 300*300이라 매우 선명하다! 그만큼 픽셀이 많아서~~"
      ]
    },
    {
      "cell_type": "code",
      "metadata": {
        "colab": {
          "base_uri": "https://localhost:8080/"
        },
        "id": "eBgsbsLq7n7T",
        "outputId": "c0e1de1c-5c55-4dac-b585-c438302c5e91"
      },
      "source": [
        "x[0].shape  # (300, 3)인 이미지가 300개 있는 상황!"
      ],
      "execution_count": null,
      "outputs": [
        {
          "output_type": "execute_result",
          "data": {
            "text/plain": [
              "(300, 300, 3)"
            ]
          },
          "metadata": {
            "tags": []
          },
          "execution_count": 27
        }
      ]
    },
    {
      "cell_type": "code",
      "metadata": {
        "id": "wnhJO8_v7n4U"
      },
      "source": [
        "# Resize\n",
        "x2=[]\n",
        "y2=[]\n",
        "for i in range(len(x)):  # 1760개의 data\n",
        "    img2=cv2.resize(x[i],(50,50))   # cv로 50,50으로 resize, 채널은 3이 디폴트\n",
        "    x2.append(img2)\n",
        "    img_label=np.where(y[i]=='male',1,0)  # 남성이면 1, 아니면 0으로 one-hot으로 바꿔줌\n",
        "    y2.append(img_label)"
      ],
      "execution_count": null,
      "outputs": []
    },
    {
      "cell_type": "code",
      "metadata": {
        "colab": {
          "base_uri": "https://localhost:8080/"
        },
        "id": "2bEvUdQL_37K",
        "outputId": "ef0a1087-4367-4d5a-9762-41244329fe89"
      },
      "source": [
        "x2[0].shape"
      ],
      "execution_count": null,
      "outputs": [
        {
          "output_type": "execute_result",
          "data": {
            "text/plain": [
              "(50, 50, 3)"
            ]
          },
          "metadata": {
            "tags": []
          },
          "execution_count": 26
        }
      ]
    },
    {
      "cell_type": "code",
      "metadata": {
        "colab": {
          "base_uri": "https://localhost:8080/"
        },
        "id": "7WboU5bp7n1q",
        "outputId": "d4ab100c-9779-4f34-f3d7-5459bfdc0c99"
      },
      "source": [
        "# 텐서(array 형태)로 변환\n",
        "x2=np.array(x2)  # tensor에서 numpy data로 고쳐줌\n",
        "x1=x2.astype('float32')/255.\n",
        "y1=np.array(y2)\n",
        "print(x1.shape, y1.shape)  # train, test data"
      ],
      "execution_count": null,
      "outputs": [
        {
          "output_type": "stream",
          "text": [
            "(1730, 50, 50, 3) (1730,)\n"
          ],
          "name": "stdout"
        }
      ]
    },
    {
      "cell_type": "code",
      "metadata": {
        "colab": {
          "base_uri": "https://localhost:8080/"
        },
        "id": "Yi2XeNFe7nyg",
        "outputId": "025d4b75-81fd-4308-d15a-f5c459d34c1b"
      },
      "source": [
        "# split\n",
        "from sklearn.model_selection import train_test_split\n",
        "x_train,x_test,y_train,y_test=train_test_split(x1,y1,test_size=0.1,random_state=1, stratify=y)\n",
        "print(x_train.shape,x_test.shape,y_train.shape,y_test.shape)"
      ],
      "execution_count": null,
      "outputs": [
        {
          "output_type": "stream",
          "text": [
            "(1557, 50, 50, 3) (173, 50, 50, 3) (1557,) (173,)\n"
          ],
          "name": "stdout"
        }
      ]
    },
    {
      "cell_type": "code",
      "metadata": {
        "colab": {
          "base_uri": "https://localhost:8080/",
          "height": 267
        },
        "id": "euhhksqc7nup",
        "outputId": "de12daaa-d28d-4034-e53f-13b65ad7baa3"
      },
      "source": [
        "plt.imshow(x_train[27])\n",
        "plt.show()  # 50*50 사이즈의 RGB(채널 3)로 이루어진 사진"
      ],
      "execution_count": null,
      "outputs": [
        {
          "output_type": "display_data",
          "data": {
            "image/png": "[encoded data removed]",
            "text/plain": [
              "<Figure size 432x288 with 1 Axes>"
            ]
          },
          "metadata": {
            "tags": [],
            "needs_background": "light"
          }
        }
      ]
    },
    {
      "cell_type": "markdown",
      "metadata": {
        "id": "XQ_kk4L1BYBr"
      },
      "source": [
        "확실히 50*50으로 resize를 하면서 타일도 커지고 덜 선명해졌다(픽셀이 작아서)"
      ]
    },
    {
      "cell_type": "markdown",
      "metadata": {
        "id": "8AUTtxA0Bofi"
      },
      "source": [
        "# 1. Simple CNN"
      ]
    },
    {
      "cell_type": "code",
      "metadata": {
        "colab": {
          "base_uri": "https://localhost:8080/"
        },
        "id": "HLnoVB9X7m2e",
        "outputId": "5054153b-dc0a-4454-f324-3eb95da1cf1e"
      },
      "source": [
        "# 픽셀이 점점 줄어드는 대신 채널의 수를 늘려서 특성을 효율적으로 추출하도록 한다\n",
        "model=Sequential()                                     \n",
        "model.add(Conv2D(32,(3,3),activation='relu',input_shape=[50,50,3]))  \n",
        "model.add(MaxPooling2D((2,2))) \n",
        "model.add(Conv2D(64,(3,3),activation='relu',padding='same'))  \n",
        "model.add(MaxPooling2D((2,2)))\n",
        "model.add(Conv2D(128,(3,3),activation='relu',padding='same'))  \n",
        "model.add(MaxPooling2D((2,2)))\n",
        "model.add(Conv2D(256,(3,3),activation='relu',padding='same'))\n",
        "model.add(Flatten())\n",
        "#### 통계모형의 형태 (logistic regression) ###### \n",
        "model.add(Dense(100, activation='relu'))\n",
        "model.add(Dense(1, activation='sigmoid'))  # 이항분류이므로 sigmoid 출력\n",
        "# 여기 regularization이 들어가는게 통계적으로 맞다\n",
        "model.summary()"
      ],
      "execution_count": null,
      "outputs": [
        {
          "output_type": "stream",
          "text": [
            "Model: \"sequential\"\n",
            "_________________________________________________________________\n",
            "Layer (type)                 Output Shape              Param #   \n",
            "=================================================================\n",
            "conv2d (Conv2D)              (None, 48, 48, 32)        896       \n",
            "_________________________________________________________________\n",
            "max_pooling2d (MaxPooling2D) (None, 24, 24, 32)        0         \n",
            "_________________________________________________________________\n",
            "conv2d_1 (Conv2D)            (None, 24, 24, 64)        18496     \n",
            "_________________________________________________________________\n",
            "max_pooling2d_1 (MaxPooling2 (None, 12, 12, 64)        0         \n",
            "_________________________________________________________________\n",
            "conv2d_2 (Conv2D)            (None, 12, 12, 128)       73856     \n",
            "_________________________________________________________________\n",
            "max_pooling2d_2 (MaxPooling2 (None, 6, 6, 128)         0         \n",
            "_________________________________________________________________\n",
            "conv2d_3 (Conv2D)            (None, 6, 6, 256)         295168    \n",
            "_________________________________________________________________\n",
            "flatten (Flatten)            (None, 9216)              0         \n",
            "_________________________________________________________________\n",
            "dense (Dense)                (None, 100)               921700    \n",
            "_________________________________________________________________\n",
            "dense_1 (Dense)              (None, 1)                 101       \n",
            "=================================================================\n",
            "Total params: 1,310,217\n",
            "Trainable params: 1,310,217\n",
            "Non-trainable params: 0\n",
            "_________________________________________________________________\n"
          ],
          "name": "stdout"
        }
      ]
    },
    {
      "cell_type": "code",
      "metadata": {
        "colab": {
          "base_uri": "https://localhost:8080/"
        },
        "id": "OGPAAB4Y7mzt",
        "outputId": "a98796bd-9373-48db-d0cd-7584fc08625b"
      },
      "source": [
        "model.compile(loss='binary_crossentropy',optimizer='adam', metrics=['acc'])\n",
        "result=model.fit(x_train,y_train,batch_size=32,epochs=10,validation_data=(x_test,y_test))\n",
        "score=model.evaluate(x_test,y_test)  # 모수가 100개이기 때문에 보나마나 오버피팅\n",
        "print(score)"
      ],
      "execution_count": null,
      "outputs": [
        {
          "output_type": "stream",
          "text": [
            "Epoch 1/10\n",
            "49/49 [==============================] - 1s 10ms/step - loss: 0.6883 - acc: 0.5454 - val_loss: 0.6705 - val_acc: 0.6012\n",
            "Epoch 2/10\n",
            "49/49 [==============================] - 0s 5ms/step - loss: 0.6353 - acc: 0.6396 - val_loss: 0.6415 - val_acc: 0.6243\n",
            "Epoch 3/10\n",
            "49/49 [==============================] - 0s 5ms/step - loss: 0.5417 - acc: 0.7125 - val_loss: 0.5598 - val_acc: 0.7110\n",
            "Epoch 4/10\n",
            "49/49 [==============================] - 0s 5ms/step - loss: 0.4945 - acc: 0.7443 - val_loss: 0.6001 - val_acc: 0.6705\n",
            "Epoch 5/10\n",
            "49/49 [==============================] - 0s 5ms/step - loss: 0.4044 - acc: 0.8070 - val_loss: 0.5378 - val_acc: 0.7110\n",
            "Epoch 6/10\n",
            "49/49 [==============================] - 0s 5ms/step - loss: 0.3450 - acc: 0.8428 - val_loss: 0.5521 - val_acc: 0.7399\n",
            "Epoch 7/10\n",
            "49/49 [==============================] - 0s 5ms/step - loss: 0.2771 - acc: 0.8876 - val_loss: 0.6020 - val_acc: 0.7052\n",
            "Epoch 8/10\n",
            "49/49 [==============================] - 0s 5ms/step - loss: 0.2271 - acc: 0.9045 - val_loss: 0.7815 - val_acc: 0.7283\n",
            "Epoch 9/10\n",
            "49/49 [==============================] - 0s 5ms/step - loss: 0.1891 - acc: 0.9353 - val_loss: 1.0652 - val_acc: 0.7110\n",
            "Epoch 10/10\n",
            "49/49 [==============================] - 0s 5ms/step - loss: 0.1155 - acc: 0.9562 - val_loss: 1.0053 - val_acc: 0.7168\n",
            "6/6 [==============================] - 0s 2ms/step - loss: 1.0053 - acc: 0.7168\n",
            "[1.0052770376205444, 0.7167630195617676]\n"
          ],
          "name": "stdout"
        }
      ]
    },
    {
      "cell_type": "markdown",
      "metadata": {
        "id": "eaLQbWZ6DUkd"
      },
      "source": [
        "데이터가 1700여개인데 마지막 dense층의 모수는 100개이니, 당연히 overfitting이 발생하였다. "
      ]
    },
    {
      "cell_type": "code",
      "metadata": {
        "colab": {
          "base_uri": "https://localhost:8080/",
          "height": 545
        },
        "id": "5AIowD7q7mw2",
        "outputId": "42ef3d87-8604-42f7-c20c-ab54c6a570b3"
      },
      "source": [
        "acc=result.history['acc']\n",
        "val_acc=result.history['val_acc']\n",
        "loss=result.history['loss']\n",
        "val_loss=result.history['val_loss']\n",
        "epochs=range(1,len(acc)+1)\n",
        "plt.plot(epochs,acc,'bo',label='training accuracy')\n",
        "plt.plot(epochs, val_acc,'b',label='validation accuracy')\n",
        "plt.title('training and validation accuracy')\n",
        "plt.legend()\n",
        "plt.figure()\n",
        "plt.plot(epochs,loss,'bo',label='training loss')\n",
        "plt.plot(epochs, val_loss,'b',label='validation loss')\n",
        "plt.title('training and validation loss')\n",
        "plt.legend()\n",
        "plt.show()"
      ],
      "execution_count": null,
      "outputs": [
        {
          "output_type": "display_data",
          "data": {
            "image/png": "[encoded data removed]",
            "text/plain": [
              "<Figure size 432x288 with 1 Axes>"
            ]
          },
          "metadata": {
            "tags": [],
            "needs_background": "light"
          }
        },
        {
          "output_type": "display_data",
          "data": {
            "image/png": "[encoded data removed]",
            "text/plain": [
              "<Figure size 432x288 with 1 Axes>"
            ]
          },
          "metadata": {
            "tags": [],
            "needs_background": "light"
          }
        }
      ]
    },
    {
      "cell_type": "markdown",
      "metadata": {
        "id": "udcReKcHHbXR"
      },
      "source": [
        "## Visualization"
      ]
    },
    {
      "cell_type": "code",
      "metadata": {
        "colab": {
          "base_uri": "https://localhost:8080/",
          "height": 267
        },
        "id": "ryd6KzY77muO",
        "outputId": "beef282d-0a18-4c58-ccd4-c3832c640947"
      },
      "source": [
        "plt.imshow(x_test[14])\n",
        "plt.show()"
      ],
      "execution_count": null,
      "outputs": [
        {
          "output_type": "display_data",
          "data": {
            "image/png": "[encoded data removed]",
            "text/plain": [
              "<Figure size 432x288 with 1 Axes>"
            ]
          },
          "metadata": {
            "tags": [],
            "needs_background": "light"
          }
        }
      ]
    },
    {
      "cell_type": "code",
      "metadata": {
        "id": "CptRZsbJFNbp"
      },
      "source": [
        "pic = np.expand_dims(x_test[14], axis=0)"
      ],
      "execution_count": null,
      "outputs": []
    },
    {
      "cell_type": "code",
      "metadata": {
        "id": "l8M-RhpG7mrK"
      },
      "source": [
        "from keras import models\n",
        "layer_outputs = [layer.output for layer in model.layers[:8]]  # 상위 8개 층의 출력을 추출\n",
        "activation_model = models.Model(inputs=model.input, outputs=layer_outputs)  # 입력에 대한 8개 층의 출력을 반환하는 모델\n",
        "activations = activation_model.predict(pic)   # Conv 층의 activation값 출력"
      ],
      "execution_count": null,
      "outputs": []
    },
    {
      "cell_type": "code",
      "metadata": {
        "colab": {
          "base_uri": "https://localhost:8080/"
        },
        "id": "KW2xmujU7moU",
        "outputId": "6a04ad33-e3a3-4425-cf88-b8db04074b22"
      },
      "source": [
        "activations[0].shape   # 첫번째 Conv 층은 48*48크기를 가진 채널 32개의 feature map  "
      ],
      "execution_count": null,
      "outputs": [
        {
          "output_type": "execute_result",
          "data": {
            "text/plain": [
              "(1, 48, 48, 32)"
            ]
          },
          "metadata": {
            "tags": []
          },
          "execution_count": 76
        }
      ]
    },
    {
      "cell_type": "markdown",
      "metadata": {
        "id": "lBfAZxRHGLj6"
      },
      "source": [
        "첫번째 층 중에서 20번째 채널을 나타낸다. 머리카락의 엣지를 감지하고있다!"
      ]
    },
    {
      "cell_type": "code",
      "metadata": {
        "colab": {
          "base_uri": "https://localhost:8080/",
          "height": 292
        },
        "id": "L1ABgjwG7ml5",
        "outputId": "f2a9384f-d733-450d-9b7d-3b4acb194cc4"
      },
      "source": [
        "first = activations[3]\n",
        "plt.matshow(first[0, :, :, 19], cmap='viridis')   # 첫번째 층 중에서 20번째 채널 !! "
      ],
      "execution_count": null,
      "outputs": [
        {
          "output_type": "execute_result",
          "data": {
            "text/plain": [
              "<matplotlib.image.AxesImage at 0x7f64cba0df10>"
            ]
          },
          "metadata": {
            "tags": []
          },
          "execution_count": 79
        },
        {
          "output_type": "display_data",
          "data": {
            "image/png": "[encoded data removed]",
            "text/plain": [
              "<Figure size 288x288 with 1 Axes>"
            ]
          },
          "metadata": {
            "tags": [],
            "needs_background": "light"
          }
        }
      ]
    },
    {
      "cell_type": "markdown",
      "metadata": {
        "id": "gWBlzHoGHOtr"
      },
      "source": [
        "확실히 깊이가 깊어질수록 고수준의 특성을 학습한다. 점점 형태가 추상적으로 변한다!!"
      ]
    },
    {
      "cell_type": "code",
      "metadata": {
        "colab": {
          "base_uri": "https://localhost:8080/",
          "height": 292
        },
        "id": "oxSLyWeA7mi_",
        "outputId": "c893d29d-037e-4699-a65f-efa55736224f"
      },
      "source": [
        "first = activations[6]\n",
        "plt.matshow(first[0, :, :, 10], cmap='viridis')  "
      ],
      "execution_count": null,
      "outputs": [
        {
          "output_type": "execute_result",
          "data": {
            "text/plain": [
              "<matplotlib.image.AxesImage at 0x7f64cc6c7d50>"
            ]
          },
          "metadata": {
            "tags": []
          },
          "execution_count": 89
        },
        {
          "output_type": "display_data",
          "data": {
            "image/png": "[encoded data removed]",
            "text/plain": [
              "<Figure size 288x288 with 1 Axes>"
            ]
          },
          "metadata": {
            "tags": [],
            "needs_background": "light"
          }
        }
      ]
    },
    {
      "cell_type": "markdown",
      "metadata": {
        "id": "k7ow0vKTHl5p"
      },
      "source": [
        "# 2. 이전학습\n",
        "> VGG16\n",
        "\n",
        "\n",
        "#### 1) 모든 Conv층을 이용하고, MLP층과 출력층은 새롭게 학습"
      ]
    },
    {
      "cell_type": "code",
      "metadata": {
        "colab": {
          "base_uri": "https://localhost:8080/"
        },
        "id": "6OiJFZ637mgS",
        "outputId": "7e2b546c-ce26-48ee-b67e-8a1be58b069b"
      },
      "source": [
        "# Pretrained VGG16\n",
        "from tensorflow.keras.applications import VGG16  \n",
        "vgg16_model=VGG16(weights='imagenet',include_top=False,input_shape=(300,300,3))  # input size는 내 마음대로 조절 \n",
        "vgg16_model.summary()  "
      ],
      "execution_count": null,
      "outputs": [
        {
          "output_type": "stream",
          "text": [
            "Downloading data from https://storage.googleapis.com/tensorflow/keras-applications/vgg16/vgg16_weights_tf_dim_ordering_tf_kernels_notop.h5\n",
            "58892288/58889256 [==============================] - 1s 0us/step\n",
            "Model: \"vgg16\"\n",
            "_________________________________________________________________\n",
            "Layer (type)                 Output Shape              Param #   \n",
            "=================================================================\n",
            "input_1 (InputLayer)         [(None, 300, 300, 3)]     0         \n",
            "_________________________________________________________________\n",
            "block1_conv1 (Conv2D)        (None, 300, 300, 64)      1792      \n",
            "_________________________________________________________________\n",
            "block1_conv2 (Conv2D)        (None, 300, 300, 64)      36928     \n",
            "_________________________________________________________________\n",
            "block1_pool (MaxPooling2D)   (None, 150, 150, 64)      0         \n",
            "_________________________________________________________________\n",
            "block2_conv1 (Conv2D)        (None, 150, 150, 128)     73856     \n",
            "_________________________________________________________________\n",
            "block2_conv2 (Conv2D)        (None, 150, 150, 128)     147584    \n",
            "_________________________________________________________________\n",
            "block2_pool (MaxPooling2D)   (None, 75, 75, 128)       0         \n",
            "_________________________________________________________________\n",
            "block3_conv1 (Conv2D)        (None, 75, 75, 256)       295168    \n",
            "_________________________________________________________________\n",
            "block3_conv2 (Conv2D)        (None, 75, 75, 256)       590080    \n",
            "_________________________________________________________________\n",
            "block3_conv3 (Conv2D)        (None, 75, 75, 256)       590080    \n",
            "_________________________________________________________________\n",
            "block3_pool (MaxPooling2D)   (None, 37, 37, 256)       0         \n",
            "_________________________________________________________________\n",
            "block4_conv1 (Conv2D)        (None, 37, 37, 512)       1180160   \n",
            "_________________________________________________________________\n",
            "block4_conv2 (Conv2D)        (None, 37, 37, 512)       2359808   \n",
            "_________________________________________________________________\n",
            "block4_conv3 (Conv2D)        (None, 37, 37, 512)       2359808   \n",
            "_________________________________________________________________\n",
            "block4_pool (MaxPooling2D)   (None, 18, 18, 512)       0         \n",
            "_________________________________________________________________\n",
            "block5_conv1 (Conv2D)        (None, 18, 18, 512)       2359808   \n",
            "_________________________________________________________________\n",
            "block5_conv2 (Conv2D)        (None, 18, 18, 512)       2359808   \n",
            "_________________________________________________________________\n",
            "block5_conv3 (Conv2D)        (None, 18, 18, 512)       2359808   \n",
            "_________________________________________________________________\n",
            "block5_pool (MaxPooling2D)   (None, 9, 9, 512)         0         \n",
            "=================================================================\n",
            "Total params: 14,714,688\n",
            "Trainable params: 14,714,688\n",
            "Non-trainable params: 0\n",
            "_________________________________________________________________\n"
          ],
          "name": "stdout"
        }
      ]
    },
    {
      "cell_type": "markdown",
      "metadata": {
        "id": "31vBnJA5JizN"
      },
      "source": [
        "Pretrained 된 VGG에게 기존의 남녀 데이터를 넣어서 예측하게한다!"
      ]
    },
    {
      "cell_type": "code",
      "metadata": {
        "colab": {
          "base_uri": "https://localhost:8080/",
          "height": 67,
          "referenced_widgets": [
            "ae9cabff9a74465e973c58130b86ead3",
            "b296cf0e4e7f41cf8ee3246f5372121a",
            "5c3a3e940f294d9bb5f191e83a37988c",
            "3bb95f8b965b43dfb4538f6fd937dbfb",
            "d4dee1b8f0a5404bb1fd44a0a5fb1923",
            "b5bba97ec2a144188f772c1738b3475e",
            "6df7132ae1ef41649bde0f07ac4f5ada",
            "63688c0e7b894132b53b2dfab4a126c7"
          ]
        },
        "id": "swm5UYdT7mdp",
        "outputId": "a3bdb3cb-48bd-4e9a-9865-37652cb3e7c9"
      },
      "source": [
        "from tensorflow.keras.applications.vgg16 import preprocess_input \n",
        "from tqdm.notebook import tqdm\n",
        "\n",
        "x5_vgg16=[]  # vgg가 predict한 값 저장\n",
        "y5=[]\n",
        "\n",
        "for i in tqdm(range(len(x))):\n",
        "    img=x[i]\n",
        "    img=preprocess_input(img.reshape(1,300,300,3))  # reshape : 맨 앞에 1을 집어 넣음 > 4d 텐서 전환\n",
        "    img_new=vgg16_model.predict(img)  # vgg가 앞선 input을 학습하도록 함\n",
        "    x5_vgg16.append(img_new) \n",
        "    img_label=np.where(y[i]=='male',1,0)\n",
        "    y5.append(img_label)"
      ],
      "execution_count": null,
      "outputs": [
        {
          "output_type": "display_data",
          "data": {
            "application/vnd.jupyter.widget-view+json": {
              "model_id": "ae9cabff9a74465e973c58130b86ead3",
              "version_minor": 0,
              "version_major": 2
            },
            "text/plain": [
              "HBox(children=(FloatProgress(value=0.0, max=1730.0), HTML(value='')))"
            ]
          },
          "metadata": {
            "tags": []
          }
        },
        {
          "output_type": "stream",
          "text": [
            "\n"
          ],
          "name": "stdout"
        }
      ]
    },
    {
      "cell_type": "code",
      "metadata": {
        "colab": {
          "base_uri": "https://localhost:8080/"
        },
        "id": "K7oPsJWcKo1w",
        "outputId": "0b8fbc76-9d0d-4829-cc8e-cccc7bac9488"
      },
      "source": [
        "x5_vgg16[0].shape   # vgg의 하나의 predict값의 shape : vgg의 출력 shape과 같음!1 "
      ],
      "execution_count": null,
      "outputs": [
        {
          "output_type": "execute_result",
          "data": {
            "text/plain": [
              "(1, 9, 9, 512)"
            ]
          },
          "metadata": {
            "tags": []
          },
          "execution_count": 98
        }
      ]
    },
    {
      "cell_type": "code",
      "metadata": {
        "colab": {
          "base_uri": "https://localhost:8080/"
        },
        "id": "Cch971G37mbK",
        "outputId": "ef74038a-3696-49a9-f702-91ed85a19b60"
      },
      "source": [
        "# reshape\n",
        "x5_vgg16=np.array(x5_vgg16)\n",
        "print(x5_vgg16.shape)  # 불필요한 1이 존재하는 모습이다\n",
        "x5_vgg16=x5_vgg16.reshape(x5_vgg16.shape[0],x5_vgg16.shape[2],x5_vgg16.shape[3],x5_vgg16.shape[4])  # reshape\n",
        "y5=np.array(y5)  ## 이거 대신 tf.squeeze를 써도됨"
      ],
      "execution_count": null,
      "outputs": [
        {
          "output_type": "stream",
          "text": [
            "(1730, 1, 9, 9, 512)\n"
          ],
          "name": "stdout"
        }
      ]
    },
    {
      "cell_type": "code",
      "metadata": {
        "colab": {
          "base_uri": "https://localhost:8080/"
        },
        "id": "9UozLkxI7mYj",
        "outputId": "8cb5c883-157a-4a24-a57d-7e6e00bf507f"
      },
      "source": [
        "print(x5_vgg16.shape)"
      ],
      "execution_count": null,
      "outputs": [
        {
          "output_type": "stream",
          "text": [
            "(1730, 9, 9, 512)\n"
          ],
          "name": "stdout"
        }
      ]
    },
    {
      "cell_type": "markdown",
      "metadata": {
        "id": "ktaVYmFNLrUP"
      },
      "source": [
        "VGG에서 나온 출력값을 X로 하고, true label을 y로 하여 한번 더 split한다"
      ]
    },
    {
      "cell_type": "code",
      "metadata": {
        "colab": {
          "base_uri": "https://localhost:8080/"
        },
        "id": "zQIxjii47mWQ",
        "outputId": "8f7c2f46-a7bd-400a-c706-472a7c28f40c"
      },
      "source": [
        "# split\n",
        "from sklearn.model_selection import train_test_split\n",
        "x_train,x_test,y_train,y_test=train_test_split(x5_vgg16,y5,test_size=0.1,random_state=1, stratify=y5)\n",
        "## vgg 출력값이 X, label은 y\n",
        "print(x_train.shape, y_train.shape, x_test.shape, y_test.shape)"
      ],
      "execution_count": null,
      "outputs": [
        {
          "output_type": "stream",
          "text": [
            "(1557, 9, 9, 512) (1557,) (173, 9, 9, 512) (173,)\n"
          ],
          "name": "stdout"
        }
      ]
    },
    {
      "cell_type": "markdown",
      "metadata": {
        "id": "wwXIjYg2MyA9"
      },
      "source": [
        "이제 MLP부분과 출력층 부분만 모델링으로 쌓아주자!"
      ]
    },
    {
      "cell_type": "code",
      "metadata": {
        "colab": {
          "base_uri": "https://localhost:8080/"
        },
        "id": "XuzZrrle7mTy",
        "outputId": "7bb6380f-1346-40fe-a16f-59764c5c25e3"
      },
      "source": [
        "modelvgg16=Sequential()\n",
        "modelvgg16.add(Conv2D(512,(3,3),activation='relu',input_shape=(x_train.shape[1],x_train.shape[2],x_train.shape[3])))\n",
        "# VGG 마지막 채널 수 512 맞춰주기\n",
        "modelvgg16.add(MaxPooling2D((2,2)))\n",
        "\n",
        "# MLP 층\n",
        "modelvgg16.add(Flatten())\n",
        "modelvgg16.add(Dense(512,activation='relu'))\n",
        "modelvgg16.add(Dropout(0.5))   # dropout 추가\n",
        "modelvgg16.add(Dense(1,activation='sigmoid'))\n",
        "modelvgg16.summary()"
      ],
      "execution_count": null,
      "outputs": [
        {
          "output_type": "stream",
          "text": [
            "Model: \"sequential_2\"\n",
            "_________________________________________________________________\n",
            "Layer (type)                 Output Shape              Param #   \n",
            "=================================================================\n",
            "conv2d_5 (Conv2D)            (None, 7, 7, 512)         2359808   \n",
            "_________________________________________________________________\n",
            "max_pooling2d_4 (MaxPooling2 (None, 3, 3, 512)         0         \n",
            "_________________________________________________________________\n",
            "flatten_2 (Flatten)          (None, 4608)              0         \n",
            "_________________________________________________________________\n",
            "dense_3 (Dense)              (None, 512)               2359808   \n",
            "_________________________________________________________________\n",
            "dropout (Dropout)            (None, 512)               0         \n",
            "_________________________________________________________________\n",
            "dense_4 (Dense)              (None, 1)                 513       \n",
            "=================================================================\n",
            "Total params: 4,720,129\n",
            "Trainable params: 4,720,129\n",
            "Non-trainable params: 0\n",
            "_________________________________________________________________\n"
          ],
          "name": "stdout"
        }
      ]
    },
    {
      "cell_type": "code",
      "metadata": {
        "colab": {
          "base_uri": "https://localhost:8080/"
        },
        "id": "JAc64XJrHjh8",
        "outputId": "35aef574-1c0b-4437-db06-f39fe2c9b258"
      },
      "source": [
        "modelvgg16.compile(loss='binary_crossentropy', optimizer='adam', metrics=['accuracy'])\n",
        "history_vgg16=modelvgg16.fit(x_train/np.max(x_train), y_train,batch_size=32, epochs=20, validation_data=(x_test/np.max(x_train),y_test))"
      ],
      "execution_count": null,
      "outputs": [
        {
          "output_type": "stream",
          "text": [
            "Epoch 1/20\n",
            "49/49 [==============================] - 1s 10ms/step - loss: 0.5130 - accuracy: 0.7492 - val_loss: 0.2811 - val_accuracy: 0.8902\n",
            "Epoch 2/20\n",
            "49/49 [==============================] - 0s 6ms/step - loss: 0.1609 - accuracy: 0.9451 - val_loss: 0.1954 - val_accuracy: 0.9364\n",
            "Epoch 3/20\n",
            "49/49 [==============================] - 0s 6ms/step - loss: 0.0747 - accuracy: 0.9786 - val_loss: 0.2203 - val_accuracy: 0.9364\n",
            "Epoch 4/20\n",
            "49/49 [==============================] - 0s 6ms/step - loss: 0.0339 - accuracy: 0.9881 - val_loss: 0.2508 - val_accuracy: 0.9306\n",
            "Epoch 5/20\n",
            "49/49 [==============================] - 0s 6ms/step - loss: 0.0063 - accuracy: 0.9992 - val_loss: 0.3271 - val_accuracy: 0.9191\n",
            "Epoch 6/20\n",
            "49/49 [==============================] - 0s 6ms/step - loss: 0.0027 - accuracy: 1.0000 - val_loss: 0.3381 - val_accuracy: 0.9249\n",
            "Epoch 7/20\n",
            "49/49 [==============================] - 0s 6ms/step - loss: 0.0011 - accuracy: 1.0000 - val_loss: 0.3480 - val_accuracy: 0.9249\n",
            "Epoch 8/20\n",
            "49/49 [==============================] - 0s 6ms/step - loss: 0.0011 - accuracy: 1.0000 - val_loss: 0.3664 - val_accuracy: 0.9364\n",
            "Epoch 9/20\n",
            "49/49 [==============================] - 0s 6ms/step - loss: 6.7225e-04 - accuracy: 1.0000 - val_loss: 0.3724 - val_accuracy: 0.9306\n",
            "Epoch 10/20\n",
            "49/49 [==============================] - 0s 6ms/step - loss: 4.5176e-04 - accuracy: 1.0000 - val_loss: 0.3820 - val_accuracy: 0.9306\n",
            "Epoch 11/20\n",
            "49/49 [==============================] - 0s 6ms/step - loss: 3.8472e-04 - accuracy: 1.0000 - val_loss: 0.3912 - val_accuracy: 0.9364\n",
            "Epoch 12/20\n",
            "49/49 [==============================] - 0s 7ms/step - loss: 3.4875e-04 - accuracy: 1.0000 - val_loss: 0.3960 - val_accuracy: 0.9249\n",
            "Epoch 13/20\n",
            "49/49 [==============================] - 0s 6ms/step - loss: 2.6989e-04 - accuracy: 1.0000 - val_loss: 0.4050 - val_accuracy: 0.9364\n",
            "Epoch 14/20\n",
            "49/49 [==============================] - 0s 6ms/step - loss: 2.7485e-04 - accuracy: 1.0000 - val_loss: 0.4097 - val_accuracy: 0.9306\n",
            "Epoch 15/20\n",
            "49/49 [==============================] - 0s 7ms/step - loss: 2.0515e-04 - accuracy: 1.0000 - val_loss: 0.4151 - val_accuracy: 0.9364\n",
            "Epoch 16/20\n",
            "49/49 [==============================] - 0s 6ms/step - loss: 1.7855e-04 - accuracy: 1.0000 - val_loss: 0.4252 - val_accuracy: 0.9364\n",
            "Epoch 17/20\n",
            "49/49 [==============================] - 0s 6ms/step - loss: 1.7409e-04 - accuracy: 1.0000 - val_loss: 0.4240 - val_accuracy: 0.9306\n",
            "Epoch 18/20\n",
            "49/49 [==============================] - 0s 6ms/step - loss: 1.2291e-04 - accuracy: 1.0000 - val_loss: 0.4312 - val_accuracy: 0.9306\n",
            "Epoch 19/20\n",
            "49/49 [==============================] - 0s 6ms/step - loss: 1.2325e-04 - accuracy: 1.0000 - val_loss: 0.4335 - val_accuracy: 0.9306\n",
            "Epoch 20/20\n",
            "49/49 [==============================] - 0s 7ms/step - loss: 1.0799e-04 - accuracy: 1.0000 - val_loss: 0.4383 - val_accuracy: 0.9306\n"
          ],
          "name": "stdout"
        }
      ]
    },
    {
      "cell_type": "markdown",
      "metadata": {
        "id": "qeJjwIjvN8sQ"
      },
      "source": [
        "정확도가 93정도로 매우매우 높아진 것을 확인할 수 있지만, 아직도 오버피팅은 존재한다"
      ]
    },
    {
      "cell_type": "code",
      "metadata": {
        "colab": {
          "base_uri": "https://localhost:8080/",
          "height": 545
        },
        "id": "lUyJ1g6pHjeN",
        "outputId": "b350ca07-2d15-4cd1-eca7-149aba3e9aef"
      },
      "source": [
        "import matplotlib.pyplot as plt\n",
        "acc=history_vgg16.history['accuracy']\n",
        "val_acc=history_vgg16.history['val_accuracy']\n",
        "loss=history_vgg16.history['loss']\n",
        "val_loss=history_vgg16.history['val_loss']\n",
        "epochs=range(1,len(acc)+1)\n",
        "plt.plot(epochs,acc,'go',label='training accuracy')\n",
        "plt.plot(epochs, val_acc,'g',label='validation accuracy')\n",
        "plt.title('VGG16 training and validation accuracy')\n",
        "plt.legend()\n",
        "plt.figure()\n",
        "plt.plot(epochs,loss,'go',label='training loss')\n",
        "plt.plot(epochs, val_loss,'g',label='validation loss')\n",
        "plt.title('VGG16 training and validation loss')\n",
        "plt.legend()\n",
        "plt.show()"
      ],
      "execution_count": null,
      "outputs": [
        {
          "output_type": "display_data",
          "data": {
            "image/png": "[encoded data removed]",
            "text/plain": [
              "<Figure size 432x288 with 1 Axes>"
            ]
          },
          "metadata": {
            "tags": [],
            "needs_background": "light"
          }
        },
        {
          "output_type": "display_data",
          "data": {
            "image/png": "[encoded data removed]",
            "text/plain": [
              "<Figure size 432x288 with 1 Axes>"
            ]
          },
          "metadata": {
            "tags": [],
            "needs_background": "light"
          }
        }
      ]
    },
    {
      "cell_type": "code",
      "metadata": {
        "id": "66hRILNfO0Wz"
      },
      "source": [
        "pic = np.expand_dims(x_test[14], axis=0)"
      ],
      "execution_count": null,
      "outputs": []
    },
    {
      "cell_type": "code",
      "metadata": {
        "id": "Ish9LZAZHjbh"
      },
      "source": [
        "layer_outputs = [layer.output for layer in modelvgg16.layers[:8]]  # 상위 8개 층의 출력을 추출\n",
        "activation_model = models.Model(inputs=modelvgg16.input, outputs=layer_outputs)  # 입력에 대한 8개 층의 출력을 반환하는 모델\n",
        "activations = activation_model.predict(pic)   # Conv 층의 activation값 출력"
      ],
      "execution_count": null,
      "outputs": []
    },
    {
      "cell_type": "code",
      "metadata": {
        "colab": {
          "base_uri": "https://localhost:8080/",
          "height": 292
        },
        "id": "1jQsLHB8HjY9",
        "outputId": "3f9c4c06-7df7-4a79-904b-44af81c6663e"
      },
      "source": [
        "first = activations[1]\n",
        "plt.matshow(first[0, :, :, 19], cmap='viridis')   # 첫번째 층 중에서 20번째 채널 !! "
      ],
      "execution_count": null,
      "outputs": [
        {
          "output_type": "execute_result",
          "data": {
            "text/plain": [
              "<matplotlib.image.AxesImage at 0x7f661ac82e10>"
            ]
          },
          "metadata": {
            "tags": []
          },
          "execution_count": 120
        },
        {
          "output_type": "display_data",
          "data": {
            "image/png": "[encoded data removed]",
            "text/plain": [
              "<Figure size 288x288 with 1 Axes>"
            ]
          },
          "metadata": {
            "tags": [],
            "needs_background": "light"
          }
        }
      ]
    },
    {
      "cell_type": "markdown",
      "metadata": {
        "id": "givcZnE8POgX"
      },
      "source": [
        "이미 고수준 특성을 학습하고 있음을 알 수 있다!"
      ]
    }
  ]
}